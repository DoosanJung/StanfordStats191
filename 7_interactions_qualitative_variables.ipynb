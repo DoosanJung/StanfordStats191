{
 "cells": [
  {
   "cell_type": "markdown",
   "metadata": {},
   "source": [
    "R => Python  \n",
    "Source: https://web.stanford.edu/class/stats191/notebooks/Interactions.html\n",
    "\n",
    "NOTE: \n",
    "* Not exactly porting R to Python.\n",
    "* Also not [rpy2](https://rpy2.readthedocs.io/en/version_2.8.x/)"
   ]
  },
  {
   "cell_type": "markdown",
   "metadata": {},
   "source": [
    "## Interactions and qualitative variables "
   ]
  },
  {
   "cell_type": "code",
   "execution_count": 1,
   "metadata": {
    "collapsed": true
   },
   "outputs": [],
   "source": [
    "import numpy as np\n",
    "import pandas as pd\n",
    "from scipy import stats\n",
    "import statsmodels.api as sm\n",
    "from statsmodels.formula.api import ols\n",
    "import matplotlib.pyplot as plt\n",
    "from statsmodels.formula.api import ols\n",
    "from statsmodels.graphics.api import interaction_plot\n",
    "from statsmodels.stats.anova import anova_lm\n",
    "from statsmodels.graphics.api import abline_plot"
   ]
  },
  {
   "cell_type": "code",
   "execution_count": 2,
   "metadata": {
    "collapsed": false
   },
   "outputs": [
    {
     "data": {
      "text/plain": [
       "'0.9.0'"
      ]
     },
     "execution_count": 2,
     "metadata": {},
     "output_type": "execute_result"
    }
   ],
   "source": [
    "sm.version.version"
   ]
  },
  {
   "cell_type": "code",
   "execution_count": 3,
   "metadata": {
    "collapsed": false
   },
   "outputs": [
    {
     "data": {
      "text/plain": [
       "'0.18.1'"
      ]
     },
     "execution_count": 3,
     "metadata": {},
     "output_type": "execute_result"
    }
   ],
   "source": [
    "import scipy; scipy.__version__"
   ]
  },
  {
   "cell_type": "markdown",
   "metadata": {},
   "source": [
    "### Chapter 5, RABE\n",
    "\n",
    "- Most variables we have looked at so far were continuous: `height`,\n",
    "`rating`, etc.\n",
    "\n",
    "- In many situations, we record a categorical variable: `sex` or `gender`, `state`, `country`, etc.\n",
    "\n",
    "- We call these variables *categorical* or *qualtitative* variables.\n",
    "In `R`, these are referred to as `factors`.\n",
    "\n",
    "- For our purposes, we want to answer: **How do we include this in our model?**\n",
    "\n",
    "This will eventually lead us to the notion of *interactions* and some special regression models called\n",
    "*ANOVA* (analysis of variance) models."
   ]
  },
  {
   "cell_type": "markdown",
   "metadata": {},
   "source": [
    "### Two-sample problem\n",
    "\n",
    "In some sense, we have already seen a regression model with categorical variables:\n",
    "the two-sample model.\n",
    "\n",
    "* Two sample problem with equal variances: suppose\n",
    "$Z_j \\sim N(\\mu_1, \\sigma^2), 1 \\leq j \\leq m$ and\n",
    "$W_j \\sim N(\\mu_2, \\sigma^2), 1 \\leq j \\leq n $.\n",
    "\n",
    "* For $1 \\leq i \\leq n$, let \n",
    "$$X_i =\n",
    "\\begin{cases}\n",
    "1 & 1 \\leq i \\leq m \\\\\n",
    "0 & \\text{otherwise.}\n",
    "\\end{cases}$$\n",
    "\n",
    "\n",
    "The design matrix and response look like\n",
    "$$ Y_{(n+m) \\times 1} = \n",
    "\\begin{pmatrix}\n",
    "Z_1 \\\\\n",
    "\\vdots \\\\\n",
    "Z_m \\\\\n",
    "W_1 \\\\\n",
    "\\vdots \\\\\n",
    "W_n \\\\\n",
    "\\end{pmatrix}, \\qquad\n",
    "X_{(n+m) \\times 2} =\n",
    " \\begin{pmatrix}\n",
    "1 & 1 \\\\\n",
    " \\vdots & \\vdots \\\\\n",
    "1 & 1 \\\\\n",
    "1 & 0 \\\\\n",
    "\\vdots & \\vdots \\\\\n",
    "1 & 0\n",
    "\\end{pmatrix}$$\n",
    "\n",
    "### Salary example\n",
    "\n",
    "In this example, we have data on salaries of employees in IT (several years ago?) based on their years of experience, their\n",
    "education level and whether or not they are management.\n",
    "\n",
    "-   Outcome: `S`, salaries for IT staff in a corporation.\n",
    "\n",
    "-   Predictors: \n",
    "    * `X`, experience (years)\n",
    "    * `E`, education (1=Bachelor's, 2=Master's, 3=Ph.D)\n",
    "    * `M`, management (1=management, 0=not management)"
   ]
  },
  {
   "cell_type": "code",
   "execution_count": 4,
   "metadata": {
    "collapsed": true
   },
   "outputs": [],
   "source": [
    "url = 'http://stats191.stanford.edu/data/salary.table'"
   ]
  },
  {
   "cell_type": "code",
   "execution_count": 5,
   "metadata": {
    "collapsed": false
   },
   "outputs": [
    {
     "name": "stderr",
     "output_type": "stream",
     "text": [
      "/home/doojung/anaconda3/lib/python3.6/site-packages/ipykernel/__main__.py:1: FutureWarning: read_table is deprecated, use read_csv instead, passing sep='\\t'.\n",
      "  if __name__ == '__main__':\n"
     ]
    },
    {
     "data": {
      "text/html": [
       "<div>\n",
       "<style scoped>\n",
       "    .dataframe tbody tr th:only-of-type {\n",
       "        vertical-align: middle;\n",
       "    }\n",
       "\n",
       "    .dataframe tbody tr th {\n",
       "        vertical-align: top;\n",
       "    }\n",
       "\n",
       "    .dataframe thead th {\n",
       "        text-align: right;\n",
       "    }\n",
       "</style>\n",
       "<table border=\"1\" class=\"dataframe\">\n",
       "  <thead>\n",
       "    <tr style=\"text-align: right;\">\n",
       "      <th></th>\n",
       "      <th>S</th>\n",
       "      <th>X</th>\n",
       "      <th>E</th>\n",
       "      <th>M</th>\n",
       "    </tr>\n",
       "  </thead>\n",
       "  <tbody>\n",
       "    <tr>\n",
       "      <th>0</th>\n",
       "      <td>13876</td>\n",
       "      <td>1</td>\n",
       "      <td>1</td>\n",
       "      <td>1</td>\n",
       "    </tr>\n",
       "    <tr>\n",
       "      <th>1</th>\n",
       "      <td>11608</td>\n",
       "      <td>1</td>\n",
       "      <td>3</td>\n",
       "      <td>0</td>\n",
       "    </tr>\n",
       "    <tr>\n",
       "      <th>2</th>\n",
       "      <td>18701</td>\n",
       "      <td>1</td>\n",
       "      <td>3</td>\n",
       "      <td>1</td>\n",
       "    </tr>\n",
       "    <tr>\n",
       "      <th>3</th>\n",
       "      <td>11283</td>\n",
       "      <td>1</td>\n",
       "      <td>2</td>\n",
       "      <td>0</td>\n",
       "    </tr>\n",
       "    <tr>\n",
       "      <th>4</th>\n",
       "      <td>11767</td>\n",
       "      <td>1</td>\n",
       "      <td>3</td>\n",
       "      <td>0</td>\n",
       "    </tr>\n",
       "  </tbody>\n",
       "</table>\n",
       "</div>"
      ],
      "text/plain": [
       "       S  X  E  M\n",
       "0  13876  1  1  1\n",
       "1  11608  1  3  0\n",
       "2  18701  1  3  1\n",
       "3  11283  1  2  0\n",
       "4  11767  1  3  0"
      ]
     },
     "execution_count": 5,
     "metadata": {},
     "output_type": "execute_result"
    }
   ],
   "source": [
    "salary_data = pd.read_table(url)\n",
    "salary_data.head()"
   ]
  },
  {
   "cell_type": "markdown",
   "metadata": {},
   "source": [
    "Let's take a quick look at how `R` treats a `factor`\n"
   ]
  },
  {
   "cell_type": "code",
   "execution_count": 6,
   "metadata": {
    "collapsed": false
   },
   "outputs": [
    {
     "data": {
      "text/plain": [
       "[1, 3, 3, 2, 3, ..., 2, 2, 1, 2, 1]\n",
       "Length: 46\n",
       "Categories (3, int64): [1, 2, 3]"
      ]
     },
     "execution_count": 6,
     "metadata": {},
     "output_type": "execute_result"
    }
   ],
   "source": [
    "# pd.Categorical: Represents a categorical variable in classic R / S-plus fashion\n",
    "factor = pd.Categorical(salary_data.E)\n",
    "factor"
   ]
  },
  {
   "cell_type": "code",
   "execution_count": 7,
   "metadata": {
    "collapsed": false
   },
   "outputs": [
    {
     "data": {
      "text/plain": [
       "Int64Index([1, 2, 3], dtype='int64')"
      ]
     },
     "execution_count": 7,
     "metadata": {},
     "output_type": "execute_result"
    }
   ],
   "source": [
    "factor.categories"
   ]
  },
  {
   "cell_type": "markdown",
   "metadata": {},
   "source": [
    "Let's take a look at the data. We will use triangles for management, diamonds for non-management\n",
    "red for education=1, green for education=2 and blue for education=3.\n"
   ]
  },
  {
   "cell_type": "code",
   "execution_count": 8,
   "metadata": {
    "collapsed": true
   },
   "outputs": [],
   "source": [
    "def plot_raw_data(data):\n",
    "    symbols = ['D', '^'] #mgt or not\n",
    "    colors = ['r', 'g', 'blue'] # bachelor vs. masters vs. ph.D\n",
    "    factor_groups = data.groupby(['E','M'])\n",
    "    for (edu, mgt), group in factor_groups:\n",
    "        plt.scatter(group['X'], group['S'], marker=symbols[mgt], color=colors[edu-1], s=144)\n",
    "    plt.xlabel('Experience')\n",
    "    plt.ylabel('Salary')\n",
    "    plt.title('Experience vs. Salary')\n",
    "    plt.show()"
   ]
  },
  {
   "cell_type": "code",
   "execution_count": 9,
   "metadata": {
    "collapsed": false
   },
   "outputs": [
    {
     "data": {
      "image/png": "[encoded data removed]",
      "text/plain": [
       "<matplotlib.figure.Figure at 0x7fecb8790da0>"
      ]
     },
     "metadata": {},
     "output_type": "display_data"
    }
   ],
   "source": [
    "plot_raw_data(salary_data)"
   ]
  },
  {
   "cell_type": "markdown",
   "metadata": {},
   "source": [
    "## Effect of experience\n",
    "\n",
    "In these pictures, the slope of each line seems to be about the same. How might\n",
    "we estimate it?\n",
    "\n",
    "### One solution is *stratification*.\n",
    "\n",
    "* Make six separate models (one for each combination of `E` and `M`) and estimate the slope.\n",
    "\n",
    "* Combining them: we could average them?\n",
    "\n",
    "* We have few degrees of freedom in each group.\n",
    "\n",
    "\n",
    "### Or, use *qualitative* variables\n",
    "\n",
    "-   IF it is reasonable to assume that $\\sigma^2$ is constant for each\n",
    "    observation.\n",
    "\n",
    "-   THEN, we can incorporate all observations into 1 model.\n",
    "\n",
    "$$S_i = \\beta_0 + \\beta_1 X_i + \\beta_2 E_{i2} + \\beta_3 E_{i3} + \\beta_4 M_i + \\varepsilon_i$$\n",
    "\n",
    "Above, the variables are:\n",
    "\n",
    "* $$\n",
    "E_{i2} = \\begin{cases}\n",
    "1 & \\text{if $E_i$=2} \\\\\n",
    "0 & \\text{otherwise.}\n",
    "\\end{cases}\n",
    "$$\n",
    "\n",
    "* $$\n",
    "E_{i3} = \\begin{cases}\n",
    "1 & \\text{if $E_i$=3} \\\\\n",
    "0 & \\text{otherwise.}\n",
    "\\end{cases}\n",
    "$$\n",
    "\n",
    "### Notes\n",
    "\n",
    "-   Although $E$ has 3 levels, we only added 2 variables to the model.\n",
    "    In a sense, this is because `(Intercept)` (i.e. $\\beta_0$) absorbs one level.\n",
    "\n",
    "-   If we added three variables then the columns of design matrix would\n",
    "    be linearly dependent so we would not have a unique least squares solution.\n",
    "\n",
    "-   Assumes $\\beta_1$ â€“ effect of experience is the same in all groups,\n",
    "    unlike when we fit the model separately. This may or may not be\n",
    "    reasonable.\n"
   ]
  },
  {
   "cell_type": "code",
   "execution_count": 10,
   "metadata": {
    "collapsed": true
   },
   "outputs": [],
   "source": [
    "formula = 'S ~ C(E) + C(M) + X'"
   ]
  },
  {
   "cell_type": "code",
   "execution_count": 11,
   "metadata": {
    "collapsed": false
   },
   "outputs": [
    {
     "data": {
      "text/html": [
       "<table class=\"simpletable\">\n",
       "<caption>OLS Regression Results</caption>\n",
       "<tr>\n",
       "  <th>Dep. Variable:</th>            <td>S</td>        <th>  R-squared:         </th> <td>   0.957</td>\n",
       "</tr>\n",
       "<tr>\n",
       "  <th>Model:</th>                   <td>OLS</td>       <th>  Adj. R-squared:    </th> <td>   0.953</td>\n",
       "</tr>\n",
       "<tr>\n",
       "  <th>Method:</th>             <td>Least Squares</td>  <th>  F-statistic:       </th> <td>   226.8</td>\n",
       "</tr>\n",
       "<tr>\n",
       "  <th>Date:</th>             <td>Thu, 20 Jun 2019</td> <th>  Prob (F-statistic):</th> <td>2.23e-27</td>\n",
       "</tr>\n",
       "<tr>\n",
       "  <th>Time:</th>                 <td>21:13:38</td>     <th>  Log-Likelihood:    </th> <td> -381.63</td>\n",
       "</tr>\n",
       "<tr>\n",
       "  <th>No. Observations:</th>      <td>    46</td>      <th>  AIC:               </th> <td>   773.3</td>\n",
       "</tr>\n",
       "<tr>\n",
       "  <th>Df Residuals:</th>          <td>    41</td>      <th>  BIC:               </th> <td>   782.4</td>\n",
       "</tr>\n",
       "<tr>\n",
       "  <th>Df Model:</th>              <td>     4</td>      <th>                     </th>     <td> </td>   \n",
       "</tr>\n",
       "<tr>\n",
       "  <th>Covariance Type:</th>      <td>nonrobust</td>    <th>                     </th>     <td> </td>   \n",
       "</tr>\n",
       "</table>\n",
       "<table class=\"simpletable\">\n",
       "<tr>\n",
       "      <td></td>         <th>coef</th>     <th>std err</th>      <th>t</th>      <th>P>|t|</th>  <th>[0.025</th>    <th>0.975]</th>  \n",
       "</tr>\n",
       "<tr>\n",
       "  <th>Intercept</th> <td> 8035.5976</td> <td>  386.689</td> <td>   20.781</td> <td> 0.000</td> <td> 7254.663</td> <td> 8816.532</td>\n",
       "</tr>\n",
       "<tr>\n",
       "  <th>C(E)[T.2]</th> <td> 3144.0352</td> <td>  361.968</td> <td>    8.686</td> <td> 0.000</td> <td> 2413.025</td> <td> 3875.045</td>\n",
       "</tr>\n",
       "<tr>\n",
       "  <th>C(E)[T.3]</th> <td> 2996.2103</td> <td>  411.753</td> <td>    7.277</td> <td> 0.000</td> <td> 2164.659</td> <td> 3827.762</td>\n",
       "</tr>\n",
       "<tr>\n",
       "  <th>C(M)[T.1]</th> <td> 6883.5310</td> <td>  313.919</td> <td>   21.928</td> <td> 0.000</td> <td> 6249.559</td> <td> 7517.503</td>\n",
       "</tr>\n",
       "<tr>\n",
       "  <th>X</th>         <td>  546.1840</td> <td>   30.519</td> <td>   17.896</td> <td> 0.000</td> <td>  484.549</td> <td>  607.819</td>\n",
       "</tr>\n",
       "</table>\n",
       "<table class=\"simpletable\">\n",
       "<tr>\n",
       "  <th>Omnibus:</th>       <td> 2.293</td> <th>  Durbin-Watson:     </th> <td>   2.237</td>\n",
       "</tr>\n",
       "<tr>\n",
       "  <th>Prob(Omnibus):</th> <td> 0.318</td> <th>  Jarque-Bera (JB):  </th> <td>   1.362</td>\n",
       "</tr>\n",
       "<tr>\n",
       "  <th>Skew:</th>          <td>-0.077</td> <th>  Prob(JB):          </th> <td>   0.506</td>\n",
       "</tr>\n",
       "<tr>\n",
       "  <th>Kurtosis:</th>      <td> 2.171</td> <th>  Cond. No.          </th> <td>    33.5</td>\n",
       "</tr>\n",
       "</table><br/><br/>Warnings:<br/>[1] Standard Errors assume that the covariance matrix of the errors is correctly specified."
      ],
      "text/plain": [
       "<class 'statsmodels.iolib.summary.Summary'>\n",
       "\"\"\"\n",
       "                            OLS Regression Results                            \n",
       "==============================================================================\n",
       "Dep. Variable:                      S   R-squared:                       0.957\n",
       "Model:                            OLS   Adj. R-squared:                  0.953\n",
       "Method:                 Least Squares   F-statistic:                     226.8\n",
       "Date:                Thu, 20 Jun 2019   Prob (F-statistic):           2.23e-27\n",
       "Time:                        21:13:38   Log-Likelihood:                -381.63\n",
       "No. Observations:                  46   AIC:                             773.3\n",
       "Df Residuals:                      41   BIC:                             782.4\n",
       "Df Model:                           4                                         \n",
       "Covariance Type:            nonrobust                                         \n",
       "==============================================================================\n",
       "                 coef    std err          t      P>|t|      [0.025      0.975]\n",
       "------------------------------------------------------------------------------\n",
       "Intercept   8035.5976    386.689     20.781      0.000    7254.663    8816.532\n",
       "C(E)[T.2]   3144.0352    361.968      8.686      0.000    2413.025    3875.045\n",
       "C(E)[T.3]   2996.2103    411.753      7.277      0.000    2164.659    3827.762\n",
       "C(M)[T.1]   6883.5310    313.919     21.928      0.000    6249.559    7517.503\n",
       "X            546.1840     30.519     17.896      0.000     484.549     607.819\n",
       "==============================================================================\n",
       "Omnibus:                        2.293   Durbin-Watson:                   2.237\n",
       "Prob(Omnibus):                  0.318   Jarque-Bera (JB):                1.362\n",
       "Skew:                          -0.077   Prob(JB):                        0.506\n",
       "Kurtosis:                       2.171   Cond. No.                         33.5\n",
       "==============================================================================\n",
       "\n",
       "Warnings:\n",
       "[1] Standard Errors assume that the covariance matrix of the errors is correctly specified.\n",
       "\"\"\""
      ]
     },
     "execution_count": 11,
     "metadata": {},
     "output_type": "execute_result"
    }
   ],
   "source": [
    "salary_res = ols(formula, data=salary_data).fit()\n",
    "salary_res.summary()"
   ]
  },
  {
   "cell_type": "markdown",
   "metadata": {},
   "source": [
    "Now, let's take a look at our design matrix"
   ]
  },
  {
   "cell_type": "code",
   "execution_count": 12,
   "metadata": {
    "collapsed": false
   },
   "outputs": [
    {
     "data": {
      "text/html": [
       "<div>\n",
       "<style scoped>\n",
       "    .dataframe tbody tr th:only-of-type {\n",
       "        vertical-align: middle;\n",
       "    }\n",
       "\n",
       "    .dataframe tbody tr th {\n",
       "        vertical-align: top;\n",
       "    }\n",
       "\n",
       "    .dataframe thead th {\n",
       "        text-align: right;\n",
       "    }\n",
       "</style>\n",
       "<table border=\"1\" class=\"dataframe\">\n",
       "  <thead>\n",
       "    <tr style=\"text-align: right;\">\n",
       "      <th></th>\n",
       "      <th>Intercept</th>\n",
       "      <th>C(E)[T.2]</th>\n",
       "      <th>C(E)[T.3]</th>\n",
       "      <th>C(M)[T.1]</th>\n",
       "      <th>X</th>\n",
       "    </tr>\n",
       "  </thead>\n",
       "  <tbody>\n",
       "    <tr>\n",
       "      <th>0</th>\n",
       "      <td>1.0</td>\n",
       "      <td>0.0</td>\n",
       "      <td>0.0</td>\n",
       "      <td>1.0</td>\n",
       "      <td>1.0</td>\n",
       "    </tr>\n",
       "    <tr>\n",
       "      <th>1</th>\n",
       "      <td>1.0</td>\n",
       "      <td>0.0</td>\n",
       "      <td>1.0</td>\n",
       "      <td>0.0</td>\n",
       "      <td>1.0</td>\n",
       "    </tr>\n",
       "    <tr>\n",
       "      <th>2</th>\n",
       "      <td>1.0</td>\n",
       "      <td>0.0</td>\n",
       "      <td>1.0</td>\n",
       "      <td>1.0</td>\n",
       "      <td>1.0</td>\n",
       "    </tr>\n",
       "    <tr>\n",
       "      <th>3</th>\n",
       "      <td>1.0</td>\n",
       "      <td>1.0</td>\n",
       "      <td>0.0</td>\n",
       "      <td>0.0</td>\n",
       "      <td>1.0</td>\n",
       "    </tr>\n",
       "    <tr>\n",
       "      <th>4</th>\n",
       "      <td>1.0</td>\n",
       "      <td>0.0</td>\n",
       "      <td>1.0</td>\n",
       "      <td>0.0</td>\n",
       "      <td>1.0</td>\n",
       "    </tr>\n",
       "  </tbody>\n",
       "</table>\n",
       "</div>"
      ],
      "text/plain": [
       "   Intercept  C(E)[T.2]  C(E)[T.3]  C(M)[T.1]    X\n",
       "0        1.0        0.0        0.0        1.0  1.0\n",
       "1        1.0        0.0        1.0        0.0  1.0\n",
       "2        1.0        0.0        1.0        1.0  1.0\n",
       "3        1.0        1.0        0.0        0.0  1.0\n",
       "4        1.0        0.0        1.0        0.0  1.0"
      ]
     },
     "execution_count": 12,
     "metadata": {},
     "output_type": "execute_result"
    }
   ],
   "source": [
    "pd.DataFrame(salary_res.model.exog, columns=salary_res.model.exog_names).head() "
   ]
  },
  {
   "cell_type": "markdown",
   "metadata": {},
   "source": [
    "Comparing to our actual data, we can understand how the columns above were formed. They were formed\n",
    "just as we had defined them above."
   ]
  },
  {
   "cell_type": "code",
   "execution_count": 13,
   "metadata": {
    "collapsed": false
   },
   "outputs": [
    {
     "data": {
      "text/html": [
       "<div>\n",
       "<style scoped>\n",
       "    .dataframe tbody tr th:only-of-type {\n",
       "        vertical-align: middle;\n",
       "    }\n",
       "\n",
       "    .dataframe tbody tr th {\n",
       "        vertical-align: top;\n",
       "    }\n",
       "\n",
       "    .dataframe thead th {\n",
       "        text-align: right;\n",
       "    }\n",
       "</style>\n",
       "<table border=\"1\" class=\"dataframe\">\n",
       "  <thead>\n",
       "    <tr style=\"text-align: right;\">\n",
       "      <th></th>\n",
       "      <th>S</th>\n",
       "      <th>X</th>\n",
       "      <th>E</th>\n",
       "      <th>M</th>\n",
       "    </tr>\n",
       "  </thead>\n",
       "  <tbody>\n",
       "    <tr>\n",
       "      <th>0</th>\n",
       "      <td>13876</td>\n",
       "      <td>1</td>\n",
       "      <td>1</td>\n",
       "      <td>1</td>\n",
       "    </tr>\n",
       "    <tr>\n",
       "      <th>1</th>\n",
       "      <td>11608</td>\n",
       "      <td>1</td>\n",
       "      <td>3</td>\n",
       "      <td>0</td>\n",
       "    </tr>\n",
       "    <tr>\n",
       "      <th>2</th>\n",
       "      <td>18701</td>\n",
       "      <td>1</td>\n",
       "      <td>3</td>\n",
       "      <td>1</td>\n",
       "    </tr>\n",
       "    <tr>\n",
       "      <th>3</th>\n",
       "      <td>11283</td>\n",
       "      <td>1</td>\n",
       "      <td>2</td>\n",
       "      <td>0</td>\n",
       "    </tr>\n",
       "    <tr>\n",
       "      <th>4</th>\n",
       "      <td>11767</td>\n",
       "      <td>1</td>\n",
       "      <td>3</td>\n",
       "      <td>0</td>\n",
       "    </tr>\n",
       "  </tbody>\n",
       "</table>\n",
       "</div>"
      ],
      "text/plain": [
       "       S  X  E  M\n",
       "0  13876  1  1  1\n",
       "1  11608  1  3  0\n",
       "2  18701  1  3  1\n",
       "3  11283  1  2  0\n",
       "4  11767  1  3  0"
      ]
     },
     "execution_count": 13,
     "metadata": {},
     "output_type": "execute_result"
    }
   ],
   "source": [
    "salary_data.head()"
   ]
  },
  {
   "cell_type": "markdown",
   "metadata": {},
   "source": [
    "### Effect of experience\n",
    "\n",
    "-   Our model has enforced the constraint the $\\beta_1$ is the same\n",
    "    within each group.\n",
    "\n",
    "-   Graphically, this seems OK, but how can we test this?\n",
    "\n",
    "-   We could fit a model with different slopes in each group, but\n",
    "    keeping as many degrees of freedom as we can.\n",
    "\n",
    "-   This model has *interactions* in it: the effect of experience\n",
    "    depends on what level of education you have.\n",
    "\n",
    "\n",
    "### Interaction between experience and education\n",
    "\n",
    "-   Model: $$\\begin{aligned}\n",
    "       S_i &= \\beta_0 + \\beta_1 X_i + \\beta_2 E_{i2} + \\beta_3 E_{i3} +\\\n",
    " \\beta_4 M_i \\\\\n",
    "       & \\qquad  + \\beta_5 E_{i2} X_i + \\beta_6 E_{i3} X_i + \\varepsilon_i.\n",
    "       \\end{aligned}$$\n",
    "       \n",
    "- What is the regression function within each group?\n",
    "\n",
    "-   Note that we took each column corresponding to education and\n",
    "    multiplied it by the column for experience to get two new\n",
    "    predictors.\n",
    "\n",
    "-   To test whether the slope is the same in each group we would just\n",
    "    test $H_0:\\beta_5 = \\beta_6=0$.\n",
    "\n",
    "-   Based on figure, we expect not to reject $H_0$."
   ]
  },
  {
   "cell_type": "code",
   "execution_count": 14,
   "metadata": {
    "collapsed": true
   },
   "outputs": [],
   "source": [
    "formula_interaction_X = \"S ~ C(E) * X + C(M)\" "
   ]
  },
  {
   "cell_type": "code",
   "execution_count": 15,
   "metadata": {
    "collapsed": false,
    "scrolled": false
   },
   "outputs": [
    {
     "data": {
      "text/html": [
       "<table class=\"simpletable\">\n",
       "<caption>OLS Regression Results</caption>\n",
       "<tr>\n",
       "  <th>Dep. Variable:</th>            <td>S</td>        <th>  R-squared:         </th> <td>   0.961</td>\n",
       "</tr>\n",
       "<tr>\n",
       "  <th>Model:</th>                   <td>OLS</td>       <th>  Adj. R-squared:    </th> <td>   0.955</td>\n",
       "</tr>\n",
       "<tr>\n",
       "  <th>Method:</th>             <td>Least Squares</td>  <th>  F-statistic:       </th> <td>   158.6</td>\n",
       "</tr>\n",
       "<tr>\n",
       "  <th>Date:</th>             <td>Thu, 20 Jun 2019</td> <th>  Prob (F-statistic):</th> <td>8.23e-26</td>\n",
       "</tr>\n",
       "<tr>\n",
       "  <th>Time:</th>                 <td>21:13:38</td>     <th>  Log-Likelihood:    </th> <td> -379.47</td>\n",
       "</tr>\n",
       "<tr>\n",
       "  <th>No. Observations:</th>      <td>    46</td>      <th>  AIC:               </th> <td>   772.9</td>\n",
       "</tr>\n",
       "<tr>\n",
       "  <th>Df Residuals:</th>          <td>    39</td>      <th>  BIC:               </th> <td>   785.7</td>\n",
       "</tr>\n",
       "<tr>\n",
       "  <th>Df Model:</th>              <td>     6</td>      <th>                     </th>     <td> </td>   \n",
       "</tr>\n",
       "<tr>\n",
       "  <th>Covariance Type:</th>      <td>nonrobust</td>    <th>                     </th>     <td> </td>   \n",
       "</tr>\n",
       "</table>\n",
       "<table class=\"simpletable\">\n",
       "<tr>\n",
       "       <td></td>          <th>coef</th>     <th>std err</th>      <th>t</th>      <th>P>|t|</th>  <th>[0.025</th>    <th>0.975]</th>  \n",
       "</tr>\n",
       "<tr>\n",
       "  <th>Intercept</th>   <td> 7256.2800</td> <td>  549.494</td> <td>   13.205</td> <td> 0.000</td> <td> 6144.824</td> <td> 8367.736</td>\n",
       "</tr>\n",
       "<tr>\n",
       "  <th>C(E)[T.2]</th>   <td> 4172.5045</td> <td>  674.966</td> <td>    6.182</td> <td> 0.000</td> <td> 2807.256</td> <td> 5537.753</td>\n",
       "</tr>\n",
       "<tr>\n",
       "  <th>C(E)[T.3]</th>   <td> 3946.3649</td> <td>  686.693</td> <td>    5.747</td> <td> 0.000</td> <td> 2557.396</td> <td> 5335.333</td>\n",
       "</tr>\n",
       "<tr>\n",
       "  <th>C(M)[T.1]</th>   <td> 7102.4539</td> <td>  333.442</td> <td>   21.300</td> <td> 0.000</td> <td> 6428.005</td> <td> 7776.903</td>\n",
       "</tr>\n",
       "<tr>\n",
       "  <th>X</th>           <td>  632.2878</td> <td>   53.185</td> <td>   11.888</td> <td> 0.000</td> <td>  524.710</td> <td>  739.865</td>\n",
       "</tr>\n",
       "<tr>\n",
       "  <th>C(E)[T.2]:X</th> <td> -125.5147</td> <td>   69.863</td> <td>   -1.797</td> <td> 0.080</td> <td> -266.826</td> <td>   15.796</td>\n",
       "</tr>\n",
       "<tr>\n",
       "  <th>C(E)[T.3]:X</th> <td> -141.2741</td> <td>   89.281</td> <td>   -1.582</td> <td> 0.122</td> <td> -321.861</td> <td>   39.313</td>\n",
       "</tr>\n",
       "</table>\n",
       "<table class=\"simpletable\">\n",
       "<tr>\n",
       "  <th>Omnibus:</th>       <td> 0.432</td> <th>  Durbin-Watson:     </th> <td>   2.179</td>\n",
       "</tr>\n",
       "<tr>\n",
       "  <th>Prob(Omnibus):</th> <td> 0.806</td> <th>  Jarque-Bera (JB):  </th> <td>   0.590</td>\n",
       "</tr>\n",
       "<tr>\n",
       "  <th>Skew:</th>          <td> 0.144</td> <th>  Prob(JB):          </th> <td>   0.744</td>\n",
       "</tr>\n",
       "<tr>\n",
       "  <th>Kurtosis:</th>      <td> 2.526</td> <th>  Cond. No.          </th> <td>    69.7</td>\n",
       "</tr>\n",
       "</table><br/><br/>Warnings:<br/>[1] Standard Errors assume that the covariance matrix of the errors is correctly specified."
      ],
      "text/plain": [
       "<class 'statsmodels.iolib.summary.Summary'>\n",
       "\"\"\"\n",
       "                            OLS Regression Results                            \n",
       "==============================================================================\n",
       "Dep. Variable:                      S   R-squared:                       0.961\n",
       "Model:                            OLS   Adj. R-squared:                  0.955\n",
       "Method:                 Least Squares   F-statistic:                     158.6\n",
       "Date:                Thu, 20 Jun 2019   Prob (F-statistic):           8.23e-26\n",
       "Time:                        21:13:38   Log-Likelihood:                -379.47\n",
       "No. Observations:                  46   AIC:                             772.9\n",
       "Df Residuals:                      39   BIC:                             785.7\n",
       "Df Model:                           6                                         \n",
       "Covariance Type:            nonrobust                                         \n",
       "===============================================================================\n",
       "                  coef    std err          t      P>|t|      [0.025      0.975]\n",
       "-------------------------------------------------------------------------------\n",
       "Intercept    7256.2800    549.494     13.205      0.000    6144.824    8367.736\n",
       "C(E)[T.2]    4172.5045    674.966      6.182      0.000    2807.256    5537.753\n",
       "C(E)[T.3]    3946.3649    686.693      5.747      0.000    2557.396    5335.333\n",
       "C(M)[T.1]    7102.4539    333.442     21.300      0.000    6428.005    7776.903\n",
       "X             632.2878     53.185     11.888      0.000     524.710     739.865\n",
       "C(E)[T.2]:X  -125.5147     69.863     -1.797      0.080    -266.826      15.796\n",
       "C(E)[T.3]:X  -141.2741     89.281     -1.582      0.122    -321.861      39.313\n",
       "==============================================================================\n",
       "Omnibus:                        0.432   Durbin-Watson:                   2.179\n",
       "Prob(Omnibus):                  0.806   Jarque-Bera (JB):                0.590\n",
       "Skew:                           0.144   Prob(JB):                        0.744\n",
       "Kurtosis:                       2.526   Cond. No.                         69.7\n",
       "==============================================================================\n",
       "\n",
       "Warnings:\n",
       "[1] Standard Errors assume that the covariance matrix of the errors is correctly specified.\n",
       "\"\"\""
      ]
     },
     "execution_count": 15,
     "metadata": {},
     "output_type": "execute_result"
    }
   ],
   "source": [
    "salary_res_interaction_X = ols(formula=formula_interaction_X, \n",
    "                               data=salary_data).fit()\n",
    "salary_res_interaction_X.summary()"
   ]
  },
  {
   "cell_type": "code",
   "execution_count": 16,
   "metadata": {
    "collapsed": false
   },
   "outputs": [
    {
     "name": "stderr",
     "output_type": "stream",
     "text": [
      "/home/doojung/anaconda3/lib/python3.6/site-packages/scipy/stats/_distn_infrastructure.py:875: RuntimeWarning: invalid value encountered in greater\n",
      "  return (self.a < x) & (x < self.b)\n",
      "/home/doojung/anaconda3/lib/python3.6/site-packages/scipy/stats/_distn_infrastructure.py:875: RuntimeWarning: invalid value encountered in less\n",
      "  return (self.a < x) & (x < self.b)\n",
      "/home/doojung/anaconda3/lib/python3.6/site-packages/scipy/stats/_distn_infrastructure.py:1814: RuntimeWarning: invalid value encountered in less_equal\n",
      "  cond2 = cond0 & (x <= self.a)\n"
     ]
    },
    {
     "data": {
      "text/html": [
       "<div>\n",
       "<style scoped>\n",
       "    .dataframe tbody tr th:only-of-type {\n",
       "        vertical-align: middle;\n",
       "    }\n",
       "\n",
       "    .dataframe tbody tr th {\n",
       "        vertical-align: top;\n",
       "    }\n",
       "\n",
       "    .dataframe thead th {\n",
       "        text-align: right;\n",
       "    }\n",
       "</style>\n",
       "<table border=\"1\" class=\"dataframe\">\n",
       "  <thead>\n",
       "    <tr style=\"text-align: right;\">\n",
       "      <th></th>\n",
       "      <th>df_resid</th>\n",
       "      <th>ssr</th>\n",
       "      <th>df_diff</th>\n",
       "      <th>ss_diff</th>\n",
       "      <th>F</th>\n",
       "      <th>Pr(&gt;F)</th>\n",
       "    </tr>\n",
       "  </thead>\n",
       "  <tbody>\n",
       "    <tr>\n",
       "      <th>0</th>\n",
       "      <td>41.0</td>\n",
       "      <td>4.328072e+07</td>\n",
       "      <td>0.0</td>\n",
       "      <td>NaN</td>\n",
       "      <td>NaN</td>\n",
       "      <td>NaN</td>\n",
       "    </tr>\n",
       "    <tr>\n",
       "      <th>1</th>\n",
       "      <td>39.0</td>\n",
       "      <td>3.941068e+07</td>\n",
       "      <td>2.0</td>\n",
       "      <td>3.870040e+06</td>\n",
       "      <td>1.914856</td>\n",
       "      <td>0.160964</td>\n",
       "    </tr>\n",
       "  </tbody>\n",
       "</table>\n",
       "</div>"
      ],
      "text/plain": [
       "   df_resid           ssr  df_diff       ss_diff         F    Pr(>F)\n",
       "0      41.0  4.328072e+07      0.0           NaN       NaN       NaN\n",
       "1      39.0  3.941068e+07      2.0  3.870040e+06  1.914856  0.160964"
      ]
     },
     "execution_count": 16,
     "metadata": {},
     "output_type": "execute_result"
    }
   ],
   "source": [
    "anova_lm(salary_res, salary_res_interaction_X)"
   ]
  },
  {
   "cell_type": "markdown",
   "metadata": {},
   "source": [
    "The notation `X:E` denotes an *interaction*. Generally, `R` will take the columns added for `E` and the columns added\n",
    "for `X` and add their elementwise product (Hadamard product) to the design matr.x\n",
    "\n",
    "Let's look at our design matrix again to be sure we understand what model was fit."
   ]
  },
  {
   "cell_type": "code",
   "execution_count": 17,
   "metadata": {
    "collapsed": false
   },
   "outputs": [
    {
     "data": {
      "text/html": [
       "<div>\n",
       "<style scoped>\n",
       "    .dataframe tbody tr th:only-of-type {\n",
       "        vertical-align: middle;\n",
       "    }\n",
       "\n",
       "    .dataframe tbody tr th {\n",
       "        vertical-align: top;\n",
       "    }\n",
       "\n",
       "    .dataframe thead th {\n",
       "        text-align: right;\n",
       "    }\n",
       "</style>\n",
       "<table border=\"1\" class=\"dataframe\">\n",
       "  <thead>\n",
       "    <tr style=\"text-align: right;\">\n",
       "      <th></th>\n",
       "      <th>Intercept</th>\n",
       "      <th>C(E)[T.2]</th>\n",
       "      <th>C(E)[T.3]</th>\n",
       "      <th>C(M)[T.1]</th>\n",
       "      <th>X</th>\n",
       "      <th>C(E)[T.2]:X</th>\n",
       "      <th>C(E)[T.3]:X</th>\n",
       "    </tr>\n",
       "  </thead>\n",
       "  <tbody>\n",
       "    <tr>\n",
       "      <th>9</th>\n",
       "      <td>1.0</td>\n",
       "      <td>1.0</td>\n",
       "      <td>0.0</td>\n",
       "      <td>0.0</td>\n",
       "      <td>3.0</td>\n",
       "      <td>3.0</td>\n",
       "      <td>0.0</td>\n",
       "    </tr>\n",
       "    <tr>\n",
       "      <th>10</th>\n",
       "      <td>1.0</td>\n",
       "      <td>0.0</td>\n",
       "      <td>0.0</td>\n",
       "      <td>1.0</td>\n",
       "      <td>3.0</td>\n",
       "      <td>0.0</td>\n",
       "      <td>0.0</td>\n",
       "    </tr>\n",
       "    <tr>\n",
       "      <th>11</th>\n",
       "      <td>1.0</td>\n",
       "      <td>1.0</td>\n",
       "      <td>0.0</td>\n",
       "      <td>1.0</td>\n",
       "      <td>3.0</td>\n",
       "      <td>3.0</td>\n",
       "      <td>0.0</td>\n",
       "    </tr>\n",
       "    <tr>\n",
       "      <th>12</th>\n",
       "      <td>1.0</td>\n",
       "      <td>0.0</td>\n",
       "      <td>1.0</td>\n",
       "      <td>1.0</td>\n",
       "      <td>3.0</td>\n",
       "      <td>0.0</td>\n",
       "      <td>3.0</td>\n",
       "    </tr>\n",
       "    <tr>\n",
       "      <th>13</th>\n",
       "      <td>1.0</td>\n",
       "      <td>0.0</td>\n",
       "      <td>0.0</td>\n",
       "      <td>0.0</td>\n",
       "      <td>4.0</td>\n",
       "      <td>0.0</td>\n",
       "      <td>0.0</td>\n",
       "    </tr>\n",
       "    <tr>\n",
       "      <th>14</th>\n",
       "      <td>1.0</td>\n",
       "      <td>0.0</td>\n",
       "      <td>1.0</td>\n",
       "      <td>1.0</td>\n",
       "      <td>4.0</td>\n",
       "      <td>0.0</td>\n",
       "      <td>4.0</td>\n",
       "    </tr>\n",
       "    <tr>\n",
       "      <th>15</th>\n",
       "      <td>1.0</td>\n",
       "      <td>0.0</td>\n",
       "      <td>1.0</td>\n",
       "      <td>0.0</td>\n",
       "      <td>4.0</td>\n",
       "      <td>0.0</td>\n",
       "      <td>4.0</td>\n",
       "    </tr>\n",
       "    <tr>\n",
       "      <th>16</th>\n",
       "      <td>1.0</td>\n",
       "      <td>1.0</td>\n",
       "      <td>0.0</td>\n",
       "      <td>0.0</td>\n",
       "      <td>4.0</td>\n",
       "      <td>4.0</td>\n",
       "      <td>0.0</td>\n",
       "    </tr>\n",
       "    <tr>\n",
       "      <th>17</th>\n",
       "      <td>1.0</td>\n",
       "      <td>1.0</td>\n",
       "      <td>0.0</td>\n",
       "      <td>0.0</td>\n",
       "      <td>5.0</td>\n",
       "      <td>5.0</td>\n",
       "      <td>0.0</td>\n",
       "    </tr>\n",
       "    <tr>\n",
       "      <th>18</th>\n",
       "      <td>1.0</td>\n",
       "      <td>0.0</td>\n",
       "      <td>1.0</td>\n",
       "      <td>0.0</td>\n",
       "      <td>5.0</td>\n",
       "      <td>0.0</td>\n",
       "      <td>5.0</td>\n",
       "    </tr>\n",
       "    <tr>\n",
       "      <th>19</th>\n",
       "      <td>1.0</td>\n",
       "      <td>0.0</td>\n",
       "      <td>0.0</td>\n",
       "      <td>1.0</td>\n",
       "      <td>5.0</td>\n",
       "      <td>0.0</td>\n",
       "      <td>0.0</td>\n",
       "    </tr>\n",
       "  </tbody>\n",
       "</table>\n",
       "</div>"
      ],
      "text/plain": [
       "    Intercept  C(E)[T.2]  C(E)[T.3]  C(M)[T.1]    X  C(E)[T.2]:X  C(E)[T.3]:X\n",
       "9         1.0        1.0        0.0        0.0  3.0          3.0          0.0\n",
       "10        1.0        0.0        0.0        1.0  3.0          0.0          0.0\n",
       "11        1.0        1.0        0.0        1.0  3.0          3.0          0.0\n",
       "12        1.0        0.0        1.0        1.0  3.0          0.0          3.0\n",
       "13        1.0        0.0        0.0        0.0  4.0          0.0          0.0\n",
       "14        1.0        0.0        1.0        1.0  4.0          0.0          4.0\n",
       "15        1.0        0.0        1.0        0.0  4.0          0.0          4.0\n",
       "16        1.0        1.0        0.0        0.0  4.0          4.0          0.0\n",
       "17        1.0        1.0        0.0        0.0  5.0          5.0          0.0\n",
       "18        1.0        0.0        1.0        0.0  5.0          0.0          5.0\n",
       "19        1.0        0.0        0.0        1.0  5.0          0.0          0.0"
      ]
     },
     "execution_count": 17,
     "metadata": {},
     "output_type": "execute_result"
    }
   ],
   "source": [
    "pd.DataFrame(salary_res_interaction_X.model.exog, \n",
    "             columns=salary_res_interaction_X.model.exog_names).iloc[9:20,:] "
   ]
  },
  {
   "cell_type": "markdown",
   "metadata": {},
   "source": [
    "## Remember, it's still a model (i.e. a plane)\n",
    "\n",
    "<img src=\"http://stats191.stanford.edu/figs/axes_multiple_full.svg\" width=\"700\">\n",
    "\n",
    "\n",
    "### Interaction between management and education\n",
    "\n",
    "* We can also test for interactions between qualitative variables.\n",
    "\n",
    "* In our plot, note that Master's in management make more than PhD's in management, but this difference disappears in \n",
    "non-management.\n",
    "\n",
    "* This means the effect of education is different in the two management levels. This is evidence of\n",
    "an *interaction*.\n",
    "\n",
    "* To see this, we plot the residuals within groups separately."
   ]
  },
  {
   "cell_type": "code",
   "execution_count": 18,
   "metadata": {
    "collapsed": false
   },
   "outputs": [
    {
     "data": {
      "image/png": "[encoded data removed]",
      "text/plain": [
       "<matplotlib.figure.Figure at 0x7fecb54c3f28>"
      ]
     },
     "metadata": {},
     "output_type": "display_data"
    }
   ],
   "source": [
    "plot_raw_data(salary_data)"
   ]
  },
  {
   "cell_type": "code",
   "execution_count": 19,
   "metadata": {
    "collapsed": true
   },
   "outputs": [],
   "source": [
    "def plot_residuals(result, data):\n",
    "    resid = result.resid\n",
    "    symbols = ['D', '^'] #mgt or not\n",
    "    colors = ['r', 'g', 'blue'] # bachelor vs. masters vs. ph.D\n",
    "    factor_groups = data.groupby(['E','M'])\n",
    "    for (edu, mgt), group in factor_groups:\n",
    "        group_num = edu*2 + mgt - 1  # for plotting purposes\n",
    "        x = [group_num] * len(group)\n",
    "        plt.scatter(x, resid[group.index], marker=symbols[mgt], color=colors[edu-1], s=144)\n",
    "    plt.xlabel('Group')\n",
    "    plt.ylabel('Residuals')\n",
    "    plt.title('Group vs. Residuals')\n",
    "    plt.show()"
   ]
  },
  {
   "cell_type": "code",
   "execution_count": 20,
   "metadata": {
    "collapsed": false
   },
   "outputs": [
    {
     "data": {
      "image/png": "[encoded data removed]",
      "text/plain": [
       "<matplotlib.figure.Figure at 0x7fecb544b240>"
      ]
     },
     "metadata": {},
     "output_type": "display_data"
    }
   ],
   "source": [
    "plot_residuals(result=salary_res, data=salary_data)"
   ]
  },
  {
   "cell_type": "markdown",
   "metadata": {},
   "source": [
    "`R` has a special plot that can help visualize this effect, called an `interaction.plot`.\n"
   ]
  },
  {
   "cell_type": "code",
   "execution_count": 21,
   "metadata": {
    "collapsed": false
   },
   "outputs": [
    {
     "data": {
      "image/png": "[encoded data removed]",
      "text/plain": [
       "<matplotlib.figure.Figure at 0x7fecb4b1c240>"
      ]
     },
     "metadata": {},
     "output_type": "display_data"
    }
   ],
   "source": [
    "# Interaction plot for factor level statistics.\n",
    "interaction_plot(x=salary_data[\"E\"], \n",
    "                trace=salary_data[\"M\"], \n",
    "                response=salary_res.resid, \n",
    "                colors=['red','blue'], \n",
    "                markers=['^','D'],\n",
    "                markersize=10, \n",
    "                ax=plt.gca())\n",
    "plt.ylabel(\"mean of r\")\n",
    "plt.show()"
   ]
  },
  {
   "cell_type": "markdown",
   "metadata": {},
   "source": [
    "### Interaction between management and education\n",
    "\n",
    "-   Based on figure, we expect an interaction effect.\n",
    "\n",
    "-   Fit model $$\\begin{aligned}\n",
    "       S_i &= \\beta_0 + \\beta_1 X_i + \\beta_2 E_{i2} + \\beta_3 E_{i3} +\\\n",
    " \\beta_4 M_i \\\\\n",
    "       & \\qquad  + \\beta_5 E_{i2} M_i + \\beta_6 E_{i3} M_i + \\varepsilon_i.\n",
    "       \\end{aligned}$$\n",
    "\n",
    "-   Again, testing for interaction is testing $H_0:\\beta_5=\\beta_6=0.$\n",
    "\n",
    "- What is the regression function within each group?"
   ]
  },
  {
   "cell_type": "code",
   "execution_count": 22,
   "metadata": {
    "collapsed": true
   },
   "outputs": [],
   "source": [
    "formula_interaction_EM = \"S ~ X + C(E) * C(M)\" "
   ]
  },
  {
   "cell_type": "code",
   "execution_count": 23,
   "metadata": {
    "collapsed": false
   },
   "outputs": [
    {
     "data": {
      "text/html": [
       "<table class=\"simpletable\">\n",
       "<caption>OLS Regression Results</caption>\n",
       "<tr>\n",
       "  <th>Dep. Variable:</th>            <td>S</td>        <th>  R-squared:         </th> <td>   0.999</td>\n",
       "</tr>\n",
       "<tr>\n",
       "  <th>Model:</th>                   <td>OLS</td>       <th>  Adj. R-squared:    </th> <td>   0.999</td>\n",
       "</tr>\n",
       "<tr>\n",
       "  <th>Method:</th>             <td>Least Squares</td>  <th>  F-statistic:       </th> <td>   5517.</td>\n",
       "</tr>\n",
       "<tr>\n",
       "  <th>Date:</th>             <td>Thu, 20 Jun 2019</td> <th>  Prob (F-statistic):</th> <td>1.67e-55</td>\n",
       "</tr>\n",
       "<tr>\n",
       "  <th>Time:</th>                 <td>21:13:40</td>     <th>  Log-Likelihood:    </th> <td> -298.74</td>\n",
       "</tr>\n",
       "<tr>\n",
       "  <th>No. Observations:</th>      <td>    46</td>      <th>  AIC:               </th> <td>   611.5</td>\n",
       "</tr>\n",
       "<tr>\n",
       "  <th>Df Residuals:</th>          <td>    39</td>      <th>  BIC:               </th> <td>   624.3</td>\n",
       "</tr>\n",
       "<tr>\n",
       "  <th>Df Model:</th>              <td>     6</td>      <th>                     </th>     <td> </td>   \n",
       "</tr>\n",
       "<tr>\n",
       "  <th>Covariance Type:</th>      <td>nonrobust</td>    <th>                     </th>     <td> </td>   \n",
       "</tr>\n",
       "</table>\n",
       "<table class=\"simpletable\">\n",
       "<tr>\n",
       "           <td></td>              <th>coef</th>     <th>std err</th>      <th>t</th>      <th>P>|t|</th>  <th>[0.025</th>    <th>0.975]</th>  \n",
       "</tr>\n",
       "<tr>\n",
       "  <th>Intercept</th>           <td> 9472.6854</td> <td>   80.344</td> <td>  117.902</td> <td> 0.000</td> <td> 9310.175</td> <td> 9635.196</td>\n",
       "</tr>\n",
       "<tr>\n",
       "  <th>C(E)[T.2]</th>           <td> 1381.6706</td> <td>   77.319</td> <td>   17.870</td> <td> 0.000</td> <td> 1225.279</td> <td> 1538.063</td>\n",
       "</tr>\n",
       "<tr>\n",
       "  <th>C(E)[T.3]</th>           <td> 1730.7483</td> <td>  105.334</td> <td>   16.431</td> <td> 0.000</td> <td> 1517.690</td> <td> 1943.806</td>\n",
       "</tr>\n",
       "<tr>\n",
       "  <th>C(M)[T.1]</th>           <td> 3981.3769</td> <td>  101.175</td> <td>   39.351</td> <td> 0.000</td> <td> 3776.732</td> <td> 4186.022</td>\n",
       "</tr>\n",
       "<tr>\n",
       "  <th>C(E)[T.2]:C(M)[T.1]</th> <td> 4902.5231</td> <td>  131.359</td> <td>   37.322</td> <td> 0.000</td> <td> 4636.825</td> <td> 5168.222</td>\n",
       "</tr>\n",
       "<tr>\n",
       "  <th>C(E)[T.3]:C(M)[T.1]</th> <td> 3066.0351</td> <td>  149.330</td> <td>   20.532</td> <td> 0.000</td> <td> 2763.986</td> <td> 3368.084</td>\n",
       "</tr>\n",
       "<tr>\n",
       "  <th>X</th>                   <td>  496.9870</td> <td>    5.566</td> <td>   89.283</td> <td> 0.000</td> <td>  485.728</td> <td>  508.246</td>\n",
       "</tr>\n",
       "</table>\n",
       "<table class=\"simpletable\">\n",
       "<tr>\n",
       "  <th>Omnibus:</th>       <td>74.761</td> <th>  Durbin-Watson:     </th> <td>   2.244</td> \n",
       "</tr>\n",
       "<tr>\n",
       "  <th>Prob(Omnibus):</th> <td> 0.000</td> <th>  Jarque-Bera (JB):  </th> <td>1037.873</td> \n",
       "</tr>\n",
       "<tr>\n",
       "  <th>Skew:</th>          <td>-4.103</td> <th>  Prob(JB):          </th> <td>4.25e-226</td>\n",
       "</tr>\n",
       "<tr>\n",
       "  <th>Kurtosis:</th>      <td>24.776</td> <th>  Cond. No.          </th> <td>    79.0</td> \n",
       "</tr>\n",
       "</table><br/><br/>Warnings:<br/>[1] Standard Errors assume that the covariance matrix of the errors is correctly specified."
      ],
      "text/plain": [
       "<class 'statsmodels.iolib.summary.Summary'>\n",
       "\"\"\"\n",
       "                            OLS Regression Results                            \n",
       "==============================================================================\n",
       "Dep. Variable:                      S   R-squared:                       0.999\n",
       "Model:                            OLS   Adj. R-squared:                  0.999\n",
       "Method:                 Least Squares   F-statistic:                     5517.\n",
       "Date:                Thu, 20 Jun 2019   Prob (F-statistic):           1.67e-55\n",
       "Time:                        21:13:40   Log-Likelihood:                -298.74\n",
       "No. Observations:                  46   AIC:                             611.5\n",
       "Df Residuals:                      39   BIC:                             624.3\n",
       "Df Model:                           6                                         \n",
       "Covariance Type:            nonrobust                                         \n",
       "=======================================================================================\n",
       "                          coef    std err          t      P>|t|      [0.025      0.975]\n",
       "---------------------------------------------------------------------------------------\n",
       "Intercept            9472.6854     80.344    117.902      0.000    9310.175    9635.196\n",
       "C(E)[T.2]            1381.6706     77.319     17.870      0.000    1225.279    1538.063\n",
       "C(E)[T.3]            1730.7483    105.334     16.431      0.000    1517.690    1943.806\n",
       "C(M)[T.1]            3981.3769    101.175     39.351      0.000    3776.732    4186.022\n",
       "C(E)[T.2]:C(M)[T.1]  4902.5231    131.359     37.322      0.000    4636.825    5168.222\n",
       "C(E)[T.3]:C(M)[T.1]  3066.0351    149.330     20.532      0.000    2763.986    3368.084\n",
       "X                     496.9870      5.566     89.283      0.000     485.728     508.246\n",
       "==============================================================================\n",
       "Omnibus:                       74.761   Durbin-Watson:                   2.244\n",
       "Prob(Omnibus):                  0.000   Jarque-Bera (JB):             1037.873\n",
       "Skew:                          -4.103   Prob(JB):                    4.25e-226\n",
       "Kurtosis:                      24.776   Cond. No.                         79.0\n",
       "==============================================================================\n",
       "\n",
       "Warnings:\n",
       "[1] Standard Errors assume that the covariance matrix of the errors is correctly specified.\n",
       "\"\"\""
      ]
     },
     "execution_count": 23,
     "metadata": {},
     "output_type": "execute_result"
    }
   ],
   "source": [
    "salary_res_interaction_EM = ols(formula=formula_interaction_EM, \n",
    "                               data=salary_data).fit()\n",
    "salary_res_interaction_EM.summary()"
   ]
  },
  {
   "cell_type": "code",
   "execution_count": 24,
   "metadata": {
    "collapsed": false
   },
   "outputs": [
    {
     "name": "stderr",
     "output_type": "stream",
     "text": [
      "/home/doojung/anaconda3/lib/python3.6/site-packages/scipy/stats/_distn_infrastructure.py:875: RuntimeWarning: invalid value encountered in greater\n",
      "  return (self.a < x) & (x < self.b)\n",
      "/home/doojung/anaconda3/lib/python3.6/site-packages/scipy/stats/_distn_infrastructure.py:875: RuntimeWarning: invalid value encountered in less\n",
      "  return (self.a < x) & (x < self.b)\n",
      "/home/doojung/anaconda3/lib/python3.6/site-packages/scipy/stats/_distn_infrastructure.py:1814: RuntimeWarning: invalid value encountered in less_equal\n",
      "  cond2 = cond0 & (x <= self.a)\n"
     ]
    },
    {
     "data": {
      "text/html": [
       "<div>\n",
       "<style scoped>\n",
       "    .dataframe tbody tr th:only-of-type {\n",
       "        vertical-align: middle;\n",
       "    }\n",
       "\n",
       "    .dataframe tbody tr th {\n",
       "        vertical-align: top;\n",
       "    }\n",
       "\n",
       "    .dataframe thead th {\n",
       "        text-align: right;\n",
       "    }\n",
       "</style>\n",
       "<table border=\"1\" class=\"dataframe\">\n",
       "  <thead>\n",
       "    <tr style=\"text-align: right;\">\n",
       "      <th></th>\n",
       "      <th>df_resid</th>\n",
       "      <th>ssr</th>\n",
       "      <th>df_diff</th>\n",
       "      <th>ss_diff</th>\n",
       "      <th>F</th>\n",
       "      <th>Pr(&gt;F)</th>\n",
       "    </tr>\n",
       "  </thead>\n",
       "  <tbody>\n",
       "    <tr>\n",
       "      <th>0</th>\n",
       "      <td>41.0</td>\n",
       "      <td>4.328072e+07</td>\n",
       "      <td>0.0</td>\n",
       "      <td>NaN</td>\n",
       "      <td>NaN</td>\n",
       "      <td>NaN</td>\n",
       "    </tr>\n",
       "    <tr>\n",
       "      <th>1</th>\n",
       "      <td>39.0</td>\n",
       "      <td>1.178168e+06</td>\n",
       "      <td>2.0</td>\n",
       "      <td>4.210255e+07</td>\n",
       "      <td>696.844466</td>\n",
       "      <td>3.025504e-31</td>\n",
       "    </tr>\n",
       "  </tbody>\n",
       "</table>\n",
       "</div>"
      ],
      "text/plain": [
       "   df_resid           ssr  df_diff       ss_diff           F        Pr(>F)\n",
       "0      41.0  4.328072e+07      0.0           NaN         NaN           NaN\n",
       "1      39.0  1.178168e+06      2.0  4.210255e+07  696.844466  3.025504e-31"
      ]
     },
     "execution_count": 24,
     "metadata": {},
     "output_type": "execute_result"
    }
   ],
   "source": [
    "anova_lm(salary_res, salary_res_interaction_EM)"
   ]
  },
  {
   "cell_type": "markdown",
   "metadata": {},
   "source": [
    "Let's look at our design matrix again to be sure we understand what model was fit.\n"
   ]
  },
  {
   "cell_type": "code",
   "execution_count": 25,
   "metadata": {
    "collapsed": false
   },
   "outputs": [
    {
     "data": {
      "text/html": [
       "<div>\n",
       "<style scoped>\n",
       "    .dataframe tbody tr th:only-of-type {\n",
       "        vertical-align: middle;\n",
       "    }\n",
       "\n",
       "    .dataframe tbody tr th {\n",
       "        vertical-align: top;\n",
       "    }\n",
       "\n",
       "    .dataframe thead th {\n",
       "        text-align: right;\n",
       "    }\n",
       "</style>\n",
       "<table border=\"1\" class=\"dataframe\">\n",
       "  <thead>\n",
       "    <tr style=\"text-align: right;\">\n",
       "      <th></th>\n",
       "      <th>Intercept</th>\n",
       "      <th>C(E)[T.2]</th>\n",
       "      <th>C(E)[T.3]</th>\n",
       "      <th>C(M)[T.1]</th>\n",
       "      <th>C(E)[T.2]:C(M)[T.1]</th>\n",
       "      <th>C(E)[T.3]:C(M)[T.1]</th>\n",
       "      <th>X</th>\n",
       "    </tr>\n",
       "  </thead>\n",
       "  <tbody>\n",
       "    <tr>\n",
       "      <th>0</th>\n",
       "      <td>1.0</td>\n",
       "      <td>0.0</td>\n",
       "      <td>0.0</td>\n",
       "      <td>1.0</td>\n",
       "      <td>0.0</td>\n",
       "      <td>0.0</td>\n",
       "      <td>1.0</td>\n",
       "    </tr>\n",
       "    <tr>\n",
       "      <th>1</th>\n",
       "      <td>1.0</td>\n",
       "      <td>0.0</td>\n",
       "      <td>1.0</td>\n",
       "      <td>0.0</td>\n",
       "      <td>0.0</td>\n",
       "      <td>0.0</td>\n",
       "      <td>1.0</td>\n",
       "    </tr>\n",
       "    <tr>\n",
       "      <th>2</th>\n",
       "      <td>1.0</td>\n",
       "      <td>0.0</td>\n",
       "      <td>1.0</td>\n",
       "      <td>1.0</td>\n",
       "      <td>0.0</td>\n",
       "      <td>1.0</td>\n",
       "      <td>1.0</td>\n",
       "    </tr>\n",
       "    <tr>\n",
       "      <th>3</th>\n",
       "      <td>1.0</td>\n",
       "      <td>1.0</td>\n",
       "      <td>0.0</td>\n",
       "      <td>0.0</td>\n",
       "      <td>0.0</td>\n",
       "      <td>0.0</td>\n",
       "      <td>1.0</td>\n",
       "    </tr>\n",
       "    <tr>\n",
       "      <th>4</th>\n",
       "      <td>1.0</td>\n",
       "      <td>0.0</td>\n",
       "      <td>1.0</td>\n",
       "      <td>0.0</td>\n",
       "      <td>0.0</td>\n",
       "      <td>0.0</td>\n",
       "      <td>1.0</td>\n",
       "    </tr>\n",
       "    <tr>\n",
       "      <th>5</th>\n",
       "      <td>1.0</td>\n",
       "      <td>1.0</td>\n",
       "      <td>0.0</td>\n",
       "      <td>1.0</td>\n",
       "      <td>1.0</td>\n",
       "      <td>0.0</td>\n",
       "      <td>2.0</td>\n",
       "    </tr>\n",
       "  </tbody>\n",
       "</table>\n",
       "</div>"
      ],
      "text/plain": [
       "   Intercept  C(E)[T.2]  C(E)[T.3]  C(M)[T.1]  C(E)[T.2]:C(M)[T.1]  \\\n",
       "0        1.0        0.0        0.0        1.0                  0.0   \n",
       "1        1.0        0.0        1.0        0.0                  0.0   \n",
       "2        1.0        0.0        1.0        1.0                  0.0   \n",
       "3        1.0        1.0        0.0        0.0                  0.0   \n",
       "4        1.0        0.0        1.0        0.0                  0.0   \n",
       "5        1.0        1.0        0.0        1.0                  1.0   \n",
       "\n",
       "   C(E)[T.3]:C(M)[T.1]    X  \n",
       "0                  0.0  1.0  \n",
       "1                  0.0  1.0  \n",
       "2                  1.0  1.0  \n",
       "3                  0.0  1.0  \n",
       "4                  0.0  1.0  \n",
       "5                  0.0  2.0  "
      ]
     },
     "execution_count": 25,
     "metadata": {},
     "output_type": "execute_result"
    }
   ],
   "source": [
    "pd.DataFrame(salary_res_interaction_EM.model.exog, \n",
    "             columns=salary_res_interaction_EM.model.exog_names).head(6) "
   ]
  },
  {
   "cell_type": "markdown",
   "metadata": {},
   "source": [
    "We will plot the residuals as functions of experience\n",
    "with each *experience* and *management* having a \n",
    "different symbol/color."
   ]
  },
  {
   "cell_type": "code",
   "execution_count": 26,
   "metadata": {
    "collapsed": false
   },
   "outputs": [],
   "source": [
    "def plot_residuals_studentized(result, data):\n",
    "    \"\"\"\n",
    "    The standardized residual is the residual divided by its standard deviation.\n",
    "\n",
    "    formula: standard_residual_i = residual_i / standard_deviation_of_residual_i\n",
    "    \"\"\"\n",
    "    infl = result.get_influence()\n",
    "    resid_studentized = infl.summary_frame()[\"standard_resid\"]\n",
    "    symbols = ['D', '^'] #mgt or not\n",
    "    colors = ['r', 'g', 'blue'] # bachelor vs. masters vs. ph.D\n",
    "    factor_groups = data.groupby(['E','M'])\n",
    "    for (edu, mgt), group in factor_groups:\n",
    "        i = group.index\n",
    "        plt.scatter(data.X[i], resid_studentized[i], marker=symbols[mgt], color=colors[edu-1], s=144)\n",
    "    plt.xlabel('X')\n",
    "    plt.ylabel('standardized resids')\n",
    "    plt.title('X vs. Standardized Residuals')\n",
    "    plt.show()\n",
    "    return resid_studentized"
   ]
  },
  {
   "cell_type": "code",
   "execution_count": 27,
   "metadata": {
    "collapsed": false
   },
   "outputs": [
    {
     "data": {
      "image/png": "[encoded data removed]",
      "text/plain": [
       "<matplotlib.figure.Figure at 0x7fecb4b37d68>"
      ]
     },
     "metadata": {},
     "output_type": "display_data"
    }
   ],
   "source": [
    "resid_studentized = plot_residuals_studentized(salary_res_interaction_EM, salary_data)"
   ]
  },
  {
   "cell_type": "markdown",
   "metadata": {},
   "source": [
    "One observation seems to be an outlier.\n",
    "\n"
   ]
  },
  {
   "cell_type": "code",
   "execution_count": 28,
   "metadata": {
    "collapsed": false
   },
   "outputs": [
    {
     "data": {
      "text/html": [
       "<div>\n",
       "<style scoped>\n",
       "    .dataframe tbody tr th:only-of-type {\n",
       "        vertical-align: middle;\n",
       "    }\n",
       "\n",
       "    .dataframe tbody tr th {\n",
       "        vertical-align: top;\n",
       "    }\n",
       "\n",
       "    .dataframe thead th {\n",
       "        text-align: right;\n",
       "    }\n",
       "</style>\n",
       "<table border=\"1\" class=\"dataframe\">\n",
       "  <thead>\n",
       "    <tr style=\"text-align: right;\">\n",
       "      <th></th>\n",
       "      <th>student_resid</th>\n",
       "      <th>unadj_p</th>\n",
       "      <th>bonf(p)</th>\n",
       "    </tr>\n",
       "  </thead>\n",
       "  <tbody>\n",
       "    <tr>\n",
       "      <th>32</th>\n",
       "      <td>-14.950832</td>\n",
       "      <td>1.676948e-17</td>\n",
       "      <td>7.713960e-16</td>\n",
       "    </tr>\n",
       "  </tbody>\n",
       "</table>\n",
       "</div>"
      ],
      "text/plain": [
       "    student_resid       unadj_p       bonf(p)\n",
       "32     -14.950832  1.676948e-17  7.713960e-16"
      ]
     },
     "execution_count": 28,
     "metadata": {},
     "output_type": "execute_result"
    }
   ],
   "source": [
    "# Test observations for outliers according to method\n",
    "# Return table columns are the Studentized residuals, the unadjusted p-value, \n",
    "# and the corrected p-value according to method.\n",
    "# by default, method='bonf'\n",
    "# by default, cutoff=None\n",
    "\n",
    "salary_res_interaction_EM.outlier_test(cutoff=0.05)\n",
    "\n",
    "# Source: https://www.statsmodels.org/dev/generated/statsmodels.regression.linear_model.OLSResults.outlier_test.html"
   ]
  },
  {
   "cell_type": "markdown",
   "metadata": {},
   "source": [
    "Default value for cutoff in outlierTest is 0.05.\n",
    "\n",
    "Source: https://www.rdocumentation.org/packages/car/versions/3.0-2/topics/outlierTest"
   ]
  },
  {
   "cell_type": "markdown",
   "metadata": {},
   "source": [
    "Let's refit our model to see that our conclusions are not vastly different.\n",
    "\n"
   ]
  },
  {
   "cell_type": "code",
   "execution_count": 29,
   "metadata": {
    "collapsed": true
   },
   "outputs": [],
   "source": [
    "def rm_outlier(result, data):\n",
    "    drop_idx = abs(result).argmax()\n",
    "    print(\"drop index: \",drop_idx)  # zero-based index\n",
    "    idx = data.index.drop(drop_idx)\n",
    "    return drop_idx, idx # subset of data after dropping outlier"
   ]
  },
  {
   "cell_type": "code",
   "execution_count": 30,
   "metadata": {
    "collapsed": true
   },
   "outputs": [],
   "source": [
    "def fit_linear_model(formula, data, subset=None):\n",
    "    \"\"\"\n",
    "    Fitting models using R-style formula\n",
    "    For categorical variables; use C() operator\n",
    "    \"\"\"\n",
    "    res_lm = ols(formula, data, subset).fit()\n",
    "    return res_lm"
   ]
  },
  {
   "cell_type": "code",
   "execution_count": 31,
   "metadata": {
    "collapsed": false
   },
   "outputs": [
    {
     "name": "stdout",
     "output_type": "stream",
     "text": [
      "drop index:  32\n"
     ]
    },
    {
     "name": "stderr",
     "output_type": "stream",
     "text": [
      "/home/doojung/anaconda3/lib/python3.6/site-packages/ipykernel/__main__.py:2: FutureWarning: \n",
      "The current behaviour of 'Series.argmax' is deprecated, use 'idxmax'\n",
      "instead.\n",
      "The behavior of 'argmax' will be corrected to return the positional\n",
      "maximum in the future. For now, use 'series.values.argmax' or\n",
      "'np.argmax(np.array(values))' to get the position of the maximum\n",
      "row.\n",
      "  from ipykernel import kernelapp as app\n"
     ]
    }
   ],
   "source": [
    "drop_idx, idx = rm_outlier(resid_studentized, data=salary_data)"
   ]
  },
  {
   "cell_type": "code",
   "execution_count": 32,
   "metadata": {
    "collapsed": false
   },
   "outputs": [],
   "source": [
    "# after dropping outlier\n",
    "res_lm_subset = fit_linear_model(formula=formula, \n",
    "                                data=salary_data, \n",
    "                                subset=idx)\n",
    "\n",
    "res_lm_interaction_X_subset = fit_linear_model(formula=formula_interaction_X,\n",
    "                                            data=salary_data,\n",
    "                                            subset=idx)\n",
    "\n",
    "res_lm_interaction_EM_subset = fit_linear_model(formula=formula_interaction_EM,\n",
    "                                            data=salary_data,\n",
    "                                            subset=idx)\n"
   ]
  },
  {
   "cell_type": "markdown",
   "metadata": {},
   "source": [
    "Let's replot the residuals"
   ]
  },
  {
   "cell_type": "code",
   "execution_count": 33,
   "metadata": {
    "collapsed": false
   },
   "outputs": [
    {
     "name": "stderr",
     "output_type": "stream",
     "text": [
      "/home/doojung/anaconda3/lib/python3.6/site-packages/pandas/core/series.py:942: FutureWarning: \n",
      "Passing list-likes to .loc or [] with any missing label will raise\n",
      "KeyError in the future, you can use .reindex() as an alternative.\n",
      "\n",
      "See the documentation here:\n",
      "https://pandas.pydata.org/pandas-docs/stable/indexing.html#deprecate-loc-reindex-listlike\n",
      "  return self.loc[key]\n"
     ]
    },
    {
     "data": {
      "image/png": "[encoded data removed]",
      "text/plain": [
       "<matplotlib.figure.Figure at 0x7fecb49689e8>"
      ]
     },
     "metadata": {},
     "output_type": "display_data"
    }
   ],
   "source": [
    "resid_studentized_subset = plot_residuals_studentized(result=res_lm_interaction_EM_subset, \n",
    "                                            data=salary_data)\n"
   ]
  },
  {
   "cell_type": "markdown",
   "metadata": {},
   "source": [
    "Let's make a final plot of the fitted values.\n"
   ]
  },
  {
   "cell_type": "code",
   "execution_count": 34,
   "metadata": {
    "collapsed": true
   },
   "outputs": [],
   "source": [
    "def plot_fitted_values(formula, data, drop_idx=None, subset=None):\n",
    "    \"\"\"\n",
    "    this time, data = data.drop([drop_idx]))\n",
    "    \"\"\"\n",
    "    drop_idx = drop_idx\n",
    "    data = data.drop([drop_idx])\n",
    "    lm_final = fit_linear_model(formula=formula, data=data)\n",
    "    \n",
    "    mf = lm_final.model.data.orig_exog\n",
    "    lstyle = ['-','--'] #mgt or not\n",
    "    symbols = ['D', '^'] #mgt or not\n",
    "    colors = ['r', 'g', 'blue'] # bachelor vs. masters vs. ph.D\n",
    "    factor_groups = data.groupby(['E','M'])\n",
    "    for (edu, mgt), group in factor_groups:\n",
    "        idx = group.index\n",
    "        plt.scatter(data.X[idx], data.S[idx], marker=symbols[mgt], color=colors[edu-1], s=144)\n",
    "\n",
    "        # drop NA because there is no idx 32 in the final model\n",
    "        plt.plot(mf.X[idx].dropna(), lm_final.fittedvalues[idx].dropna(),\n",
    "                ls=lstyle[mgt], color=colors[edu-1])\n",
    "    plt.xlabel('Experience')\n",
    "    plt.ylabel('Salary')\n",
    "    plt.show()"
   ]
  },
  {
   "cell_type": "code",
   "execution_count": 35,
   "metadata": {
    "collapsed": false
   },
   "outputs": [
    {
     "data": {
      "image/png": "[encoded data removed]",
      "text/plain": [
       "<matplotlib.figure.Figure at 0x7fecb489b198>"
      ]
     },
     "metadata": {},
     "output_type": "display_data"
    }
   ],
   "source": [
    "plot_fitted_values(formula=formula_interaction_EM, \n",
    "                   data=salary_data, \n",
    "                   drop_idx=drop_idx)"
   ]
  },
  {
   "cell_type": "markdown",
   "metadata": {},
   "source": [
    "### Visualizing an interaction\n",
    "\n",
    "From our first look at the data, the difference between \n",
    "Master's and PhD in the\n",
    "management group is different than in the non-management\n",
    "group. This is an interaction between the two qualitative\n",
    "variables\n",
    "*management,M* and *education,E*. We can visualize this\n",
    "by first removing the effect of experience, then plotting\n",
    "the means within each of the 6 groups using *interaction.plot*."
   ]
  },
  {
   "cell_type": "code",
   "execution_count": 36,
   "metadata": {
    "collapsed": false
   },
   "outputs": [],
   "source": [
    "U = salary_data.S - salary_data.X * res_lm_interaction_X_subset.params['X']"
   ]
  },
  {
   "cell_type": "code",
   "execution_count": 37,
   "metadata": {
    "collapsed": false
   },
   "outputs": [
    {
     "data": {
      "image/png": "[encoded data removed]",
      "text/plain": [
       "<matplotlib.figure.Figure at 0x7fecb490a668>"
      ]
     },
     "metadata": {},
     "output_type": "display_data"
    }
   ],
   "source": [
    "interaction_plot(x=salary_data.E, \n",
    "                trace=salary_data.M, \n",
    "                response=U, \n",
    "                colors=['red','blue'], \n",
    "                markers=['^','D'],\n",
    "                markersize=10, \n",
    "                ax=plt.gca())\n",
    "plt.ylabel(\"mean of U\")\n",
    "plt.show()"
   ]
  },
  {
   "cell_type": "markdown",
   "metadata": {},
   "source": [
    "### Jobtest employment data (RABE)\n",
    "\n",
    "<table>\n",
    "<tr><td><b>Variable</b></td><td><b>Description</b></td></tr>\n",
    "<tr><td>TEST</td><td>Job aptitude test score</td></tr>\n",
    "<tr><td>MINORITY</td><td>1 if applicant could be considered minority, 0 otherwise</td></tr>\n",
    "<tr><td>PERF</td><td>Job performance evaluation</td></tr>\n",
    "</table>"
   ]
  },
  {
   "cell_type": "code",
   "execution_count": 38,
   "metadata": {
    "collapsed": true
   },
   "outputs": [],
   "source": [
    "url = 'http://stats191.stanford.edu/data/jobtest.table'"
   ]
  },
  {
   "cell_type": "code",
   "execution_count": 39,
   "metadata": {
    "collapsed": false
   },
   "outputs": [
    {
     "name": "stderr",
     "output_type": "stream",
     "text": [
      "/home/doojung/anaconda3/lib/python3.6/site-packages/ipykernel/__main__.py:1: FutureWarning: read_table is deprecated, use read_csv instead, passing sep='\\t'.\n",
      "  if __name__ == '__main__':\n"
     ]
    },
    {
     "name": "stdout",
     "output_type": "stream",
     "text": [
      "   TEST  MINORITY  JPERF\n",
      "0  0.28         1   1.83\n",
      "1  0.97         1   4.59\n",
      "2  1.25         1   2.97\n",
      "3  2.46         1   8.14\n",
      "4  2.51         1   8.00\n"
     ]
    }
   ],
   "source": [
    "jobtest_data = pd.read_table(url)\n",
    "print(jobtest_data.head())"
   ]
  },
  {
   "cell_type": "code",
   "execution_count": 40,
   "metadata": {
    "collapsed": false
   },
   "outputs": [
    {
     "data": {
      "text/plain": [
       "[1, 1, 1, 1, 1, ..., 0, 0, 0, 0, 0]\n",
       "Length: 20\n",
       "Categories (2, int64): [0, 1]"
      ]
     },
     "execution_count": 40,
     "metadata": {},
     "output_type": "execute_result"
    }
   ],
   "source": [
    "# pd.Categorical: Represents a categorical variable in classic R / S-plus fashion\n",
    "jobtest_factor = pd.Categorical(jobtest_data.MINORITY)\n",
    "jobtest_factor"
   ]
  },
  {
   "cell_type": "markdown",
   "metadata": {},
   "source": [
    "Since I will be making several plots, it will be easiest to attach `jobtest.table` though I will detach it later.\n",
    "\n",
    "**These plots would be easier with `ggplot`.**\n"
   ]
  },
  {
   "cell_type": "code",
   "execution_count": 41,
   "metadata": {
    "collapsed": false
   },
   "outputs": [],
   "source": [
    "def plot_data(data):\n",
    "    factor_group = data.groupby(['MINORITY'])\n",
    "    fig, ax = plt.subplots(figsize=(6,6))\n",
    "    colors = ['purple', 'green']\n",
    "    markers = ['o', 'v']\n",
    "    for factor, group in factor_group:\n",
    "        ax.scatter(group['TEST'], \n",
    "                group['JPERF'], \n",
    "                color=colors[factor],\n",
    "                marker=markers[factor], \n",
    "                s=12**2)\n",
    "    ax.set_xlabel('TEST')\n",
    "    ax.set_ylabel('JPERF')\n",
    "    return fig, ax"
   ]
  },
  {
   "cell_type": "code",
   "execution_count": 42,
   "metadata": {
    "collapsed": false
   },
   "outputs": [
    {
     "data": {
      "image/png": "[encoded data removed]",
      "text/plain": [
       "<matplotlib.figure.Figure at 0x7fecb4a24828>"
      ]
     },
     "metadata": {},
     "output_type": "display_data"
    }
   ],
   "source": [
    "plot_data(jobtest_data)\n",
    "plt.title(\"Raw data\")\n",
    "plt.show()"
   ]
  },
  {
   "cell_type": "markdown",
   "metadata": {},
   "source": [
    "### General model\n",
    "\n",
    "-   In theory, there may be a linear relationship between $JPERF$ and\n",
    "    $TEST$ but it could be different by group.\n",
    "\n",
    "-   Model:\n",
    "    $$JPERF_i = \\beta_0 + \\beta_1 TEST_i + \\beta_2 MINORITY_i + \\beta_3 MINORITY_i * TEST_i + \\varepsilon_i.$$\n",
    "\n",
    "-   Regression functions:\n",
    "   $$\n",
    "   Y_i =\n",
    "   \\begin{cases}\n",
    "   \\beta_0 + \\beta_1 TEST_i + \\varepsilon_i & \\text{if $MINORITY_i$=0} \\\\\n",
    "   (\\beta_0 + \\beta_2) + (\\beta_1 + \\beta_3) TEST_i + \\varepsilon_i & \\text{if \n",
    "$MINORITY_i=1$.} \\\\\n",
    "   \\end{cases}\n",
    "   $$\n",
    "\n",
    "\n",
    "\n",
    "\n",
    "\n",
    "### Our first model: ($\\beta_2=\\beta_3=0$)\n",
    "\n",
    "This has no effect for `MINORITY`.\n"
   ]
  },
  {
   "cell_type": "code",
   "execution_count": 43,
   "metadata": {
    "collapsed": false
   },
   "outputs": [
    {
     "data": {
      "text/html": [
       "<table class=\"simpletable\">\n",
       "<caption>OLS Regression Results</caption>\n",
       "<tr>\n",
       "  <th>Dep. Variable:</th>          <td>JPERF</td>      <th>  R-squared:         </th> <td>   0.517</td>\n",
       "</tr>\n",
       "<tr>\n",
       "  <th>Model:</th>                   <td>OLS</td>       <th>  Adj. R-squared:    </th> <td>   0.490</td>\n",
       "</tr>\n",
       "<tr>\n",
       "  <th>Method:</th>             <td>Least Squares</td>  <th>  F-statistic:       </th> <td>   19.25</td>\n",
       "</tr>\n",
       "<tr>\n",
       "  <th>Date:</th>             <td>Thu, 20 Jun 2019</td> <th>  Prob (F-statistic):</th> <td>0.000356</td>\n",
       "</tr>\n",
       "<tr>\n",
       "  <th>Time:</th>                 <td>21:13:44</td>     <th>  Log-Likelihood:    </th> <td> -36.614</td>\n",
       "</tr>\n",
       "<tr>\n",
       "  <th>No. Observations:</th>      <td>    20</td>      <th>  AIC:               </th> <td>   77.23</td>\n",
       "</tr>\n",
       "<tr>\n",
       "  <th>Df Residuals:</th>          <td>    18</td>      <th>  BIC:               </th> <td>   79.22</td>\n",
       "</tr>\n",
       "<tr>\n",
       "  <th>Df Model:</th>              <td>     1</td>      <th>                     </th>     <td> </td>   \n",
       "</tr>\n",
       "<tr>\n",
       "  <th>Covariance Type:</th>      <td>nonrobust</td>    <th>                     </th>     <td> </td>   \n",
       "</tr>\n",
       "</table>\n",
       "<table class=\"simpletable\">\n",
       "<tr>\n",
       "      <td></td>         <th>coef</th>     <th>std err</th>      <th>t</th>      <th>P>|t|</th>  <th>[0.025</th>    <th>0.975]</th>  \n",
       "</tr>\n",
       "<tr>\n",
       "  <th>Intercept</th> <td>    1.0350</td> <td>    0.868</td> <td>    1.192</td> <td> 0.249</td> <td>   -0.789</td> <td>    2.859</td>\n",
       "</tr>\n",
       "<tr>\n",
       "  <th>TEST</th>      <td>    2.3605</td> <td>    0.538</td> <td>    4.387</td> <td> 0.000</td> <td>    1.230</td> <td>    3.491</td>\n",
       "</tr>\n",
       "</table>\n",
       "<table class=\"simpletable\">\n",
       "<tr>\n",
       "  <th>Omnibus:</th>       <td> 0.324</td> <th>  Durbin-Watson:     </th> <td>   2.896</td>\n",
       "</tr>\n",
       "<tr>\n",
       "  <th>Prob(Omnibus):</th> <td> 0.850</td> <th>  Jarque-Bera (JB):  </th> <td>   0.483</td>\n",
       "</tr>\n",
       "<tr>\n",
       "  <th>Skew:</th>          <td>-0.186</td> <th>  Prob(JB):          </th> <td>   0.785</td>\n",
       "</tr>\n",
       "<tr>\n",
       "  <th>Kurtosis:</th>      <td> 2.336</td> <th>  Cond. No.          </th> <td>    5.26</td>\n",
       "</tr>\n",
       "</table><br/><br/>Warnings:<br/>[1] Standard Errors assume that the covariance matrix of the errors is correctly specified."
      ],
      "text/plain": [
       "<class 'statsmodels.iolib.summary.Summary'>\n",
       "\"\"\"\n",
       "                            OLS Regression Results                            \n",
       "==============================================================================\n",
       "Dep. Variable:                  JPERF   R-squared:                       0.517\n",
       "Model:                            OLS   Adj. R-squared:                  0.490\n",
       "Method:                 Least Squares   F-statistic:                     19.25\n",
       "Date:                Thu, 20 Jun 2019   Prob (F-statistic):           0.000356\n",
       "Time:                        21:13:44   Log-Likelihood:                -36.614\n",
       "No. Observations:                  20   AIC:                             77.23\n",
       "Df Residuals:                      18   BIC:                             79.22\n",
       "Df Model:                           1                                         \n",
       "Covariance Type:            nonrobust                                         \n",
       "==============================================================================\n",
       "                 coef    std err          t      P>|t|      [0.025      0.975]\n",
       "------------------------------------------------------------------------------\n",
       "Intercept      1.0350      0.868      1.192      0.249      -0.789       2.859\n",
       "TEST           2.3605      0.538      4.387      0.000       1.230       3.491\n",
       "==============================================================================\n",
       "Omnibus:                        0.324   Durbin-Watson:                   2.896\n",
       "Prob(Omnibus):                  0.850   Jarque-Bera (JB):                0.483\n",
       "Skew:                          -0.186   Prob(JB):                        0.785\n",
       "Kurtosis:                       2.336   Cond. No.                         5.26\n",
       "==============================================================================\n",
       "\n",
       "Warnings:\n",
       "[1] Standard Errors assume that the covariance matrix of the errors is correctly specified.\n",
       "\"\"\""
      ]
     },
     "execution_count": 43,
     "metadata": {},
     "output_type": "execute_result"
    }
   ],
   "source": [
    "formula_first = 'JPERF ~ TEST'\n",
    "first_res = ols(formula_first, data=jobtest_data).fit()\n",
    "first_res.summary()"
   ]
  },
  {
   "cell_type": "code",
   "execution_count": 44,
   "metadata": {
    "collapsed": false
   },
   "outputs": [
    {
     "data": {
      "image/png": "[encoded data removed]",
      "text/plain": [
       "<matplotlib.figure.Figure at 0x7fecb48a2160>"
      ]
     },
     "metadata": {},
     "output_type": "display_data"
    }
   ],
   "source": [
    "fig, ax = plot_data(jobtest_data)\n",
    "fig = abline_plot(model_results = first_res, ax=ax)\n",
    "plt.title(\"JPERF ~ TEST\")\n",
    "plt.show()"
   ]
  },
  {
   "cell_type": "markdown",
   "metadata": {},
   "source": [
    "### Our second model ($\\beta_3=0$)\n",
    "\n",
    "This model allows for an effect of `MINORITY` but no interaction between `MINORITY` and `TEST`.\n"
   ]
  },
  {
   "cell_type": "code",
   "execution_count": 45,
   "metadata": {
    "collapsed": false
   },
   "outputs": [
    {
     "data": {
      "text/html": [
       "<table class=\"simpletable\">\n",
       "<caption>OLS Regression Results</caption>\n",
       "<tr>\n",
       "  <th>Dep. Variable:</th>          <td>JPERF</td>      <th>  R-squared:         </th> <td>   0.572</td>\n",
       "</tr>\n",
       "<tr>\n",
       "  <th>Model:</th>                   <td>OLS</td>       <th>  Adj. R-squared:    </th> <td>   0.522</td>\n",
       "</tr>\n",
       "<tr>\n",
       "  <th>Method:</th>             <td>Least Squares</td>  <th>  F-statistic:       </th> <td>   11.38</td>\n",
       "</tr>\n",
       "<tr>\n",
       "  <th>Date:</th>             <td>Thu, 20 Jun 2019</td> <th>  Prob (F-statistic):</th> <td>0.000731</td>\n",
       "</tr>\n",
       "<tr>\n",
       "  <th>Time:</th>                 <td>21:13:45</td>     <th>  Log-Likelihood:    </th> <td> -35.390</td>\n",
       "</tr>\n",
       "<tr>\n",
       "  <th>No. Observations:</th>      <td>    20</td>      <th>  AIC:               </th> <td>   76.78</td>\n",
       "</tr>\n",
       "<tr>\n",
       "  <th>Df Residuals:</th>          <td>    17</td>      <th>  BIC:               </th> <td>   79.77</td>\n",
       "</tr>\n",
       "<tr>\n",
       "  <th>Df Model:</th>              <td>     2</td>      <th>                     </th>     <td> </td>   \n",
       "</tr>\n",
       "<tr>\n",
       "  <th>Covariance Type:</th>      <td>nonrobust</td>    <th>                     </th>     <td> </td>   \n",
       "</tr>\n",
       "</table>\n",
       "<table class=\"simpletable\">\n",
       "<tr>\n",
       "      <td></td>         <th>coef</th>     <th>std err</th>      <th>t</th>      <th>P>|t|</th>  <th>[0.025</th>    <th>0.975]</th>  \n",
       "</tr>\n",
       "<tr>\n",
       "  <th>Intercept</th> <td>    0.6120</td> <td>    0.887</td> <td>    0.690</td> <td> 0.500</td> <td>   -1.260</td> <td>    2.483</td>\n",
       "</tr>\n",
       "<tr>\n",
       "  <th>TEST</th>      <td>    2.2988</td> <td>    0.522</td> <td>    4.400</td> <td> 0.000</td> <td>    1.197</td> <td>    3.401</td>\n",
       "</tr>\n",
       "<tr>\n",
       "  <th>MINORITY</th>  <td>    1.0276</td> <td>    0.691</td> <td>    1.487</td> <td> 0.155</td> <td>   -0.430</td> <td>    2.485</td>\n",
       "</tr>\n",
       "</table>\n",
       "<table class=\"simpletable\">\n",
       "<tr>\n",
       "  <th>Omnibus:</th>       <td> 0.251</td> <th>  Durbin-Watson:     </th> <td>   3.028</td>\n",
       "</tr>\n",
       "<tr>\n",
       "  <th>Prob(Omnibus):</th> <td> 0.882</td> <th>  Jarque-Bera (JB):  </th> <td>   0.437</td>\n",
       "</tr>\n",
       "<tr>\n",
       "  <th>Skew:</th>          <td>-0.059</td> <th>  Prob(JB):          </th> <td>   0.804</td>\n",
       "</tr>\n",
       "<tr>\n",
       "  <th>Kurtosis:</th>      <td> 2.286</td> <th>  Cond. No.          </th> <td>    5.72</td>\n",
       "</tr>\n",
       "</table><br/><br/>Warnings:<br/>[1] Standard Errors assume that the covariance matrix of the errors is correctly specified."
      ],
      "text/plain": [
       "<class 'statsmodels.iolib.summary.Summary'>\n",
       "\"\"\"\n",
       "                            OLS Regression Results                            \n",
       "==============================================================================\n",
       "Dep. Variable:                  JPERF   R-squared:                       0.572\n",
       "Model:                            OLS   Adj. R-squared:                  0.522\n",
       "Method:                 Least Squares   F-statistic:                     11.38\n",
       "Date:                Thu, 20 Jun 2019   Prob (F-statistic):           0.000731\n",
       "Time:                        21:13:45   Log-Likelihood:                -35.390\n",
       "No. Observations:                  20   AIC:                             76.78\n",
       "Df Residuals:                      17   BIC:                             79.77\n",
       "Df Model:                           2                                         \n",
       "Covariance Type:            nonrobust                                         \n",
       "==============================================================================\n",
       "                 coef    std err          t      P>|t|      [0.025      0.975]\n",
       "------------------------------------------------------------------------------\n",
       "Intercept      0.6120      0.887      0.690      0.500      -1.260       2.483\n",
       "TEST           2.2988      0.522      4.400      0.000       1.197       3.401\n",
       "MINORITY       1.0276      0.691      1.487      0.155      -0.430       2.485\n",
       "==============================================================================\n",
       "Omnibus:                        0.251   Durbin-Watson:                   3.028\n",
       "Prob(Omnibus):                  0.882   Jarque-Bera (JB):                0.437\n",
       "Skew:                          -0.059   Prob(JB):                        0.804\n",
       "Kurtosis:                       2.286   Cond. No.                         5.72\n",
       "==============================================================================\n",
       "\n",
       "Warnings:\n",
       "[1] Standard Errors assume that the covariance matrix of the errors is correctly specified.\n",
       "\"\"\""
      ]
     },
     "execution_count": 45,
     "metadata": {},
     "output_type": "execute_result"
    }
   ],
   "source": [
    "formula_second = 'JPERF ~ TEST + MINORITY'\n",
    "second_res = ols(formula_second, data=jobtest_data).fit()\n",
    "second_res.summary()"
   ]
  },
  {
   "cell_type": "code",
   "execution_count": 46,
   "metadata": {
    "collapsed": false
   },
   "outputs": [
    {
     "data": {
      "image/png": "[encoded data removed]",
      "text/plain": [
       "<matplotlib.figure.Figure at 0x7fecb48b32b0>"
      ]
     },
     "metadata": {},
     "output_type": "display_data"
    }
   ],
   "source": [
    "fig, ax = plot_data(jobtest_data)\n",
    "fig = abline_plot(intercept = second_res.params['Intercept'],\n",
    "                slope = second_res.params['TEST'], \n",
    "                ax=ax, color='purple')\n",
    "\n",
    "fig = abline_plot(intercept = second_res.params['Intercept'] + second_res.params['MINORITY'],\n",
    "                slope = second_res.params['TEST'], \n",
    "                ax=ax, color='green')\n",
    "\n",
    "plt.title(\"JPERF ~ TEST + MINORITY\")\n",
    "plt.show()"
   ]
  },
  {
   "cell_type": "markdown",
   "metadata": {},
   "source": [
    "### Our third model $(\\beta_2=0)$:\n",
    "\n",
    "This model includes an interaction between `TEST` and `MINORITY`. These lines have the same intercept but possibly different slopes within the `MINORITY` groups."
   ]
  },
  {
   "cell_type": "code",
   "execution_count": 47,
   "metadata": {
    "collapsed": false
   },
   "outputs": [
    {
     "data": {
      "text/html": [
       "<table class=\"simpletable\">\n",
       "<caption>OLS Regression Results</caption>\n",
       "<tr>\n",
       "  <th>Dep. Variable:</th>          <td>JPERF</td>      <th>  R-squared:         </th> <td>   0.632</td>\n",
       "</tr>\n",
       "<tr>\n",
       "  <th>Model:</th>                   <td>OLS</td>       <th>  Adj. R-squared:    </th> <td>   0.589</td>\n",
       "</tr>\n",
       "<tr>\n",
       "  <th>Method:</th>             <td>Least Squares</td>  <th>  F-statistic:       </th> <td>   14.59</td>\n",
       "</tr>\n",
       "<tr>\n",
       "  <th>Date:</th>             <td>Thu, 20 Jun 2019</td> <th>  Prob (F-statistic):</th> <td>0.000204</td>\n",
       "</tr>\n",
       "<tr>\n",
       "  <th>Time:</th>                 <td>21:13:46</td>     <th>  Log-Likelihood:    </th> <td> -33.891</td>\n",
       "</tr>\n",
       "<tr>\n",
       "  <th>No. Observations:</th>      <td>    20</td>      <th>  AIC:               </th> <td>   73.78</td>\n",
       "</tr>\n",
       "<tr>\n",
       "  <th>Df Residuals:</th>          <td>    17</td>      <th>  BIC:               </th> <td>   76.77</td>\n",
       "</tr>\n",
       "<tr>\n",
       "  <th>Df Model:</th>              <td>     2</td>      <th>                     </th>     <td> </td>   \n",
       "</tr>\n",
       "<tr>\n",
       "  <th>Covariance Type:</th>      <td>nonrobust</td>    <th>                     </th>     <td> </td>   \n",
       "</tr>\n",
       "</table>\n",
       "<table class=\"simpletable\">\n",
       "<tr>\n",
       "        <td></td>           <th>coef</th>     <th>std err</th>      <th>t</th>      <th>P>|t|</th>  <th>[0.025</th>    <th>0.975]</th>  \n",
       "</tr>\n",
       "<tr>\n",
       "  <th>Intercept</th>     <td>    1.1211</td> <td>    0.780</td> <td>    1.437</td> <td> 0.169</td> <td>   -0.525</td> <td>    2.768</td>\n",
       "</tr>\n",
       "<tr>\n",
       "  <th>TEST</th>          <td>    1.8276</td> <td>    0.536</td> <td>    3.412</td> <td> 0.003</td> <td>    0.698</td> <td>    2.958</td>\n",
       "</tr>\n",
       "<tr>\n",
       "  <th>TEST:MINORITY</th> <td>    0.9161</td> <td>    0.397</td> <td>    2.306</td> <td> 0.034</td> <td>    0.078</td> <td>    1.754</td>\n",
       "</tr>\n",
       "</table>\n",
       "<table class=\"simpletable\">\n",
       "<tr>\n",
       "  <th>Omnibus:</th>       <td> 0.388</td> <th>  Durbin-Watson:     </th> <td>   3.008</td>\n",
       "</tr>\n",
       "<tr>\n",
       "  <th>Prob(Omnibus):</th> <td> 0.823</td> <th>  Jarque-Bera (JB):  </th> <td>   0.514</td>\n",
       "</tr>\n",
       "<tr>\n",
       "  <th>Skew:</th>          <td> 0.050</td> <th>  Prob(JB):          </th> <td>   0.773</td>\n",
       "</tr>\n",
       "<tr>\n",
       "  <th>Kurtosis:</th>      <td> 2.221</td> <th>  Cond. No.          </th> <td>    5.96</td>\n",
       "</tr>\n",
       "</table><br/><br/>Warnings:<br/>[1] Standard Errors assume that the covariance matrix of the errors is correctly specified."
      ],
      "text/plain": [
       "<class 'statsmodels.iolib.summary.Summary'>\n",
       "\"\"\"\n",
       "                            OLS Regression Results                            \n",
       "==============================================================================\n",
       "Dep. Variable:                  JPERF   R-squared:                       0.632\n",
       "Model:                            OLS   Adj. R-squared:                  0.589\n",
       "Method:                 Least Squares   F-statistic:                     14.59\n",
       "Date:                Thu, 20 Jun 2019   Prob (F-statistic):           0.000204\n",
       "Time:                        21:13:46   Log-Likelihood:                -33.891\n",
       "No. Observations:                  20   AIC:                             73.78\n",
       "Df Residuals:                      17   BIC:                             76.77\n",
       "Df Model:                           2                                         \n",
       "Covariance Type:            nonrobust                                         \n",
       "=================================================================================\n",
       "                    coef    std err          t      P>|t|      [0.025      0.975]\n",
       "---------------------------------------------------------------------------------\n",
       "Intercept         1.1211      0.780      1.437      0.169      -0.525       2.768\n",
       "TEST              1.8276      0.536      3.412      0.003       0.698       2.958\n",
       "TEST:MINORITY     0.9161      0.397      2.306      0.034       0.078       1.754\n",
       "==============================================================================\n",
       "Omnibus:                        0.388   Durbin-Watson:                   3.008\n",
       "Prob(Omnibus):                  0.823   Jarque-Bera (JB):                0.514\n",
       "Skew:                           0.050   Prob(JB):                        0.773\n",
       "Kurtosis:                       2.221   Cond. No.                         5.96\n",
       "==============================================================================\n",
       "\n",
       "Warnings:\n",
       "[1] Standard Errors assume that the covariance matrix of the errors is correctly specified.\n",
       "\"\"\""
      ]
     },
     "execution_count": 47,
     "metadata": {},
     "output_type": "execute_result"
    }
   ],
   "source": [
    "formula_third = \"JPERF ~ TEST + TEST:MINORITY\"\n",
    "third_res = ols(formula_third, data=jobtest_data).fit()\n",
    "third_res.summary()"
   ]
  },
  {
   "cell_type": "code",
   "execution_count": 48,
   "metadata": {
    "collapsed": false
   },
   "outputs": [
    {
     "data": {
      "image/png": "[encoded data removed]",
      "text/plain": [
       "<matplotlib.figure.Figure at 0x7fecb4b88f98>"
      ]
     },
     "metadata": {},
     "output_type": "display_data"
    }
   ],
   "source": [
    "fig, ax = plot_data(jobtest_data)\n",
    "fig = abline_plot(intercept = third_res.params['Intercept'],\n",
    "                slope = third_res.params['TEST'], \n",
    "                ax=ax, color='purple')\n",
    "\n",
    "fig = abline_plot(intercept = third_res.params['Intercept'],\n",
    "                slope = third_res.params['TEST'] + third_res.params['TEST:MINORITY'],\n",
    "                ax=ax, color='green')\n",
    "\n",
    "plt.title(\"JPERF ~ TEST + TEST:MINORITY\")\n",
    "plt.show()"
   ]
  },
  {
   "cell_type": "markdown",
   "metadata": {},
   "source": [
    "Let's look at our design matrix again to be sure we understand which model was fit.\n",
    "\n"
   ]
  },
  {
   "cell_type": "code",
   "execution_count": 49,
   "metadata": {
    "collapsed": false
   },
   "outputs": [
    {
     "data": {
      "text/html": [
       "<div>\n",
       "<style scoped>\n",
       "    .dataframe tbody tr th:only-of-type {\n",
       "        vertical-align: middle;\n",
       "    }\n",
       "\n",
       "    .dataframe tbody tr th {\n",
       "        vertical-align: top;\n",
       "    }\n",
       "\n",
       "    .dataframe thead th {\n",
       "        text-align: right;\n",
       "    }\n",
       "</style>\n",
       "<table border=\"1\" class=\"dataframe\">\n",
       "  <thead>\n",
       "    <tr style=\"text-align: right;\">\n",
       "      <th></th>\n",
       "      <th>Intercept</th>\n",
       "      <th>TEST</th>\n",
       "      <th>TEST:MINORITY</th>\n",
       "    </tr>\n",
       "  </thead>\n",
       "  <tbody>\n",
       "    <tr>\n",
       "      <th>0</th>\n",
       "      <td>1.0</td>\n",
       "      <td>0.28</td>\n",
       "      <td>0.28</td>\n",
       "    </tr>\n",
       "    <tr>\n",
       "      <th>1</th>\n",
       "      <td>1.0</td>\n",
       "      <td>0.97</td>\n",
       "      <td>0.97</td>\n",
       "    </tr>\n",
       "    <tr>\n",
       "      <th>2</th>\n",
       "      <td>1.0</td>\n",
       "      <td>1.25</td>\n",
       "      <td>1.25</td>\n",
       "    </tr>\n",
       "    <tr>\n",
       "      <th>3</th>\n",
       "      <td>1.0</td>\n",
       "      <td>2.46</td>\n",
       "      <td>2.46</td>\n",
       "    </tr>\n",
       "    <tr>\n",
       "      <th>4</th>\n",
       "      <td>1.0</td>\n",
       "      <td>2.51</td>\n",
       "      <td>2.51</td>\n",
       "    </tr>\n",
       "    <tr>\n",
       "      <th>5</th>\n",
       "      <td>1.0</td>\n",
       "      <td>1.17</td>\n",
       "      <td>1.17</td>\n",
       "    </tr>\n",
       "  </tbody>\n",
       "</table>\n",
       "</div>"
      ],
      "text/plain": [
       "   Intercept  TEST  TEST:MINORITY\n",
       "0        1.0  0.28           0.28\n",
       "1        1.0  0.97           0.97\n",
       "2        1.0  1.25           1.25\n",
       "3        1.0  2.46           2.46\n",
       "4        1.0  2.51           2.51\n",
       "5        1.0  1.17           1.17"
      ]
     },
     "execution_count": 49,
     "metadata": {},
     "output_type": "execute_result"
    }
   ],
   "source": [
    "pd.DataFrame(third_res.model.exog, columns=third_res.model.exog_names).head(6)"
   ]
  },
  {
   "cell_type": "markdown",
   "metadata": {},
   "source": [
    "### Our final model: no constraints\n",
    "\n",
    "This model allows for different intercepts and different slopes.\n"
   ]
  },
  {
   "cell_type": "code",
   "execution_count": 50,
   "metadata": {
    "collapsed": false
   },
   "outputs": [
    {
     "data": {
      "text/html": [
       "<table class=\"simpletable\">\n",
       "<caption>OLS Regression Results</caption>\n",
       "<tr>\n",
       "  <th>Dep. Variable:</th>          <td>JPERF</td>      <th>  R-squared:         </th> <td>   0.664</td>\n",
       "</tr>\n",
       "<tr>\n",
       "  <th>Model:</th>                   <td>OLS</td>       <th>  Adj. R-squared:    </th> <td>   0.601</td>\n",
       "</tr>\n",
       "<tr>\n",
       "  <th>Method:</th>             <td>Least Squares</td>  <th>  F-statistic:       </th> <td>   10.55</td>\n",
       "</tr>\n",
       "<tr>\n",
       "  <th>Date:</th>             <td>Thu, 20 Jun 2019</td> <th>  Prob (F-statistic):</th> <td>0.000451</td>\n",
       "</tr>\n",
       "<tr>\n",
       "  <th>Time:</th>                 <td>21:13:46</td>     <th>  Log-Likelihood:    </th> <td> -32.971</td>\n",
       "</tr>\n",
       "<tr>\n",
       "  <th>No. Observations:</th>      <td>    20</td>      <th>  AIC:               </th> <td>   73.94</td>\n",
       "</tr>\n",
       "<tr>\n",
       "  <th>Df Residuals:</th>          <td>    16</td>      <th>  BIC:               </th> <td>   77.92</td>\n",
       "</tr>\n",
       "<tr>\n",
       "  <th>Df Model:</th>              <td>     3</td>      <th>                     </th>     <td> </td>   \n",
       "</tr>\n",
       "<tr>\n",
       "  <th>Covariance Type:</th>      <td>nonrobust</td>    <th>                     </th>     <td> </td>   \n",
       "</tr>\n",
       "</table>\n",
       "<table class=\"simpletable\">\n",
       "<tr>\n",
       "        <td></td>           <th>coef</th>     <th>std err</th>      <th>t</th>      <th>P>|t|</th>  <th>[0.025</th>    <th>0.975]</th>  \n",
       "</tr>\n",
       "<tr>\n",
       "  <th>Intercept</th>     <td>    2.0103</td> <td>    1.050</td> <td>    1.914</td> <td> 0.074</td> <td>   -0.216</td> <td>    4.236</td>\n",
       "</tr>\n",
       "<tr>\n",
       "  <th>TEST</th>          <td>    1.3134</td> <td>    0.670</td> <td>    1.959</td> <td> 0.068</td> <td>   -0.108</td> <td>    2.735</td>\n",
       "</tr>\n",
       "<tr>\n",
       "  <th>MINORITY</th>      <td>   -1.9132</td> <td>    1.540</td> <td>   -1.242</td> <td> 0.232</td> <td>   -5.179</td> <td>    1.352</td>\n",
       "</tr>\n",
       "<tr>\n",
       "  <th>TEST:MINORITY</th> <td>    1.9975</td> <td>    0.954</td> <td>    2.093</td> <td> 0.053</td> <td>   -0.026</td> <td>    4.021</td>\n",
       "</tr>\n",
       "</table>\n",
       "<table class=\"simpletable\">\n",
       "<tr>\n",
       "  <th>Omnibus:</th>       <td> 3.377</td> <th>  Durbin-Watson:     </th> <td>   3.015</td>\n",
       "</tr>\n",
       "<tr>\n",
       "  <th>Prob(Omnibus):</th> <td> 0.185</td> <th>  Jarque-Bera (JB):  </th> <td>   1.330</td>\n",
       "</tr>\n",
       "<tr>\n",
       "  <th>Skew:</th>          <td> 0.120</td> <th>  Prob(JB):          </th> <td>   0.514</td>\n",
       "</tr>\n",
       "<tr>\n",
       "  <th>Kurtosis:</th>      <td> 1.760</td> <th>  Cond. No.          </th> <td>    13.8</td>\n",
       "</tr>\n",
       "</table><br/><br/>Warnings:<br/>[1] Standard Errors assume that the covariance matrix of the errors is correctly specified."
      ],
      "text/plain": [
       "<class 'statsmodels.iolib.summary.Summary'>\n",
       "\"\"\"\n",
       "                            OLS Regression Results                            \n",
       "==============================================================================\n",
       "Dep. Variable:                  JPERF   R-squared:                       0.664\n",
       "Model:                            OLS   Adj. R-squared:                  0.601\n",
       "Method:                 Least Squares   F-statistic:                     10.55\n",
       "Date:                Thu, 20 Jun 2019   Prob (F-statistic):           0.000451\n",
       "Time:                        21:13:46   Log-Likelihood:                -32.971\n",
       "No. Observations:                  20   AIC:                             73.94\n",
       "Df Residuals:                      16   BIC:                             77.92\n",
       "Df Model:                           3                                         \n",
       "Covariance Type:            nonrobust                                         \n",
       "=================================================================================\n",
       "                    coef    std err          t      P>|t|      [0.025      0.975]\n",
       "---------------------------------------------------------------------------------\n",
       "Intercept         2.0103      1.050      1.914      0.074      -0.216       4.236\n",
       "TEST              1.3134      0.670      1.959      0.068      -0.108       2.735\n",
       "MINORITY         -1.9132      1.540     -1.242      0.232      -5.179       1.352\n",
       "TEST:MINORITY     1.9975      0.954      2.093      0.053      -0.026       4.021\n",
       "==============================================================================\n",
       "Omnibus:                        3.377   Durbin-Watson:                   3.015\n",
       "Prob(Omnibus):                  0.185   Jarque-Bera (JB):                1.330\n",
       "Skew:                           0.120   Prob(JB):                        0.514\n",
       "Kurtosis:                       1.760   Cond. No.                         13.8\n",
       "==============================================================================\n",
       "\n",
       "Warnings:\n",
       "[1] Standard Errors assume that the covariance matrix of the errors is correctly specified.\n",
       "\"\"\""
      ]
     },
     "execution_count": 50,
     "metadata": {},
     "output_type": "execute_result"
    }
   ],
   "source": [
    "formula_fourth = \"JPERF ~ TEST * MINORITY\"\n",
    "fourth_res = ols(formula_fourth, data=jobtest_data).fit()\n",
    "fourth_res.summary()"
   ]
  },
  {
   "cell_type": "code",
   "execution_count": 51,
   "metadata": {
    "collapsed": false
   },
   "outputs": [
    {
     "data": {
      "image/png": "[encoded data removed]",
      "text/plain": [
       "<matplotlib.figure.Figure at 0x7fecb545fa58>"
      ]
     },
     "metadata": {},
     "output_type": "display_data"
    }
   ],
   "source": [
    "fig, ax = plot_data(jobtest_data)\n",
    "fig = abline_plot(intercept = fourth_res.params['Intercept'],\n",
    "                slope = fourth_res.params['TEST'], \n",
    "                ax=ax, color='purple')\n",
    "\n",
    "fig = abline_plot(intercept = fourth_res.params['Intercept'] + fourth_res.params['MINORITY'],\n",
    "                slope = fourth_res.params['TEST'] + fourth_res.params['TEST:MINORITY'],\n",
    "                ax=ax, color='green')\n",
    "plt.title(\"JPERF ~ TEST * TEST:MINORITY\")\n",
    "plt.show()"
   ]
  },
  {
   "cell_type": "markdown",
   "metadata": {},
   "source": [
    "The expression `TEST*MINORITY` is shorthand for `TEST + MINORITY + TEST:MINORITY`.\n"
   ]
  },
  {
   "cell_type": "code",
   "execution_count": 52,
   "metadata": {
    "collapsed": false
   },
   "outputs": [
    {
     "data": {
      "text/html": [
       "<div>\n",
       "<style scoped>\n",
       "    .dataframe tbody tr th:only-of-type {\n",
       "        vertical-align: middle;\n",
       "    }\n",
       "\n",
       "    .dataframe tbody tr th {\n",
       "        vertical-align: top;\n",
       "    }\n",
       "\n",
       "    .dataframe thead th {\n",
       "        text-align: right;\n",
       "    }\n",
       "</style>\n",
       "<table border=\"1\" class=\"dataframe\">\n",
       "  <thead>\n",
       "    <tr style=\"text-align: right;\">\n",
       "      <th></th>\n",
       "      <th>Intercept</th>\n",
       "      <th>TEST</th>\n",
       "      <th>MINORITY</th>\n",
       "      <th>TEST:MINORITY</th>\n",
       "    </tr>\n",
       "  </thead>\n",
       "  <tbody>\n",
       "    <tr>\n",
       "      <th>0</th>\n",
       "      <td>1.0</td>\n",
       "      <td>0.28</td>\n",
       "      <td>1.0</td>\n",
       "      <td>0.28</td>\n",
       "    </tr>\n",
       "    <tr>\n",
       "      <th>1</th>\n",
       "      <td>1.0</td>\n",
       "      <td>0.97</td>\n",
       "      <td>1.0</td>\n",
       "      <td>0.97</td>\n",
       "    </tr>\n",
       "    <tr>\n",
       "      <th>2</th>\n",
       "      <td>1.0</td>\n",
       "      <td>1.25</td>\n",
       "      <td>1.0</td>\n",
       "      <td>1.25</td>\n",
       "    </tr>\n",
       "    <tr>\n",
       "      <th>3</th>\n",
       "      <td>1.0</td>\n",
       "      <td>2.46</td>\n",
       "      <td>1.0</td>\n",
       "      <td>2.46</td>\n",
       "    </tr>\n",
       "    <tr>\n",
       "      <th>4</th>\n",
       "      <td>1.0</td>\n",
       "      <td>2.51</td>\n",
       "      <td>1.0</td>\n",
       "      <td>2.51</td>\n",
       "    </tr>\n",
       "    <tr>\n",
       "      <th>5</th>\n",
       "      <td>1.0</td>\n",
       "      <td>1.17</td>\n",
       "      <td>1.0</td>\n",
       "      <td>1.17</td>\n",
       "    </tr>\n",
       "  </tbody>\n",
       "</table>\n",
       "</div>"
      ],
      "text/plain": [
       "   Intercept  TEST  MINORITY  TEST:MINORITY\n",
       "0        1.0  0.28       1.0           0.28\n",
       "1        1.0  0.97       1.0           0.97\n",
       "2        1.0  1.25       1.0           1.25\n",
       "3        1.0  2.46       1.0           2.46\n",
       "4        1.0  2.51       1.0           2.51\n",
       "5        1.0  1.17       1.0           1.17"
      ]
     },
     "execution_count": 52,
     "metadata": {},
     "output_type": "execute_result"
    }
   ],
   "source": [
    "pd.DataFrame(fourth_res.model.exog, columns=fourth_res.model.exog_names).head(6)"
   ]
  },
  {
   "cell_type": "markdown",
   "metadata": {},
   "source": [
    "### Comparing models\n",
    "\n",
    "Is there any effect of MINORITY on slope or intercept?\n"
   ]
  },
  {
   "cell_type": "code",
   "execution_count": 53,
   "metadata": {
    "collapsed": false
   },
   "outputs": [
    {
     "name": "stdout",
     "output_type": "stream",
     "text": [
      "TEST vs. TEST * MINORITY\n",
      "   df_resid        ssr  df_diff    ss_diff         F    Pr(>F)\n",
      "0      18.0  45.568297      0.0        NaN       NaN       NaN\n",
      "1      16.0  31.655473      2.0  13.912824  3.516061  0.054236\n"
     ]
    },
    {
     "name": "stderr",
     "output_type": "stream",
     "text": [
      "/home/doojung/anaconda3/lib/python3.6/site-packages/scipy/stats/_distn_infrastructure.py:875: RuntimeWarning: invalid value encountered in greater\n",
      "  return (self.a < x) & (x < self.b)\n",
      "/home/doojung/anaconda3/lib/python3.6/site-packages/scipy/stats/_distn_infrastructure.py:875: RuntimeWarning: invalid value encountered in less\n",
      "  return (self.a < x) & (x < self.b)\n",
      "/home/doojung/anaconda3/lib/python3.6/site-packages/scipy/stats/_distn_infrastructure.py:1814: RuntimeWarning: invalid value encountered in less_equal\n",
      "  cond2 = cond0 & (x <= self.a)\n"
     ]
    }
   ],
   "source": [
    "table = anova_lm(first_res, fourth_res)\n",
    "print(\"TEST vs. TEST * MINORITY\")\n",
    "print(table)"
   ]
  },
  {
   "cell_type": "markdown",
   "metadata": {},
   "source": [
    "Is there any effect of MINORITY on intercept? (Assuming we have accepted the hypothesis that the slope is the same within\n",
    "each group)."
   ]
  },
  {
   "cell_type": "code",
   "execution_count": 54,
   "metadata": {
    "collapsed": false
   },
   "outputs": [
    {
     "name": "stdout",
     "output_type": "stream",
     "text": [
      "TEST vs. TEST + MINORITY\n",
      "   df_resid        ssr  df_diff   ss_diff         F    Pr(>F)\n",
      "0      18.0  45.568297      0.0       NaN       NaN       NaN\n",
      "1      17.0  40.321546      1.0  5.246751  2.212087  0.155246\n"
     ]
    },
    {
     "name": "stderr",
     "output_type": "stream",
     "text": [
      "/home/doojung/anaconda3/lib/python3.6/site-packages/scipy/stats/_distn_infrastructure.py:875: RuntimeWarning: invalid value encountered in greater\n",
      "  return (self.a < x) & (x < self.b)\n",
      "/home/doojung/anaconda3/lib/python3.6/site-packages/scipy/stats/_distn_infrastructure.py:875: RuntimeWarning: invalid value encountered in less\n",
      "  return (self.a < x) & (x < self.b)\n",
      "/home/doojung/anaconda3/lib/python3.6/site-packages/scipy/stats/_distn_infrastructure.py:1814: RuntimeWarning: invalid value encountered in less_equal\n",
      "  cond2 = cond0 & (x <= self.a)\n"
     ]
    }
   ],
   "source": [
    "table = anova_lm(first_res, second_res)\n",
    "print(\"TEST vs. TEST + MINORITY\")\n",
    "print(table)"
   ]
  },
  {
   "cell_type": "markdown",
   "metadata": {},
   "source": [
    "We could also have allowed for the possiblity that the slope is different within each group and still check for a different intercept.\n"
   ]
  },
  {
   "cell_type": "code",
   "execution_count": 55,
   "metadata": {
    "collapsed": false
   },
   "outputs": [
    {
     "name": "stdout",
     "output_type": "stream",
     "text": [
      "TEST + TEST:MINORITY vs. TEST * MINORITY\n",
      "   df_resid        ssr  df_diff  ss_diff         F    Pr(>F)\n",
      "0      17.0  34.707653      0.0      NaN       NaN       NaN\n",
      "1      16.0  31.655473      1.0  3.05218  1.542699  0.232115\n"
     ]
    },
    {
     "name": "stderr",
     "output_type": "stream",
     "text": [
      "/home/doojung/anaconda3/lib/python3.6/site-packages/scipy/stats/_distn_infrastructure.py:875: RuntimeWarning: invalid value encountered in greater\n",
      "  return (self.a < x) & (x < self.b)\n",
      "/home/doojung/anaconda3/lib/python3.6/site-packages/scipy/stats/_distn_infrastructure.py:875: RuntimeWarning: invalid value encountered in less\n",
      "  return (self.a < x) & (x < self.b)\n",
      "/home/doojung/anaconda3/lib/python3.6/site-packages/scipy/stats/_distn_infrastructure.py:1814: RuntimeWarning: invalid value encountered in less_equal\n",
      "  cond2 = cond0 & (x <= self.a)\n"
     ]
    }
   ],
   "source": [
    "table = anova_lm(third_res, fourth_res)\n",
    "print(\"TEST + TEST:MINORITY vs. TEST * MINORITY\")\n",
    "print(table)"
   ]
  },
  {
   "cell_type": "markdown",
   "metadata": {},
   "source": [
    "Is there any effect of `MINORITY` on slope?  (Assuming we have accepted the hypothesis that the intercept is the same within each\n",
    "group).\n"
   ]
  },
  {
   "cell_type": "code",
   "execution_count": 56,
   "metadata": {
    "collapsed": false
   },
   "outputs": [
    {
     "name": "stdout",
     "output_type": "stream",
     "text": [
      "TEST vs. TEST + TEST * MINORITY\n",
      "   df_resid        ssr  df_diff    ss_diff         F    Pr(>F)\n",
      "0      18.0  45.568297      0.0        NaN       NaN       NaN\n",
      "1      17.0  34.707653      1.0  10.860644  5.319603  0.033949\n"
     ]
    },
    {
     "name": "stderr",
     "output_type": "stream",
     "text": [
      "/home/doojung/anaconda3/lib/python3.6/site-packages/scipy/stats/_distn_infrastructure.py:875: RuntimeWarning: invalid value encountered in greater\n",
      "  return (self.a < x) & (x < self.b)\n",
      "/home/doojung/anaconda3/lib/python3.6/site-packages/scipy/stats/_distn_infrastructure.py:875: RuntimeWarning: invalid value encountered in less\n",
      "  return (self.a < x) & (x < self.b)\n",
      "/home/doojung/anaconda3/lib/python3.6/site-packages/scipy/stats/_distn_infrastructure.py:1814: RuntimeWarning: invalid value encountered in less_equal\n",
      "  cond2 = cond0 & (x <= self.a)\n"
     ]
    }
   ],
   "source": [
    "table = anova_lm(first_res, third_res)\n",
    "print(\"TEST vs. TEST + TEST * MINORITY\")\n",
    "print(table)"
   ]
  },
  {
   "cell_type": "markdown",
   "metadata": {},
   "source": [
    "Again, we could have allowed for the possibility that the intercept is different within each group.\n",
    "\n"
   ]
  },
  {
   "cell_type": "code",
   "execution_count": 57,
   "metadata": {
    "collapsed": false
   },
   "outputs": [
    {
     "name": "stdout",
     "output_type": "stream",
     "text": [
      "TEST + MINORITY vs. TEST * MINORITY\n",
      "   df_resid        ssr  df_diff   ss_diff         F   Pr(>F)\n",
      "0      17.0  40.321546      0.0       NaN       NaN      NaN\n",
      "1      16.0  31.655473      1.0  8.666073  4.380196  0.05265\n"
     ]
    },
    {
     "name": "stderr",
     "output_type": "stream",
     "text": [
      "/home/doojung/anaconda3/lib/python3.6/site-packages/scipy/stats/_distn_infrastructure.py:875: RuntimeWarning: invalid value encountered in greater\n",
      "  return (self.a < x) & (x < self.b)\n",
      "/home/doojung/anaconda3/lib/python3.6/site-packages/scipy/stats/_distn_infrastructure.py:875: RuntimeWarning: invalid value encountered in less\n",
      "  return (self.a < x) & (x < self.b)\n",
      "/home/doojung/anaconda3/lib/python3.6/site-packages/scipy/stats/_distn_infrastructure.py:1814: RuntimeWarning: invalid value encountered in less_equal\n",
      "  cond2 = cond0 & (x <= self.a)\n"
     ]
    }
   ],
   "source": [
    "table = anova_lm(second_res, fourth_res)\n",
    "print(\"TEST + MINORITY vs. TEST * MINORITY\")\n",
    "print(table)"
   ]
  },
  {
   "cell_type": "markdown",
   "metadata": {},
   "source": [
    "In summary, without taking the several tests into account here, there does seem to be some evidence\n",
    "that the  slope is different within the two groups."
   ]
  },
  {
   "cell_type": "markdown",
   "metadata": {},
   "source": [
    "## Model selection\n",
    "\n",
    "Already with this simple dataset (simpler than the IT salary data) we have 4 competing models. How are we going\n",
    "to arrive at a final model? \n",
    "\n",
    "This highlights the need for *model selection*. We will come to this topic shortly."
   ]
  }
 ],
 "metadata": {
  "kernelspec": {
   "display_name": "Python 3",
   "language": "python",
   "name": "python3"
  },
  "language_info": {
   "codemirror_mode": {
    "name": "ipython",
    "version": 3
   },
   "file_extension": ".py",
   "mimetype": "text/x-python",
   "name": "python",
   "nbconvert_exporter": "python",
   "pygments_lexer": "ipython3",
   "version": "3.6.0"
  }
 },
 "nbformat": 4,
 "nbformat_minor": 2
}
