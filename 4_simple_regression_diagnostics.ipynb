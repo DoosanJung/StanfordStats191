{
 "cells": [
  {
   "cell_type": "markdown",
   "metadata": {},
   "source": [
    "R => Python  \n",
    "Source: https://web.stanford.edu/class/stats191/notebooks/Simple_diagnostics.html\n",
    "\n",
    "NOTE: \n",
    "* Not exactly porting R to Python.\n",
    "* Also not [rpy2](https://rpy2.readthedocs.io/en/version_2.8.x/)"
   ]
  },
  {
   "cell_type": "markdown",
   "metadata": {},
   "source": [
    "# Diagnostics for simple linear regression\n",
    "\n",
    "* Goodness of fit of regression: analysis of variance.\n",
    "\n",
    "* $F$-statistics.\n",
    "\n",
    "* Residuals.\n",
    "\n",
    "* Diagnostic plots."
   ]
  },
  {
   "cell_type": "code",
   "execution_count": 1,
   "metadata": {
    "collapsed": true
   },
   "outputs": [],
   "source": [
    "import numpy as np\n",
    "import pandas as pd\n",
    "import statsmodels.api as sm\n",
    "from statsmodels.formula.api import ols\n",
    "import matplotlib.pyplot as plt\n",
    "from scipy import stats"
   ]
  },
  {
   "cell_type": "markdown",
   "metadata": {},
   "source": [
    "## Geometry of least squares\n",
    "\n",
    "Here are three pictures that help to describe different models we might fit.\n",
    "\n",
    "### The full model\n",
    "\n",
    "<img src=\"http://stats191.stanford.edu/figs/axes_simple_full.svg\" width=\"800\">\n",
    "\n",
    "\n",
    "\n",
    "### The full model\n",
    "\n",
    "* This picture is meant to depict the regression model\n",
    "$$\n",
    "Y = \\beta_0 \\cdot 1 + \\beta_1 \\cdot X + \\epsilon.\n",
    "$$\n",
    "\n",
    "* The $\\beta_0$ coefficient represents movement along the horizontal axis above, labelled $\\pmb{1}$.\n",
    "\n",
    "* The $\\beta_1$ coefficient represents movement along the axis $X$ above.\n",
    "\n",
    "* The vector $\\hat{Y}$ is the vector of fitted values in the above model.\n",
    "\n",
    "### The reduced model\n",
    "\n",
    "<img src=\"http://stats191.stanford.edu/figs/axes_simple_reduced.svg\" width=\"800\">\n",
    "\n",
    "### The reduced model\n",
    "\n",
    "* This picture is meant to depict the regression model\n",
    "$$\n",
    "Y = \\beta_0 \\cdot 1 + \\epsilon.\n",
    "$$\n",
    "\n",
    "* The $\\beta_0$ coefficient represents movement along the horizontal axis above, labelled $\\pmb{1}$.\n",
    "\n",
    "* Since $\\beta_1=0$, we have assumed there is no movement along the $X$ axis.\n",
    "\n",
    "* The vector $\\bar{Y} \\cdot 1$ is the vector of fitted values in the above model.\n",
    "\n",
    "### Both models together\n",
    "\n",
    "<img src=\"http://stats191.stanford.edu/figs/axes_simple.svg\" width=\"600\"> \n",
    "\n",
    "* The above picture tries to capture both models in one image.\n",
    "\n",
    "* There is a new vector: $\\hat{Y} - \\bar{Y} \\cdot \\pmb{1}$. This vector is the difference in fits between the two\n",
    "previous models.\n",
    "\n",
    "\n",
    "## Goodness of fit\n",
    "\n",
    "* The closer $\\hat{Y}$ is to the ${1}$ axis, the less \"variation\" there is along the $X$ axis. \n",
    "\n",
    "* This closeness can be measured by the length of the vector $\\hat{Y}-\\bar{Y} \\cdot 1$.\n",
    "\n",
    "* The square of a vector's length is the sum of its elements squared. These quantities\n",
    "are usually referred to as *sums of squares*.\n",
    "\n",
    "### Sums of squares\n",
    "\n",
    "$$\n",
    "\\begin{aligned}\n",
    "   SSE &= \\sum_{i=1}^n(Y_i - \\widehat{Y}_i)^2 = \\sum_{i=1}^n (Y_i - \\widehat{\\beta}_0 - \\widehat{\\beta}_1 X_i)^2 \\\\\n",
    "   SSR &= \\sum_{i=1}^n(\\overline{Y} - \\widehat{Y}_i)^2 = \\sum_{i=1}^n (\\overline{Y} - \\widehat{\\beta}_0 - \\widehat{\\beta}_1 X_i)^2 \\\\\n",
    "   SST &= \\sum_{i=1}^n(Y_i - \\overline{Y})^2 = SSE + SSR \\\\\n",
    "   R^2 &= \\frac{SSR}{SST} = 1 - \\frac{SSE}{SST} = \\widehat{Cor}(\\pmb{X},\\pmb{Y})^2.\n",
    "   \\end{aligned}\n",
    "$$\n",
    "\n",
    "\n",
    "\n",
    "* The quantity $SSE$, or *error sum of squares*, is the squared length of the vector $Y -  \\hat{Y}$ which protrudes perpendicular to the plane.\n",
    "\n",
    "* The quantity $SSR$, or *regression sum of squares*, is the length of the vector $\\hat{Y} - \\bar{Y} \\cdot 1$.\n",
    "\n",
    "* The quantity $SST$, or *total sum of squares*, is the length of the vector $Y - \\bar{Y} \\cdot 1$.\n",
    "\n",
    "* The quantity $R^2$ is a measure of the goodness of fit of the simple linear regression model. Values near 1 indicate\n",
    "much of the total variability in $Y$ is explained by the regression model.\n",
    "\n",
    "### Mean squares\n",
    "\n",
    "* Each sum of squares gets an extra bit of information associated to them, called their *degrees of freedom*.\n",
    "\n",
    "* Roughly speaking, the *degrees of freedom* can be determined by dimension counting.\n",
    "\n",
    "\n",
    "$$\n",
    "\\begin{aligned}\n",
    "   MSE &= \\frac{1}{n-2}\\sum_{i=1}^n(Y_i - \\widehat{Y}_i)^2 \\\\\n",
    "   MSR &= \\sum_{i=1}^n(\\overline{Y} - \\widehat{Y}_i)^2 \\\\\n",
    "   MST &= \\frac{1}{n-1}\\sum_{i=1}^n(Y_i - \\overline{Y})^2 \\\\\n",
    "   \\end{aligned}\n",
    "$$\n",
    "\n",
    "### Mean squares\n",
    "\n",
    "* The $SSE$ has $n-2$ degrees of freedom  because it is the squared length of a vector that lies in $n-2$ dimensions. To see this, note that it is\n",
    "perpendicular to the 2-dimensional plane formed by the $X$ axis and the $1$ axis.\n",
    "\n",
    "* The $SST$ has $n-1$ degrees of freedom because it is the squared length of a vector that lies in $n-1$ dimensions. In this case, this vector is perpendicular to the $1$ axis.\n",
    "\n",
    "* The $SSR$ has 1 degree of freedom because it is the squared length of a vector that lies in the 2-dimensional plane but is perpendicular to the $1$ axis.\n",
    "\n",
    "\n",
    "\n",
    "### A different visualization\n",
    "\n",
    "These sums of squares can be visualized by other means as well. \n",
    "We will illustrate with a synthetic dataset."
   ]
  },
  {
   "cell_type": "code",
   "execution_count": 2,
   "metadata": {
    "collapsed": false
   },
   "outputs": [
    {
     "data": {
      "text/plain": [
       "array([ 0,  1,  2,  3,  4,  5,  6,  7,  8,  9, 10, 11, 12, 13, 14, 15, 16,\n",
       "       17, 18, 19, 20])"
      ]
     },
     "execution_count": 2,
     "metadata": {},
     "output_type": "execute_result"
    }
   ],
   "source": [
    "X = np.arange(0, 21) # 0 ~ 20\n",
    "X"
   ]
  },
  {
   "cell_type": "code",
   "execution_count": 3,
   "metadata": {
    "collapsed": false
   },
   "outputs": [
    {
     "data": {
      "text/plain": [
       "array([ 0.9824579 ,  2.50790419,  4.03584909,  0.53176357,  3.18005736,\n",
       "        3.85591003,  3.29001339,  4.66663244,  4.10422337,  5.8754233 ,\n",
       "        3.9101014 ,  5.95544515,  6.39828691,  8.09269615,  8.29276367,\n",
       "        7.80159724,  9.38008831, 10.03244281,  9.69660513, 10.39081384,\n",
       "       10.5459067 ])"
      ]
     },
     "execution_count": 3,
     "metadata": {},
     "output_type": "execute_result"
    }
   ],
   "source": [
    "Y = 0.5 * X + 1 + np.random.normal(size=21)\n",
    "Y"
   ]
  },
  {
   "cell_type": "code",
   "execution_count": 4,
   "metadata": {
    "collapsed": false
   },
   "outputs": [
    {
     "data": {
      "text/plain": [
       "array([[1., 0.],\n",
       "       [1., 1.],\n",
       "       [1., 2.],\n",
       "       [1., 3.],\n",
       "       [1., 4.]])"
      ]
     },
     "execution_count": 4,
     "metadata": {},
     "output_type": "execute_result"
    }
   ],
   "source": [
    "X = sm.add_constant(X)\n",
    "X[:5,:]"
   ]
  },
  {
   "cell_type": "code",
   "execution_count": 5,
   "metadata": {
    "collapsed": false
   },
   "outputs": [
    {
     "data": {
      "text/html": [
       "<table class=\"simpletable\">\n",
       "<caption>OLS Regression Results</caption>\n",
       "<tr>\n",
       "  <th>Dep. Variable:</th>            <td>y</td>        <th>  R-squared:         </th> <td>   0.914</td>\n",
       "</tr>\n",
       "<tr>\n",
       "  <th>Model:</th>                   <td>OLS</td>       <th>  Adj. R-squared:    </th> <td>   0.909</td>\n",
       "</tr>\n",
       "<tr>\n",
       "  <th>Method:</th>             <td>Least Squares</td>  <th>  F-statistic:       </th> <td>   201.5</td>\n",
       "</tr>\n",
       "<tr>\n",
       "  <th>Date:</th>             <td>Thu, 13 Jun 2019</td> <th>  Prob (F-statistic):</th> <td>1.44e-11</td>\n",
       "</tr>\n",
       "<tr>\n",
       "  <th>Time:</th>                 <td>16:33:49</td>     <th>  Log-Likelihood:    </th> <td> -27.445</td>\n",
       "</tr>\n",
       "<tr>\n",
       "  <th>No. Observations:</th>      <td>    21</td>      <th>  AIC:               </th> <td>   58.89</td>\n",
       "</tr>\n",
       "<tr>\n",
       "  <th>Df Residuals:</th>          <td>    19</td>      <th>  BIC:               </th> <td>   60.98</td>\n",
       "</tr>\n",
       "<tr>\n",
       "  <th>Df Model:</th>              <td>     1</td>      <th>                     </th>     <td> </td>   \n",
       "</tr>\n",
       "<tr>\n",
       "  <th>Covariance Type:</th>      <td>nonrobust</td>    <th>                     </th>     <td> </td>   \n",
       "</tr>\n",
       "</table>\n",
       "<table class=\"simpletable\">\n",
       "<tr>\n",
       "    <td></td>       <th>coef</th>     <th>std err</th>      <th>t</th>      <th>P>|t|</th>  <th>[0.025</th>    <th>0.975]</th>  \n",
       "</tr>\n",
       "<tr>\n",
       "  <th>const</th> <td>    1.0737</td> <td>    0.396</td> <td>    2.712</td> <td> 0.014</td> <td>    0.245</td> <td>    1.902</td>\n",
       "</tr>\n",
       "<tr>\n",
       "  <th>x1</th>    <td>    0.4809</td> <td>    0.034</td> <td>   14.196</td> <td> 0.000</td> <td>    0.410</td> <td>    0.552</td>\n",
       "</tr>\n",
       "</table>\n",
       "<table class=\"simpletable\">\n",
       "<tr>\n",
       "  <th>Omnibus:</th>       <td> 2.521</td> <th>  Durbin-Watson:     </th> <td>   2.409</td>\n",
       "</tr>\n",
       "<tr>\n",
       "  <th>Prob(Omnibus):</th> <td> 0.284</td> <th>  Jarque-Bera (JB):  </th> <td>   1.004</td>\n",
       "</tr>\n",
       "<tr>\n",
       "  <th>Skew:</th>          <td>-0.418</td> <th>  Prob(JB):          </th> <td>   0.605</td>\n",
       "</tr>\n",
       "<tr>\n",
       "  <th>Kurtosis:</th>      <td> 3.671</td> <th>  Cond. No.          </th> <td>    22.7</td>\n",
       "</tr>\n",
       "</table><br/><br/>Warnings:<br/>[1] Standard Errors assume that the covariance matrix of the errors is correctly specified."
      ],
      "text/plain": [
       "<class 'statsmodels.iolib.summary.Summary'>\n",
       "\"\"\"\n",
       "                            OLS Regression Results                            \n",
       "==============================================================================\n",
       "Dep. Variable:                      y   R-squared:                       0.914\n",
       "Model:                            OLS   Adj. R-squared:                  0.909\n",
       "Method:                 Least Squares   F-statistic:                     201.5\n",
       "Date:                Thu, 13 Jun 2019   Prob (F-statistic):           1.44e-11\n",
       "Time:                        16:33:49   Log-Likelihood:                -27.445\n",
       "No. Observations:                  21   AIC:                             58.89\n",
       "Df Residuals:                      19   BIC:                             60.98\n",
       "Df Model:                           1                                         \n",
       "Covariance Type:            nonrobust                                         \n",
       "==============================================================================\n",
       "                 coef    std err          t      P>|t|      [0.025      0.975]\n",
       "------------------------------------------------------------------------------\n",
       "const          1.0737      0.396      2.712      0.014       0.245       1.902\n",
       "x1             0.4809      0.034     14.196      0.000       0.410       0.552\n",
       "==============================================================================\n",
       "Omnibus:                        2.521   Durbin-Watson:                   2.409\n",
       "Prob(Omnibus):                  0.284   Jarque-Bera (JB):                1.004\n",
       "Skew:                          -0.418   Prob(JB):                        0.605\n",
       "Kurtosis:                       3.671   Cond. No.                         22.7\n",
       "==============================================================================\n",
       "\n",
       "Warnings:\n",
       "[1] Standard Errors assume that the covariance matrix of the errors is correctly specified.\n",
       "\"\"\""
      ]
     },
     "execution_count": 5,
     "metadata": {},
     "output_type": "execute_result"
    }
   ],
   "source": [
    "res = sm.OLS(Y, X).fit()\n",
    "res.summary()"
   ]
  },
  {
   "cell_type": "code",
   "execution_count": 6,
   "metadata": {
    "collapsed": false
   },
   "outputs": [
    {
     "data": {
      "text/plain": [
       "5.882237235458582"
      ]
     },
     "execution_count": 6,
     "metadata": {},
     "output_type": "execute_result"
    }
   ],
   "source": [
    "y_mean = np.mean(Y)\n",
    "y_mean"
   ]
  },
  {
   "cell_type": "code",
   "execution_count": 7,
   "metadata": {
    "collapsed": false
   },
   "outputs": [
    {
     "data": {
      "text/plain": [
       "array([ 1.07369904,  1.55455286,  2.03540668,  2.5162605 ,  2.99711432,\n",
       "        3.47796814,  3.95882196,  4.43967578,  4.9205296 ,  5.40138342,\n",
       "        5.88223724,  6.36309105,  6.84394487,  7.32479869,  7.80565251,\n",
       "        8.28650633,  8.76736015,  9.24821397,  9.72906779, 10.20992161,\n",
       "       10.69077543])"
      ]
     },
     "execution_count": 7,
     "metadata": {},
     "output_type": "execute_result"
    }
   ],
   "source": [
    "y_hat = res.predict()\n",
    "y_hat"
   ]
  },
  {
   "cell_type": "code",
   "execution_count": 8,
   "metadata": {
    "collapsed": false
   },
   "outputs": [
    {
     "data": {
      "image/png": "[encoded data removed]",
      "text/plain": [
       "<matplotlib.figure.Figure at 0x7f330a7d1d68>"
      ]
     },
     "metadata": {},
     "output_type": "display_data"
    }
   ],
   "source": [
    "plt.scatter(X[:,1], Y) # not the constant\n",
    "plt.show()"
   ]
  },
  {
   "cell_type": "code",
   "execution_count": 9,
   "metadata": {
    "collapsed": false
   },
   "outputs": [],
   "source": [
    "y_means = np.repeat(y_mean,len(Y))"
   ]
  },
  {
   "cell_type": "markdown",
   "metadata": {},
   "source": [
    "SST: Total sum of squares"
   ]
  },
  {
   "cell_type": "code",
   "execution_count": 10,
   "metadata": {
    "collapsed": false
   },
   "outputs": [
    {
     "data": {
      "text/plain": [
       "array([[ 0.,  1.,  2.,  3.,  4.,  5.,  6.,  7.,  8.,  9., 10., 11., 12.,\n",
       "        13., 14., 15., 16., 17., 18., 19., 20.],\n",
       "       [ 0.,  1.,  2.,  3.,  4.,  5.,  6.,  7.,  8.,  9., 10., 11., 12.,\n",
       "        13., 14., 15., 16., 17., 18., 19., 20.]])"
      ]
     },
     "execution_count": 10,
     "metadata": {},
     "output_type": "execute_result"
    }
   ],
   "source": [
    "np.vstack((X[:,1], X[:,1]))"
   ]
  },
  {
   "cell_type": "code",
   "execution_count": 11,
   "metadata": {
    "collapsed": false
   },
   "outputs": [
    {
     "data": {
      "text/plain": [
       "array([[ 0.9824579 ,  2.50790419,  4.03584909,  0.53176357,  3.18005736,\n",
       "         3.85591003,  3.29001339,  4.66663244,  4.10422337,  5.8754233 ,\n",
       "         3.9101014 ,  5.95544515,  6.39828691,  8.09269615,  8.29276367,\n",
       "         7.80159724,  9.38008831, 10.03244281,  9.69660513, 10.39081384,\n",
       "        10.5459067 ],\n",
       "       [ 5.88223724,  5.88223724,  5.88223724,  5.88223724,  5.88223724,\n",
       "         5.88223724,  5.88223724,  5.88223724,  5.88223724,  5.88223724,\n",
       "         5.88223724,  5.88223724,  5.88223724,  5.88223724,  5.88223724,\n",
       "         5.88223724,  5.88223724,  5.88223724,  5.88223724,  5.88223724,\n",
       "         5.88223724]])"
      ]
     },
     "execution_count": 11,
     "metadata": {},
     "output_type": "execute_result"
    }
   ],
   "source": [
    "np.vstack((Y,y_means))"
   ]
  },
  {
   "cell_type": "code",
   "execution_count": 12,
   "metadata": {
    "collapsed": false
   },
   "outputs": [
    {
     "data": {
      "image/png": "[encoded data removed]",
      "text/plain": [
       "<matplotlib.figure.Figure at 0x7f3308766898>"
      ]
     },
     "metadata": {},
     "output_type": "display_data"
    }
   ],
   "source": [
    "plt.scatter(X[:,1], Y, color='red', label='data')\n",
    "plt.plot(X[:,1], y_hat, color='green',label='fit')\n",
    "plt.plot(X[:,1], y_means, color='yellow',marker='d',label='mean')\n",
    "\n",
    "plt.plot(np.vstack((X[:,1], X[:,1])), \n",
    "         np.vstack((Y,y_means)),\n",
    "         color='lightgray',\n",
    "         linestyle='-' )\n",
    "\n",
    "plt.title('SST: Total sum of squares')\n",
    "plt.legend()\n",
    "plt.show()"
   ]
  },
  {
   "cell_type": "markdown",
   "metadata": {},
   "source": [
    "SSE: Error sum of squares"
   ]
  },
  {
   "cell_type": "code",
   "execution_count": 13,
   "metadata": {
    "collapsed": false
   },
   "outputs": [
    {
     "data": {
      "text/plain": [
       "array([[ 0.9824579 ,  2.50790419,  4.03584909,  0.53176357,  3.18005736,\n",
       "         3.85591003,  3.29001339,  4.66663244,  4.10422337,  5.8754233 ,\n",
       "         3.9101014 ,  5.95544515,  6.39828691,  8.09269615,  8.29276367,\n",
       "         7.80159724,  9.38008831, 10.03244281,  9.69660513, 10.39081384,\n",
       "        10.5459067 ],\n",
       "       [ 1.07369904,  1.55455286,  2.03540668,  2.5162605 ,  2.99711432,\n",
       "         3.47796814,  3.95882196,  4.43967578,  4.9205296 ,  5.40138342,\n",
       "         5.88223724,  6.36309105,  6.84394487,  7.32479869,  7.80565251,\n",
       "         8.28650633,  8.76736015,  9.24821397,  9.72906779, 10.20992161,\n",
       "        10.69077543]])"
      ]
     },
     "execution_count": 13,
     "metadata": {},
     "output_type": "execute_result"
    }
   ],
   "source": [
    "np.vstack((Y,y_hat))"
   ]
  },
  {
   "cell_type": "code",
   "execution_count": 14,
   "metadata": {
    "collapsed": false
   },
   "outputs": [
    {
     "data": {
      "image/png": "[encoded data removed]",
      "text/plain": [
       "<matplotlib.figure.Figure at 0x7f33085c5400>"
      ]
     },
     "metadata": {},
     "output_type": "display_data"
    }
   ],
   "source": [
    "plt.scatter(X[:,1], Y, color='red', label='data')\n",
    "plt.plot(X[:,1], y_hat, color='green',label='fit')\n",
    "plt.plot(X[:,1], y_means, color='yellow',marker='d',label='mean')\n",
    "\n",
    "plt.plot(np.vstack((X[:,1], X[:,1])), \n",
    "         np.vstack((Y,y_hat)),\n",
    "         color='lightgray',\n",
    "         linestyle='-' )\n",
    "\n",
    "plt.title('SSE: Error sum of squares')\n",
    "plt.legend()\n",
    "plt.show()"
   ]
  },
  {
   "cell_type": "markdown",
   "metadata": {},
   "source": [
    "SSR: Regression sum of squares"
   ]
  },
  {
   "cell_type": "code",
   "execution_count": 15,
   "metadata": {
    "collapsed": false
   },
   "outputs": [
    {
     "data": {
      "text/plain": [
       "array([[ 5.88223724,  5.88223724,  5.88223724,  5.88223724,  5.88223724,\n",
       "         5.88223724,  5.88223724,  5.88223724,  5.88223724,  5.88223724,\n",
       "         5.88223724,  5.88223724,  5.88223724,  5.88223724,  5.88223724,\n",
       "         5.88223724,  5.88223724,  5.88223724,  5.88223724,  5.88223724,\n",
       "         5.88223724],\n",
       "       [ 1.07369904,  1.55455286,  2.03540668,  2.5162605 ,  2.99711432,\n",
       "         3.47796814,  3.95882196,  4.43967578,  4.9205296 ,  5.40138342,\n",
       "         5.88223724,  6.36309105,  6.84394487,  7.32479869,  7.80565251,\n",
       "         8.28650633,  8.76736015,  9.24821397,  9.72906779, 10.20992161,\n",
       "        10.69077543]])"
      ]
     },
     "execution_count": 15,
     "metadata": {},
     "output_type": "execute_result"
    }
   ],
   "source": [
    "np.vstack((y_means, y_hat))"
   ]
  },
  {
   "cell_type": "code",
   "execution_count": 16,
   "metadata": {
    "collapsed": false
   },
   "outputs": [
    {
     "data": {
      "image/png": "[encoded data removed]",
      "text/plain": [
       "<matplotlib.figure.Figure at 0x7f330846d048>"
      ]
     },
     "metadata": {},
     "output_type": "display_data"
    }
   ],
   "source": [
    "plt.scatter(X[:,1], Y, color='red', label='data')\n",
    "plt.plot(X[:,1], y_hat, color='green',label='fit')\n",
    "plt.plot(X[:,1], y_means, color='yellow',marker='d',label='mean')\n",
    "\n",
    "plt.plot(np.vstack((X[:,1], X[:,1])), \n",
    "         np.vstack((y_means, y_hat)),\n",
    "         color='lightgray',\n",
    "         linestyle='-' )\n",
    "\n",
    "plt.title('SSR: Regression sum of squares')\n",
    "plt.legend()\n",
    "plt.show()"
   ]
  },
  {
   "cell_type": "markdown",
   "metadata": {},
   "source": [
    "## Definition of $R^2$\n",
    "\n",
    "As noted above, if the regression model fits very well, then $SSR$ will be\n",
    "large relative to $SST$. The $R^2$ score is just the\n",
    "ratio of these sums of squares.  \n",
    "\n",
    "We'll verify this on the `wages` data."
   ]
  },
  {
   "cell_type": "code",
   "execution_count": 18,
   "metadata": {
    "collapsed": false,
    "scrolled": false
   },
   "outputs": [
    {
     "data": {
      "text/html": [
       "<div>\n",
       "<style scoped>\n",
       "    .dataframe tbody tr th:only-of-type {\n",
       "        vertical-align: middle;\n",
       "    }\n",
       "\n",
       "    .dataframe tbody tr th {\n",
       "        vertical-align: top;\n",
       "    }\n",
       "\n",
       "    .dataframe thead th {\n",
       "        text-align: right;\n",
       "    }\n",
       "</style>\n",
       "<table border=\"1\" class=\"dataframe\">\n",
       "  <thead>\n",
       "    <tr style=\"text-align: right;\">\n",
       "      <th></th>\n",
       "      <th>education</th>\n",
       "      <th>logwage</th>\n",
       "    </tr>\n",
       "  </thead>\n",
       "  <tbody>\n",
       "    <tr>\n",
       "      <th>0</th>\n",
       "      <td>16.750000</td>\n",
       "      <td>2.845000</td>\n",
       "    </tr>\n",
       "    <tr>\n",
       "      <th>1</th>\n",
       "      <td>15.000000</td>\n",
       "      <td>2.446667</td>\n",
       "    </tr>\n",
       "    <tr>\n",
       "      <th>2</th>\n",
       "      <td>10.000000</td>\n",
       "      <td>1.560000</td>\n",
       "    </tr>\n",
       "    <tr>\n",
       "      <th>3</th>\n",
       "      <td>12.666667</td>\n",
       "      <td>2.099167</td>\n",
       "    </tr>\n",
       "    <tr>\n",
       "      <th>4</th>\n",
       "      <td>15.000000</td>\n",
       "      <td>2.490000</td>\n",
       "    </tr>\n",
       "  </tbody>\n",
       "</table>\n",
       "</div>"
      ],
      "text/plain": [
       "   education   logwage\n",
       "0  16.750000  2.845000\n",
       "1  15.000000  2.446667\n",
       "2  10.000000  1.560000\n",
       "3  12.666667  2.099167\n",
       "4  15.000000  2.490000"
      ]
     },
     "execution_count": 18,
     "metadata": {},
     "output_type": "execute_result"
    }
   ],
   "source": [
    "url = \"http://stats191.stanford.edu/data/wage.csv\"\n",
    "data = pd.read_csv(url)\n",
    "data.head()"
   ]
  },
  {
   "cell_type": "code",
   "execution_count": 19,
   "metadata": {
    "collapsed": false
   },
   "outputs": [
    {
     "data": {
      "text/html": [
       "<table class=\"simpletable\">\n",
       "<caption>OLS Regression Results</caption>\n",
       "<tr>\n",
       "  <th>Dep. Variable:</th>         <td>logwage</td>     <th>  R-squared:         </th> <td>   0.135</td>\n",
       "</tr>\n",
       "<tr>\n",
       "  <th>Model:</th>                   <td>OLS</td>       <th>  Adj. R-squared:    </th> <td>   0.135</td>\n",
       "</tr>\n",
       "<tr>\n",
       "  <th>Method:</th>             <td>Least Squares</td>  <th>  F-statistic:       </th> <td>   340.0</td>\n",
       "</tr>\n",
       "<tr>\n",
       "  <th>Date:</th>             <td>Thu, 13 Jun 2019</td> <th>  Prob (F-statistic):</th> <td>1.15e-70</td>\n",
       "</tr>\n",
       "<tr>\n",
       "  <th>Time:</th>                 <td>16:35:19</td>     <th>  Log-Likelihood:    </th> <td> -1114.3</td>\n",
       "</tr>\n",
       "<tr>\n",
       "  <th>No. Observations:</th>      <td>  2178</td>      <th>  AIC:               </th> <td>   2233.</td>\n",
       "</tr>\n",
       "<tr>\n",
       "  <th>Df Residuals:</th>          <td>  2176</td>      <th>  BIC:               </th> <td>   2244.</td>\n",
       "</tr>\n",
       "<tr>\n",
       "  <th>Df Model:</th>              <td>     1</td>      <th>                     </th>     <td> </td>   \n",
       "</tr>\n",
       "<tr>\n",
       "  <th>Covariance Type:</th>      <td>nonrobust</td>    <th>                     </th>     <td> </td>   \n",
       "</tr>\n",
       "</table>\n",
       "<table class=\"simpletable\">\n",
       "<tr>\n",
       "      <td></td>         <th>coef</th>     <th>std err</th>      <th>t</th>      <th>P>|t|</th>  <th>[0.025</th>    <th>0.975]</th>  \n",
       "</tr>\n",
       "<tr>\n",
       "  <th>Intercept</th> <td>    1.2392</td> <td>    0.055</td> <td>   22.541</td> <td> 0.000</td> <td>    1.131</td> <td>    1.347</td>\n",
       "</tr>\n",
       "<tr>\n",
       "  <th>education</th> <td>    0.0786</td> <td>    0.004</td> <td>   18.440</td> <td> 0.000</td> <td>    0.070</td> <td>    0.087</td>\n",
       "</tr>\n",
       "</table>\n",
       "<table class=\"simpletable\">\n",
       "<tr>\n",
       "  <th>Omnibus:</th>       <td>46.662</td> <th>  Durbin-Watson:     </th> <td>   1.769</td>\n",
       "</tr>\n",
       "<tr>\n",
       "  <th>Prob(Omnibus):</th> <td> 0.000</td> <th>  Jarque-Bera (JB):  </th> <td>  59.725</td>\n",
       "</tr>\n",
       "<tr>\n",
       "  <th>Skew:</th>          <td>-0.269</td> <th>  Prob(JB):          </th> <td>1.07e-13</td>\n",
       "</tr>\n",
       "<tr>\n",
       "  <th>Kurtosis:</th>      <td> 3.606</td> <th>  Cond. No.          </th> <td>    82.4</td>\n",
       "</tr>\n",
       "</table><br/><br/>Warnings:<br/>[1] Standard Errors assume that the covariance matrix of the errors is correctly specified."
      ],
      "text/plain": [
       "<class 'statsmodels.iolib.summary.Summary'>\n",
       "\"\"\"\n",
       "                            OLS Regression Results                            \n",
       "==============================================================================\n",
       "Dep. Variable:                logwage   R-squared:                       0.135\n",
       "Model:                            OLS   Adj. R-squared:                  0.135\n",
       "Method:                 Least Squares   F-statistic:                     340.0\n",
       "Date:                Thu, 13 Jun 2019   Prob (F-statistic):           1.15e-70\n",
       "Time:                        16:35:19   Log-Likelihood:                -1114.3\n",
       "No. Observations:                2178   AIC:                             2233.\n",
       "Df Residuals:                    2176   BIC:                             2244.\n",
       "Df Model:                           1                                         \n",
       "Covariance Type:            nonrobust                                         \n",
       "==============================================================================\n",
       "                 coef    std err          t      P>|t|      [0.025      0.975]\n",
       "------------------------------------------------------------------------------\n",
       "Intercept      1.2392      0.055     22.541      0.000       1.131       1.347\n",
       "education      0.0786      0.004     18.440      0.000       0.070       0.087\n",
       "==============================================================================\n",
       "Omnibus:                       46.662   Durbin-Watson:                   1.769\n",
       "Prob(Omnibus):                  0.000   Jarque-Bera (JB):               59.725\n",
       "Skew:                          -0.269   Prob(JB):                     1.07e-13\n",
       "Kurtosis:                       3.606   Cond. No.                         82.4\n",
       "==============================================================================\n",
       "\n",
       "Warnings:\n",
       "[1] Standard Errors assume that the covariance matrix of the errors is correctly specified.\n",
       "\"\"\""
      ]
     },
     "execution_count": 19,
     "metadata": {},
     "output_type": "execute_result"
    }
   ],
   "source": [
    "formula = \"logwage ~ education\"\n",
    "wages_res = ols(formula, data=data).fit()\n",
    "wages_res.summary()"
   ]
  },
  {
   "cell_type": "markdown",
   "metadata": {},
   "source": [
    "Let's verify our claim $SST=SSE+SSR$:"
   ]
  },
  {
   "cell_type": "code",
   "execution_count": 20,
   "metadata": {
    "collapsed": false
   },
   "outputs": [
    {
     "name": "stdout",
     "output_type": "stream",
     "text": [
      "SST      : 410.2148277475004\n",
      "SSE + SSR: 410.2148277475005\n"
     ]
    }
   ],
   "source": [
    "wages_y = data[\"logwage\"]\n",
    "wages_y_mean = np.mean(data[\"logwage\"])\n",
    "wages_y_hat  = wages_res.predict()\n",
    "\n",
    "SST = np.sum(((wages_y - wages_y_mean)**2))\n",
    "SSE = np.sum((wages_res.resid**2))\n",
    "SSR = np.sum(((wages_y_mean - wages_y_hat)**2))\n",
    "print(\"SST      :\", SST)\n",
    "print(\"SSE + SSR:\", (SSE + SSR))"
   ]
  },
  {
   "cell_type": "markdown",
   "metadata": {},
   "source": [
    "The $R^2$ is also closely related to the $F$ statistic\n",
    "reported as the goodness of fit in *summary* of *lm*."
   ]
  },
  {
   "cell_type": "code",
   "execution_count": 21,
   "metadata": {
    "collapsed": false
   },
   "outputs": [
    {
     "data": {
      "text/plain": [
       "340.0296918700755"
      ]
     },
     "execution_count": 21,
     "metadata": {},
     "output_type": "execute_result"
    }
   ],
   "source": [
    "F = (SSR/1) / (SSE/wages_res.df_resid)\n",
    "F"
   ]
  },
  {
   "cell_type": "code",
   "execution_count": 22,
   "metadata": {
    "collapsed": false
   },
   "outputs": [
    {
     "data": {
      "text/plain": [
       "2176.0"
      ]
     },
     "execution_count": 22,
     "metadata": {},
     "output_type": "execute_result"
    }
   ],
   "source": [
    "wages_res.df_resid"
   ]
  },
  {
   "cell_type": "code",
   "execution_count": 23,
   "metadata": {
    "collapsed": false
   },
   "outputs": [
    {
     "data": {
      "text/plain": [
       "0.13514534147541912"
      ]
     },
     "execution_count": 23,
     "metadata": {},
     "output_type": "execute_result"
    }
   ],
   "source": [
    "wages_res.rsquared"
   ]
  },
  {
   "cell_type": "markdown",
   "metadata": {},
   "source": [
    "In other words, for simple linear regression that `F-statistic` is\n",
    "$$\n",
    "F = \\frac{(n-2) \\cdot R^2}{1-R^2}\n",
    "$$\n",
    "where $n-2$ is `wages_res.df_resid`."
   ]
  },
  {
   "cell_type": "code",
   "execution_count": 24,
   "metadata": {
    "collapsed": false
   },
   "outputs": [
    {
     "data": {
      "text/plain": [
       "340.0296918700748"
      ]
     },
     "execution_count": 24,
     "metadata": {},
     "output_type": "execute_result"
    }
   ],
   "source": [
    "(wages_res.df_resid * wages_res.rsquared) / (1 - wages_res.rsquared)"
   ]
  },
  {
   "cell_type": "markdown",
   "metadata": {},
   "source": [
    "Finally,  $R=\\sqrt{R^2}$ is called the (absolute) *correlation coefficient* because it is equal to the absolute value of sample correlation coefficient of $X$ and $Y$."
   ]
  },
  {
   "cell_type": "code",
   "execution_count": 25,
   "metadata": {
    "collapsed": false
   },
   "outputs": [
    {
     "data": {
      "text/html": [
       "<div>\n",
       "<style scoped>\n",
       "    .dataframe tbody tr th:only-of-type {\n",
       "        vertical-align: middle;\n",
       "    }\n",
       "\n",
       "    .dataframe tbody tr th {\n",
       "        vertical-align: top;\n",
       "    }\n",
       "\n",
       "    .dataframe thead th {\n",
       "        text-align: right;\n",
       "    }\n",
       "</style>\n",
       "<table border=\"1\" class=\"dataframe\">\n",
       "  <thead>\n",
       "    <tr style=\"text-align: right;\">\n",
       "      <th></th>\n",
       "      <th>education</th>\n",
       "      <th>logwage</th>\n",
       "    </tr>\n",
       "  </thead>\n",
       "  <tbody>\n",
       "    <tr>\n",
       "      <th>education</th>\n",
       "      <td>1.000000</td>\n",
       "      <td>0.367621</td>\n",
       "    </tr>\n",
       "    <tr>\n",
       "      <th>logwage</th>\n",
       "      <td>0.367621</td>\n",
       "      <td>1.000000</td>\n",
       "    </tr>\n",
       "  </tbody>\n",
       "</table>\n",
       "</div>"
      ],
      "text/plain": [
       "           education   logwage\n",
       "education   1.000000  0.367621\n",
       "logwage     0.367621  1.000000"
      ]
     },
     "execution_count": 25,
     "metadata": {},
     "output_type": "execute_result"
    }
   ],
   "source": [
    "data.corr()"
   ]
  },
  {
   "cell_type": "code",
   "execution_count": 26,
   "metadata": {
    "collapsed": false
   },
   "outputs": [
    {
     "data": {
      "text/plain": [
       "0.13514534147541943"
      ]
     },
     "execution_count": 26,
     "metadata": {},
     "output_type": "execute_result"
    }
   ],
   "source": [
    "(data.corr()[\"logwage\"][\"education\"])**2"
   ]
  },
  {
   "cell_type": "code",
   "execution_count": 27,
   "metadata": {
    "collapsed": false
   },
   "outputs": [
    {
     "data": {
      "text/plain": [
       "0.13514534147541943"
      ]
     },
     "execution_count": 27,
     "metadata": {},
     "output_type": "execute_result"
    }
   ],
   "source": [
    "(data.corr()[\"education\"][\"logwage\"])**2 #symmetric"
   ]
  },
  {
   "cell_type": "markdown",
   "metadata": {},
   "source": [
    "## $F$-statistics"
   ]
  },
  {
   "cell_type": "markdown",
   "metadata": {},
   "source": [
    "After a $t$-statistic, the next most commonly encountered statistic is a $\\chi^2$ statistic, or its closely related cousin,\n",
    "the $F$ statistic.\n",
    "\n",
    "* Roughly speaking, an $F$-statistic is a ratio of *sample variances*: it has a numerator, $N$, \n",
    " and a denominator, $D$ that are independent.\n",
    " \n",
    " *  Let $$N \\sim \\frac{\\chi^2_{\\rm num} }{ df_{{\\rm num}}}, \\qquad D \\sim \\frac{\\chi^2_{\\rm den} }{ df_{{\\rm den}}}$$\n",
    " and define\n",
    " $$\n",
    " F = \\frac{N}{D}.\n",
    " $$\n",
    " \n",
    " * We say $F$ has an $F$ distribution with parameters $df_{{\\rm num}}, df_{{\\rm den}}$ and write $F \\sim F_{df_{{\\rm num}}, df_{{\\rm den}}}$\n",
    "\n",
    "### $F$ statistic for simple linear regression\n",
    "\n",
    "\n",
    "* The ratio $$\n",
    "   F=\\frac{SSR/1}{SSE/(n-2)} = \\frac{(SST-SSE)/1}{SSE/(n-2)} = \\frac{MSR}{MSE}$$\n",
    "   can be thought of as a *ratio of a difference in sums of squares normalized by our \"best estimate\" of variance* .\n",
    "\n",
    "* In fact, under $H_0:\\beta_1=0$, $$\n",
    "   F \\sim F_{1, n-2}\n",
    "   $$\n",
    "because $$\n",
    "   \\begin{aligned}\n",
    "   SSR &= \\|\\hat{Y} - \\bar{Y} \\cdot 1\\|^2 \\\\\n",
    "   SSE &= \\|Y - \\hat{Y}\\|^2\n",
    "   \\end{aligned}\n",
    "   $$\n",
    "   and from our picture, these vectors are orthogonal.\n",
    "   \n",
    "* The null hypothesis $H_0:\\beta_1=0$ implies that $SSR \\sim \\chi^2_1 \\cdot \\sigma^2$.\n",
    "\n",
    "### Relation between $F$ and $t$ statistics.\n",
    "\n",
    "* If $T \\sim t_{\\nu}$, then\n",
    "   $$\n",
    "   T^2 \\sim \\frac{N(0,1)^2}{\\chi^2_{\\nu}/\\nu} \\sim \\frac{\\chi^2_1/1}{\\chi^2_{\\nu}/\\nu}.$$\n",
    "\n",
    "* In other words, the square of a $t$-statistic is an $F$-statistic.\n",
    "   Because it is always positive, an $F$-statistic has no *direction* associated with it.\n",
    " \n",
    "* In fact \n",
    "   $$\n",
    "   F = \\frac{MSR}{MSE} = \\frac{\\widehat{\\beta}_1^2}{SE(\\widehat{\\beta}_1)^2}.$$\n",
    "Let's check this in our example."
   ]
  },
  {
   "cell_type": "code",
   "execution_count": 28,
   "metadata": {
    "collapsed": false
   },
   "outputs": [
    {
     "data": {
      "text/html": [
       "<table class=\"simpletable\">\n",
       "<caption>OLS Regression Results</caption>\n",
       "<tr>\n",
       "  <th>Dep. Variable:</th>         <td>logwage</td>     <th>  R-squared:         </th> <td>   0.135</td>\n",
       "</tr>\n",
       "<tr>\n",
       "  <th>Model:</th>                   <td>OLS</td>       <th>  Adj. R-squared:    </th> <td>   0.135</td>\n",
       "</tr>\n",
       "<tr>\n",
       "  <th>Method:</th>             <td>Least Squares</td>  <th>  F-statistic:       </th> <td>   340.0</td>\n",
       "</tr>\n",
       "<tr>\n",
       "  <th>Date:</th>             <td>Thu, 13 Jun 2019</td> <th>  Prob (F-statistic):</th> <td>1.15e-70</td>\n",
       "</tr>\n",
       "<tr>\n",
       "  <th>Time:</th>                 <td>16:35:19</td>     <th>  Log-Likelihood:    </th> <td> -1114.3</td>\n",
       "</tr>\n",
       "<tr>\n",
       "  <th>No. Observations:</th>      <td>  2178</td>      <th>  AIC:               </th> <td>   2233.</td>\n",
       "</tr>\n",
       "<tr>\n",
       "  <th>Df Residuals:</th>          <td>  2176</td>      <th>  BIC:               </th> <td>   2244.</td>\n",
       "</tr>\n",
       "<tr>\n",
       "  <th>Df Model:</th>              <td>     1</td>      <th>                     </th>     <td> </td>   \n",
       "</tr>\n",
       "<tr>\n",
       "  <th>Covariance Type:</th>      <td>nonrobust</td>    <th>                     </th>     <td> </td>   \n",
       "</tr>\n",
       "</table>\n",
       "<table class=\"simpletable\">\n",
       "<tr>\n",
       "      <td></td>         <th>coef</th>     <th>std err</th>      <th>t</th>      <th>P>|t|</th>  <th>[0.025</th>    <th>0.975]</th>  \n",
       "</tr>\n",
       "<tr>\n",
       "  <th>Intercept</th> <td>    1.2392</td> <td>    0.055</td> <td>   22.541</td> <td> 0.000</td> <td>    1.131</td> <td>    1.347</td>\n",
       "</tr>\n",
       "<tr>\n",
       "  <th>education</th> <td>    0.0786</td> <td>    0.004</td> <td>   18.440</td> <td> 0.000</td> <td>    0.070</td> <td>    0.087</td>\n",
       "</tr>\n",
       "</table>\n",
       "<table class=\"simpletable\">\n",
       "<tr>\n",
       "  <th>Omnibus:</th>       <td>46.662</td> <th>  Durbin-Watson:     </th> <td>   1.769</td>\n",
       "</tr>\n",
       "<tr>\n",
       "  <th>Prob(Omnibus):</th> <td> 0.000</td> <th>  Jarque-Bera (JB):  </th> <td>  59.725</td>\n",
       "</tr>\n",
       "<tr>\n",
       "  <th>Skew:</th>          <td>-0.269</td> <th>  Prob(JB):          </th> <td>1.07e-13</td>\n",
       "</tr>\n",
       "<tr>\n",
       "  <th>Kurtosis:</th>      <td> 3.606</td> <th>  Cond. No.          </th> <td>    82.4</td>\n",
       "</tr>\n",
       "</table><br/><br/>Warnings:<br/>[1] Standard Errors assume that the covariance matrix of the errors is correctly specified."
      ],
      "text/plain": [
       "<class 'statsmodels.iolib.summary.Summary'>\n",
       "\"\"\"\n",
       "                            OLS Regression Results                            \n",
       "==============================================================================\n",
       "Dep. Variable:                logwage   R-squared:                       0.135\n",
       "Model:                            OLS   Adj. R-squared:                  0.135\n",
       "Method:                 Least Squares   F-statistic:                     340.0\n",
       "Date:                Thu, 13 Jun 2019   Prob (F-statistic):           1.15e-70\n",
       "Time:                        16:35:19   Log-Likelihood:                -1114.3\n",
       "No. Observations:                2178   AIC:                             2233.\n",
       "Df Residuals:                    2176   BIC:                             2244.\n",
       "Df Model:                           1                                         \n",
       "Covariance Type:            nonrobust                                         \n",
       "==============================================================================\n",
       "                 coef    std err          t      P>|t|      [0.025      0.975]\n",
       "------------------------------------------------------------------------------\n",
       "Intercept      1.2392      0.055     22.541      0.000       1.131       1.347\n",
       "education      0.0786      0.004     18.440      0.000       0.070       0.087\n",
       "==============================================================================\n",
       "Omnibus:                       46.662   Durbin-Watson:                   1.769\n",
       "Prob(Omnibus):                  0.000   Jarque-Bera (JB):               59.725\n",
       "Skew:                          -0.269   Prob(JB):                     1.07e-13\n",
       "Kurtosis:                       3.606   Cond. No.                         82.4\n",
       "==============================================================================\n",
       "\n",
       "Warnings:\n",
       "[1] Standard Errors assume that the covariance matrix of the errors is correctly specified.\n",
       "\"\"\""
      ]
     },
     "execution_count": 28,
     "metadata": {},
     "output_type": "execute_result"
    }
   ],
   "source": [
    "wages_res.summary()"
   ]
  },
  {
   "cell_type": "markdown",
   "metadata": {},
   "source": [
    "The $t$ statistic for *education* is the $t$-statistic for the parameter $\\beta_1$ under $H_0:\\beta_1=0$. Its value\n",
    "is 18.4 above. If we square it, we should get about the same as the *F-statistic*.\n"
   ]
  },
  {
   "cell_type": "code",
   "execution_count": 29,
   "metadata": {
    "collapsed": false
   },
   "outputs": [
    {
     "data": {
      "text/plain": [
       "340.03360000000004"
      ]
     },
     "execution_count": 29,
     "metadata": {},
     "output_type": "execute_result"
    }
   ],
   "source": [
    "18.44**2"
   ]
  },
  {
   "cell_type": "markdown",
   "metadata": {},
   "source": [
    "### Interpretation of an $F$-statistic\n",
    "\n",
    "* In regression, the numerator is usually a difference in *goodness of fit* of two  (nested) models.\n",
    "\n",
    "* The denominator is $\\hat{\\sigma}^2$ -- an estimate of $\\sigma^2$.\n",
    "\n",
    "* In our example today: the bigger model is the simple linear regression model, the smaller is the model\n",
    " with constant mean (one sample model).\n",
    "\n",
    "* If the $F$ is large, it says that the *bigger*  model explains a lot more variability in $Y$  (relative to $\\sigma^2$) than the smaller one.\n",
    "\n",
    "\n",
    "### Analysis of variance\n",
    "\n",
    "- The equation\n",
    "$$\n",
    "SST = SSE + SSR\n",
    "$$\n",
    "is a *decomposition* of the total variability into separate pieces.\n",
    "\n",
    "- This decomposition is often referred to as an **analysis of variance (ANOVA)**.\n",
    "\n",
    "### Interpretation of an $F$-statistic\n",
    "\n",
    "<img src=\"http://stats191.stanford.edu/figs/axes_simple.svg\" width=\"600\"> \n",
    "\n",
    "* If the null hypothesis is true, $\\hat{Y}$ will be close to $\\bar{Y} \\cdot 1$. \n",
    "\n",
    "* How close? We must compare to the size of the noise, i.e. $\\sigma^2$.\n",
    "\n",
    "* Not knowing $\\sigma^2$, we substitute our estimate $\\hat{\\sigma}^2$.\n",
    "\n",
    "\n",
    "### The $F$-statistic for simple linear regression revisited\n",
    "\n",
    "The $F$ statistic should compare two models. What are these models?\n",
    "\n",
    "* The *full model* would be\n",
    "$$\n",
    "(FM) \\qquad  Y_i = \\beta_0 + \\beta_1 X_i + \\varepsilon_i \n",
    "$$\n",
    "\n",
    "* The *reduced model* would be\n",
    "$$\n",
    "(RM) \\qquad  Y_i = \\beta_0 + \\varepsilon_i \n",
    "$$\n",
    "\n",
    "* The $F$-statistic then has the form\n",
    "$$\n",
    "F=\\frac{(SSE(RM) - SSE(FM)) / (df_{RM} - df_{FM})}{SSE(FM) / df_{FM}}\n",
    "$$\n",
    "\n",
    "\n",
    "### The $F$-statistic for simple linear regression revisited\n",
    "\n",
    "* The *null hypothesis* is \n",
    "$$\n",
    "H_0: \\text{reduced model (RM) is correct}.\n",
    "$$\n",
    "\n",
    "* The usual $\\alpha$ rejection rule would be to reject $H_0$ if the $F_{\\text{obs}}$ the  observed $F$ statistic is greater than\n",
    "$F_{1,n-2,1-\\alpha}$. \n",
    "\n",
    "* In our case, the observed $F$ was 340, $n-2=2176$ and the appropriate 5% threshold is computed below to be 3.85. Therefore, we strongly\n",
    "reject $H_0$."
   ]
  },
  {
   "cell_type": "code",
   "execution_count": 30,
   "metadata": {
    "collapsed": false
   },
   "outputs": [
    {
     "data": {
      "text/plain": [
       "3.8457358464718414"
      ]
     },
     "execution_count": 30,
     "metadata": {},
     "output_type": "execute_result"
    }
   ],
   "source": [
    "stats.f.ppf(0.95, 1, 2176)"
   ]
  },
  {
   "cell_type": "markdown",
   "metadata": {},
   "source": [
    "## Diagnostics for simple linear regression\n",
    "\n",
    "While we have used a particular model for our data, it may not be correct. It is important that we have\n",
    "some tools that help us determine whether or model is reasonable or not.\n",
    "\n",
    "\n",
    "### What can go wrong?\n",
    "\n",
    "* Using a linear regression function can be wrong: maybe regression function should be quadratic.\n",
    "\n",
    "* We assumed independent Gaussian errors with the same variance. This may be incorrect.\n",
    "    - The errors may not be normally distributed.\n",
    "    - The errors may not be independent.\n",
    "    - The errors may not have the same variance.\n",
    "    \n",
    "* Detecting problems is more *art* then *science*, i.e.\n",
    "   we cannot *test* for all possible problems in a regression model.\n",
    "   \n",
    "The basic idea of most diagnostic measures is the following. *If the model is correct then\n",
    "   residuals $e_i = Y_i -\\widehat{Y}_i, 1 \\leq i \\leq n$ should look like a sample of\n",
    "   (not quite independent) $N(0, \\sigma^2)$ random variables.*"
   ]
  },
  {
   "cell_type": "markdown",
   "metadata": {},
   "source": [
    "### A poorly fitting model\n",
    "\n",
    "Here is an example of a poorly fitting model. It will turn out that there is a simple fix for this dataset: a model that\n",
    "includes a quadratic term for $X$ will turn out to have a much better fit. Finding this\n",
    "fix in practice can be difficult."
   ]
  },
  {
   "cell_type": "code",
   "execution_count": 31,
   "metadata": {
    "collapsed": false
   },
   "outputs": [
    {
     "name": "stderr",
     "output_type": "stream",
     "text": [
      "/home/doojung/anaconda3/lib/python3.6/site-packages/ipykernel/__main__.py:2: FutureWarning: read_table is deprecated, use read_csv instead.\n",
      "  from ipykernel import kernelapp as app\n"
     ]
    },
    {
     "data": {
      "text/html": [
       "<div>\n",
       "<style scoped>\n",
       "    .dataframe tbody tr th:only-of-type {\n",
       "        vertical-align: middle;\n",
       "    }\n",
       "\n",
       "    .dataframe tbody tr th {\n",
       "        vertical-align: top;\n",
       "    }\n",
       "\n",
       "    .dataframe thead th {\n",
       "        text-align: right;\n",
       "    }\n",
       "</style>\n",
       "<table border=\"1\" class=\"dataframe\">\n",
       "  <thead>\n",
       "    <tr style=\"text-align: right;\">\n",
       "      <th></th>\n",
       "      <th>Y1</th>\n",
       "      <th>X1</th>\n",
       "      <th>Y2</th>\n",
       "      <th>X2</th>\n",
       "      <th>Y3</th>\n",
       "      <th>X3</th>\n",
       "      <th>Y4</th>\n",
       "      <th>X4</th>\n",
       "    </tr>\n",
       "  </thead>\n",
       "  <tbody>\n",
       "    <tr>\n",
       "      <th>0</th>\n",
       "      <td>8.04</td>\n",
       "      <td>10</td>\n",
       "      <td>9.14</td>\n",
       "      <td>10</td>\n",
       "      <td>7.46</td>\n",
       "      <td>10</td>\n",
       "      <td>6.58</td>\n",
       "      <td>8</td>\n",
       "    </tr>\n",
       "    <tr>\n",
       "      <th>1</th>\n",
       "      <td>6.95</td>\n",
       "      <td>8</td>\n",
       "      <td>8.14</td>\n",
       "      <td>8</td>\n",
       "      <td>6.77</td>\n",
       "      <td>8</td>\n",
       "      <td>5.76</td>\n",
       "      <td>8</td>\n",
       "    </tr>\n",
       "    <tr>\n",
       "      <th>2</th>\n",
       "      <td>7.58</td>\n",
       "      <td>13</td>\n",
       "      <td>8.74</td>\n",
       "      <td>13</td>\n",
       "      <td>12.74</td>\n",
       "      <td>13</td>\n",
       "      <td>7.71</td>\n",
       "      <td>8</td>\n",
       "    </tr>\n",
       "    <tr>\n",
       "      <th>3</th>\n",
       "      <td>8.81</td>\n",
       "      <td>9</td>\n",
       "      <td>8.77</td>\n",
       "      <td>9</td>\n",
       "      <td>7.11</td>\n",
       "      <td>9</td>\n",
       "      <td>8.84</td>\n",
       "      <td>8</td>\n",
       "    </tr>\n",
       "    <tr>\n",
       "      <th>4</th>\n",
       "      <td>8.33</td>\n",
       "      <td>11</td>\n",
       "      <td>9.26</td>\n",
       "      <td>11</td>\n",
       "      <td>7.81</td>\n",
       "      <td>11</td>\n",
       "      <td>8.47</td>\n",
       "      <td>8</td>\n",
       "    </tr>\n",
       "  </tbody>\n",
       "</table>\n",
       "</div>"
      ],
      "text/plain": [
       "     Y1  X1    Y2  X2     Y3  X3    Y4  X4\n",
       "0  8.04  10  9.14  10   7.46  10  6.58   8\n",
       "1  6.95   8  8.14   8   6.77   8  5.76   8\n",
       "2  7.58  13  8.74  13  12.74  13  7.71   8\n",
       "3  8.81   9  8.77   9   7.11   9  8.84   8\n",
       "4  8.33  11  9.26  11   7.81  11  8.47   8"
      ]
     },
     "execution_count": 31,
     "metadata": {},
     "output_type": "execute_result"
    }
   ],
   "source": [
    "url = 'http://web.stanford.edu/class/stats191/data/anscombe.table'\n",
    "data = pd.read_table(url, sep='\\t')\n",
    "data.head()"
   ]
  },
  {
   "cell_type": "code",
   "execution_count": 32,
   "metadata": {
    "collapsed": false
   },
   "outputs": [],
   "source": [
    "data=data.sort_values('X2')\n",
    "data=data.reset_index(drop=True)\n",
    "e = np.random.normal(size=len(data.Y2))\n",
    "y = data.Y2 + e\n",
    "x = data.X2"
   ]
  },
  {
   "cell_type": "code",
   "execution_count": 33,
   "metadata": {
    "collapsed": false
   },
   "outputs": [
    {
     "data": {
      "text/plain": [
       "0      3.448432\n",
       "1      3.988153\n",
       "2      6.235860\n",
       "3      8.833585\n",
       "4      7.127407\n",
       "5     11.805971\n",
       "6      9.520312\n",
       "7      9.629122\n",
       "8     11.023605\n",
       "9      8.757510\n",
       "10     6.929376\n",
       "Name: Y2, dtype: float64"
      ]
     },
     "execution_count": 33,
     "metadata": {},
     "output_type": "execute_result"
    }
   ],
   "source": [
    "y"
   ]
  },
  {
   "cell_type": "code",
   "execution_count": 34,
   "metadata": {
    "collapsed": false
   },
   "outputs": [
    {
     "data": {
      "text/plain": [
       "0      4\n",
       "1      5\n",
       "2      6\n",
       "3      7\n",
       "4      8\n",
       "5      9\n",
       "6     10\n",
       "7     11\n",
       "8     12\n",
       "9     13\n",
       "10    14\n",
       "Name: X2, dtype: int64"
      ]
     },
     "execution_count": 34,
     "metadata": {},
     "output_type": "execute_result"
    }
   ],
   "source": [
    "x"
   ]
  },
  {
   "cell_type": "code",
   "execution_count": 35,
   "metadata": {
    "collapsed": false
   },
   "outputs": [
    {
     "name": "stderr",
     "output_type": "stream",
     "text": [
      "/home/doojung/anaconda3/lib/python3.6/site-packages/numpy/core/fromnumeric.py:2389: FutureWarning: Method .ptp is deprecated and will be removed in a future version. Use numpy.ptp instead.\n",
      "  return ptp(axis=axis, out=out, **kwargs)\n"
     ]
    }
   ],
   "source": [
    "x = sm.add_constant(x) "
   ]
  },
  {
   "cell_type": "code",
   "execution_count": 36,
   "metadata": {
    "collapsed": false
   },
   "outputs": [
    {
     "name": "stdout",
     "output_type": "stream",
     "text": [
      "                            OLS Regression Results                            \n",
      "==============================================================================\n",
      "Dep. Variable:                     Y2   R-squared:                       0.381\n",
      "Model:                            OLS   Adj. R-squared:                  0.313\n",
      "Method:                 Least Squares   F-statistic:                     5.550\n",
      "Date:                Thu, 13 Jun 2019   Prob (F-statistic):             0.0429\n",
      "Time:                        16:35:19   Log-Likelihood:                -23.273\n",
      "No. Observations:                  11   AIC:                             50.55\n",
      "Df Residuals:                       9   BIC:                             51.34\n",
      "Df Model:                           1                                         \n",
      "Covariance Type:            nonrobust                                         \n",
      "==============================================================================\n",
      "                 coef    std err          t      P>|t|      [0.025      0.975]\n",
      "------------------------------------------------------------------------------\n",
      "const          3.4503      2.018      1.709      0.122      -1.116       8.016\n",
      "X2             0.4984      0.212      2.356      0.043       0.020       0.977\n",
      "==============================================================================\n",
      "Omnibus:                        0.050   Durbin-Watson:                   1.163\n",
      "Prob(Omnibus):                  0.975   Jarque-Bera (JB):                0.194\n",
      "Skew:                           0.118   Prob(JB):                        0.908\n",
      "Kurtosis:                       2.394   Cond. No.                         29.1\n",
      "==============================================================================\n",
      "\n",
      "Warnings:\n",
      "[1] Standard Errors assume that the covariance matrix of the errors is correctly specified.\n"
     ]
    },
    {
     "name": "stderr",
     "output_type": "stream",
     "text": [
      "/home/doojung/anaconda3/lib/python3.6/site-packages/scipy/stats/stats.py:1327: UserWarning: kurtosistest only valid for n>=20 ... continuing anyway, n=11\n",
      "  \"anyway, n=%i\" % int(n))\n"
     ]
    }
   ],
   "source": [
    "ols_model = sm.OLS(y, x)\n",
    "res_ols = ols_model.fit()\n",
    "print(res_ols.summary())"
   ]
  },
  {
   "cell_type": "code",
   "execution_count": 37,
   "metadata": {
    "collapsed": false
   },
   "outputs": [
    {
     "data": {
      "image/png": "[encoded data removed]",
      "text/plain": [
       "<matplotlib.figure.Figure at 0x7f33086692b0>"
      ]
     },
     "metadata": {},
     "output_type": "display_data"
    }
   ],
   "source": [
    "plt.scatter(x.X2, y, marker='o',label='data', color='orange')\n",
    "plt.gca().set_xlabel('X')\n",
    "plt.gca().set_ylabel('Y')\n",
    "y_pred = res_ols.predict()\n",
    "\n",
    "plt.plot(x.X2, y_pred, '--', color = 'red',label='fit')\n",
    "plt.legend()\n",
    "plt.show()"
   ]
  },
  {
   "cell_type": "markdown",
   "metadata": {},
   "source": [
    "Let's take a look at the residuals from this model. Patterns in these residual plots may suggest something like a quadratic effect is missing, but they can also suggest some sort of serial dependence in the random errors. We will discuss this later, when we discuss correlated-errors.\n"
   ]
  },
  {
   "cell_type": "code",
   "execution_count": 38,
   "metadata": {
    "collapsed": false
   },
   "outputs": [
    {
     "data": {
      "image/png": "[encoded data removed]",
      "text/plain": [
       "<matplotlib.figure.Figure at 0x7f330862fcc0>"
      ]
     },
     "metadata": {},
     "output_type": "display_data"
    }
   ],
   "source": [
    "plt.scatter(x.X2, res_ols.resid, marker='o',label='data', color='orange')\n",
    "plt.axhline(0, color='red', linestyle='--')\n",
    "\n",
    "plt.gca().set_ylabel('Residual')\n",
    "plt.gca().set_xlabel('X')\n",
    "\n",
    "plt.show()"
   ]
  },
  {
   "cell_type": "markdown",
   "metadata": {},
   "source": [
    "We will add a quadratic term to our model. This is our first example of a *multiple linear regression model*.\n"
   ]
  },
  {
   "cell_type": "code",
   "execution_count": 39,
   "metadata": {
    "collapsed": false
   },
   "outputs": [
    {
     "data": {
      "text/html": [
       "<div>\n",
       "<style scoped>\n",
       "    .dataframe tbody tr th:only-of-type {\n",
       "        vertical-align: middle;\n",
       "    }\n",
       "\n",
       "    .dataframe tbody tr th {\n",
       "        vertical-align: top;\n",
       "    }\n",
       "\n",
       "    .dataframe thead th {\n",
       "        text-align: right;\n",
       "    }\n",
       "</style>\n",
       "<table border=\"1\" class=\"dataframe\">\n",
       "  <thead>\n",
       "    <tr style=\"text-align: right;\">\n",
       "      <th></th>\n",
       "      <th>const</th>\n",
       "      <th>X2</th>\n",
       "      <th>X2^2</th>\n",
       "    </tr>\n",
       "  </thead>\n",
       "  <tbody>\n",
       "    <tr>\n",
       "      <th>0</th>\n",
       "      <td>1.0</td>\n",
       "      <td>4</td>\n",
       "      <td>16</td>\n",
       "    </tr>\n",
       "    <tr>\n",
       "      <th>1</th>\n",
       "      <td>1.0</td>\n",
       "      <td>5</td>\n",
       "      <td>25</td>\n",
       "    </tr>\n",
       "    <tr>\n",
       "      <th>2</th>\n",
       "      <td>1.0</td>\n",
       "      <td>6</td>\n",
       "      <td>36</td>\n",
       "    </tr>\n",
       "    <tr>\n",
       "      <th>3</th>\n",
       "      <td>1.0</td>\n",
       "      <td>7</td>\n",
       "      <td>49</td>\n",
       "    </tr>\n",
       "    <tr>\n",
       "      <th>4</th>\n",
       "      <td>1.0</td>\n",
       "      <td>8</td>\n",
       "      <td>64</td>\n",
       "    </tr>\n",
       "    <tr>\n",
       "      <th>5</th>\n",
       "      <td>1.0</td>\n",
       "      <td>9</td>\n",
       "      <td>81</td>\n",
       "    </tr>\n",
       "    <tr>\n",
       "      <th>6</th>\n",
       "      <td>1.0</td>\n",
       "      <td>10</td>\n",
       "      <td>100</td>\n",
       "    </tr>\n",
       "    <tr>\n",
       "      <th>7</th>\n",
       "      <td>1.0</td>\n",
       "      <td>11</td>\n",
       "      <td>121</td>\n",
       "    </tr>\n",
       "    <tr>\n",
       "      <th>8</th>\n",
       "      <td>1.0</td>\n",
       "      <td>12</td>\n",
       "      <td>144</td>\n",
       "    </tr>\n",
       "    <tr>\n",
       "      <th>9</th>\n",
       "      <td>1.0</td>\n",
       "      <td>13</td>\n",
       "      <td>169</td>\n",
       "    </tr>\n",
       "    <tr>\n",
       "      <th>10</th>\n",
       "      <td>1.0</td>\n",
       "      <td>14</td>\n",
       "      <td>196</td>\n",
       "    </tr>\n",
       "  </tbody>\n",
       "</table>\n",
       "</div>"
      ],
      "text/plain": [
       "    const  X2  X2^2\n",
       "0     1.0   4    16\n",
       "1     1.0   5    25\n",
       "2     1.0   6    36\n",
       "3     1.0   7    49\n",
       "4     1.0   8    64\n",
       "5     1.0   9    81\n",
       "6     1.0  10   100\n",
       "7     1.0  11   121\n",
       "8     1.0  12   144\n",
       "9     1.0  13   169\n",
       "10    1.0  14   196"
      ]
     },
     "execution_count": 39,
     "metadata": {},
     "output_type": "execute_result"
    }
   ],
   "source": [
    "x[\"X2^2\"] = data.X2**2\n",
    "x"
   ]
  },
  {
   "cell_type": "code",
   "execution_count": 40,
   "metadata": {
    "collapsed": false
   },
   "outputs": [
    {
     "name": "stdout",
     "output_type": "stream",
     "text": [
      "                            OLS Regression Results                            \n",
      "==============================================================================\n",
      "Dep. Variable:                     Y2   R-squared:                       0.818\n",
      "Model:                            OLS   Adj. R-squared:                  0.772\n",
      "Method:                 Least Squares   F-statistic:                     17.95\n",
      "Date:                Thu, 13 Jun 2019   Prob (F-statistic):            0.00110\n",
      "Time:                        16:35:20   Log-Likelihood:                -16.550\n",
      "No. Observations:                  11   AIC:                             39.10\n",
      "Df Residuals:                       8   BIC:                             40.29\n",
      "Df Model:                           2                                         \n",
      "Covariance Type:            nonrobust                                         \n",
      "==============================================================================\n",
      "                 coef    std err          t      P>|t|      [0.025      0.975]\n",
      "------------------------------------------------------------------------------\n",
      "const        -10.1029      3.307     -3.055      0.016     -17.729      -2.477\n",
      "X2             3.9345      0.794      4.953      0.001       2.103       5.766\n",
      "X2^2          -0.1909      0.044     -4.377      0.002      -0.291      -0.090\n",
      "==============================================================================\n",
      "Omnibus:                        0.061   Durbin-Watson:                   3.103\n",
      "Prob(Omnibus):                  0.970   Jarque-Bera (JB):                0.192\n",
      "Skew:                           0.128   Prob(JB):                        0.908\n",
      "Kurtosis:                       2.405   Cond. No.                         954.\n",
      "==============================================================================\n",
      "\n",
      "Warnings:\n",
      "[1] Standard Errors assume that the covariance matrix of the errors is correctly specified.\n"
     ]
    },
    {
     "name": "stderr",
     "output_type": "stream",
     "text": [
      "/home/doojung/anaconda3/lib/python3.6/site-packages/scipy/stats/stats.py:1327: UserWarning: kurtosistest only valid for n>=20 ... continuing anyway, n=11\n",
      "  \"anyway, n=%i\" % int(n))\n"
     ]
    }
   ],
   "source": [
    "quad_ols_model = sm.OLS(y, x)\n",
    "res_quad_ols = quad_ols_model.fit()\n",
    "print(res_quad_ols.summary())"
   ]
  },
  {
   "cell_type": "code",
   "execution_count": 41,
   "metadata": {
    "collapsed": false
   },
   "outputs": [
    {
     "data": {
      "image/png": "[encoded data removed]",
      "text/plain": [
       "<matplotlib.figure.Figure at 0x7f3308328f28>"
      ]
     },
     "metadata": {},
     "output_type": "display_data"
    }
   ],
   "source": [
    "plt.scatter(x.X2, y, marker='o',label='data', color='orange')\n",
    "plt.gca().set_xlabel('X')\n",
    "plt.gca().set_ylabel('Y')\n",
    "quad_y_pred = res_quad_ols.predict()\n",
    "\n",
    "plt.plot(x.X2, quad_y_pred, '--', color = 'red',label='fit')\n",
    "plt.legend()\n",
    "plt.show()"
   ]
  },
  {
   "cell_type": "markdown",
   "metadata": {},
   "source": [
    "The residuals of the quadratic model have no apparent pattern in them, suggesting this is a better fit than the simple linear regression model.\n"
   ]
  },
  {
   "cell_type": "code",
   "execution_count": 42,
   "metadata": {
    "collapsed": false
   },
   "outputs": [
    {
     "data": {
      "image/png": "[encoded data removed]",
      "text/plain": [
       "<matplotlib.figure.Figure at 0x7f330600fc50>"
      ]
     },
     "metadata": {},
     "output_type": "display_data"
    }
   ],
   "source": [
    "plt.scatter(x.X2, res_quad_ols.resid, marker='o',label='data', color='orange')\n",
    "plt.axhline(0,color='red', linestyle='--')\n",
    "\n",
    "plt.gca().set_ylabel('Residual')\n",
    "plt.gca().set_xlabel('X')\n",
    "\n",
    "plt.show()"
   ]
  },
  {
   "cell_type": "markdown",
   "metadata": {},
   "source": [
    "### Assessing normality of errors\n",
    "\n",
    "Another common diagnostic plot is the *qqplot* where *qq* stands for *Quantile-Quantile*. Roughly speaking, a qqplot is designed to see if the quantiles of two distributions match. \n",
    "\n",
    "* The function *qqnorm* can be used to ascertain if a sample of numbers are roughly normally distributed. If the points lie on the diagonal line, this is evidence that the sample is normally distributed. Various departures from the diagonal indicate skewness, asymmetry, etc.\n",
    "\n",
    "* If $e_i, 1\\leq i \\leq n$ were really a sample of\n",
    "$N(0, \\sigma^2)$ then their sample quantiles should be close to the\n",
    "sample quantiles of the $N(0, \\sigma^2)$ distribution.\n",
    "\n",
    "The $qqnorm$ plot is a plot of\n",
    "   $$\n",
    "   e_{(i)}  \\ {\\rm vs.} \\  \\mathbb{E}(\\varepsilon_{(i)}), \\qquad 1 \\leq i \\leq n.$$\n",
    "   where $e_{(i)}$ is the $i$-th smallest residual (order statistic) and\n",
    "   $\\mathbb{E}(\\varepsilon_{(i)})$ is the expected value for independent $\\varepsilon_i$'s $\\sim N(0,\\sigma^2)$.\n"
   ]
  },
  {
   "cell_type": "code",
   "execution_count": 43,
   "metadata": {
    "collapsed": false
   },
   "outputs": [
    {
     "data": {
      "image/png": "[encoded data removed]",
      "text/plain": [
       "<matplotlib.figure.Figure at 0x7f3305f365f8>"
      ]
     },
     "metadata": {},
     "output_type": "display_data"
    }
   ],
   "source": [
    "fig, axs = plt.subplots(1,2)\n",
    "fig.set_figwidth(10)\n",
    "\n",
    "stats.probplot(res_ols.resid,      plot=axs[0])\n",
    "stats.probplot(res_quad_ols.resid, plot=axs[1])\n",
    "\n",
    "axs[0].set_title(axs[0].get_title() + ': linear' )\n",
    "axs[1].set_title(axs[1].get_title() + ': quadratic' )\n",
    "\n",
    "plt.show()"
   ]
  },
  {
   "cell_type": "markdown",
   "metadata": {},
   "source": [
    "In these two examples, the qqplot does not seem vastly different, even though we know the simple model is incorrect in this case. This indicates that several diagnostic tools can be useful in assessing a model."
   ]
  },
  {
   "cell_type": "markdown",
   "metadata": {},
   "source": [
    "### Assessing constant variance assumption\n",
    "\n",
    "One plot that is sometimes used to determine whether the variance is constant or not is a plot of \n",
    "$X$ against $e=Y-\\hat{Y}$. If there is a pattern to the spread in this plot, it may indicate that the variance\n",
    "changes as a function of $X$. In our earlier plots, we noticed a trend in this plot, not necessarily\n",
    "evidence of changing variance.\n",
    "\n",
    "The dataset below, taken from some work done with Dr. Robert Shafer here at Stanford http://hivdb.stanford.edu, plots HIV virus load against a score related to the the genetic makeup of a patientâ€™s virus shows clear non-constant variance. It also provides a clear example of an outlier, or a point that is a clear departure from the model.\n"
   ]
  },
  {
   "cell_type": "code",
   "execution_count": 44,
   "metadata": {
    "collapsed": false
   },
   "outputs": [
    {
     "name": "stderr",
     "output_type": "stream",
     "text": [
      "/home/doojung/anaconda3/lib/python3.6/site-packages/ipykernel/__main__.py:2: FutureWarning: read_table is deprecated, use read_csv instead.\n",
      "  from ipykernel import kernelapp as app\n"
     ]
    },
    {
     "data": {
      "text/html": [
       "<div>\n",
       "<style scoped>\n",
       "    .dataframe tbody tr th:only-of-type {\n",
       "        vertical-align: middle;\n",
       "    }\n",
       "\n",
       "    .dataframe tbody tr th {\n",
       "        vertical-align: top;\n",
       "    }\n",
       "\n",
       "    .dataframe thead th {\n",
       "        text-align: right;\n",
       "    }\n",
       "</style>\n",
       "<table border=\"1\" class=\"dataframe\">\n",
       "  <thead>\n",
       "    <tr style=\"text-align: right;\">\n",
       "      <th></th>\n",
       "      <th>GSS</th>\n",
       "      <th>VL</th>\n",
       "    </tr>\n",
       "  </thead>\n",
       "  <tbody>\n",
       "    <tr>\n",
       "      <th>0</th>\n",
       "      <td>4.0</td>\n",
       "      <td>40406</td>\n",
       "    </tr>\n",
       "    <tr>\n",
       "      <th>1</th>\n",
       "      <td>13.4</td>\n",
       "      <td>2603</td>\n",
       "    </tr>\n",
       "    <tr>\n",
       "      <th>2</th>\n",
       "      <td>7.4</td>\n",
       "      <td>55246</td>\n",
       "    </tr>\n",
       "    <tr>\n",
       "      <th>3</th>\n",
       "      <td>2.7</td>\n",
       "      <td>22257</td>\n",
       "    </tr>\n",
       "    <tr>\n",
       "      <th>4</th>\n",
       "      <td>13.5</td>\n",
       "      <td>400</td>\n",
       "    </tr>\n",
       "  </tbody>\n",
       "</table>\n",
       "</div>"
      ],
      "text/plain": [
       "    GSS     VL\n",
       "0   4.0  40406\n",
       "1  13.4   2603\n",
       "2   7.4  55246\n",
       "3   2.7  22257\n",
       "4  13.5    400"
      ]
     },
     "execution_count": 44,
     "metadata": {},
     "output_type": "execute_result"
    }
   ],
   "source": [
    "url = 'http://stats191.stanford.edu/data/HIV.VL.table'\n",
    "data = pd.read_table(url, sep=' ')\n",
    "data.head()"
   ]
  },
  {
   "cell_type": "code",
   "execution_count": 45,
   "metadata": {
    "collapsed": false
   },
   "outputs": [
    {
     "data": {
      "text/html": [
       "<table class=\"simpletable\">\n",
       "<caption>OLS Regression Results</caption>\n",
       "<tr>\n",
       "  <th>Dep. Variable:</th>           <td>VL</td>        <th>  R-squared:         </th> <td>   0.016</td>\n",
       "</tr>\n",
       "<tr>\n",
       "  <th>Model:</th>                   <td>OLS</td>       <th>  Adj. R-squared:    </th> <td>  -0.006</td>\n",
       "</tr>\n",
       "<tr>\n",
       "  <th>Method:</th>             <td>Least Squares</td>  <th>  F-statistic:       </th> <td>  0.7357</td>\n",
       "</tr>\n",
       "<tr>\n",
       "  <th>Date:</th>             <td>Thu, 13 Jun 2019</td> <th>  Prob (F-statistic):</th>  <td> 0.396</td> \n",
       "</tr>\n",
       "<tr>\n",
       "  <th>Time:</th>                 <td>16:35:22</td>     <th>  Log-Likelihood:    </th> <td> -574.33</td>\n",
       "</tr>\n",
       "<tr>\n",
       "  <th>No. Observations:</th>      <td>    47</td>      <th>  AIC:               </th> <td>   1153.</td>\n",
       "</tr>\n",
       "<tr>\n",
       "  <th>Df Residuals:</th>          <td>    45</td>      <th>  BIC:               </th> <td>   1156.</td>\n",
       "</tr>\n",
       "<tr>\n",
       "  <th>Df Model:</th>              <td>     1</td>      <th>                     </th>     <td> </td>   \n",
       "</tr>\n",
       "<tr>\n",
       "  <th>Covariance Type:</th>      <td>nonrobust</td>    <th>                     </th>     <td> </td>   \n",
       "</tr>\n",
       "</table>\n",
       "<table class=\"simpletable\">\n",
       "<tr>\n",
       "      <td></td>         <th>coef</th>     <th>std err</th>      <th>t</th>      <th>P>|t|</th>  <th>[0.025</th>    <th>0.975]</th>  \n",
       "</tr>\n",
       "<tr>\n",
       "  <th>Intercept</th> <td> 1.352e+04</td> <td> 1.72e+04</td> <td>    0.786</td> <td> 0.436</td> <td>-2.11e+04</td> <td> 4.82e+04</td>\n",
       "</tr>\n",
       "<tr>\n",
       "  <th>GSS</th>       <td> 1691.0926</td> <td> 1971.565</td> <td>    0.858</td> <td> 0.396</td> <td>-2279.843</td> <td> 5662.028</td>\n",
       "</tr>\n",
       "</table>\n",
       "<table class=\"simpletable\">\n",
       "<tr>\n",
       "  <th>Omnibus:</th>       <td>75.489</td> <th>  Durbin-Watson:     </th> <td>   2.248</td> \n",
       "</tr>\n",
       "<tr>\n",
       "  <th>Prob(Omnibus):</th> <td> 0.000</td> <th>  Jarque-Bera (JB):  </th> <td> 958.473</td> \n",
       "</tr>\n",
       "<tr>\n",
       "  <th>Skew:</th>          <td> 4.174</td> <th>  Prob(JB):          </th> <td>7.42e-209</td>\n",
       "</tr>\n",
       "<tr>\n",
       "  <th>Kurtosis:</th>      <td>23.488</td> <th>  Cond. No.          </th> <td>    20.8</td> \n",
       "</tr>\n",
       "</table><br/><br/>Warnings:<br/>[1] Standard Errors assume that the covariance matrix of the errors is correctly specified."
      ],
      "text/plain": [
       "<class 'statsmodels.iolib.summary.Summary'>\n",
       "\"\"\"\n",
       "                            OLS Regression Results                            \n",
       "==============================================================================\n",
       "Dep. Variable:                     VL   R-squared:                       0.016\n",
       "Model:                            OLS   Adj. R-squared:                 -0.006\n",
       "Method:                 Least Squares   F-statistic:                    0.7357\n",
       "Date:                Thu, 13 Jun 2019   Prob (F-statistic):              0.396\n",
       "Time:                        16:35:22   Log-Likelihood:                -574.33\n",
       "No. Observations:                  47   AIC:                             1153.\n",
       "Df Residuals:                      45   BIC:                             1156.\n",
       "Df Model:                           1                                         \n",
       "Covariance Type:            nonrobust                                         \n",
       "==============================================================================\n",
       "                 coef    std err          t      P>|t|      [0.025      0.975]\n",
       "------------------------------------------------------------------------------\n",
       "Intercept   1.352e+04   1.72e+04      0.786      0.436   -2.11e+04    4.82e+04\n",
       "GSS         1691.0926   1971.565      0.858      0.396   -2279.843    5662.028\n",
       "==============================================================================\n",
       "Omnibus:                       75.489   Durbin-Watson:                   2.248\n",
       "Prob(Omnibus):                  0.000   Jarque-Bera (JB):              958.473\n",
       "Skew:                           4.174   Prob(JB):                    7.42e-209\n",
       "Kurtosis:                      23.488   Cond. No.                         20.8\n",
       "==============================================================================\n",
       "\n",
       "Warnings:\n",
       "[1] Standard Errors assume that the covariance matrix of the errors is correctly specified.\n",
       "\"\"\""
      ]
     },
     "execution_count": 45,
     "metadata": {},
     "output_type": "execute_result"
    }
   ],
   "source": [
    "formula = \"VL ~ GSS\"\n",
    "hiv_res = ols(formula, data=data).fit()\n",
    "hiv_res.summary()"
   ]
  },
  {
   "cell_type": "code",
   "execution_count": 46,
   "metadata": {
    "collapsed": false
   },
   "outputs": [
    {
     "data": {
      "image/png": "[encoded data removed]",
      "text/plain": [
       "<matplotlib.figure.Figure at 0x7f3305f48278>"
      ]
     },
     "metadata": {},
     "output_type": "display_data"
    }
   ],
   "source": [
    "ax=data.plot.scatter(x='GSS',y='VL',label='data', color='orange')\n",
    "ax.plot(data.GSS, hiv_res.predict(),color='red',label='fit')\n",
    "\n",
    "ax.legend()\n",
    "plt.show()"
   ]
  },
  {
   "cell_type": "code",
   "execution_count": 47,
   "metadata": {
    "collapsed": false
   },
   "outputs": [
    {
     "data": {
      "text/html": [
       "<table class=\"simpletable\">\n",
       "<caption>OLS Regression Results</caption>\n",
       "<tr>\n",
       "  <th>Dep. Variable:</th>           <td>VL</td>        <th>  R-squared:         </th> <td>   0.094</td>\n",
       "</tr>\n",
       "<tr>\n",
       "  <th>Model:</th>                   <td>OLS</td>       <th>  Adj. R-squared:    </th> <td>   0.074</td>\n",
       "</tr>\n",
       "<tr>\n",
       "  <th>Method:</th>             <td>Least Squares</td>  <th>  F-statistic:       </th> <td>   4.588</td>\n",
       "</tr>\n",
       "<tr>\n",
       "  <th>Date:</th>             <td>Thu, 13 Jun 2019</td> <th>  Prob (F-statistic):</th>  <td>0.0378</td> \n",
       "</tr>\n",
       "<tr>\n",
       "  <th>Time:</th>                 <td>16:35:22</td>     <th>  Log-Likelihood:    </th> <td> -533.49</td>\n",
       "</tr>\n",
       "<tr>\n",
       "  <th>No. Observations:</th>      <td>    46</td>      <th>  AIC:               </th> <td>   1071.</td>\n",
       "</tr>\n",
       "<tr>\n",
       "  <th>Df Residuals:</th>          <td>    44</td>      <th>  BIC:               </th> <td>   1075.</td>\n",
       "</tr>\n",
       "<tr>\n",
       "  <th>Df Model:</th>              <td>     1</td>      <th>                     </th>     <td> </td>   \n",
       "</tr>\n",
       "<tr>\n",
       "  <th>Covariance Type:</th>      <td>nonrobust</td>    <th>                     </th>     <td> </td>   \n",
       "</tr>\n",
       "</table>\n",
       "<table class=\"simpletable\">\n",
       "<tr>\n",
       "      <td></td>         <th>coef</th>     <th>std err</th>      <th>t</th>      <th>P>|t|</th>  <th>[0.025</th>    <th>0.975]</th>  \n",
       "</tr>\n",
       "<tr>\n",
       "  <th>Intercept</th> <td> 2801.5167</td> <td> 9296.119</td> <td>    0.301</td> <td> 0.765</td> <td>-1.59e+04</td> <td> 2.15e+04</td>\n",
       "</tr>\n",
       "<tr>\n",
       "  <th>GSS</th>       <td> 2270.9411</td> <td> 1060.225</td> <td>    2.142</td> <td> 0.038</td> <td>  134.198</td> <td> 4407.684</td>\n",
       "</tr>\n",
       "</table>\n",
       "<table class=\"simpletable\">\n",
       "<tr>\n",
       "  <th>Omnibus:</th>       <td>20.332</td> <th>  Durbin-Watson:     </th> <td>   2.288</td>\n",
       "</tr>\n",
       "<tr>\n",
       "  <th>Prob(Omnibus):</th> <td> 0.000</td> <th>  Jarque-Bera (JB):  </th> <td>  27.927</td>\n",
       "</tr>\n",
       "<tr>\n",
       "  <th>Skew:</th>          <td> 1.473</td> <th>  Prob(JB):          </th> <td>8.63e-07</td>\n",
       "</tr>\n",
       "<tr>\n",
       "  <th>Kurtosis:</th>      <td> 5.428</td> <th>  Cond. No.          </th> <td>    20.7</td>\n",
       "</tr>\n",
       "</table><br/><br/>Warnings:<br/>[1] Standard Errors assume that the covariance matrix of the errors is correctly specified."
      ],
      "text/plain": [
       "<class 'statsmodels.iolib.summary.Summary'>\n",
       "\"\"\"\n",
       "                            OLS Regression Results                            \n",
       "==============================================================================\n",
       "Dep. Variable:                     VL   R-squared:                       0.094\n",
       "Model:                            OLS   Adj. R-squared:                  0.074\n",
       "Method:                 Least Squares   F-statistic:                     4.588\n",
       "Date:                Thu, 13 Jun 2019   Prob (F-statistic):             0.0378\n",
       "Time:                        16:35:22   Log-Likelihood:                -533.49\n",
       "No. Observations:                  46   AIC:                             1071.\n",
       "Df Residuals:                      44   BIC:                             1075.\n",
       "Df Model:                           1                                         \n",
       "Covariance Type:            nonrobust                                         \n",
       "==============================================================================\n",
       "                 coef    std err          t      P>|t|      [0.025      0.975]\n",
       "------------------------------------------------------------------------------\n",
       "Intercept   2801.5167   9296.119      0.301      0.765   -1.59e+04    2.15e+04\n",
       "GSS         2270.9411   1060.225      2.142      0.038     134.198    4407.684\n",
       "==============================================================================\n",
       "Omnibus:                       20.332   Durbin-Watson:                   2.288\n",
       "Prob(Omnibus):                  0.000   Jarque-Bera (JB):               27.927\n",
       "Skew:                           1.473   Prob(JB):                     8.63e-07\n",
       "Kurtosis:                       5.428   Cond. No.                         20.7\n",
       "==============================================================================\n",
       "\n",
       "Warnings:\n",
       "[1] Standard Errors assume that the covariance matrix of the errors is correctly specified.\n",
       "\"\"\""
      ]
     },
     "execution_count": 47,
     "metadata": {},
     "output_type": "execute_result"
    }
   ],
   "source": [
    "subset_idx = data.VL < 200000\n",
    "formula = \"VL ~ GSS\"\n",
    "\n",
    "hiv_res_sub = ols(formula, data=data[subset_idx]).fit()\n",
    "hiv_res_sub.summary()"
   ]
  },
  {
   "cell_type": "code",
   "execution_count": 48,
   "metadata": {
    "collapsed": false
   },
   "outputs": [
    {
     "data": {
      "image/png": "[encoded data removed]",
      "text/plain": [
       "<matplotlib.figure.Figure at 0x7f3305e3ee80>"
      ]
     },
     "metadata": {},
     "output_type": "display_data"
    }
   ],
   "source": [
    "ax=data[subset_idx].plot.scatter(x='GSS',y='VL',label='data', color='orange')\n",
    "ax.plot(data[subset_idx].GSS, hiv_res_sub.predict(),color='red',label='fit')\n",
    "\n",
    "ax.legend()\n",
    "plt.show()"
   ]
  },
  {
   "cell_type": "markdown",
   "metadata": {},
   "source": [
    "When we plot the residuals against the fitted values for this model (even with the outlier removed) we see that the variance\n",
    "clearly depends on $GSS$. They also do not seem symmetric around 0 so perhaps the Gaussian model is not appropriate.\n"
   ]
  },
  {
   "cell_type": "code",
   "execution_count": 49,
   "metadata": {
    "collapsed": false
   },
   "outputs": [
    {
     "data": {
      "image/png": "[encoded data removed]",
      "text/plain": [
       "<matplotlib.figure.Figure at 0x7f3305efe358>"
      ]
     },
     "metadata": {},
     "output_type": "display_data"
    }
   ],
   "source": [
    "plt.scatter(data.GSS[subset_idx], hiv_res_sub.resid, color='orange')\n",
    "plt.axhline(0,color='red')\n",
    "\n",
    "ax.legend()\n",
    "plt.show()"
   ]
  },
  {
   "cell_type": "markdown",
   "metadata": {},
   "source": [
    "### Outliers\n",
    "\n",
    "Outliers can be obvious to spot (or not) but very difficult to define rigorously.\n",
    "Roughly speaking, they points where the model really does not fit.\n",
    "\n",
    "They might correspond to mistakes in data transcription, lab \n",
    "errors, who knows? If possible, they should be identified and (hopefully) explained.\n",
    "\n",
    "Later, we'll talk about some formal ways to detect outliers."
   ]
  }
 ],
 "metadata": {
  "kernelspec": {
   "display_name": "Python 3",
   "language": "python",
   "name": "python3"
  },
  "language_info": {
   "codemirror_mode": {
    "name": "ipython",
    "version": 3
   },
   "file_extension": ".py",
   "mimetype": "text/x-python",
   "name": "python",
   "nbconvert_exporter": "python",
   "pygments_lexer": "ipython3",
   "version": "3.6.0"
  }
 },
 "nbformat": 4,
 "nbformat_minor": 2
}
