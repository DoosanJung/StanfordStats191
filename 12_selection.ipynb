{
 "cells": [
  {
   "cell_type": "markdown",
   "metadata": {},
   "source": [
    "R => Python  \n",
    "Source: https://web.stanford.edu/class/stats191/notebooks/Bootstrapping_regression.html\n",
    "\n",
    "\n",
    "NOTE: \n",
    "* Not exactly porting R to Python.\n",
    "* Also not [rpy2](https://rpy2.readthedocs.io/en/version_2.8.x/)"
   ]
  },
  {
   "cell_type": "markdown",
   "metadata": {},
   "source": [
    "## Model selection\n",
    "\n",
    "In a given regression situation, there are often many choices to\n",
    "be made. Recall our usual setup\n",
    "$$\n",
    "Y_{n \\times 1} = X_{n \\times p} \\beta_{p \\times 1} + \\epsilon_{n \\times 1}.\n",
    "$$\n",
    "\n",
    "Any *subset $A \\subset \\{1, \\dots, p\\}$* yields a new regression model\n",
    "$$\n",
    "{\\cal M}(A): Y_{n \\times 1} = X[,A] \\beta[A] + \\epsilon_{n \\times 1}\n",
    "$$\n",
    "by setting $\\beta[A^c]=0$.\n",
    "\n",
    "**Model selection** is, roughly speaking, how to choose $A$ among the\n",
    "$2^p$ possible choices."
   ]
  },
  {
   "cell_type": "code",
   "execution_count": 1,
   "metadata": {
    "collapsed": true
   },
   "outputs": [],
   "source": [
    "import os\n",
    "import numpy as np\n",
    "import pandas as pd\n",
    "from scipy import stats\n",
    "import statsmodels.api as sm\n",
    "from statsmodels.formula.api import ols\n",
    "from statsmodels.regression.linear_model import OLS\n",
    "import matplotlib.pyplot as plt\n",
    "import seaborn as sns"
   ]
  },
  {
   "cell_type": "code",
   "execution_count": 2,
   "metadata": {
    "collapsed": false
   },
   "outputs": [
    {
     "data": {
      "text/plain": [
       "'0.9.0'"
      ]
     },
     "execution_count": 2,
     "metadata": {},
     "output_type": "execute_result"
    }
   ],
   "source": [
    "sm.version.version"
   ]
  },
  {
   "cell_type": "code",
   "execution_count": 3,
   "metadata": {
    "collapsed": false
   },
   "outputs": [
    {
     "data": {
      "text/plain": [
       "'0.18.1'"
      ]
     },
     "execution_count": 3,
     "metadata": {},
     "output_type": "execute_result"
    }
   ],
   "source": [
    "import scipy; scipy.__version__"
   ]
  },
  {
   "cell_type": "markdown",
   "metadata": {},
   "source": [
    "### Election data\n",
    "\n",
    "Here is a dataset from the book that we will use to explore different model selection approaches.\n",
    "\n",
    "Variable | Description\n",
    "--- | ---\n",
    "$V$ | votes for a presidential candidate\n",
    "$I$ | are they incumbent?\n",
    "$D$ | Democrat or Republican incumbent?\n",
    "$W$ | wartime election?\n",
    "$G$ | GDP growth rate in election year\n",
    "$P$ | (absolute) GDP deflator growth rate\n",
    "$N$ | number of quarters in which GDP growth rate $> 3.2\\%$"
   ]
  },
  {
   "cell_type": "code",
   "execution_count": 4,
   "metadata": {
    "collapsed": false
   },
   "outputs": [
    {
     "name": "stderr",
     "output_type": "stream",
     "text": [
      "/home/doojung/anaconda3/lib/python3.6/site-packages/ipykernel/__main__.py:2: FutureWarning: read_table is deprecated, use read_csv instead, passing sep='\\t'.\n",
      "  from ipykernel import kernelapp as app\n"
     ]
    },
    {
     "data": {
      "text/html": [
       "<div>\n",
       "<style scoped>\n",
       "    .dataframe tbody tr th:only-of-type {\n",
       "        vertical-align: middle;\n",
       "    }\n",
       "\n",
       "    .dataframe tbody tr th {\n",
       "        vertical-align: top;\n",
       "    }\n",
       "\n",
       "    .dataframe thead th {\n",
       "        text-align: right;\n",
       "    }\n",
       "</style>\n",
       "<table border=\"1\" class=\"dataframe\">\n",
       "  <thead>\n",
       "    <tr style=\"text-align: right;\">\n",
       "      <th></th>\n",
       "      <th>Year</th>\n",
       "      <th>V</th>\n",
       "      <th>I</th>\n",
       "      <th>D</th>\n",
       "      <th>W</th>\n",
       "      <th>G</th>\n",
       "      <th>P</th>\n",
       "      <th>N</th>\n",
       "    </tr>\n",
       "  </thead>\n",
       "  <tbody>\n",
       "    <tr>\n",
       "      <th>0</th>\n",
       "      <td>1916</td>\n",
       "      <td>0.5168</td>\n",
       "      <td>1</td>\n",
       "      <td>1</td>\n",
       "      <td>0</td>\n",
       "      <td>2.229</td>\n",
       "      <td>4.252</td>\n",
       "      <td>3</td>\n",
       "    </tr>\n",
       "    <tr>\n",
       "      <th>1</th>\n",
       "      <td>1920</td>\n",
       "      <td>0.3612</td>\n",
       "      <td>1</td>\n",
       "      <td>0</td>\n",
       "      <td>1</td>\n",
       "      <td>-11.463</td>\n",
       "      <td>16.535</td>\n",
       "      <td>5</td>\n",
       "    </tr>\n",
       "    <tr>\n",
       "      <th>2</th>\n",
       "      <td>1924</td>\n",
       "      <td>0.4176</td>\n",
       "      <td>-1</td>\n",
       "      <td>-1</td>\n",
       "      <td>0</td>\n",
       "      <td>-3.872</td>\n",
       "      <td>5.161</td>\n",
       "      <td>10</td>\n",
       "    </tr>\n",
       "    <tr>\n",
       "      <th>3</th>\n",
       "      <td>1928</td>\n",
       "      <td>0.4118</td>\n",
       "      <td>-1</td>\n",
       "      <td>0</td>\n",
       "      <td>0</td>\n",
       "      <td>4.623</td>\n",
       "      <td>0.183</td>\n",
       "      <td>7</td>\n",
       "    </tr>\n",
       "    <tr>\n",
       "      <th>4</th>\n",
       "      <td>1932</td>\n",
       "      <td>0.5916</td>\n",
       "      <td>-1</td>\n",
       "      <td>-1</td>\n",
       "      <td>0</td>\n",
       "      <td>-14.901</td>\n",
       "      <td>7.069</td>\n",
       "      <td>4</td>\n",
       "    </tr>\n",
       "  </tbody>\n",
       "</table>\n",
       "</div>"
      ],
      "text/plain": [
       "   Year       V    I    D    W       G       P    N  \n",
       "0    1916  0.5168    1    1    0   2.229   4.252    3\n",
       "1    1920  0.3612    1    0    1 -11.463  16.535    5\n",
       "2    1924  0.4176   -1   -1    0  -3.872   5.161   10\n",
       "3    1928  0.4118   -1    0    0   4.623   0.183    7\n",
       "4    1932  0.5916   -1   -1    0 -14.901   7.069    4"
      ]
     },
     "execution_count": 4,
     "metadata": {},
     "output_type": "execute_result"
    }
   ],
   "source": [
    "url = 'http://stats191.stanford.edu/data/election.table'\n",
    "election_data = pd.read_table(url)\n",
    "election_data.head()"
   ]
  },
  {
   "cell_type": "code",
   "execution_count": 5,
   "metadata": {
    "collapsed": false
   },
   "outputs": [],
   "source": [
    "# sns.pairplot(election_data)\n",
    "# plt.show()"
   ]
  },
  {
   "cell_type": "markdown",
   "metadata": {},
   "source": [
    "## Problem & Goals\n",
    "\n",
    "* When we have many predictors (with many possible interactions), it can be difficult to find a good model.\n",
    "* Which main effects do we include?\n",
    "* Which interactions do we include?\n",
    "* Model selection procedures try to *simplify / automate* this task.\n",
    "* Election data has $2^6=64$ different models with just main effects!\n",
    "\n",
    "## General comments\n",
    "\n",
    "- This is generally an \"unsolved\" problem in statistics: there are no magic procedures to get you the \"best model.\"\n",
    "\n",
    "- Many machine learning methods look for good \"sparse\" models: selecting a \"sparse\" model.\n",
    "\n",
    "- \"Machine learning\" often work with very many predictors.\n",
    "\n",
    "- Our model selection problem is generally at a much smaller scale than \"data mining\" problems.\n",
    "\n",
    "- Still, it is a hard problem.\n",
    "\n",
    "- **Inference after selection is full of pitfalls!** \n",
    "\n",
    "\n",
    "\n",
    "## Hypothetical example\n",
    "* Suppose we fit a a model $F: \\quad Y_{n \\times 1} = X_{n \\times p} \\beta_{p \\times 1} + \\varepsilon_{n \\times 1}$ with predictors ${ X}_1, \\dots, { X}_p$.\n",
    "* In reality, some of the $\\beta$s may be zero. Let's suppose that $\\beta_{j+1}= \\dots= \\beta_{p}=0$.\n",
    "* Then, any model that includes $\\beta_0, \\dots, \\beta_j$ is *correct*: which model gives the *best* estimates of $\\beta_0, \\dots, \\beta_j$?\n",
    "* Principle of *parsimony* (i.e. Occam's razor) says that the model with *only* ${X}_1, \\dots, {X}_j$ is \"best\".\n",
    "\n",
    "## Justifying parsimony\n",
    "\n",
    "- For simplicity, let's assume that $j=1$ so there is only one coefficient to estimate.\n",
    "- Then, because each model gives an *unbiased* estimate of $\\beta_1$ we can compare models based on $\\text{Var}(\\widehat{\\beta}_1).$\n",
    "- The best model, in terms of this variance, is the one containing only ${ X}_1$.\n",
    "- What if we didn't know that only $\\beta_1$ was non-zero (which we don't know in general)?\n",
    "- In this situation, we must choose a set of variables.\n",
    "\n",
    "## Model selection: choosing a subset of variables\n",
    "\n",
    "* To \"implement\" a model selection procedure, we first need a criterion or benchmark to compare two models.\n",
    "* Given a criterion, we also need a search strategy.\n",
    "* With a limited number of predictors, it is possible to search all possible models (`leaps` in `R`).\n",
    "\n",
    "## Candidate criteria\n",
    "\n",
    "Possible criteria:\n",
    "\n",
    "* $R^2$: not a good criterion. Always increase with model size $\\implies$ \"optimum\" is to take the biggest model.\n",
    "* Adjusted $R^2$: better. It \"penalized\" bigger models. Follows principle of parsimony / Occam's razor.\n",
    "* Mallow's $C_p$ - attempts to estimate a model's predictive power, i.e. the power to predict a new observation.\n",
    "\n",
    "### Best subsets, $R^2$\n",
    "\n",
    "Leaps takes a design matrix as argument: throw away the intercept\n",
    "column or leaps will complain.\n"
   ]
  },
  {
   "cell_type": "code",
   "execution_count": 6,
   "metadata": {
    "collapsed": true
   },
   "outputs": [],
   "source": [
    "# R leaps: Regression subset selection, including exhaustive search\n",
    "# Source: https://cran.r-project.org/web/packages/leaps/leaps.pdf"
   ]
  },
  {
   "cell_type": "code",
   "execution_count": 7,
   "metadata": {
    "collapsed": false
   },
   "outputs": [
    {
     "data": {
      "text/html": [
       "<div>\n",
       "<style scoped>\n",
       "    .dataframe tbody tr th:only-of-type {\n",
       "        vertical-align: middle;\n",
       "    }\n",
       "\n",
       "    .dataframe tbody tr th {\n",
       "        vertical-align: top;\n",
       "    }\n",
       "\n",
       "    .dataframe thead th {\n",
       "        text-align: right;\n",
       "    }\n",
       "</style>\n",
       "<table border=\"1\" class=\"dataframe\">\n",
       "  <thead>\n",
       "    <tr style=\"text-align: right;\">\n",
       "      <th></th>\n",
       "      <th>Year</th>\n",
       "      <th>V</th>\n",
       "      <th>I</th>\n",
       "      <th>D</th>\n",
       "      <th>W</th>\n",
       "      <th>G</th>\n",
       "      <th>P</th>\n",
       "      <th>N</th>\n",
       "    </tr>\n",
       "  </thead>\n",
       "  <tbody>\n",
       "    <tr>\n",
       "      <th>0</th>\n",
       "      <td>1916</td>\n",
       "      <td>0.5168</td>\n",
       "      <td>1</td>\n",
       "      <td>1</td>\n",
       "      <td>0</td>\n",
       "      <td>2.229</td>\n",
       "      <td>4.252</td>\n",
       "      <td>3</td>\n",
       "    </tr>\n",
       "    <tr>\n",
       "      <th>1</th>\n",
       "      <td>1920</td>\n",
       "      <td>0.3612</td>\n",
       "      <td>1</td>\n",
       "      <td>0</td>\n",
       "      <td>1</td>\n",
       "      <td>-11.463</td>\n",
       "      <td>16.535</td>\n",
       "      <td>5</td>\n",
       "    </tr>\n",
       "    <tr>\n",
       "      <th>2</th>\n",
       "      <td>1924</td>\n",
       "      <td>0.4176</td>\n",
       "      <td>-1</td>\n",
       "      <td>-1</td>\n",
       "      <td>0</td>\n",
       "      <td>-3.872</td>\n",
       "      <td>5.161</td>\n",
       "      <td>10</td>\n",
       "    </tr>\n",
       "    <tr>\n",
       "      <th>3</th>\n",
       "      <td>1928</td>\n",
       "      <td>0.4118</td>\n",
       "      <td>-1</td>\n",
       "      <td>0</td>\n",
       "      <td>0</td>\n",
       "      <td>4.623</td>\n",
       "      <td>0.183</td>\n",
       "      <td>7</td>\n",
       "    </tr>\n",
       "    <tr>\n",
       "      <th>4</th>\n",
       "      <td>1932</td>\n",
       "      <td>0.5916</td>\n",
       "      <td>-1</td>\n",
       "      <td>-1</td>\n",
       "      <td>0</td>\n",
       "      <td>-14.901</td>\n",
       "      <td>7.069</td>\n",
       "      <td>4</td>\n",
       "    </tr>\n",
       "  </tbody>\n",
       "</table>\n",
       "</div>"
      ],
      "text/plain": [
       "   Year       V    I    D    W       G       P    N  \n",
       "0    1916  0.5168    1    1    0   2.229   4.252    3\n",
       "1    1920  0.3612    1    0    1 -11.463  16.535    5\n",
       "2    1924  0.4176   -1   -1    0  -3.872   5.161   10\n",
       "3    1928  0.4118   -1    0    0   4.623   0.183    7\n",
       "4    1932  0.5916   -1   -1    0 -14.901   7.069    4"
      ]
     },
     "execution_count": 7,
     "metadata": {},
     "output_type": "execute_result"
    }
   ],
   "source": [
    "election_data.head()"
   ]
  },
  {
   "cell_type": "code",
   "execution_count": 8,
   "metadata": {
    "collapsed": false
   },
   "outputs": [
    {
     "data": {
      "text/plain": [
       "Index(['Year  ', 'V  ', 'I  ', 'D  ', 'W  ', 'G  ', 'P  ', 'N  '], dtype='object')"
      ]
     },
     "execution_count": 8,
     "metadata": {},
     "output_type": "execute_result"
    }
   ],
   "source": [
    "election_data.columns"
   ]
  },
  {
   "cell_type": "code",
   "execution_count": 9,
   "metadata": {
    "collapsed": false
   },
   "outputs": [
    {
     "data": {
      "text/plain": [
       "Index(['Year', 'V', 'I', 'D', 'W', 'G', 'P', 'N'], dtype='object')"
      ]
     },
     "execution_count": 9,
     "metadata": {},
     "output_type": "execute_result"
    }
   ],
   "source": [
    "election_data.rename(columns={\"Year  \":\"Year\",\n",
    "                               \"V  \":\"V\",\n",
    "                               \"I  \":\"I\",\n",
    "                               \"D  \":\"D\",\n",
    "                               \"W  \":\"W\",\n",
    "                               \"G  \":\"G\",\n",
    "                               \"P  \":\"P\",\n",
    "                               \"N  \":\"N\" \n",
    "                               }, inplace=True)\n",
    "election_data.columns"
   ]
  },
  {
   "cell_type": "code",
   "execution_count": 10,
   "metadata": {
    "collapsed": false
   },
   "outputs": [
    {
     "data": {
      "text/html": [
       "<table class=\"simpletable\">\n",
       "<caption>OLS Regression Results</caption>\n",
       "<tr>\n",
       "  <th>Dep. Variable:</th>            <td>V</td>        <th>  R-squared:         </th> <td>   0.790</td>\n",
       "</tr>\n",
       "<tr>\n",
       "  <th>Model:</th>                   <td>OLS</td>       <th>  Adj. R-squared:    </th> <td>   0.700</td>\n",
       "</tr>\n",
       "<tr>\n",
       "  <th>Method:</th>             <td>Least Squares</td>  <th>  F-statistic:       </th> <td>   8.769</td>\n",
       "</tr>\n",
       "<tr>\n",
       "  <th>Date:</th>             <td>Fri, 28 Jun 2019</td> <th>  Prob (F-statistic):</th> <td>0.000435</td>\n",
       "</tr>\n",
       "<tr>\n",
       "  <th>Time:</th>                 <td>20:58:15</td>     <th>  Log-Likelihood:    </th> <td>  41.470</td>\n",
       "</tr>\n",
       "<tr>\n",
       "  <th>No. Observations:</th>      <td>    21</td>      <th>  AIC:               </th> <td>  -68.94</td>\n",
       "</tr>\n",
       "<tr>\n",
       "  <th>Df Residuals:</th>          <td>    14</td>      <th>  BIC:               </th> <td>  -61.63</td>\n",
       "</tr>\n",
       "<tr>\n",
       "  <th>Df Model:</th>              <td>     6</td>      <th>                     </th>     <td> </td>   \n",
       "</tr>\n",
       "<tr>\n",
       "  <th>Covariance Type:</th>      <td>nonrobust</td>    <th>                     </th>     <td> </td>   \n",
       "</tr>\n",
       "</table>\n",
       "<table class=\"simpletable\">\n",
       "<tr>\n",
       "      <td></td>         <th>coef</th>     <th>std err</th>      <th>t</th>      <th>P>|t|</th>  <th>[0.025</th>    <th>0.975]</th>  \n",
       "</tr>\n",
       "<tr>\n",
       "  <th>Intercept</th> <td>    0.5112</td> <td>    0.032</td> <td>   15.875</td> <td> 0.000</td> <td>    0.442</td> <td>    0.580</td>\n",
       "</tr>\n",
       "<tr>\n",
       "  <th>I</th>         <td>   -0.0201</td> <td>    0.017</td> <td>   -1.190</td> <td> 0.254</td> <td>   -0.056</td> <td>    0.016</td>\n",
       "</tr>\n",
       "<tr>\n",
       "  <th>D</th>         <td>    0.0546</td> <td>    0.021</td> <td>    2.655</td> <td> 0.019</td> <td>    0.010</td> <td>    0.099</td>\n",
       "</tr>\n",
       "<tr>\n",
       "  <th>W</th>         <td>    0.0134</td> <td>    0.042</td> <td>    0.317</td> <td> 0.756</td> <td>   -0.077</td> <td>    0.104</td>\n",
       "</tr>\n",
       "<tr>\n",
       "  <th>G:I</th>       <td>    0.0097</td> <td>    0.002</td> <td>    5.471</td> <td> 0.000</td> <td>    0.006</td> <td>    0.013</td>\n",
       "</tr>\n",
       "<tr>\n",
       "  <th>P</th>         <td>   -0.0007</td> <td>    0.004</td> <td>   -0.180</td> <td> 0.859</td> <td>   -0.009</td> <td>    0.008</td>\n",
       "</tr>\n",
       "<tr>\n",
       "  <th>N</th>         <td>   -0.0052</td> <td>    0.004</td> <td>   -1.361</td> <td> 0.195</td> <td>   -0.013</td> <td>    0.003</td>\n",
       "</tr>\n",
       "</table>\n",
       "<table class=\"simpletable\">\n",
       "<tr>\n",
       "  <th>Omnibus:</th>       <td> 6.714</td> <th>  Durbin-Watson:     </th> <td>   2.204</td>\n",
       "</tr>\n",
       "<tr>\n",
       "  <th>Prob(Omnibus):</th> <td> 0.035</td> <th>  Jarque-Bera (JB):  </th> <td>   4.488</td>\n",
       "</tr>\n",
       "<tr>\n",
       "  <th>Skew:</th>          <td> 1.074</td> <th>  Prob(JB):          </th> <td>   0.106</td>\n",
       "</tr>\n",
       "<tr>\n",
       "  <th>Kurtosis:</th>      <td> 3.719</td> <th>  Cond. No.          </th> <td>    43.9</td>\n",
       "</tr>\n",
       "</table><br/><br/>Warnings:<br/>[1] Standard Errors assume that the covariance matrix of the errors is correctly specified."
      ],
      "text/plain": [
       "<class 'statsmodels.iolib.summary.Summary'>\n",
       "\"\"\"\n",
       "                            OLS Regression Results                            \n",
       "==============================================================================\n",
       "Dep. Variable:                      V   R-squared:                       0.790\n",
       "Model:                            OLS   Adj. R-squared:                  0.700\n",
       "Method:                 Least Squares   F-statistic:                     8.769\n",
       "Date:                Fri, 28 Jun 2019   Prob (F-statistic):           0.000435\n",
       "Time:                        20:58:15   Log-Likelihood:                 41.470\n",
       "No. Observations:                  21   AIC:                            -68.94\n",
       "Df Residuals:                      14   BIC:                            -61.63\n",
       "Df Model:                           6                                         \n",
       "Covariance Type:            nonrobust                                         \n",
       "==============================================================================\n",
       "                 coef    std err          t      P>|t|      [0.025      0.975]\n",
       "------------------------------------------------------------------------------\n",
       "Intercept      0.5112      0.032     15.875      0.000       0.442       0.580\n",
       "I             -0.0201      0.017     -1.190      0.254      -0.056       0.016\n",
       "D              0.0546      0.021      2.655      0.019       0.010       0.099\n",
       "W              0.0134      0.042      0.317      0.756      -0.077       0.104\n",
       "G:I            0.0097      0.002      5.471      0.000       0.006       0.013\n",
       "P             -0.0007      0.004     -0.180      0.859      -0.009       0.008\n",
       "N             -0.0052      0.004     -1.361      0.195      -0.013       0.003\n",
       "==============================================================================\n",
       "Omnibus:                        6.714   Durbin-Watson:                   2.204\n",
       "Prob(Omnibus):                  0.035   Jarque-Bera (JB):                4.488\n",
       "Skew:                           1.074   Prob(JB):                        0.106\n",
       "Kurtosis:                       3.719   Cond. No.                         43.9\n",
       "==============================================================================\n",
       "\n",
       "Warnings:\n",
       "[1] Standard Errors assume that the covariance matrix of the errors is correctly specified.\n",
       "\"\"\""
      ]
     },
     "execution_count": 10,
     "metadata": {},
     "output_type": "execute_result"
    }
   ],
   "source": [
    "election_res = ols('V ~ I + D + W + G:I + P + N', data=election_data).fit()\n",
    "election_res.summary()"
   ]
  },
  {
   "cell_type": "markdown",
   "metadata": {},
   "source": [
    "Could not find the Python equivalent to R package, \"leaps\"  \n",
    "\n",
    "Source: https://stackoverflow.com/questions/37624920/subset-regression-in-python-via-exhaustive-search  \n",
    "Source: https://datascience.stackexchange.com/questions/937/does-scikit-learn-have-forward-selection-stepwise-regression-algorithm"
   ]
  },
  {
   "cell_type": "code",
   "execution_count": 11,
   "metadata": {
    "collapsed": false
   },
   "outputs": [],
   "source": [
    "election_res.model.exog_names.remove(\"Intercept\")"
   ]
  },
  {
   "cell_type": "code",
   "execution_count": 12,
   "metadata": {
    "collapsed": false
   },
   "outputs": [
    {
     "data": {
      "text/plain": [
       "['I', 'D', 'W', 'G:I', 'P', 'N']"
      ]
     },
     "execution_count": 12,
     "metadata": {},
     "output_type": "execute_result"
    }
   ],
   "source": [
    "election_res.model.exog_names"
   ]
  },
  {
   "cell_type": "markdown",
   "metadata": {},
   "source": [
    "**This is not equivalent to R leaps**"
   ]
  },
  {
   "cell_type": "code",
   "execution_count": 13,
   "metadata": {
    "collapsed": false,
    "scrolled": true
   },
   "outputs": [],
   "source": [
    "# This is not equivalent to R leaps\n",
    "from itertools import combinations\n",
    "scores_lst=[]\n",
    "for r in range(1, len(election_res.model.exog_names)+1):\n",
    "    comb = combinations(election_res.model.exog_names, r = r)\n",
    "    for item in comb:\n",
    "        formula = 'V ~ {}'.format('+'.join(set(item)))\n",
    "        \n",
    "        # method='r2' in the R notebook\n",
    "        score = ols(formula, election_data).fit().rsquared\n",
    "        scores_lst.append((len(item)+1, formula, score))"
   ]
  },
  {
   "cell_type": "code",
   "execution_count": 14,
   "metadata": {
    "collapsed": false
   },
   "outputs": [
    {
     "data": {
      "text/html": [
       "<div>\n",
       "<style scoped>\n",
       "    .dataframe tbody tr th:only-of-type {\n",
       "        vertical-align: middle;\n",
       "    }\n",
       "\n",
       "    .dataframe tbody tr th {\n",
       "        vertical-align: top;\n",
       "    }\n",
       "\n",
       "    .dataframe thead th {\n",
       "        text-align: right;\n",
       "    }\n",
       "</style>\n",
       "<table border=\"1\" class=\"dataframe\">\n",
       "  <thead>\n",
       "    <tr style=\"text-align: right;\">\n",
       "      <th></th>\n",
       "      <th>size</th>\n",
       "      <th>formula</th>\n",
       "      <th>score</th>\n",
       "    </tr>\n",
       "  </thead>\n",
       "  <tbody>\n",
       "    <tr>\n",
       "      <th>0</th>\n",
       "      <td>2</td>\n",
       "      <td>V ~ I</td>\n",
       "      <td>0.120047</td>\n",
       "    </tr>\n",
       "    <tr>\n",
       "      <th>1</th>\n",
       "      <td>2</td>\n",
       "      <td>V ~ D</td>\n",
       "      <td>0.249171</td>\n",
       "    </tr>\n",
       "    <tr>\n",
       "      <th>2</th>\n",
       "      <td>2</td>\n",
       "      <td>V ~ W</td>\n",
       "      <td>0.008446</td>\n",
       "    </tr>\n",
       "    <tr>\n",
       "      <th>3</th>\n",
       "      <td>2</td>\n",
       "      <td>V ~ G:I</td>\n",
       "      <td>0.612163</td>\n",
       "    </tr>\n",
       "    <tr>\n",
       "      <th>4</th>\n",
       "      <td>2</td>\n",
       "      <td>V ~ P</td>\n",
       "      <td>0.110441</td>\n",
       "    </tr>\n",
       "    <tr>\n",
       "      <th>5</th>\n",
       "      <td>2</td>\n",
       "      <td>V ~ N</td>\n",
       "      <td>0.021514</td>\n",
       "    </tr>\n",
       "    <tr>\n",
       "      <th>6</th>\n",
       "      <td>3</td>\n",
       "      <td>V ~ I+D</td>\n",
       "      <td>0.260595</td>\n",
       "    </tr>\n",
       "    <tr>\n",
       "      <th>7</th>\n",
       "      <td>3</td>\n",
       "      <td>V ~ I+W</td>\n",
       "      <td>0.180652</td>\n",
       "    </tr>\n",
       "    <tr>\n",
       "      <th>8</th>\n",
       "      <td>3</td>\n",
       "      <td>V ~ G:I+I</td>\n",
       "      <td>0.648134</td>\n",
       "    </tr>\n",
       "    <tr>\n",
       "      <th>9</th>\n",
       "      <td>3</td>\n",
       "      <td>V ~ I+P</td>\n",
       "      <td>0.261660</td>\n",
       "    </tr>\n",
       "  </tbody>\n",
       "</table>\n",
       "</div>"
      ],
      "text/plain": [
       "   size    formula     score\n",
       "0     2      V ~ I  0.120047\n",
       "1     2      V ~ D  0.249171\n",
       "2     2      V ~ W  0.008446\n",
       "3     2    V ~ G:I  0.612163\n",
       "4     2      V ~ P  0.110441\n",
       "5     2      V ~ N  0.021514\n",
       "6     3    V ~ I+D  0.260595\n",
       "7     3    V ~ I+W  0.180652\n",
       "8     3  V ~ G:I+I  0.648134\n",
       "9     3    V ~ I+P  0.261660"
      ]
     },
     "execution_count": 14,
     "metadata": {},
     "output_type": "execute_result"
    }
   ],
   "source": [
    "scores_df = pd.DataFrame(scores_lst, columns=[\"size\",\"formula\",\"score\"])\n",
    "scores_df.head(10)"
   ]
  },
  {
   "cell_type": "markdown",
   "metadata": {},
   "source": [
    "Let's plot the $R^2$ as a function of the model size. We see that the\n",
    "full model does include all variables. "
   ]
  },
  {
   "cell_type": "code",
   "execution_count": 15,
   "metadata": {
    "collapsed": false
   },
   "outputs": [
    {
     "data": {
      "text/html": [
       "<div>\n",
       "<style scoped>\n",
       "    .dataframe tbody tr th:only-of-type {\n",
       "        vertical-align: middle;\n",
       "    }\n",
       "\n",
       "    .dataframe tbody tr th {\n",
       "        vertical-align: top;\n",
       "    }\n",
       "\n",
       "    .dataframe thead th {\n",
       "        text-align: right;\n",
       "    }\n",
       "</style>\n",
       "<table border=\"1\" class=\"dataframe\">\n",
       "  <thead>\n",
       "    <tr style=\"text-align: right;\">\n",
       "      <th></th>\n",
       "      <th>formula</th>\n",
       "      <th>score</th>\n",
       "    </tr>\n",
       "    <tr>\n",
       "      <th>size</th>\n",
       "      <th></th>\n",
       "      <th></th>\n",
       "    </tr>\n",
       "  </thead>\n",
       "  <tbody>\n",
       "    <tr>\n",
       "      <th>2</th>\n",
       "      <td>V ~ W</td>\n",
       "      <td>0.612163</td>\n",
       "    </tr>\n",
       "    <tr>\n",
       "      <th>3</th>\n",
       "      <td>V ~ W+D</td>\n",
       "      <td>0.734504</td>\n",
       "    </tr>\n",
       "    <tr>\n",
       "      <th>4</th>\n",
       "      <td>V ~ P+W+D</td>\n",
       "      <td>0.765193</td>\n",
       "    </tr>\n",
       "    <tr>\n",
       "      <th>5</th>\n",
       "      <td>V ~ N+P+W+D</td>\n",
       "      <td>0.788278</td>\n",
       "    </tr>\n",
       "    <tr>\n",
       "      <th>6</th>\n",
       "      <td>V ~ I+D+N+P+W</td>\n",
       "      <td>0.789340</td>\n",
       "    </tr>\n",
       "    <tr>\n",
       "      <th>7</th>\n",
       "      <td>V ~ G:I+I+D+N+P+W</td>\n",
       "      <td>0.789828</td>\n",
       "    </tr>\n",
       "  </tbody>\n",
       "</table>\n",
       "</div>"
      ],
      "text/plain": [
       "                formula     score\n",
       "size                             \n",
       "2                 V ~ W  0.612163\n",
       "3               V ~ W+D  0.734504\n",
       "4             V ~ P+W+D  0.765193\n",
       "5           V ~ N+P+W+D  0.788278\n",
       "6         V ~ I+D+N+P+W  0.789340\n",
       "7     V ~ G:I+I+D+N+P+W  0.789828"
      ]
     },
     "execution_count": 15,
     "metadata": {},
     "output_type": "execute_result"
    }
   ],
   "source": [
    "scores_df_grpd = scores_df.groupby(\"size\").max()\n",
    "scores_df_grpd"
   ]
  },
  {
   "cell_type": "code",
   "execution_count": 16,
   "metadata": {
    "collapsed": true
   },
   "outputs": [],
   "source": [
    "def plotting_size_vs_score(x, y, annotate=False, ymin=0, ymax=0.85):\n",
    "    plt.scatter(x, y)\n",
    "    \n",
    "    if annotate == True:\n",
    "        labels = ['{}'.format(round(i, 3)) for i in y]\n",
    "        for label, x, y in zip(labels, x, y):\n",
    "            plt.annotate(label, xy=(x, y), alpha=0.5)\n",
    "\n",
    "    plt.xlabel(\"size\")\n",
    "    plt.ylabel(\"r2\")\n",
    "    plt.ylim(ymin, ymax)\n",
    "    plt.show()"
   ]
  },
  {
   "cell_type": "code",
   "execution_count": 17,
   "metadata": {
    "collapsed": false
   },
   "outputs": [
    {
     "data": {
      "image/png": "[encoded data removed]",
      "text/plain": [
       "<matplotlib.figure.Figure at 0x7f9c63792c50>"
      ]
     },
     "metadata": {},
     "output_type": "display_data"
    }
   ],
   "source": [
    "plotting_size_vs_score(scores_df_grpd.index, \n",
    "                       scores_df_grpd[\"score\"], \n",
    "                       annotate=True)"
   ]
  },
  {
   "cell_type": "code",
   "execution_count": 18,
   "metadata": {
    "collapsed": false
   },
   "outputs": [
    {
     "data": {
      "image/png": "[encoded data removed]",
      "text/plain": [
       "<matplotlib.figure.Figure at 0x7f9c5fceba58>"
      ]
     },
     "metadata": {},
     "output_type": "display_data"
    }
   ],
   "source": [
    "plotting_size_vs_score(scores_df[\"size\"], \n",
    "                       scores_df[\"score\"], \n",
    "                       annotate=False)"
   ]
  },
  {
   "cell_type": "code",
   "execution_count": 19,
   "metadata": {
    "collapsed": false
   },
   "outputs": [
    {
     "data": {
      "image/png": "[encoded data removed]",
      "text/plain": [
       "<matplotlib.figure.Figure at 0x7f9c62528438>"
      ]
     },
     "metadata": {},
     "output_type": "display_data"
    }
   ],
   "source": [
    "# best 3\n",
    "best_r2_lst=[]\n",
    "for i, group in scores_df.groupby(\"size\"):\n",
    "    best_df = group.sort_values(\"score\", ascending=False)\n",
    "    best_r2_lst.append(best_df.iloc[:3,:])\n",
    "\n",
    "# plot them\n",
    "choose_best_r2_df = pd.concat(best_r2_lst)\n",
    "plotting_size_vs_score(choose_best_r2_df[\"size\"], \n",
    "                       choose_best_r2_df[\"score\"], \n",
    "                       annotate=True,\n",
    "                       ymin=0,\n",
    "                       ymax=0.85)"
   ]
  },
  {
   "cell_type": "markdown",
   "metadata": {},
   "source": [
    "**This is not equivalent to R leaps**"
   ]
  },
  {
   "cell_type": "markdown",
   "metadata": {},
   "source": [
    "## Best subsets, adjusted $R^2$\n",
    "\n",
    "-   As we add more and more variables to the model - even random ones,\n",
    "    $R^2$ will increase to 1.\n",
    "\n",
    "-   Adjusted $R^2$ tries to take this into account by replacing sums of squares by *mean squares*\n",
    "    $$R^2_a = 1 - \\frac{SSE/(n-p-1)}{SST/(n-1)} = 1 - \\frac{MSE}{MST}.$$\n"
   ]
  },
  {
   "cell_type": "markdown",
   "metadata": {},
   "source": [
    "**This is not equivalent to R leaps**"
   ]
  },
  {
   "cell_type": "code",
   "execution_count": 20,
   "metadata": {
    "collapsed": true
   },
   "outputs": [],
   "source": [
    "# This is not equivalent to R leaps\n",
    "scores_adj_lst=[]\n",
    "for r in range(1, len(election_res.model.exog_names)+1):\n",
    "    comb = combinations(election_res.model.exog_names, r = r)\n",
    "    for item in comb:\n",
    "        formula = 'V ~ {}'.format('+'.join(set(item)))\n",
    "        \n",
    "        # method='adjusted r2' in the R notebook\n",
    "        score_adj = ols(formula, election_data).fit().rsquared_adj\n",
    "        scores_adj_lst.append((len(item)+1, formula, score_adj))"
   ]
  },
  {
   "cell_type": "code",
   "execution_count": 21,
   "metadata": {
    "collapsed": false
   },
   "outputs": [
    {
     "data": {
      "text/html": [
       "<div>\n",
       "<style scoped>\n",
       "    .dataframe tbody tr th:only-of-type {\n",
       "        vertical-align: middle;\n",
       "    }\n",
       "\n",
       "    .dataframe tbody tr th {\n",
       "        vertical-align: top;\n",
       "    }\n",
       "\n",
       "    .dataframe thead th {\n",
       "        text-align: right;\n",
       "    }\n",
       "</style>\n",
       "<table border=\"1\" class=\"dataframe\">\n",
       "  <thead>\n",
       "    <tr style=\"text-align: right;\">\n",
       "      <th></th>\n",
       "      <th>size</th>\n",
       "      <th>formula</th>\n",
       "      <th>score_adj</th>\n",
       "    </tr>\n",
       "  </thead>\n",
       "  <tbody>\n",
       "    <tr>\n",
       "      <th>0</th>\n",
       "      <td>2</td>\n",
       "      <td>V ~ I</td>\n",
       "      <td>0.073733</td>\n",
       "    </tr>\n",
       "    <tr>\n",
       "      <th>1</th>\n",
       "      <td>2</td>\n",
       "      <td>V ~ D</td>\n",
       "      <td>0.209653</td>\n",
       "    </tr>\n",
       "    <tr>\n",
       "      <th>2</th>\n",
       "      <td>2</td>\n",
       "      <td>V ~ W</td>\n",
       "      <td>-0.043742</td>\n",
       "    </tr>\n",
       "    <tr>\n",
       "      <th>3</th>\n",
       "      <td>2</td>\n",
       "      <td>V ~ G:I</td>\n",
       "      <td>0.591750</td>\n",
       "    </tr>\n",
       "    <tr>\n",
       "      <th>4</th>\n",
       "      <td>2</td>\n",
       "      <td>V ~ P</td>\n",
       "      <td>0.063622</td>\n",
       "    </tr>\n",
       "    <tr>\n",
       "      <th>5</th>\n",
       "      <td>2</td>\n",
       "      <td>V ~ N</td>\n",
       "      <td>-0.029985</td>\n",
       "    </tr>\n",
       "    <tr>\n",
       "      <th>6</th>\n",
       "      <td>3</td>\n",
       "      <td>V ~ I+D</td>\n",
       "      <td>0.178439</td>\n",
       "    </tr>\n",
       "    <tr>\n",
       "      <th>7</th>\n",
       "      <td>3</td>\n",
       "      <td>V ~ I+W</td>\n",
       "      <td>0.089613</td>\n",
       "    </tr>\n",
       "    <tr>\n",
       "      <th>8</th>\n",
       "      <td>3</td>\n",
       "      <td>V ~ G:I+I</td>\n",
       "      <td>0.609038</td>\n",
       "    </tr>\n",
       "    <tr>\n",
       "      <th>9</th>\n",
       "      <td>3</td>\n",
       "      <td>V ~ I+P</td>\n",
       "      <td>0.179622</td>\n",
       "    </tr>\n",
       "  </tbody>\n",
       "</table>\n",
       "</div>"
      ],
      "text/plain": [
       "   size    formula  score_adj\n",
       "0     2      V ~ I   0.073733\n",
       "1     2      V ~ D   0.209653\n",
       "2     2      V ~ W  -0.043742\n",
       "3     2    V ~ G:I   0.591750\n",
       "4     2      V ~ P   0.063622\n",
       "5     2      V ~ N  -0.029985\n",
       "6     3    V ~ I+D   0.178439\n",
       "7     3    V ~ I+W   0.089613\n",
       "8     3  V ~ G:I+I   0.609038\n",
       "9     3    V ~ I+P   0.179622"
      ]
     },
     "execution_count": 21,
     "metadata": {},
     "output_type": "execute_result"
    }
   ],
   "source": [
    "scores_adj_df = pd.DataFrame(scores_adj_lst, columns=[\"size\",\"formula\",\"score_adj\"])\n",
    "scores_adj_df.head(10)"
   ]
  },
  {
   "cell_type": "code",
   "execution_count": 22,
   "metadata": {
    "collapsed": false
   },
   "outputs": [
    {
     "data": {
      "text/html": [
       "<div>\n",
       "<style scoped>\n",
       "    .dataframe tbody tr th:only-of-type {\n",
       "        vertical-align: middle;\n",
       "    }\n",
       "\n",
       "    .dataframe tbody tr th {\n",
       "        vertical-align: top;\n",
       "    }\n",
       "\n",
       "    .dataframe thead th {\n",
       "        text-align: right;\n",
       "    }\n",
       "</style>\n",
       "<table border=\"1\" class=\"dataframe\">\n",
       "  <thead>\n",
       "    <tr style=\"text-align: right;\">\n",
       "      <th></th>\n",
       "      <th>formula</th>\n",
       "      <th>score_adj</th>\n",
       "    </tr>\n",
       "    <tr>\n",
       "      <th>size</th>\n",
       "      <th></th>\n",
       "      <th></th>\n",
       "    </tr>\n",
       "  </thead>\n",
       "  <tbody>\n",
       "    <tr>\n",
       "      <th>2</th>\n",
       "      <td>V ~ W</td>\n",
       "      <td>0.591750</td>\n",
       "    </tr>\n",
       "    <tr>\n",
       "      <th>3</th>\n",
       "      <td>V ~ W+D</td>\n",
       "      <td>0.705005</td>\n",
       "    </tr>\n",
       "    <tr>\n",
       "      <th>4</th>\n",
       "      <td>V ~ P+W+D</td>\n",
       "      <td>0.723757</td>\n",
       "    </tr>\n",
       "    <tr>\n",
       "      <th>5</th>\n",
       "      <td>V ~ N+P+W+D</td>\n",
       "      <td>0.735347</td>\n",
       "    </tr>\n",
       "    <tr>\n",
       "      <th>6</th>\n",
       "      <td>V ~ I+D+N+P+W</td>\n",
       "      <td>0.719119</td>\n",
       "    </tr>\n",
       "    <tr>\n",
       "      <th>7</th>\n",
       "      <td>V ~ G:I+I+D+N+P+W</td>\n",
       "      <td>0.699755</td>\n",
       "    </tr>\n",
       "  </tbody>\n",
       "</table>\n",
       "</div>"
      ],
      "text/plain": [
       "                formula  score_adj\n",
       "size                              \n",
       "2                 V ~ W   0.591750\n",
       "3               V ~ W+D   0.705005\n",
       "4             V ~ P+W+D   0.723757\n",
       "5           V ~ N+P+W+D   0.735347\n",
       "6         V ~ I+D+N+P+W   0.719119\n",
       "7     V ~ G:I+I+D+N+P+W   0.699755"
      ]
     },
     "execution_count": 22,
     "metadata": {},
     "output_type": "execute_result"
    }
   ],
   "source": [
    "scores_adj_df_grpd = scores_adj_df.groupby(\"size\").max()\n",
    "scores_adj_df_grpd"
   ]
  },
  {
   "cell_type": "code",
   "execution_count": 23,
   "metadata": {
    "collapsed": false
   },
   "outputs": [
    {
     "data": {
      "image/png": "[encoded data removed]",
      "text/plain": [
       "<matplotlib.figure.Figure at 0x7f9c5fce1860>"
      ]
     },
     "metadata": {},
     "output_type": "display_data"
    }
   ],
   "source": [
    "plotting_size_vs_score(scores_adj_df_grpd.index, \n",
    "                       scores_adj_df_grpd[\"score_adj\"], \n",
    "                       annotate=True)"
   ]
  },
  {
   "cell_type": "code",
   "execution_count": 24,
   "metadata": {
    "collapsed": false
   },
   "outputs": [
    {
     "data": {
      "image/png": "[encoded data removed]",
      "text/plain": [
       "<matplotlib.figure.Figure at 0x7f9c5faeb860>"
      ]
     },
     "metadata": {},
     "output_type": "display_data"
    }
   ],
   "source": [
    "plotting_size_vs_score(scores_adj_df[\"size\"], \n",
    "                       scores_adj_df[\"score_adj\"], \n",
    "                       annotate=False)"
   ]
  },
  {
   "cell_type": "code",
   "execution_count": 25,
   "metadata": {
    "collapsed": false
   },
   "outputs": [
    {
     "data": {
      "image/png": "[encoded data removed]",
      "text/plain": [
       "<matplotlib.figure.Figure at 0x7f9c5fa74240>"
      ]
     },
     "metadata": {},
     "output_type": "display_data"
    }
   ],
   "source": [
    "# best 3\n",
    "best_adj_r2_lst=[]\n",
    "for i, group in scores_adj_df.groupby(\"size\"):\n",
    "    best_adj_df = group.sort_values(\"score_adj\", ascending=False)\n",
    "    best_adj_r2_lst.append(best_adj_df.iloc[:3,:])\n",
    "\n",
    "# plot them\n",
    "choose_best_adj_r2_df = pd.concat(best_adj_r2_lst)\n",
    "plotting_size_vs_score(choose_best_adj_r2_df[\"size\"], \n",
    "                       choose_best_adj_r2_df[\"score_adj\"], \n",
    "                       annotate=True,\n",
    "                       ymin=0,\n",
    "                       ymax=0.85)"
   ]
  },
  {
   "cell_type": "code",
   "execution_count": 26,
   "metadata": {
    "collapsed": false
   },
   "outputs": [
    {
     "data": {
      "text/html": [
       "<div>\n",
       "<style scoped>\n",
       "    .dataframe tbody tr th:only-of-type {\n",
       "        vertical-align: middle;\n",
       "    }\n",
       "\n",
       "    .dataframe tbody tr th {\n",
       "        vertical-align: top;\n",
       "    }\n",
       "\n",
       "    .dataframe thead th {\n",
       "        text-align: right;\n",
       "    }\n",
       "</style>\n",
       "<table border=\"1\" class=\"dataframe\">\n",
       "  <thead>\n",
       "    <tr style=\"text-align: right;\">\n",
       "      <th></th>\n",
       "      <th>size</th>\n",
       "      <th>formula</th>\n",
       "      <th>score</th>\n",
       "      <th>size</th>\n",
       "      <th>formula</th>\n",
       "      <th>score_adj</th>\n",
       "    </tr>\n",
       "  </thead>\n",
       "  <tbody>\n",
       "    <tr>\n",
       "      <th>62</th>\n",
       "      <td>7</td>\n",
       "      <td>V ~ G:I+I+D+N+P+W</td>\n",
       "      <td>0.789828</td>\n",
       "      <td>7</td>\n",
       "      <td>V ~ G:I+I+D+N+P+W</td>\n",
       "      <td>0.699755</td>\n",
       "    </tr>\n",
       "  </tbody>\n",
       "</table>\n",
       "</div>"
      ],
      "text/plain": [
       "    size            formula     score  size            formula  score_adj\n",
       "62     7  V ~ G:I+I+D+N+P+W  0.789828     7  V ~ G:I+I+D+N+P+W   0.699755"
      ]
     },
     "execution_count": 26,
     "metadata": {},
     "output_type": "execute_result"
    }
   ],
   "source": [
    "# adjust R squared take account of the phenomenon of the R2 \n",
    "# automatically and spuriously increasing when extra explanatory variables \n",
    "# are added to the model.\n",
    "pd.concat([scores_df[scores_df[\"size\"] == 7], \n",
    "           scores_adj_df[scores_adj_df[\"size\"] == 7]],\n",
    "         axis=1,\n",
    "         sort=False)"
   ]
  },
  {
   "cell_type": "code",
   "execution_count": 27,
   "metadata": {
    "collapsed": false
   },
   "outputs": [
    {
     "data": {
      "text/html": [
       "<div>\n",
       "<style scoped>\n",
       "    .dataframe tbody tr th:only-of-type {\n",
       "        vertical-align: middle;\n",
       "    }\n",
       "\n",
       "    .dataframe tbody tr th {\n",
       "        vertical-align: top;\n",
       "    }\n",
       "\n",
       "    .dataframe thead th {\n",
       "        text-align: right;\n",
       "    }\n",
       "</style>\n",
       "<table border=\"1\" class=\"dataframe\">\n",
       "  <thead>\n",
       "    <tr style=\"text-align: right;\">\n",
       "      <th></th>\n",
       "      <th>size</th>\n",
       "      <th>formula</th>\n",
       "      <th>score</th>\n",
       "      <th>size</th>\n",
       "      <th>formula</th>\n",
       "      <th>score_adj</th>\n",
       "    </tr>\n",
       "  </thead>\n",
       "  <tbody>\n",
       "    <tr>\n",
       "      <th>56</th>\n",
       "      <td>6</td>\n",
       "      <td>V ~ G:I+I+D+P+W</td>\n",
       "      <td>0.762030</td>\n",
       "      <td>6</td>\n",
       "      <td>V ~ G:I+I+D+P+W</td>\n",
       "      <td>0.682707</td>\n",
       "    </tr>\n",
       "    <tr>\n",
       "      <th>57</th>\n",
       "      <td>6</td>\n",
       "      <td>V ~ G:I+I+D+N+W</td>\n",
       "      <td>0.789340</td>\n",
       "      <td>6</td>\n",
       "      <td>V ~ G:I+I+D+N+W</td>\n",
       "      <td>0.719119</td>\n",
       "    </tr>\n",
       "    <tr>\n",
       "      <th>58</th>\n",
       "      <td>6</td>\n",
       "      <td>V ~ I+D+N+P+W</td>\n",
       "      <td>0.340481</td>\n",
       "      <td>6</td>\n",
       "      <td>V ~ I+D+N+P+W</td>\n",
       "      <td>0.120642</td>\n",
       "    </tr>\n",
       "    <tr>\n",
       "      <th>59</th>\n",
       "      <td>6</td>\n",
       "      <td>V ~ G:I+I+D+N+P</td>\n",
       "      <td>0.788321</td>\n",
       "      <td>6</td>\n",
       "      <td>V ~ G:I+I+D+N+P</td>\n",
       "      <td>0.717762</td>\n",
       "    </tr>\n",
       "    <tr>\n",
       "      <th>60</th>\n",
       "      <td>6</td>\n",
       "      <td>V ~ G:I+I+N+P+W</td>\n",
       "      <td>0.684002</td>\n",
       "      <td>6</td>\n",
       "      <td>V ~ G:I+I+N+P+W</td>\n",
       "      <td>0.578669</td>\n",
       "    </tr>\n",
       "    <tr>\n",
       "      <th>61</th>\n",
       "      <td>6</td>\n",
       "      <td>V ~ G:I+D+N+P+W</td>\n",
       "      <td>0.768571</td>\n",
       "      <td>6</td>\n",
       "      <td>V ~ G:I+D+N+P+W</td>\n",
       "      <td>0.691428</td>\n",
       "    </tr>\n",
       "  </tbody>\n",
       "</table>\n",
       "</div>"
      ],
      "text/plain": [
       "    size          formula     score  size          formula  score_adj\n",
       "56     6  V ~ G:I+I+D+P+W  0.762030     6  V ~ G:I+I+D+P+W   0.682707\n",
       "57     6  V ~ G:I+I+D+N+W  0.789340     6  V ~ G:I+I+D+N+W   0.719119\n",
       "58     6    V ~ I+D+N+P+W  0.340481     6    V ~ I+D+N+P+W   0.120642\n",
       "59     6  V ~ G:I+I+D+N+P  0.788321     6  V ~ G:I+I+D+N+P   0.717762\n",
       "60     6  V ~ G:I+I+N+P+W  0.684002     6  V ~ G:I+I+N+P+W   0.578669\n",
       "61     6  V ~ G:I+D+N+P+W  0.768571     6  V ~ G:I+D+N+P+W   0.691428"
      ]
     },
     "execution_count": 27,
     "metadata": {},
     "output_type": "execute_result"
    }
   ],
   "source": [
    "pd.concat([scores_df[scores_df[\"size\"] == 6], \n",
    "           scores_adj_df[scores_adj_df[\"size\"] == 6]],\n",
    "         axis=1,\n",
    "         sort=False)"
   ]
  },
  {
   "cell_type": "markdown",
   "metadata": {},
   "source": [
    "### Mallow's $C_p$\n",
    "\n",
    "- $C_p({\\cal M}) = \\frac{SSE({\\cal M})}{\\widehat{\\sigma}^2} + 2 \\cdot p({\\cal M}) - n.$\n",
    "- $\\widehat{\\sigma}^2=SSE(F)/df_F$ is the \"best\" estimate of $\\sigma^2$ we have (use the fullest model), i.e. in the election data it uses all 6 main effects.\n",
    "- $SSE({\\cal M})$ is the $SSE$ of the model ${\\cal M}$.\n",
    "- $p({\\cal M})$ is the number of predictors in ${\\cal M}$.\n",
    "- This is an estimate of the expected mean-squared error of $\\widehat{Y}({\\cal M})$, it takes *bias* and *variance* into account."
   ]
  },
  {
   "cell_type": "markdown",
   "metadata": {},
   "source": [
    "If P regressors are selected from a set of K > P, the Cp statistic for that particular set of regressors is defined as:\n",
    "\n",
    "C_p = (SSE_p/S2) - n + 2p\n",
    "\n",
    "where:\n",
    "\n",
    "    * SSE_k: the error sum of squares for the model with P regressors, where $y_pi$ is the predicted value of the ith observation of Y from the p regressors\n",
    "    \n",
    "$$\n",
    "SSE_p = \\sum_{i=1}^n (Y_i - Y_{pi})^2.\n",
    "$$\n",
    "\n",
    "    * S2: the residual mean square after regression on the complete set of K regressors and can be estimated by mean square error MSE\n",
    "    \n",
    "    * n: number of observations\n",
    "    \n",
    "    * p: number of subset explanatory variables\n",
    "    \n",
    "Source: https://en.wikipedia.org/wiki/Mallows%27s_Cp\n",
    "Source: https://pypi.org/project/RegscorePy/"
   ]
  },
  {
   "cell_type": "markdown",
   "metadata": {},
   "source": [
    "**This is not equivalent to R leaps**"
   ]
  },
  {
   "cell_type": "code",
   "execution_count": 28,
   "metadata": {
    "collapsed": true
   },
   "outputs": [],
   "source": [
    "# heavily borrowed from the Source: https://pypi.org/project/RegscorePy/\n",
    "def calc_mallow_cp(y, y_pred, y_sub, k, p):\n",
    "    \"\"\"    \n",
    "    C_p = (SSE_p/MSE) - (n - 2p)\n",
    "    \"\"\"\n",
    "    n = len(y)\n",
    "    SSE_p = np.sum((y - y_sub)**2)\n",
    "    MSE = np.sum((y - y_pred)**2)/(n - k)\n",
    "    return (SSE_p / MSE) - (n - 2 * p)"
   ]
  },
  {
   "cell_type": "code",
   "execution_count": 29,
   "metadata": {
    "collapsed": false
   },
   "outputs": [],
   "source": [
    "# This is not equivalent to R leaps\n",
    "scores_cp_lst=[]\n",
    "for r in range(1, len(election_res.model.exog_names)+1):\n",
    "    comb = combinations(election_res.model.exog_names, r = r)\n",
    "    \n",
    "    # y\n",
    "    y = election_data[\"V\"]\n",
    "    \n",
    "    # full model\n",
    "    formula_full = 'V ~ I + D + W + G:I + P + N'\n",
    "    election_res_full = ols(formula_full, data=election_data).fit()\n",
    "    y_pred = election_res_full.predict()    \n",
    "    \n",
    "    for item in comb:\n",
    "        \n",
    "        # method='cp' in the R notebook\n",
    "        formula_subset = 'V ~ {}'.format('+'.join(set(item)))        \n",
    "        \n",
    "        # y_sub\n",
    "        election_res_sub = ols(formula_subset, election_data).fit()\n",
    "        y_sub = election_res_sub.predict()\n",
    "        \n",
    "        # mallow's cp\n",
    "        cp = calc_mallow_cp(y, y_pred, y_sub, k=6, p=len(set(item)))\n",
    "        scores_cp_lst.append((len(item)+1, formula, cp))"
   ]
  },
  {
   "cell_type": "code",
   "execution_count": 30,
   "metadata": {
    "collapsed": false
   },
   "outputs": [
    {
     "data": {
      "text/html": [
       "<div>\n",
       "<style scoped>\n",
       "    .dataframe tbody tr th:only-of-type {\n",
       "        vertical-align: middle;\n",
       "    }\n",
       "\n",
       "    .dataframe tbody tr th {\n",
       "        vertical-align: top;\n",
       "    }\n",
       "\n",
       "    .dataframe thead th {\n",
       "        text-align: right;\n",
       "    }\n",
       "</style>\n",
       "<table border=\"1\" class=\"dataframe\">\n",
       "  <thead>\n",
       "    <tr style=\"text-align: right;\">\n",
       "      <th></th>\n",
       "      <th>size</th>\n",
       "      <th>formula</th>\n",
       "      <th>Cp</th>\n",
       "    </tr>\n",
       "  </thead>\n",
       "  <tbody>\n",
       "    <tr>\n",
       "      <th>0</th>\n",
       "      <td>2</td>\n",
       "      <td>V ~ G:I+I+D+N+P+W</td>\n",
       "      <td>43.802434</td>\n",
       "    </tr>\n",
       "    <tr>\n",
       "      <th>1</th>\n",
       "      <td>2</td>\n",
       "      <td>V ~ G:I+I+D+N+P+W</td>\n",
       "      <td>34.586822</td>\n",
       "    </tr>\n",
       "    <tr>\n",
       "      <th>2</th>\n",
       "      <td>2</td>\n",
       "      <td>V ~ G:I+I+D+N+P+W</td>\n",
       "      <td>51.767416</td>\n",
       "    </tr>\n",
       "    <tr>\n",
       "      <th>3</th>\n",
       "      <td>2</td>\n",
       "      <td>V ~ G:I+I+D+N+P+W</td>\n",
       "      <td>8.680026</td>\n",
       "    </tr>\n",
       "    <tr>\n",
       "      <th>4</th>\n",
       "      <td>2</td>\n",
       "      <td>V ~ G:I+I+D+N+P+W</td>\n",
       "      <td>44.487956</td>\n",
       "    </tr>\n",
       "    <tr>\n",
       "      <th>5</th>\n",
       "      <td>2</td>\n",
       "      <td>V ~ G:I+I+D+N+P+W</td>\n",
       "      <td>50.834693</td>\n",
       "    </tr>\n",
       "    <tr>\n",
       "      <th>6</th>\n",
       "      <td>3</td>\n",
       "      <td>V ~ G:I+I+D+N+P+W</td>\n",
       "      <td>35.771487</td>\n",
       "    </tr>\n",
       "    <tr>\n",
       "      <th>7</th>\n",
       "      <td>3</td>\n",
       "      <td>V ~ G:I+I+D+N+P+W</td>\n",
       "      <td>41.477029</td>\n",
       "    </tr>\n",
       "    <tr>\n",
       "      <th>8</th>\n",
       "      <td>3</td>\n",
       "      <td>V ~ G:I+I+D+N+P+W</td>\n",
       "      <td>8.112744</td>\n",
       "    </tr>\n",
       "    <tr>\n",
       "      <th>9</th>\n",
       "      <td>3</td>\n",
       "      <td>V ~ G:I+I+D+N+P+W</td>\n",
       "      <td>35.695478</td>\n",
       "    </tr>\n",
       "  </tbody>\n",
       "</table>\n",
       "</div>"
      ],
      "text/plain": [
       "   size            formula         Cp\n",
       "0     2  V ~ G:I+I+D+N+P+W  43.802434\n",
       "1     2  V ~ G:I+I+D+N+P+W  34.586822\n",
       "2     2  V ~ G:I+I+D+N+P+W  51.767416\n",
       "3     2  V ~ G:I+I+D+N+P+W   8.680026\n",
       "4     2  V ~ G:I+I+D+N+P+W  44.487956\n",
       "5     2  V ~ G:I+I+D+N+P+W  50.834693\n",
       "6     3  V ~ G:I+I+D+N+P+W  35.771487\n",
       "7     3  V ~ G:I+I+D+N+P+W  41.477029\n",
       "8     3  V ~ G:I+I+D+N+P+W   8.112744\n",
       "9     3  V ~ G:I+I+D+N+P+W  35.695478"
      ]
     },
     "execution_count": 30,
     "metadata": {},
     "output_type": "execute_result"
    }
   ],
   "source": [
    "scores_cp_df = pd.DataFrame(scores_cp_lst, \n",
    "                            columns=[\"size\",\"formula\",\"Cp\"])\n",
    "scores_cp_df.head(10)"
   ]
  },
  {
   "cell_type": "code",
   "execution_count": 31,
   "metadata": {
    "collapsed": false
   },
   "outputs": [
    {
     "data": {
      "text/html": [
       "<div>\n",
       "<style scoped>\n",
       "    .dataframe tbody tr th:only-of-type {\n",
       "        vertical-align: middle;\n",
       "    }\n",
       "\n",
       "    .dataframe tbody tr th {\n",
       "        vertical-align: top;\n",
       "    }\n",
       "\n",
       "    .dataframe thead th {\n",
       "        text-align: right;\n",
       "    }\n",
       "</style>\n",
       "<table border=\"1\" class=\"dataframe\">\n",
       "  <thead>\n",
       "    <tr style=\"text-align: right;\">\n",
       "      <th></th>\n",
       "      <th>formula</th>\n",
       "      <th>Cp</th>\n",
       "    </tr>\n",
       "    <tr>\n",
       "      <th>size</th>\n",
       "      <th></th>\n",
       "      <th></th>\n",
       "    </tr>\n",
       "  </thead>\n",
       "  <tbody>\n",
       "    <tr>\n",
       "      <th>2</th>\n",
       "      <td>V ~ G:I+I+D+N+P+W</td>\n",
       "      <td>8.680026</td>\n",
       "    </tr>\n",
       "    <tr>\n",
       "      <th>3</th>\n",
       "      <td>V ~ G:I+I+D+N+P+W</td>\n",
       "      <td>1.948472</td>\n",
       "    </tr>\n",
       "    <tr>\n",
       "      <th>4</th>\n",
       "      <td>V ~ G:I+I+D+N+P+W</td>\n",
       "      <td>1.758198</td>\n",
       "    </tr>\n",
       "    <tr>\n",
       "      <th>5</th>\n",
       "      <td>V ~ G:I+I+D+N+P+W</td>\n",
       "      <td>2.110640</td>\n",
       "    </tr>\n",
       "    <tr>\n",
       "      <th>6</th>\n",
       "      <td>V ~ G:I+I+D+N+P+W</td>\n",
       "      <td>4.034870</td>\n",
       "    </tr>\n",
       "    <tr>\n",
       "      <th>7</th>\n",
       "      <td>V ~ G:I+I+D+N+P+W</td>\n",
       "      <td>6.000000</td>\n",
       "    </tr>\n",
       "  </tbody>\n",
       "</table>\n",
       "</div>"
      ],
      "text/plain": [
       "                formula        Cp\n",
       "size                             \n",
       "2     V ~ G:I+I+D+N+P+W  8.680026\n",
       "3     V ~ G:I+I+D+N+P+W  1.948472\n",
       "4     V ~ G:I+I+D+N+P+W  1.758198\n",
       "5     V ~ G:I+I+D+N+P+W  2.110640\n",
       "6     V ~ G:I+I+D+N+P+W  4.034870\n",
       "7     V ~ G:I+I+D+N+P+W  6.000000"
      ]
     },
     "execution_count": 31,
     "metadata": {},
     "output_type": "execute_result"
    }
   ],
   "source": [
    "scores_cp_df_grpd = scores_cp_df.groupby(\"size\").min()\n",
    "scores_cp_df_grpd"
   ]
  },
  {
   "cell_type": "code",
   "execution_count": 32,
   "metadata": {
    "collapsed": false
   },
   "outputs": [
    {
     "data": {
      "image/png": "[encoded data removed]",
      "text/plain": [
       "<matplotlib.figure.Figure at 0x7f9c5fa187b8>"
      ]
     },
     "metadata": {},
     "output_type": "display_data"
    }
   ],
   "source": [
    "plotting_size_vs_score(scores_cp_df_grpd.index, \n",
    "                       scores_cp_df_grpd[\"Cp\"], \n",
    "                       annotate=True,\n",
    "                       ymin=0,\n",
    "                       ymax=50)"
   ]
  },
  {
   "cell_type": "code",
   "execution_count": 33,
   "metadata": {
    "collapsed": false
   },
   "outputs": [
    {
     "data": {
      "image/png": "[encoded data removed]",
      "text/plain": [
       "<matplotlib.figure.Figure at 0x7f9c5fceb198>"
      ]
     },
     "metadata": {},
     "output_type": "display_data"
    }
   ],
   "source": [
    "plotting_size_vs_score(scores_cp_df[\"size\"], \n",
    "                       scores_cp_df[\"Cp\"], \n",
    "                       annotate=False,\n",
    "                       ymin=0,\n",
    "                       ymax=50)"
   ]
  },
  {
   "cell_type": "code",
   "execution_count": 34,
   "metadata": {
    "collapsed": false
   },
   "outputs": [
    {
     "data": {
      "image/png": "[encoded data removed]",
      "text/plain": [
       "<matplotlib.figure.Figure at 0x7f9c625dd4e0>"
      ]
     },
     "metadata": {},
     "output_type": "display_data"
    }
   ],
   "source": [
    "# best 3\n",
    "best_cp_lst=[]\n",
    "for i, group in scores_cp_df.groupby(\"size\"):\n",
    "    best_df = group.sort_values(\"Cp\")\n",
    "    best_cp_lst.append(best_df.iloc[:3,:])\n",
    "\n",
    "# plot them\n",
    "choose_best_cp_df = pd.concat(best_cp_lst)\n",
    "plotting_size_vs_score(choose_best_cp_df[\"size\"], \n",
    "                       choose_best_cp_df[\"Cp\"], \n",
    "                       annotate=True,\n",
    "                       ymin=0,\n",
    "                       ymax=50)"
   ]
  }
 ],
 "metadata": {
  "kernelspec": {
   "display_name": "Python 3",
   "language": "python",
   "name": "python3"
  },
  "language_info": {
   "codemirror_mode": {
    "name": "ipython",
    "version": 3
   },
   "file_extension": ".py",
   "mimetype": "text/x-python",
   "name": "python",
   "nbconvert_exporter": "python",
   "pygments_lexer": "ipython3",
   "version": "3.6.0"
  }
 },
 "nbformat": 4,
 "nbformat_minor": 2
}
