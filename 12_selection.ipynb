{
 "cells": [
  {
   "cell_type": "markdown",
   "metadata": {},
   "source": [
    "R => Python  \n",
    "Source: https://web.stanford.edu/class/stats191/notebooks/Selection.html\n",
    "\n",
    "\n",
    "NOTE: \n",
    "* Not exactly porting R to Python.\n",
    "* Also not [rpy2](https://rpy2.readthedocs.io/en/version_2.8.x/)"
   ]
  },
  {
   "cell_type": "markdown",
   "metadata": {},
   "source": [
    "## Model selection\n",
    "\n",
    "In a given regression situation, there are often many choices to\n",
    "be made. Recall our usual setup\n",
    "$$\n",
    "Y_{n \\times 1} = X_{n \\times p} \\beta_{p \\times 1} + \\epsilon_{n \\times 1}.\n",
    "$$\n",
    "\n",
    "Any *subset $A \\subset \\{1, \\dots, p\\}$* yields a new regression model\n",
    "$$\n",
    "{\\cal M}(A): Y_{n \\times 1} = X[,A] \\beta[A] + \\epsilon_{n \\times 1}\n",
    "$$\n",
    "by setting $\\beta[A^c]=0$.\n",
    "\n",
    "**Model selection** is, roughly speaking, how to choose $A$ among the\n",
    "$2^p$ possible choices."
   ]
  },
  {
   "cell_type": "code",
   "execution_count": 1,
   "metadata": {
    "collapsed": true
   },
   "outputs": [],
   "source": [
    "import os\n",
    "import numpy as np\n",
    "import pandas as pd\n",
    "from scipy import stats\n",
    "import statsmodels.api as sm\n",
    "from statsmodels.formula.api import ols\n",
    "from statsmodels.formula.api import glm\n",
    "from statsmodels.regression.linear_model import OLS\n",
    "import matplotlib.pyplot as plt\n",
    "import seaborn as sns\n",
    "\n",
    "from sklearn.model_selection import cross_val_score\n"
   ]
  },
  {
   "cell_type": "code",
   "execution_count": 2,
   "metadata": {
    "collapsed": false
   },
   "outputs": [
    {
     "data": {
      "text/plain": [
       "'0.9.0'"
      ]
     },
     "execution_count": 2,
     "metadata": {},
     "output_type": "execute_result"
    }
   ],
   "source": [
    "sm.version.version"
   ]
  },
  {
   "cell_type": "code",
   "execution_count": 3,
   "metadata": {
    "collapsed": false
   },
   "outputs": [
    {
     "data": {
      "text/plain": [
       "'0.18.1'"
      ]
     },
     "execution_count": 3,
     "metadata": {},
     "output_type": "execute_result"
    }
   ],
   "source": [
    "import scipy; scipy.__version__"
   ]
  },
  {
   "cell_type": "markdown",
   "metadata": {},
   "source": [
    "### Election data\n",
    "\n",
    "Here is a dataset from the book that we will use to explore different model selection approaches.\n",
    "\n",
    "Variable | Description\n",
    "--- | ---\n",
    "$V$ | votes for a presidential candidate\n",
    "$I$ | are they incumbent?\n",
    "$D$ | Democrat or Republican incumbent?\n",
    "$W$ | wartime election?\n",
    "$G$ | GDP growth rate in election year\n",
    "$P$ | (absolute) GDP deflator growth rate\n",
    "$N$ | number of quarters in which GDP growth rate $> 3.2\\%$"
   ]
  },
  {
   "cell_type": "code",
   "execution_count": 4,
   "metadata": {
    "collapsed": false
   },
   "outputs": [
    {
     "name": "stderr",
     "output_type": "stream",
     "text": [
      "/home/doojung/anaconda3/lib/python3.6/site-packages/ipykernel/__main__.py:2: FutureWarning: read_table is deprecated, use read_csv instead, passing sep='\\t'.\n",
      "  from ipykernel import kernelapp as app\n"
     ]
    },
    {
     "data": {
      "text/html": [
       "<div>\n",
       "<style scoped>\n",
       "    .dataframe tbody tr th:only-of-type {\n",
       "        vertical-align: middle;\n",
       "    }\n",
       "\n",
       "    .dataframe tbody tr th {\n",
       "        vertical-align: top;\n",
       "    }\n",
       "\n",
       "    .dataframe thead th {\n",
       "        text-align: right;\n",
       "    }\n",
       "</style>\n",
       "<table border=\"1\" class=\"dataframe\">\n",
       "  <thead>\n",
       "    <tr style=\"text-align: right;\">\n",
       "      <th></th>\n",
       "      <th>Year</th>\n",
       "      <th>V</th>\n",
       "      <th>I</th>\n",
       "      <th>D</th>\n",
       "      <th>W</th>\n",
       "      <th>G</th>\n",
       "      <th>P</th>\n",
       "      <th>N</th>\n",
       "    </tr>\n",
       "  </thead>\n",
       "  <tbody>\n",
       "    <tr>\n",
       "      <th>0</th>\n",
       "      <td>1916</td>\n",
       "      <td>0.5168</td>\n",
       "      <td>1</td>\n",
       "      <td>1</td>\n",
       "      <td>0</td>\n",
       "      <td>2.229</td>\n",
       "      <td>4.252</td>\n",
       "      <td>3</td>\n",
       "    </tr>\n",
       "    <tr>\n",
       "      <th>1</th>\n",
       "      <td>1920</td>\n",
       "      <td>0.3612</td>\n",
       "      <td>1</td>\n",
       "      <td>0</td>\n",
       "      <td>1</td>\n",
       "      <td>-11.463</td>\n",
       "      <td>16.535</td>\n",
       "      <td>5</td>\n",
       "    </tr>\n",
       "    <tr>\n",
       "      <th>2</th>\n",
       "      <td>1924</td>\n",
       "      <td>0.4176</td>\n",
       "      <td>-1</td>\n",
       "      <td>-1</td>\n",
       "      <td>0</td>\n",
       "      <td>-3.872</td>\n",
       "      <td>5.161</td>\n",
       "      <td>10</td>\n",
       "    </tr>\n",
       "    <tr>\n",
       "      <th>3</th>\n",
       "      <td>1928</td>\n",
       "      <td>0.4118</td>\n",
       "      <td>-1</td>\n",
       "      <td>0</td>\n",
       "      <td>0</td>\n",
       "      <td>4.623</td>\n",
       "      <td>0.183</td>\n",
       "      <td>7</td>\n",
       "    </tr>\n",
       "    <tr>\n",
       "      <th>4</th>\n",
       "      <td>1932</td>\n",
       "      <td>0.5916</td>\n",
       "      <td>-1</td>\n",
       "      <td>-1</td>\n",
       "      <td>0</td>\n",
       "      <td>-14.901</td>\n",
       "      <td>7.069</td>\n",
       "      <td>4</td>\n",
       "    </tr>\n",
       "  </tbody>\n",
       "</table>\n",
       "</div>"
      ],
      "text/plain": [
       "   Year       V    I    D    W       G       P    N  \n",
       "0    1916  0.5168    1    1    0   2.229   4.252    3\n",
       "1    1920  0.3612    1    0    1 -11.463  16.535    5\n",
       "2    1924  0.4176   -1   -1    0  -3.872   5.161   10\n",
       "3    1928  0.4118   -1    0    0   4.623   0.183    7\n",
       "4    1932  0.5916   -1   -1    0 -14.901   7.069    4"
      ]
     },
     "execution_count": 4,
     "metadata": {},
     "output_type": "execute_result"
    }
   ],
   "source": [
    "url = 'http://stats191.stanford.edu/data/election.table'\n",
    "election_data = pd.read_table(url)\n",
    "election_data.head()"
   ]
  },
  {
   "cell_type": "code",
   "execution_count": 5,
   "metadata": {
    "collapsed": false
   },
   "outputs": [],
   "source": [
    "# sns.pairplot(election_data)\n",
    "# plt.show()"
   ]
  },
  {
   "cell_type": "markdown",
   "metadata": {},
   "source": [
    "## Problem & Goals\n",
    "\n",
    "* When we have many predictors (with many possible interactions), it can be difficult to find a good model.\n",
    "* Which main effects do we include?\n",
    "* Which interactions do we include?\n",
    "* Model selection procedures try to *simplify / automate* this task.\n",
    "* Election data has $2^6=64$ different models with just main effects!\n",
    "\n",
    "## General comments\n",
    "\n",
    "- This is generally an \"unsolved\" problem in statistics: there are no magic procedures to get you the \"best model.\"\n",
    "\n",
    "- Many machine learning methods look for good \"sparse\" models: selecting a \"sparse\" model.\n",
    "\n",
    "- \"Machine learning\" often work with very many predictors.\n",
    "\n",
    "- Our model selection problem is generally at a much smaller scale than \"data mining\" problems.\n",
    "\n",
    "- Still, it is a hard problem.\n",
    "\n",
    "- **Inference after selection is full of pitfalls!** \n",
    "\n",
    "\n",
    "\n",
    "## Hypothetical example\n",
    "* Suppose we fit a a model $F: \\quad Y_{n \\times 1} = X_{n \\times p} \\beta_{p \\times 1} + \\varepsilon_{n \\times 1}$ with predictors ${ X}_1, \\dots, { X}_p$.\n",
    "* In reality, some of the $\\beta$s may be zero. Let's suppose that $\\beta_{j+1}= \\dots= \\beta_{p}=0$.\n",
    "* Then, any model that includes $\\beta_0, \\dots, \\beta_j$ is *correct*: which model gives the *best* estimates of $\\beta_0, \\dots, \\beta_j$?\n",
    "* Principle of *parsimony* (i.e. Occam's razor) says that the model with *only* ${X}_1, \\dots, {X}_j$ is \"best\".\n",
    "\n",
    "## Justifying parsimony\n",
    "\n",
    "- For simplicity, let's assume that $j=1$ so there is only one coefficient to estimate.\n",
    "- Then, because each model gives an *unbiased* estimate of $\\beta_1$ we can compare models based on $\\text{Var}(\\widehat{\\beta}_1).$\n",
    "- The best model, in terms of this variance, is the one containing only ${ X}_1$.\n",
    "- What if we didn't know that only $\\beta_1$ was non-zero (which we don't know in general)?\n",
    "- In this situation, we must choose a set of variables.\n",
    "\n",
    "## Model selection: choosing a subset of variables\n",
    "\n",
    "* To \"implement\" a model selection procedure, we first need a criterion or benchmark to compare two models.\n",
    "* Given a criterion, we also need a search strategy.\n",
    "* With a limited number of predictors, it is possible to search all possible models (`leaps` in `R`).\n",
    "\n",
    "## Candidate criteria\n",
    "\n",
    "Possible criteria:\n",
    "\n",
    "* $R^2$: not a good criterion. Always increase with model size $\\implies$ \"optimum\" is to take the biggest model.\n",
    "* Adjusted $R^2$: better. It \"penalized\" bigger models. Follows principle of parsimony / Occam's razor.\n",
    "* Mallow's $C_p$ - attempts to estimate a model's predictive power, i.e. the power to predict a new observation.\n",
    "\n",
    "### Best subsets, $R^2$\n",
    "\n",
    "Leaps takes a design matrix as argument: throw away the intercept\n",
    "column or leaps will complain.\n"
   ]
  },
  {
   "cell_type": "code",
   "execution_count": 6,
   "metadata": {
    "collapsed": true
   },
   "outputs": [],
   "source": [
    "# R leaps: Regression subset selection, including exhaustive search\n",
    "# Source: https://cran.r-project.org/web/packages/leaps/leaps.pdf"
   ]
  },
  {
   "cell_type": "code",
   "execution_count": 7,
   "metadata": {
    "collapsed": false
   },
   "outputs": [
    {
     "data": {
      "text/html": [
       "<div>\n",
       "<style scoped>\n",
       "    .dataframe tbody tr th:only-of-type {\n",
       "        vertical-align: middle;\n",
       "    }\n",
       "\n",
       "    .dataframe tbody tr th {\n",
       "        vertical-align: top;\n",
       "    }\n",
       "\n",
       "    .dataframe thead th {\n",
       "        text-align: right;\n",
       "    }\n",
       "</style>\n",
       "<table border=\"1\" class=\"dataframe\">\n",
       "  <thead>\n",
       "    <tr style=\"text-align: right;\">\n",
       "      <th></th>\n",
       "      <th>Year</th>\n",
       "      <th>V</th>\n",
       "      <th>I</th>\n",
       "      <th>D</th>\n",
       "      <th>W</th>\n",
       "      <th>G</th>\n",
       "      <th>P</th>\n",
       "      <th>N</th>\n",
       "    </tr>\n",
       "  </thead>\n",
       "  <tbody>\n",
       "    <tr>\n",
       "      <th>0</th>\n",
       "      <td>1916</td>\n",
       "      <td>0.5168</td>\n",
       "      <td>1</td>\n",
       "      <td>1</td>\n",
       "      <td>0</td>\n",
       "      <td>2.229</td>\n",
       "      <td>4.252</td>\n",
       "      <td>3</td>\n",
       "    </tr>\n",
       "    <tr>\n",
       "      <th>1</th>\n",
       "      <td>1920</td>\n",
       "      <td>0.3612</td>\n",
       "      <td>1</td>\n",
       "      <td>0</td>\n",
       "      <td>1</td>\n",
       "      <td>-11.463</td>\n",
       "      <td>16.535</td>\n",
       "      <td>5</td>\n",
       "    </tr>\n",
       "    <tr>\n",
       "      <th>2</th>\n",
       "      <td>1924</td>\n",
       "      <td>0.4176</td>\n",
       "      <td>-1</td>\n",
       "      <td>-1</td>\n",
       "      <td>0</td>\n",
       "      <td>-3.872</td>\n",
       "      <td>5.161</td>\n",
       "      <td>10</td>\n",
       "    </tr>\n",
       "    <tr>\n",
       "      <th>3</th>\n",
       "      <td>1928</td>\n",
       "      <td>0.4118</td>\n",
       "      <td>-1</td>\n",
       "      <td>0</td>\n",
       "      <td>0</td>\n",
       "      <td>4.623</td>\n",
       "      <td>0.183</td>\n",
       "      <td>7</td>\n",
       "    </tr>\n",
       "    <tr>\n",
       "      <th>4</th>\n",
       "      <td>1932</td>\n",
       "      <td>0.5916</td>\n",
       "      <td>-1</td>\n",
       "      <td>-1</td>\n",
       "      <td>0</td>\n",
       "      <td>-14.901</td>\n",
       "      <td>7.069</td>\n",
       "      <td>4</td>\n",
       "    </tr>\n",
       "  </tbody>\n",
       "</table>\n",
       "</div>"
      ],
      "text/plain": [
       "   Year       V    I    D    W       G       P    N  \n",
       "0    1916  0.5168    1    1    0   2.229   4.252    3\n",
       "1    1920  0.3612    1    0    1 -11.463  16.535    5\n",
       "2    1924  0.4176   -1   -1    0  -3.872   5.161   10\n",
       "3    1928  0.4118   -1    0    0   4.623   0.183    7\n",
       "4    1932  0.5916   -1   -1    0 -14.901   7.069    4"
      ]
     },
     "execution_count": 7,
     "metadata": {},
     "output_type": "execute_result"
    }
   ],
   "source": [
    "election_data.head()"
   ]
  },
  {
   "cell_type": "code",
   "execution_count": 8,
   "metadata": {
    "collapsed": false
   },
   "outputs": [
    {
     "data": {
      "text/plain": [
       "Index(['Year  ', 'V  ', 'I  ', 'D  ', 'W  ', 'G  ', 'P  ', 'N  '], dtype='object')"
      ]
     },
     "execution_count": 8,
     "metadata": {},
     "output_type": "execute_result"
    }
   ],
   "source": [
    "election_data.columns"
   ]
  },
  {
   "cell_type": "code",
   "execution_count": 9,
   "metadata": {
    "collapsed": false
   },
   "outputs": [
    {
     "data": {
      "text/plain": [
       "Index(['Year', 'V', 'I', 'D', 'W', 'G', 'P', 'N'], dtype='object')"
      ]
     },
     "execution_count": 9,
     "metadata": {},
     "output_type": "execute_result"
    }
   ],
   "source": [
    "election_data.rename(columns={\"Year  \":\"Year\",\n",
    "                               \"V  \":\"V\",\n",
    "                               \"I  \":\"I\",\n",
    "                               \"D  \":\"D\",\n",
    "                               \"W  \":\"W\",\n",
    "                               \"G  \":\"G\",\n",
    "                               \"P  \":\"P\",\n",
    "                               \"N  \":\"N\" \n",
    "                               }, inplace=True)\n",
    "election_data.columns"
   ]
  },
  {
   "cell_type": "code",
   "execution_count": 10,
   "metadata": {
    "collapsed": false
   },
   "outputs": [
    {
     "data": {
      "text/html": [
       "<table class=\"simpletable\">\n",
       "<caption>OLS Regression Results</caption>\n",
       "<tr>\n",
       "  <th>Dep. Variable:</th>            <td>V</td>        <th>  R-squared:         </th> <td>   0.790</td>\n",
       "</tr>\n",
       "<tr>\n",
       "  <th>Model:</th>                   <td>OLS</td>       <th>  Adj. R-squared:    </th> <td>   0.700</td>\n",
       "</tr>\n",
       "<tr>\n",
       "  <th>Method:</th>             <td>Least Squares</td>  <th>  F-statistic:       </th> <td>   8.769</td>\n",
       "</tr>\n",
       "<tr>\n",
       "  <th>Date:</th>             <td>Mon, 01 Jul 2019</td> <th>  Prob (F-statistic):</th> <td>0.000435</td>\n",
       "</tr>\n",
       "<tr>\n",
       "  <th>Time:</th>                 <td>21:49:23</td>     <th>  Log-Likelihood:    </th> <td>  41.470</td>\n",
       "</tr>\n",
       "<tr>\n",
       "  <th>No. Observations:</th>      <td>    21</td>      <th>  AIC:               </th> <td>  -68.94</td>\n",
       "</tr>\n",
       "<tr>\n",
       "  <th>Df Residuals:</th>          <td>    14</td>      <th>  BIC:               </th> <td>  -61.63</td>\n",
       "</tr>\n",
       "<tr>\n",
       "  <th>Df Model:</th>              <td>     6</td>      <th>                     </th>     <td> </td>   \n",
       "</tr>\n",
       "<tr>\n",
       "  <th>Covariance Type:</th>      <td>nonrobust</td>    <th>                     </th>     <td> </td>   \n",
       "</tr>\n",
       "</table>\n",
       "<table class=\"simpletable\">\n",
       "<tr>\n",
       "      <td></td>         <th>coef</th>     <th>std err</th>      <th>t</th>      <th>P>|t|</th>  <th>[0.025</th>    <th>0.975]</th>  \n",
       "</tr>\n",
       "<tr>\n",
       "  <th>Intercept</th> <td>    0.5112</td> <td>    0.032</td> <td>   15.875</td> <td> 0.000</td> <td>    0.442</td> <td>    0.580</td>\n",
       "</tr>\n",
       "<tr>\n",
       "  <th>I</th>         <td>   -0.0201</td> <td>    0.017</td> <td>   -1.190</td> <td> 0.254</td> <td>   -0.056</td> <td>    0.016</td>\n",
       "</tr>\n",
       "<tr>\n",
       "  <th>D</th>         <td>    0.0546</td> <td>    0.021</td> <td>    2.655</td> <td> 0.019</td> <td>    0.010</td> <td>    0.099</td>\n",
       "</tr>\n",
       "<tr>\n",
       "  <th>W</th>         <td>    0.0134</td> <td>    0.042</td> <td>    0.317</td> <td> 0.756</td> <td>   -0.077</td> <td>    0.104</td>\n",
       "</tr>\n",
       "<tr>\n",
       "  <th>G:I</th>       <td>    0.0097</td> <td>    0.002</td> <td>    5.471</td> <td> 0.000</td> <td>    0.006</td> <td>    0.013</td>\n",
       "</tr>\n",
       "<tr>\n",
       "  <th>P</th>         <td>   -0.0007</td> <td>    0.004</td> <td>   -0.180</td> <td> 0.859</td> <td>   -0.009</td> <td>    0.008</td>\n",
       "</tr>\n",
       "<tr>\n",
       "  <th>N</th>         <td>   -0.0052</td> <td>    0.004</td> <td>   -1.361</td> <td> 0.195</td> <td>   -0.013</td> <td>    0.003</td>\n",
       "</tr>\n",
       "</table>\n",
       "<table class=\"simpletable\">\n",
       "<tr>\n",
       "  <th>Omnibus:</th>       <td> 6.714</td> <th>  Durbin-Watson:     </th> <td>   2.204</td>\n",
       "</tr>\n",
       "<tr>\n",
       "  <th>Prob(Omnibus):</th> <td> 0.035</td> <th>  Jarque-Bera (JB):  </th> <td>   4.488</td>\n",
       "</tr>\n",
       "<tr>\n",
       "  <th>Skew:</th>          <td> 1.074</td> <th>  Prob(JB):          </th> <td>   0.106</td>\n",
       "</tr>\n",
       "<tr>\n",
       "  <th>Kurtosis:</th>      <td> 3.719</td> <th>  Cond. No.          </th> <td>    43.9</td>\n",
       "</tr>\n",
       "</table><br/><br/>Warnings:<br/>[1] Standard Errors assume that the covariance matrix of the errors is correctly specified."
      ],
      "text/plain": [
       "<class 'statsmodels.iolib.summary.Summary'>\n",
       "\"\"\"\n",
       "                            OLS Regression Results                            \n",
       "==============================================================================\n",
       "Dep. Variable:                      V   R-squared:                       0.790\n",
       "Model:                            OLS   Adj. R-squared:                  0.700\n",
       "Method:                 Least Squares   F-statistic:                     8.769\n",
       "Date:                Mon, 01 Jul 2019   Prob (F-statistic):           0.000435\n",
       "Time:                        21:49:23   Log-Likelihood:                 41.470\n",
       "No. Observations:                  21   AIC:                            -68.94\n",
       "Df Residuals:                      14   BIC:                            -61.63\n",
       "Df Model:                           6                                         \n",
       "Covariance Type:            nonrobust                                         \n",
       "==============================================================================\n",
       "                 coef    std err          t      P>|t|      [0.025      0.975]\n",
       "------------------------------------------------------------------------------\n",
       "Intercept      0.5112      0.032     15.875      0.000       0.442       0.580\n",
       "I             -0.0201      0.017     -1.190      0.254      -0.056       0.016\n",
       "D              0.0546      0.021      2.655      0.019       0.010       0.099\n",
       "W              0.0134      0.042      0.317      0.756      -0.077       0.104\n",
       "G:I            0.0097      0.002      5.471      0.000       0.006       0.013\n",
       "P             -0.0007      0.004     -0.180      0.859      -0.009       0.008\n",
       "N             -0.0052      0.004     -1.361      0.195      -0.013       0.003\n",
       "==============================================================================\n",
       "Omnibus:                        6.714   Durbin-Watson:                   2.204\n",
       "Prob(Omnibus):                  0.035   Jarque-Bera (JB):                4.488\n",
       "Skew:                           1.074   Prob(JB):                        0.106\n",
       "Kurtosis:                       3.719   Cond. No.                         43.9\n",
       "==============================================================================\n",
       "\n",
       "Warnings:\n",
       "[1] Standard Errors assume that the covariance matrix of the errors is correctly specified.\n",
       "\"\"\""
      ]
     },
     "execution_count": 10,
     "metadata": {},
     "output_type": "execute_result"
    }
   ],
   "source": [
    "election_res = ols('V ~ I + D + W + G:I + P + N', data=election_data).fit()\n",
    "election_res.summary()"
   ]
  },
  {
   "cell_type": "markdown",
   "metadata": {},
   "source": [
    "Could not find the Python equivalent to R package, \"leaps\"  \n",
    "\n",
    "Source: https://stackoverflow.com/questions/37624920/subset-regression-in-python-via-exhaustive-search  \n",
    "Source: https://datascience.stackexchange.com/questions/937/does-scikit-learn-have-forward-selection-stepwise-regression-algorithm"
   ]
  },
  {
   "cell_type": "code",
   "execution_count": 11,
   "metadata": {
    "collapsed": false
   },
   "outputs": [],
   "source": [
    "election_res.model.exog_names.remove(\"Intercept\")"
   ]
  },
  {
   "cell_type": "code",
   "execution_count": 12,
   "metadata": {
    "collapsed": false
   },
   "outputs": [
    {
     "data": {
      "text/plain": [
       "['I', 'D', 'W', 'G:I', 'P', 'N']"
      ]
     },
     "execution_count": 12,
     "metadata": {},
     "output_type": "execute_result"
    }
   ],
   "source": [
    "election_res.model.exog_names"
   ]
  },
  {
   "cell_type": "markdown",
   "metadata": {},
   "source": [
    "**This is not equivalent to R leaps**"
   ]
  },
  {
   "cell_type": "code",
   "execution_count": 13,
   "metadata": {
    "collapsed": false,
    "scrolled": true
   },
   "outputs": [],
   "source": [
    "# This is not equivalent to R leaps\n",
    "from itertools import combinations\n",
    "scores_lst=[]\n",
    "for r in range(1, len(election_res.model.exog_names)+1):\n",
    "    comb = combinations(election_res.model.exog_names, r = r)\n",
    "    for item in comb:\n",
    "        formula = 'V ~ {}'.format('+'.join(set(item)))\n",
    "        \n",
    "        # method='r2' in the R notebook\n",
    "        score = ols(formula, election_data).fit().rsquared\n",
    "        scores_lst.append((len(item)+1, formula, score))"
   ]
  },
  {
   "cell_type": "code",
   "execution_count": 14,
   "metadata": {
    "collapsed": false
   },
   "outputs": [
    {
     "data": {
      "text/html": [
       "<div>\n",
       "<style scoped>\n",
       "    .dataframe tbody tr th:only-of-type {\n",
       "        vertical-align: middle;\n",
       "    }\n",
       "\n",
       "    .dataframe tbody tr th {\n",
       "        vertical-align: top;\n",
       "    }\n",
       "\n",
       "    .dataframe thead th {\n",
       "        text-align: right;\n",
       "    }\n",
       "</style>\n",
       "<table border=\"1\" class=\"dataframe\">\n",
       "  <thead>\n",
       "    <tr style=\"text-align: right;\">\n",
       "      <th></th>\n",
       "      <th>size</th>\n",
       "      <th>formula</th>\n",
       "      <th>score</th>\n",
       "    </tr>\n",
       "  </thead>\n",
       "  <tbody>\n",
       "    <tr>\n",
       "      <th>0</th>\n",
       "      <td>2</td>\n",
       "      <td>V ~ I</td>\n",
       "      <td>0.120047</td>\n",
       "    </tr>\n",
       "    <tr>\n",
       "      <th>1</th>\n",
       "      <td>2</td>\n",
       "      <td>V ~ D</td>\n",
       "      <td>0.249171</td>\n",
       "    </tr>\n",
       "    <tr>\n",
       "      <th>2</th>\n",
       "      <td>2</td>\n",
       "      <td>V ~ W</td>\n",
       "      <td>0.008446</td>\n",
       "    </tr>\n",
       "    <tr>\n",
       "      <th>3</th>\n",
       "      <td>2</td>\n",
       "      <td>V ~ G:I</td>\n",
       "      <td>0.612163</td>\n",
       "    </tr>\n",
       "    <tr>\n",
       "      <th>4</th>\n",
       "      <td>2</td>\n",
       "      <td>V ~ P</td>\n",
       "      <td>0.110441</td>\n",
       "    </tr>\n",
       "    <tr>\n",
       "      <th>5</th>\n",
       "      <td>2</td>\n",
       "      <td>V ~ N</td>\n",
       "      <td>0.021514</td>\n",
       "    </tr>\n",
       "    <tr>\n",
       "      <th>6</th>\n",
       "      <td>3</td>\n",
       "      <td>V ~ I+D</td>\n",
       "      <td>0.260595</td>\n",
       "    </tr>\n",
       "    <tr>\n",
       "      <th>7</th>\n",
       "      <td>3</td>\n",
       "      <td>V ~ I+W</td>\n",
       "      <td>0.180652</td>\n",
       "    </tr>\n",
       "    <tr>\n",
       "      <th>8</th>\n",
       "      <td>3</td>\n",
       "      <td>V ~ I+G:I</td>\n",
       "      <td>0.648134</td>\n",
       "    </tr>\n",
       "    <tr>\n",
       "      <th>9</th>\n",
       "      <td>3</td>\n",
       "      <td>V ~ I+P</td>\n",
       "      <td>0.261660</td>\n",
       "    </tr>\n",
       "  </tbody>\n",
       "</table>\n",
       "</div>"
      ],
      "text/plain": [
       "   size    formula     score\n",
       "0     2      V ~ I  0.120047\n",
       "1     2      V ~ D  0.249171\n",
       "2     2      V ~ W  0.008446\n",
       "3     2    V ~ G:I  0.612163\n",
       "4     2      V ~ P  0.110441\n",
       "5     2      V ~ N  0.021514\n",
       "6     3    V ~ I+D  0.260595\n",
       "7     3    V ~ I+W  0.180652\n",
       "8     3  V ~ I+G:I  0.648134\n",
       "9     3    V ~ I+P  0.261660"
      ]
     },
     "execution_count": 14,
     "metadata": {},
     "output_type": "execute_result"
    }
   ],
   "source": [
    "scores_df = pd.DataFrame(scores_lst, columns=[\"size\",\"formula\",\"score\"])\n",
    "scores_df.head(10)"
   ]
  },
  {
   "cell_type": "markdown",
   "metadata": {},
   "source": [
    "Let's plot the $R^2$ as a function of the model size. We see that the\n",
    "full model does include all variables. "
   ]
  },
  {
   "cell_type": "code",
   "execution_count": 15,
   "metadata": {
    "collapsed": false
   },
   "outputs": [
    {
     "data": {
      "text/html": [
       "<div>\n",
       "<style scoped>\n",
       "    .dataframe tbody tr th:only-of-type {\n",
       "        vertical-align: middle;\n",
       "    }\n",
       "\n",
       "    .dataframe tbody tr th {\n",
       "        vertical-align: top;\n",
       "    }\n",
       "\n",
       "    .dataframe thead th {\n",
       "        text-align: right;\n",
       "    }\n",
       "</style>\n",
       "<table border=\"1\" class=\"dataframe\">\n",
       "  <thead>\n",
       "    <tr style=\"text-align: right;\">\n",
       "      <th></th>\n",
       "      <th>formula</th>\n",
       "      <th>score</th>\n",
       "    </tr>\n",
       "    <tr>\n",
       "      <th>size</th>\n",
       "      <th></th>\n",
       "      <th></th>\n",
       "    </tr>\n",
       "  </thead>\n",
       "  <tbody>\n",
       "    <tr>\n",
       "      <th>2</th>\n",
       "      <td>V ~ W</td>\n",
       "      <td>0.612163</td>\n",
       "    </tr>\n",
       "    <tr>\n",
       "      <th>3</th>\n",
       "      <td>V ~ W+D</td>\n",
       "      <td>0.734504</td>\n",
       "    </tr>\n",
       "    <tr>\n",
       "      <th>4</th>\n",
       "      <td>V ~ W+G:I+D</td>\n",
       "      <td>0.765193</td>\n",
       "    </tr>\n",
       "    <tr>\n",
       "      <th>5</th>\n",
       "      <td>V ~ W+G:I+D+P</td>\n",
       "      <td>0.788278</td>\n",
       "    </tr>\n",
       "    <tr>\n",
       "      <th>6</th>\n",
       "      <td>V ~ W+P+D+I+G:I</td>\n",
       "      <td>0.789340</td>\n",
       "    </tr>\n",
       "    <tr>\n",
       "      <th>7</th>\n",
       "      <td>V ~ W+N+P+D+I+G:I</td>\n",
       "      <td>0.789828</td>\n",
       "    </tr>\n",
       "  </tbody>\n",
       "</table>\n",
       "</div>"
      ],
      "text/plain": [
       "                formula     score\n",
       "size                             \n",
       "2                 V ~ W  0.612163\n",
       "3               V ~ W+D  0.734504\n",
       "4           V ~ W+G:I+D  0.765193\n",
       "5         V ~ W+G:I+D+P  0.788278\n",
       "6       V ~ W+P+D+I+G:I  0.789340\n",
       "7     V ~ W+N+P+D+I+G:I  0.789828"
      ]
     },
     "execution_count": 15,
     "metadata": {},
     "output_type": "execute_result"
    }
   ],
   "source": [
    "scores_df_grpd = scores_df.groupby(\"size\").max()\n",
    "scores_df_grpd"
   ]
  },
  {
   "cell_type": "code",
   "execution_count": 16,
   "metadata": {
    "collapsed": true
   },
   "outputs": [],
   "source": [
    "def plotting_size_vs_score(x, y, annotate=False, \n",
    "                           xlabel='size', ylabel='r2', \n",
    "                           ymin=0, ymax=0.85):\n",
    "    plt.scatter(x, y)\n",
    "    \n",
    "    if annotate == True:\n",
    "        labels = ['{}'.format(round(i, 3)) for i in y]\n",
    "        for label, x, y in zip(labels, x, y):\n",
    "            plt.annotate(label, xy=(x, y), alpha=0.5)\n",
    "\n",
    "    plt.xlabel(xlabel)\n",
    "    plt.ylabel(ylabel)\n",
    "    plt.ylim(ymin, ymax)\n",
    "    plt.show()"
   ]
  },
  {
   "cell_type": "code",
   "execution_count": 17,
   "metadata": {
    "collapsed": false
   },
   "outputs": [
    {
     "data": {
      "image/png": "[encoded data removed]",
      "text/plain": [
       "<matplotlib.figure.Figure at 0x7fc76aa6fe10>"
      ]
     },
     "metadata": {},
     "output_type": "display_data"
    }
   ],
   "source": [
    "plotting_size_vs_score(scores_df_grpd.index, \n",
    "                       scores_df_grpd[\"score\"], \n",
    "                       annotate=True)"
   ]
  },
  {
   "cell_type": "code",
   "execution_count": 18,
   "metadata": {
    "collapsed": false
   },
   "outputs": [
    {
     "data": {
      "image/png": "[encoded data removed]",
      "text/plain": [
       "<matplotlib.figure.Figure at 0x7fc7680c8dd8>"
      ]
     },
     "metadata": {},
     "output_type": "display_data"
    }
   ],
   "source": [
    "plotting_size_vs_score(scores_df[\"size\"], \n",
    "                       scores_df[\"score\"], \n",
    "                       annotate=False)"
   ]
  },
  {
   "cell_type": "code",
   "execution_count": 19,
   "metadata": {
    "collapsed": false
   },
   "outputs": [
    {
     "data": {
      "image/png": "[encoded data removed]",
      "text/plain": [
       "<matplotlib.figure.Figure at 0x7fc76a969470>"
      ]
     },
     "metadata": {},
     "output_type": "display_data"
    }
   ],
   "source": [
    "# best 3\n",
    "best_r2_lst=[]\n",
    "for i, group in scores_df.groupby(\"size\"):\n",
    "    best_df = group.sort_values(\"score\", ascending=False)\n",
    "    best_r2_lst.append(best_df.iloc[:3,:])\n",
    "\n",
    "# plot them\n",
    "choose_best_r2_df = pd.concat(best_r2_lst)\n",
    "plotting_size_vs_score(choose_best_r2_df[\"size\"], \n",
    "                       choose_best_r2_df[\"score\"], \n",
    "                       annotate=True,\n",
    "                       ymin=0,\n",
    "                       ymax=0.85)"
   ]
  },
  {
   "cell_type": "markdown",
   "metadata": {},
   "source": [
    "**This is not equivalent to R leaps**"
   ]
  },
  {
   "cell_type": "markdown",
   "metadata": {},
   "source": [
    "## Best subsets, adjusted $R^2$\n",
    "\n",
    "-   As we add more and more variables to the model - even random ones,\n",
    "    $R^2$ will increase to 1.\n",
    "\n",
    "-   Adjusted $R^2$ tries to take this into account by replacing sums of squares by *mean squares*\n",
    "    $$R^2_a = 1 - \\frac{SSE/(n-p-1)}{SST/(n-1)} = 1 - \\frac{MSE}{MST}.$$\n"
   ]
  },
  {
   "cell_type": "markdown",
   "metadata": {},
   "source": [
    "**This is not equivalent to R leaps**"
   ]
  },
  {
   "cell_type": "code",
   "execution_count": 20,
   "metadata": {
    "collapsed": true
   },
   "outputs": [],
   "source": [
    "# This is not equivalent to R leaps\n",
    "scores_adj_lst=[]\n",
    "for r in range(1, len(election_res.model.exog_names)+1):\n",
    "    comb = combinations(election_res.model.exog_names, r = r)\n",
    "    for item in comb:\n",
    "        formula = 'V ~ {}'.format('+'.join(set(item)))\n",
    "        \n",
    "        # method='adjusted r2' in the R notebook\n",
    "        score_adj = ols(formula, election_data).fit().rsquared_adj\n",
    "        scores_adj_lst.append((len(item)+1, formula, score_adj))"
   ]
  },
  {
   "cell_type": "code",
   "execution_count": 21,
   "metadata": {
    "collapsed": false
   },
   "outputs": [
    {
     "data": {
      "text/html": [
       "<div>\n",
       "<style scoped>\n",
       "    .dataframe tbody tr th:only-of-type {\n",
       "        vertical-align: middle;\n",
       "    }\n",
       "\n",
       "    .dataframe tbody tr th {\n",
       "        vertical-align: top;\n",
       "    }\n",
       "\n",
       "    .dataframe thead th {\n",
       "        text-align: right;\n",
       "    }\n",
       "</style>\n",
       "<table border=\"1\" class=\"dataframe\">\n",
       "  <thead>\n",
       "    <tr style=\"text-align: right;\">\n",
       "      <th></th>\n",
       "      <th>size</th>\n",
       "      <th>formula</th>\n",
       "      <th>score_adj</th>\n",
       "    </tr>\n",
       "  </thead>\n",
       "  <tbody>\n",
       "    <tr>\n",
       "      <th>0</th>\n",
       "      <td>2</td>\n",
       "      <td>V ~ I</td>\n",
       "      <td>0.073733</td>\n",
       "    </tr>\n",
       "    <tr>\n",
       "      <th>1</th>\n",
       "      <td>2</td>\n",
       "      <td>V ~ D</td>\n",
       "      <td>0.209653</td>\n",
       "    </tr>\n",
       "    <tr>\n",
       "      <th>2</th>\n",
       "      <td>2</td>\n",
       "      <td>V ~ W</td>\n",
       "      <td>-0.043742</td>\n",
       "    </tr>\n",
       "    <tr>\n",
       "      <th>3</th>\n",
       "      <td>2</td>\n",
       "      <td>V ~ G:I</td>\n",
       "      <td>0.591750</td>\n",
       "    </tr>\n",
       "    <tr>\n",
       "      <th>4</th>\n",
       "      <td>2</td>\n",
       "      <td>V ~ P</td>\n",
       "      <td>0.063622</td>\n",
       "    </tr>\n",
       "    <tr>\n",
       "      <th>5</th>\n",
       "      <td>2</td>\n",
       "      <td>V ~ N</td>\n",
       "      <td>-0.029985</td>\n",
       "    </tr>\n",
       "    <tr>\n",
       "      <th>6</th>\n",
       "      <td>3</td>\n",
       "      <td>V ~ I+D</td>\n",
       "      <td>0.178439</td>\n",
       "    </tr>\n",
       "    <tr>\n",
       "      <th>7</th>\n",
       "      <td>3</td>\n",
       "      <td>V ~ I+W</td>\n",
       "      <td>0.089613</td>\n",
       "    </tr>\n",
       "    <tr>\n",
       "      <th>8</th>\n",
       "      <td>3</td>\n",
       "      <td>V ~ I+G:I</td>\n",
       "      <td>0.609038</td>\n",
       "    </tr>\n",
       "    <tr>\n",
       "      <th>9</th>\n",
       "      <td>3</td>\n",
       "      <td>V ~ I+P</td>\n",
       "      <td>0.179622</td>\n",
       "    </tr>\n",
       "  </tbody>\n",
       "</table>\n",
       "</div>"
      ],
      "text/plain": [
       "   size    formula  score_adj\n",
       "0     2      V ~ I   0.073733\n",
       "1     2      V ~ D   0.209653\n",
       "2     2      V ~ W  -0.043742\n",
       "3     2    V ~ G:I   0.591750\n",
       "4     2      V ~ P   0.063622\n",
       "5     2      V ~ N  -0.029985\n",
       "6     3    V ~ I+D   0.178439\n",
       "7     3    V ~ I+W   0.089613\n",
       "8     3  V ~ I+G:I   0.609038\n",
       "9     3    V ~ I+P   0.179622"
      ]
     },
     "execution_count": 21,
     "metadata": {},
     "output_type": "execute_result"
    }
   ],
   "source": [
    "scores_adj_df = pd.DataFrame(scores_adj_lst, columns=[\"size\",\"formula\",\"score_adj\"])\n",
    "scores_adj_df.head(10)"
   ]
  },
  {
   "cell_type": "code",
   "execution_count": 22,
   "metadata": {
    "collapsed": false
   },
   "outputs": [
    {
     "data": {
      "text/html": [
       "<div>\n",
       "<style scoped>\n",
       "    .dataframe tbody tr th:only-of-type {\n",
       "        vertical-align: middle;\n",
       "    }\n",
       "\n",
       "    .dataframe tbody tr th {\n",
       "        vertical-align: top;\n",
       "    }\n",
       "\n",
       "    .dataframe thead th {\n",
       "        text-align: right;\n",
       "    }\n",
       "</style>\n",
       "<table border=\"1\" class=\"dataframe\">\n",
       "  <thead>\n",
       "    <tr style=\"text-align: right;\">\n",
       "      <th></th>\n",
       "      <th>formula</th>\n",
       "      <th>score_adj</th>\n",
       "    </tr>\n",
       "    <tr>\n",
       "      <th>size</th>\n",
       "      <th></th>\n",
       "      <th></th>\n",
       "    </tr>\n",
       "  </thead>\n",
       "  <tbody>\n",
       "    <tr>\n",
       "      <th>2</th>\n",
       "      <td>V ~ W</td>\n",
       "      <td>0.591750</td>\n",
       "    </tr>\n",
       "    <tr>\n",
       "      <th>3</th>\n",
       "      <td>V ~ W+D</td>\n",
       "      <td>0.705005</td>\n",
       "    </tr>\n",
       "    <tr>\n",
       "      <th>4</th>\n",
       "      <td>V ~ W+G:I+D</td>\n",
       "      <td>0.723757</td>\n",
       "    </tr>\n",
       "    <tr>\n",
       "      <th>5</th>\n",
       "      <td>V ~ W+G:I+D+P</td>\n",
       "      <td>0.735347</td>\n",
       "    </tr>\n",
       "    <tr>\n",
       "      <th>6</th>\n",
       "      <td>V ~ W+P+D+I+G:I</td>\n",
       "      <td>0.719119</td>\n",
       "    </tr>\n",
       "    <tr>\n",
       "      <th>7</th>\n",
       "      <td>V ~ W+N+P+D+I+G:I</td>\n",
       "      <td>0.699755</td>\n",
       "    </tr>\n",
       "  </tbody>\n",
       "</table>\n",
       "</div>"
      ],
      "text/plain": [
       "                formula  score_adj\n",
       "size                              \n",
       "2                 V ~ W   0.591750\n",
       "3               V ~ W+D   0.705005\n",
       "4           V ~ W+G:I+D   0.723757\n",
       "5         V ~ W+G:I+D+P   0.735347\n",
       "6       V ~ W+P+D+I+G:I   0.719119\n",
       "7     V ~ W+N+P+D+I+G:I   0.699755"
      ]
     },
     "execution_count": 22,
     "metadata": {},
     "output_type": "execute_result"
    }
   ],
   "source": [
    "scores_adj_df_grpd = scores_adj_df.groupby(\"size\").max()\n",
    "scores_adj_df_grpd"
   ]
  },
  {
   "cell_type": "code",
   "execution_count": 23,
   "metadata": {
    "collapsed": false
   },
   "outputs": [
    {
     "data": {
      "image/png": "[encoded data removed]",
      "text/plain": [
       "<matplotlib.figure.Figure at 0x7fc7680bc828>"
      ]
     },
     "metadata": {},
     "output_type": "display_data"
    }
   ],
   "source": [
    "plotting_size_vs_score(scores_adj_df_grpd.index, \n",
    "                       scores_adj_df_grpd[\"score_adj\"], \n",
    "                       annotate=True,\n",
    "                       ylabel='adj_r2')"
   ]
  },
  {
   "cell_type": "code",
   "execution_count": 24,
   "metadata": {
    "collapsed": false
   },
   "outputs": [
    {
     "data": {
      "image/png": "[encoded data removed]",
      "text/plain": [
       "<matplotlib.figure.Figure at 0x7fc767f197b8>"
      ]
     },
     "metadata": {},
     "output_type": "display_data"
    }
   ],
   "source": [
    "plotting_size_vs_score(scores_adj_df[\"size\"], \n",
    "                       scores_adj_df[\"score_adj\"], \n",
    "                       annotate=False,\n",
    "                       ylabel='adj_r2')"
   ]
  },
  {
   "cell_type": "code",
   "execution_count": 25,
   "metadata": {
    "collapsed": false
   },
   "outputs": [
    {
     "data": {
      "image/png": "[encoded data removed]",
      "text/plain": [
       "<matplotlib.figure.Figure at 0x7fc767f1e828>"
      ]
     },
     "metadata": {},
     "output_type": "display_data"
    }
   ],
   "source": [
    "# best 3\n",
    "best_adj_r2_lst=[]\n",
    "for i, group in scores_adj_df.groupby(\"size\"):\n",
    "    best_adj_df = group.sort_values(\"score_adj\", ascending=False)\n",
    "    best_adj_r2_lst.append(best_adj_df.iloc[:3,:])\n",
    "\n",
    "# plot them\n",
    "choose_best_adj_r2_df = pd.concat(best_adj_r2_lst)\n",
    "plotting_size_vs_score(choose_best_adj_r2_df[\"size\"], \n",
    "                       choose_best_adj_r2_df[\"score_adj\"], \n",
    "                       annotate=True,\n",
    "                       ylabel='adj_r2',\n",
    "                       ymin=0,\n",
    "                       ymax=0.85)"
   ]
  },
  {
   "cell_type": "code",
   "execution_count": 26,
   "metadata": {
    "collapsed": false
   },
   "outputs": [
    {
     "data": {
      "text/html": [
       "<div>\n",
       "<style scoped>\n",
       "    .dataframe tbody tr th:only-of-type {\n",
       "        vertical-align: middle;\n",
       "    }\n",
       "\n",
       "    .dataframe tbody tr th {\n",
       "        vertical-align: top;\n",
       "    }\n",
       "\n",
       "    .dataframe thead th {\n",
       "        text-align: right;\n",
       "    }\n",
       "</style>\n",
       "<table border=\"1\" class=\"dataframe\">\n",
       "  <thead>\n",
       "    <tr style=\"text-align: right;\">\n",
       "      <th></th>\n",
       "      <th>size</th>\n",
       "      <th>formula</th>\n",
       "      <th>score</th>\n",
       "      <th>size</th>\n",
       "      <th>formula</th>\n",
       "      <th>score_adj</th>\n",
       "    </tr>\n",
       "  </thead>\n",
       "  <tbody>\n",
       "    <tr>\n",
       "      <th>62</th>\n",
       "      <td>7</td>\n",
       "      <td>V ~ W+N+P+D+I+G:I</td>\n",
       "      <td>0.789828</td>\n",
       "      <td>7</td>\n",
       "      <td>V ~ W+N+P+D+I+G:I</td>\n",
       "      <td>0.699755</td>\n",
       "    </tr>\n",
       "  </tbody>\n",
       "</table>\n",
       "</div>"
      ],
      "text/plain": [
       "    size            formula     score  size            formula  score_adj\n",
       "62     7  V ~ W+N+P+D+I+G:I  0.789828     7  V ~ W+N+P+D+I+G:I   0.699755"
      ]
     },
     "execution_count": 26,
     "metadata": {},
     "output_type": "execute_result"
    }
   ],
   "source": [
    "# adjust R squared take account of the phenomenon of the R2 \n",
    "# automatically and spuriously increasing when extra explanatory variables \n",
    "# are added to the model.\n",
    "pd.concat([scores_df[scores_df[\"size\"] == 7], \n",
    "           scores_adj_df[scores_adj_df[\"size\"] == 7]],\n",
    "         axis=1,\n",
    "         sort=False)"
   ]
  },
  {
   "cell_type": "code",
   "execution_count": 27,
   "metadata": {
    "collapsed": false
   },
   "outputs": [
    {
     "data": {
      "text/html": [
       "<div>\n",
       "<style scoped>\n",
       "    .dataframe tbody tr th:only-of-type {\n",
       "        vertical-align: middle;\n",
       "    }\n",
       "\n",
       "    .dataframe tbody tr th {\n",
       "        vertical-align: top;\n",
       "    }\n",
       "\n",
       "    .dataframe thead th {\n",
       "        text-align: right;\n",
       "    }\n",
       "</style>\n",
       "<table border=\"1\" class=\"dataframe\">\n",
       "  <thead>\n",
       "    <tr style=\"text-align: right;\">\n",
       "      <th></th>\n",
       "      <th>size</th>\n",
       "      <th>formula</th>\n",
       "      <th>score</th>\n",
       "      <th>size</th>\n",
       "      <th>formula</th>\n",
       "      <th>score_adj</th>\n",
       "    </tr>\n",
       "  </thead>\n",
       "  <tbody>\n",
       "    <tr>\n",
       "      <th>56</th>\n",
       "      <td>6</td>\n",
       "      <td>V ~ W+P+D+I+G:I</td>\n",
       "      <td>0.762030</td>\n",
       "      <td>6</td>\n",
       "      <td>V ~ W+P+D+I+G:I</td>\n",
       "      <td>0.682707</td>\n",
       "    </tr>\n",
       "    <tr>\n",
       "      <th>57</th>\n",
       "      <td>6</td>\n",
       "      <td>V ~ W+N+D+I+G:I</td>\n",
       "      <td>0.789340</td>\n",
       "      <td>6</td>\n",
       "      <td>V ~ W+N+D+I+G:I</td>\n",
       "      <td>0.719119</td>\n",
       "    </tr>\n",
       "    <tr>\n",
       "      <th>58</th>\n",
       "      <td>6</td>\n",
       "      <td>V ~ W+N+P+D+I</td>\n",
       "      <td>0.340481</td>\n",
       "      <td>6</td>\n",
       "      <td>V ~ W+N+P+D+I</td>\n",
       "      <td>0.120642</td>\n",
       "    </tr>\n",
       "    <tr>\n",
       "      <th>59</th>\n",
       "      <td>6</td>\n",
       "      <td>V ~ N+P+D+I+G:I</td>\n",
       "      <td>0.788321</td>\n",
       "      <td>6</td>\n",
       "      <td>V ~ N+P+D+I+G:I</td>\n",
       "      <td>0.717762</td>\n",
       "    </tr>\n",
       "    <tr>\n",
       "      <th>60</th>\n",
       "      <td>6</td>\n",
       "      <td>V ~ W+N+P+I+G:I</td>\n",
       "      <td>0.684002</td>\n",
       "      <td>6</td>\n",
       "      <td>V ~ W+N+P+I+G:I</td>\n",
       "      <td>0.578669</td>\n",
       "    </tr>\n",
       "    <tr>\n",
       "      <th>61</th>\n",
       "      <td>6</td>\n",
       "      <td>V ~ W+N+P+D+G:I</td>\n",
       "      <td>0.768571</td>\n",
       "      <td>6</td>\n",
       "      <td>V ~ W+N+P+D+G:I</td>\n",
       "      <td>0.691428</td>\n",
       "    </tr>\n",
       "  </tbody>\n",
       "</table>\n",
       "</div>"
      ],
      "text/plain": [
       "    size          formula     score  size          formula  score_adj\n",
       "56     6  V ~ W+P+D+I+G:I  0.762030     6  V ~ W+P+D+I+G:I   0.682707\n",
       "57     6  V ~ W+N+D+I+G:I  0.789340     6  V ~ W+N+D+I+G:I   0.719119\n",
       "58     6    V ~ W+N+P+D+I  0.340481     6    V ~ W+N+P+D+I   0.120642\n",
       "59     6  V ~ N+P+D+I+G:I  0.788321     6  V ~ N+P+D+I+G:I   0.717762\n",
       "60     6  V ~ W+N+P+I+G:I  0.684002     6  V ~ W+N+P+I+G:I   0.578669\n",
       "61     6  V ~ W+N+P+D+G:I  0.768571     6  V ~ W+N+P+D+G:I   0.691428"
      ]
     },
     "execution_count": 27,
     "metadata": {},
     "output_type": "execute_result"
    }
   ],
   "source": [
    "pd.concat([scores_df[scores_df[\"size\"] == 6], \n",
    "           scores_adj_df[scores_adj_df[\"size\"] == 6]],\n",
    "         axis=1,\n",
    "         sort=False)"
   ]
  },
  {
   "cell_type": "markdown",
   "metadata": {},
   "source": [
    "### Mallow's $C_p$\n",
    "\n",
    "- $C_p({\\cal M}) = \\frac{SSE({\\cal M})}{\\widehat{\\sigma}^2} + 2 \\cdot p({\\cal M}) - n.$\n",
    "- $\\widehat{\\sigma}^2=SSE(F)/df_F$ is the \"best\" estimate of $\\sigma^2$ we have (use the fullest model), i.e. in the election data it uses all 6 main effects.\n",
    "- $SSE({\\cal M})$ is the $SSE$ of the model ${\\cal M}$.\n",
    "- $p({\\cal M})$ is the number of predictors in ${\\cal M}$.\n",
    "- This is an estimate of the expected mean-squared error of $\\widehat{Y}({\\cal M})$, it takes *bias* and *variance* into account."
   ]
  },
  {
   "cell_type": "markdown",
   "metadata": {},
   "source": [
    "If P regressors are selected from a set of K > P, the Cp statistic for that particular set of regressors is defined as:\n",
    "\n",
    "C_p = (SSE_p/S2) - n + 2p\n",
    "\n",
    "where:\n",
    "\n",
    "    * SSE_k: the error sum of squares for the model with P regressors, where $y_pi$ is the predicted value of the ith observation of Y from the p regressors\n",
    "    \n",
    "$$\n",
    "SSE_p = \\sum_{i=1}^n (Y_i - Y_{pi})^2.\n",
    "$$\n",
    "\n",
    "    * S2: the residual mean square after regression on the complete set of K regressors and can be estimated by mean square error MSE\n",
    "    \n",
    "    * n: number of observations\n",
    "    \n",
    "    * p: number of subset explanatory variables\n",
    "    \n",
    "Source: https://en.wikipedia.org/wiki/Mallows%27s_Cp\n",
    "Source: https://pypi.org/project/RegscorePy/"
   ]
  },
  {
   "cell_type": "markdown",
   "metadata": {},
   "source": [
    "**This is not equivalent to R leaps**"
   ]
  },
  {
   "cell_type": "code",
   "execution_count": 28,
   "metadata": {
    "collapsed": true
   },
   "outputs": [],
   "source": [
    "# heavily borrowed from the Source: https://pypi.org/project/RegscorePy/\n",
    "def calc_mallow_cp(y, y_pred, y_sub, k, p):\n",
    "    \"\"\"    \n",
    "    C_p = (SSE_p/MSE) - (n - 2p)\n",
    "    \"\"\"\n",
    "    n = len(y)\n",
    "    SSE_p = np.sum((y - y_sub)**2)\n",
    "    MSE = np.sum((y - y_pred)**2)/(n - k)\n",
    "    return (SSE_p / MSE) - (n - 2 * p)"
   ]
  },
  {
   "cell_type": "code",
   "execution_count": 29,
   "metadata": {
    "collapsed": false
   },
   "outputs": [],
   "source": [
    "# This is not equivalent to R leaps\n",
    "scores_cp_lst=[]\n",
    "for r in range(1, len(election_res.model.exog_names)+1):\n",
    "    comb = combinations(election_res.model.exog_names, r = r)\n",
    "    \n",
    "    # y\n",
    "    y = election_data[\"V\"]\n",
    "    \n",
    "    # full model\n",
    "    formula_full = 'V ~ I + D + W + G:I + P + N'\n",
    "    election_res_full = ols(formula_full, data=election_data).fit()\n",
    "    y_pred = election_res_full.predict()    \n",
    "    \n",
    "    for item in comb:\n",
    "        \n",
    "        # method='cp' in the R notebook\n",
    "        formula_subset = 'V ~ {}'.format('+'.join(set(item)))        \n",
    "        \n",
    "        # y_sub\n",
    "        election_res_sub = ols(formula_subset, election_data).fit()\n",
    "        y_sub = election_res_sub.predict()\n",
    "        \n",
    "        # mallow's cp\n",
    "        cp = calc_mallow_cp(y, y_pred, y_sub, k=6, p=len(set(item)))\n",
    "        scores_cp_lst.append((len(item)+1, formula_subset, cp))"
   ]
  },
  {
   "cell_type": "code",
   "execution_count": 30,
   "metadata": {
    "collapsed": false
   },
   "outputs": [
    {
     "data": {
      "text/html": [
       "<div>\n",
       "<style scoped>\n",
       "    .dataframe tbody tr th:only-of-type {\n",
       "        vertical-align: middle;\n",
       "    }\n",
       "\n",
       "    .dataframe tbody tr th {\n",
       "        vertical-align: top;\n",
       "    }\n",
       "\n",
       "    .dataframe thead th {\n",
       "        text-align: right;\n",
       "    }\n",
       "</style>\n",
       "<table border=\"1\" class=\"dataframe\">\n",
       "  <thead>\n",
       "    <tr style=\"text-align: right;\">\n",
       "      <th></th>\n",
       "      <th>size</th>\n",
       "      <th>formula</th>\n",
       "      <th>Cp</th>\n",
       "    </tr>\n",
       "  </thead>\n",
       "  <tbody>\n",
       "    <tr>\n",
       "      <th>0</th>\n",
       "      <td>2</td>\n",
       "      <td>V ~ I</td>\n",
       "      <td>43.802434</td>\n",
       "    </tr>\n",
       "    <tr>\n",
       "      <th>1</th>\n",
       "      <td>2</td>\n",
       "      <td>V ~ D</td>\n",
       "      <td>34.586822</td>\n",
       "    </tr>\n",
       "    <tr>\n",
       "      <th>2</th>\n",
       "      <td>2</td>\n",
       "      <td>V ~ W</td>\n",
       "      <td>51.767416</td>\n",
       "    </tr>\n",
       "    <tr>\n",
       "      <th>3</th>\n",
       "      <td>2</td>\n",
       "      <td>V ~ G:I</td>\n",
       "      <td>8.680026</td>\n",
       "    </tr>\n",
       "    <tr>\n",
       "      <th>4</th>\n",
       "      <td>2</td>\n",
       "      <td>V ~ P</td>\n",
       "      <td>44.487956</td>\n",
       "    </tr>\n",
       "    <tr>\n",
       "      <th>5</th>\n",
       "      <td>2</td>\n",
       "      <td>V ~ N</td>\n",
       "      <td>50.834693</td>\n",
       "    </tr>\n",
       "    <tr>\n",
       "      <th>6</th>\n",
       "      <td>3</td>\n",
       "      <td>V ~ I+D</td>\n",
       "      <td>35.771487</td>\n",
       "    </tr>\n",
       "    <tr>\n",
       "      <th>7</th>\n",
       "      <td>3</td>\n",
       "      <td>V ~ I+W</td>\n",
       "      <td>41.477029</td>\n",
       "    </tr>\n",
       "    <tr>\n",
       "      <th>8</th>\n",
       "      <td>3</td>\n",
       "      <td>V ~ I+G:I</td>\n",
       "      <td>8.112744</td>\n",
       "    </tr>\n",
       "    <tr>\n",
       "      <th>9</th>\n",
       "      <td>3</td>\n",
       "      <td>V ~ I+P</td>\n",
       "      <td>35.695478</td>\n",
       "    </tr>\n",
       "  </tbody>\n",
       "</table>\n",
       "</div>"
      ],
      "text/plain": [
       "   size    formula         Cp\n",
       "0     2      V ~ I  43.802434\n",
       "1     2      V ~ D  34.586822\n",
       "2     2      V ~ W  51.767416\n",
       "3     2    V ~ G:I   8.680026\n",
       "4     2      V ~ P  44.487956\n",
       "5     2      V ~ N  50.834693\n",
       "6     3    V ~ I+D  35.771487\n",
       "7     3    V ~ I+W  41.477029\n",
       "8     3  V ~ I+G:I   8.112744\n",
       "9     3    V ~ I+P  35.695478"
      ]
     },
     "execution_count": 30,
     "metadata": {},
     "output_type": "execute_result"
    }
   ],
   "source": [
    "scores_cp_df = pd.DataFrame(scores_cp_lst, \n",
    "                            columns=[\"size\",\"formula\",\"Cp\"])\n",
    "scores_cp_df.head(10)"
   ]
  },
  {
   "cell_type": "code",
   "execution_count": 31,
   "metadata": {
    "collapsed": false
   },
   "outputs": [
    {
     "data": {
      "text/html": [
       "<div>\n",
       "<style scoped>\n",
       "    .dataframe tbody tr th:only-of-type {\n",
       "        vertical-align: middle;\n",
       "    }\n",
       "\n",
       "    .dataframe tbody tr th {\n",
       "        vertical-align: top;\n",
       "    }\n",
       "\n",
       "    .dataframe thead th {\n",
       "        text-align: right;\n",
       "    }\n",
       "</style>\n",
       "<table border=\"1\" class=\"dataframe\">\n",
       "  <thead>\n",
       "    <tr style=\"text-align: right;\">\n",
       "      <th></th>\n",
       "      <th>formula</th>\n",
       "      <th>Cp</th>\n",
       "    </tr>\n",
       "    <tr>\n",
       "      <th>size</th>\n",
       "      <th></th>\n",
       "      <th></th>\n",
       "    </tr>\n",
       "  </thead>\n",
       "  <tbody>\n",
       "    <tr>\n",
       "      <th>2</th>\n",
       "      <td>V ~ D</td>\n",
       "      <td>8.680026</td>\n",
       "    </tr>\n",
       "    <tr>\n",
       "      <th>3</th>\n",
       "      <td>V ~ G:I+D</td>\n",
       "      <td>1.948472</td>\n",
       "    </tr>\n",
       "    <tr>\n",
       "      <th>4</th>\n",
       "      <td>V ~ I+G:I+D</td>\n",
       "      <td>1.758198</td>\n",
       "    </tr>\n",
       "    <tr>\n",
       "      <th>5</th>\n",
       "      <td>V ~ I+P+G:I+D</td>\n",
       "      <td>2.110640</td>\n",
       "    </tr>\n",
       "    <tr>\n",
       "      <th>6</th>\n",
       "      <td>V ~ N+P+D+I+G:I</td>\n",
       "      <td>4.034870</td>\n",
       "    </tr>\n",
       "    <tr>\n",
       "      <th>7</th>\n",
       "      <td>V ~ W+N+P+D+I+G:I</td>\n",
       "      <td>6.000000</td>\n",
       "    </tr>\n",
       "  </tbody>\n",
       "</table>\n",
       "</div>"
      ],
      "text/plain": [
       "                formula        Cp\n",
       "size                             \n",
       "2                 V ~ D  8.680026\n",
       "3             V ~ G:I+D  1.948472\n",
       "4           V ~ I+G:I+D  1.758198\n",
       "5         V ~ I+P+G:I+D  2.110640\n",
       "6       V ~ N+P+D+I+G:I  4.034870\n",
       "7     V ~ W+N+P+D+I+G:I  6.000000"
      ]
     },
     "execution_count": 31,
     "metadata": {},
     "output_type": "execute_result"
    }
   ],
   "source": [
    "scores_cp_df_grpd = scores_cp_df.groupby(\"size\").min()\n",
    "scores_cp_df_grpd"
   ]
  },
  {
   "cell_type": "code",
   "execution_count": 32,
   "metadata": {
    "collapsed": false
   },
   "outputs": [
    {
     "data": {
      "image/png": "[encoded data removed]",
      "text/plain": [
       "<matplotlib.figure.Figure at 0x7fc767f91dd8>"
      ]
     },
     "metadata": {},
     "output_type": "display_data"
    }
   ],
   "source": [
    "plotting_size_vs_score(scores_cp_df_grpd.index, \n",
    "                       scores_cp_df_grpd[\"Cp\"], \n",
    "                       annotate=True,\n",
    "                       ylabel='Cp',\n",
    "                       ymin=0,\n",
    "                       ymax=50)"
   ]
  },
  {
   "cell_type": "code",
   "execution_count": 33,
   "metadata": {
    "collapsed": false
   },
   "outputs": [
    {
     "data": {
      "image/png": "[encoded data removed]",
      "text/plain": [
       "<matplotlib.figure.Figure at 0x7fc7680d4be0>"
      ]
     },
     "metadata": {},
     "output_type": "display_data"
    }
   ],
   "source": [
    "plotting_size_vs_score(scores_cp_df[\"size\"], \n",
    "                       scores_cp_df[\"Cp\"], \n",
    "                       annotate=False,\n",
    "                       ylabel='Cp',\n",
    "                       ymin=0,\n",
    "                       ymax=50)"
   ]
  },
  {
   "cell_type": "code",
   "execution_count": 34,
   "metadata": {
    "collapsed": false
   },
   "outputs": [
    {
     "data": {
      "image/png": "[encoded data removed]",
      "text/plain": [
       "<matplotlib.figure.Figure at 0x7fc767f5c5c0>"
      ]
     },
     "metadata": {},
     "output_type": "display_data"
    }
   ],
   "source": [
    "# best 3\n",
    "best_cp_lst=[]\n",
    "for i, group in scores_cp_df.groupby(\"size\"):\n",
    "    best_df = group.sort_values(\"Cp\")\n",
    "    best_cp_lst.append(best_df.iloc[:3,:])\n",
    "\n",
    "# plot them\n",
    "choose_best_cp_df = pd.concat(best_cp_lst)\n",
    "plotting_size_vs_score(choose_best_cp_df[\"size\"], \n",
    "                       choose_best_cp_df[\"Cp\"], \n",
    "                       annotate=True,\n",
    "                       ylabel='Cp',\n",
    "                       ymin=0,\n",
    "                       ymax=50)"
   ]
  },
  {
   "cell_type": "markdown",
   "metadata": {},
   "source": [
    "## Search strategies \n",
    "\n",
    "* Given a criterion, we now have to decide how we are going to search through the possible models.\n",
    "\n",
    "* \"Best subset\": search all possible models and take the one with highest $R^2_a$ or lowest $C_p$ leaps. Such searches are typically\n",
    "feasible only up to $p=30$ or $40$ at the very most.\n",
    "\n",
    "* Stepwise (forward, backward or both): useful when the number of predictors is large. Choose an initial model and be \"greedy\".\n",
    "\n",
    "* \"Greedy\" means always take the biggest jump (up or down) in your selected criterion.\n",
    "\n",
    "### Implementations in `R`\n",
    "\n",
    "* \"Best subset\": use the function `leaps`. Works only for multiple linear regression models.\n",
    "* Stepwise: use the function `step`. Works for any model with Akaike Information Criterion (AIC). In multiple linear regression, AIC is (almost) a linear function of $C_p$.\n",
    "\n",
    "### Akaike / Bayes Information Criterion\n",
    "\n",
    "* Akaike (AIC) defined as $$AIC({\\cal M}) = - 2 \\log L({\\cal M}) + 2 \\cdot p({\\cal M})$$ where $L({\\cal M})$ is the maximized likelihood of the model.\n",
    "* Bayes (BIC) defined as $$BIC({\\cal M}) = - 2 \\log L({\\cal M}) + \\log n \\cdot p({\\cal M})$$\n",
    "* Strategy can be used for whenever we have a likelihood, so this generalizes to many statistical models.\n",
    "\n",
    "### AIC for regression\n",
    "\n",
    "* In linear regression with unknown $\\sigma^2$ $$-2 \\log L({\\cal M}) = n \\log(2\\pi \\widehat{\\sigma}^2_{MLE}) + n$$ where $\\widehat{\\sigma}^2_{MLE} = \\frac{1}{n} SSE(\\widehat{\\beta})$\n",
    "* In linear regression with known $\\sigma^2$ $$-2 \\log L({\\cal M}) = n \\log(2\\pi \\sigma^2) + \\frac{1}{\\sigma^2} SSE(\\widehat{\\beta})$$ so AIC is very much like Mallow's $C_p$ in this case.\n"
   ]
  },
  {
   "cell_type": "code",
   "execution_count": 35,
   "metadata": {
    "collapsed": false
   },
   "outputs": [
    {
     "data": {
      "text/html": [
       "<div>\n",
       "<style scoped>\n",
       "    .dataframe tbody tr th:only-of-type {\n",
       "        vertical-align: middle;\n",
       "    }\n",
       "\n",
       "    .dataframe tbody tr th {\n",
       "        vertical-align: top;\n",
       "    }\n",
       "\n",
       "    .dataframe thead th {\n",
       "        text-align: right;\n",
       "    }\n",
       "</style>\n",
       "<table border=\"1\" class=\"dataframe\">\n",
       "  <thead>\n",
       "    <tr style=\"text-align: right;\">\n",
       "      <th></th>\n",
       "      <th>I</th>\n",
       "      <th>D</th>\n",
       "      <th>W</th>\n",
       "      <th>G:I</th>\n",
       "      <th>P</th>\n",
       "      <th>N</th>\n",
       "    </tr>\n",
       "  </thead>\n",
       "  <tbody>\n",
       "    <tr>\n",
       "      <th>0</th>\n",
       "      <td>1.0</td>\n",
       "      <td>1.0</td>\n",
       "      <td>0.0</td>\n",
       "      <td>2.229</td>\n",
       "      <td>4.252</td>\n",
       "      <td>3.0</td>\n",
       "    </tr>\n",
       "    <tr>\n",
       "      <th>1</th>\n",
       "      <td>1.0</td>\n",
       "      <td>0.0</td>\n",
       "      <td>1.0</td>\n",
       "      <td>-11.463</td>\n",
       "      <td>16.535</td>\n",
       "      <td>5.0</td>\n",
       "    </tr>\n",
       "    <tr>\n",
       "      <th>2</th>\n",
       "      <td>-1.0</td>\n",
       "      <td>-1.0</td>\n",
       "      <td>0.0</td>\n",
       "      <td>3.872</td>\n",
       "      <td>5.161</td>\n",
       "      <td>10.0</td>\n",
       "    </tr>\n",
       "    <tr>\n",
       "      <th>3</th>\n",
       "      <td>-1.0</td>\n",
       "      <td>0.0</td>\n",
       "      <td>0.0</td>\n",
       "      <td>-4.623</td>\n",
       "      <td>0.183</td>\n",
       "      <td>7.0</td>\n",
       "    </tr>\n",
       "    <tr>\n",
       "      <th>4</th>\n",
       "      <td>-1.0</td>\n",
       "      <td>-1.0</td>\n",
       "      <td>0.0</td>\n",
       "      <td>14.901</td>\n",
       "      <td>7.069</td>\n",
       "      <td>4.0</td>\n",
       "    </tr>\n",
       "  </tbody>\n",
       "</table>\n",
       "</div>"
      ],
      "text/plain": [
       "     I    D    W     G:I       P     N\n",
       "0  1.0  1.0  0.0   2.229   4.252   3.0\n",
       "1  1.0  0.0  1.0 -11.463  16.535   5.0\n",
       "2 -1.0 -1.0  0.0   3.872   5.161  10.0\n",
       "3 -1.0  0.0  0.0  -4.623   0.183   7.0\n",
       "4 -1.0 -1.0  0.0  14.901   7.069   4.0"
      ]
     },
     "execution_count": 35,
     "metadata": {},
     "output_type": "execute_result"
    }
   ],
   "source": [
    "# let's refit the model\n",
    "election_res = ols('V ~ I + D + W + G:I + P + N', data=election_data).fit()\n",
    "X = pd.DataFrame(election_res.model.exog, \n",
    "                 columns=election_res.model.exog_names)\n",
    "X.drop([\"Intercept\"], axis=1).head()"
   ]
  },
  {
   "cell_type": "code",
   "execution_count": 36,
   "metadata": {
    "collapsed": false
   },
   "outputs": [
    {
     "name": "stdout",
     "output_type": "stream",
     "text": [
      "['Intercept', 'I', 'D', 'W', 'G:I', 'P', 'N']\n",
      "[[  1.      1.      1.      0.      2.229   4.252   3.   ]\n",
      " [  1.      1.      0.      1.    -11.463  16.535   5.   ]\n",
      " [  1.     -1.     -1.      0.      3.872   5.161  10.   ]]\n",
      "p : 8\n"
     ]
    },
    {
     "data": {
      "text/plain": [
       "-66.94025707214551"
      ]
     },
     "execution_count": 36,
     "metadata": {},
     "output_type": "execute_result"
    }
   ],
   "source": [
    "print(election_res.model.exog_names)\n",
    "n = len(election_res.model.exog)\n",
    "print(election_res.model.exog[:3])\n",
    "\n",
    "# why plus 1 in k?\n",
    "# AIC := 2k - 2 * ln(L_hat)\n",
    "# where k = the number of estimated parameters in the model\n",
    "# (including the intercept & the variance)\n",
    "# https://stats.stackexchange.com/questions/87345/calculating-aic-by-hand-in-r\n",
    "\n",
    "k = len(election_res.model.exog_names) + 1\n",
    "print(\"p :\", k)\n",
    "# in linear regression with unknown sigma^2\n",
    "n * np.log(2 * np.pi * np.sum(election_res.resid**2)/n) + n + 2 * k"
   ]
  },
  {
   "cell_type": "markdown",
   "metadata": {},
   "source": [
    "AIC result from R\n",
    "![AIC result from R](./img/12_selection_aic_from_R.png \"AIC result from R\")"
   ]
  },
  {
   "cell_type": "code",
   "execution_count": 37,
   "metadata": {
    "collapsed": false
   },
   "outputs": [
    {
     "data": {
      "text/plain": [
       "-68.94025707214551"
      ]
     },
     "execution_count": 37,
     "metadata": {},
     "output_type": "execute_result"
    }
   ],
   "source": [
    "# statsmodels OLS does not yield the same! \n",
    "# R notebook reports -66.94025\n",
    "election_res.aic"
   ]
  },
  {
   "cell_type": "code",
   "execution_count": 38,
   "metadata": {
    "collapsed": false
   },
   "outputs": [
    {
     "data": {
      "text/plain": [
       "-68.94025707214551"
      ]
     },
     "execution_count": 38,
     "metadata": {},
     "output_type": "execute_result"
    }
   ],
   "source": [
    "# if we say k == 7 (instead of 8)\n",
    "# then we get AIC == -68.94026\n",
    "k_2 = 7 # instead of 8\n",
    "n * np.log(2 * np.pi * np.sum(election_res.resid**2)/n) + n + 2 * k_2"
   ]
  },
  {
   "cell_type": "code",
   "execution_count": 39,
   "metadata": {
    "collapsed": false
   },
   "outputs": [
    {
     "data": {
      "text/plain": [
       "Intercept    0.511163\n",
       "I           -0.020108\n",
       "D            0.054616\n",
       "W            0.013391\n",
       "G:I          0.009690\n",
       "P           -0.000722\n",
       "N           -0.005182\n",
       "dtype: float64"
      ]
     },
     "execution_count": 39,
     "metadata": {},
     "output_type": "execute_result"
    }
   ],
   "source": [
    "# same estimated parameters between R and statsmodels\n",
    "election_res.params"
   ]
  },
  {
   "cell_type": "markdown",
   "metadata": {},
   "source": [
    "Estimated params from R (Same with statsmodels)\n",
    "![estimated params from R](./img/12_selection_params.png \"estimated params from R\")"
   ]
  },
  {
   "cell_type": "markdown",
   "metadata": {},
   "source": [
    "\n",
    "#### How statsmodels implement AIC and BIC?\n",
    "In statsmodels.regression.linear_model.RegressionResults\n",
    "\n",
    "\n",
    "```python\n",
    "    @cache_readonly\n",
    "    def aic(self):\n",
    "        r\"\"\"Akaike's information criteria. For a model with a constant\n",
    "        :math:`-2llf + 2(df\\_model + 1)`. For a model without a constant\n",
    "        :math:`-2llf + 2(df\\_model)`.\"\"\"\n",
    "        return -2 * self.llf + 2 * (self.df_model + self.k_constant)\n",
    "        \n",
    "    @cache_readonly\n",
    "    def bic(self):\n",
    "        r\"\"\"Bayes' information criteria. For a model with a constant\n",
    "        :math:`-2llf + \\log(n)(df\\_model+1)`. For a model without a constant\n",
    "        :math:`-2llf + \\log(n)(df\\_model)`\"\"\"\n",
    "        return (-2 * self.llf + np.log(self.nobs) * (self.df_model +\n",
    "                                                     self.k_constant))\n",
    "\n",
    "    @property\n",
    "    def df_model(self):\n",
    "        \"\"\"\n",
    "        The model degree of freedom, defined as the rank of the regressor\n",
    "        matrix minus 1 if a constant is included.\n",
    "        \"\"\"\n",
    "        if self._df_model is None:\n",
    "            if self.rank is None:\n",
    "                self.rank = np.linalg.matrix_rank(self.exog)\n",
    "            self._df_model = float(self.rank - self.k_constant)\n",
    "        return self._df_model\n",
    "\n",
    "    @df_model.setter\n",
    "    def df_model(self, value):\n",
    "        self._df_model = value        \n",
    "        \n",
    "```\n",
    "\n",
    "[Source](https://github.com/statsmodels/statsmodels/blob/master/statsmodels/regression/linear_model.py)"
   ]
  },
  {
   "cell_type": "code",
   "execution_count": 40,
   "metadata": {
    "collapsed": false
   },
   "outputs": [
    {
     "name": "stdout",
     "output_type": "stream",
     "text": [
      "df_model    : 6.0\n",
      "k_constant  : 1\n",
      "llf from ols: 41.47012853607276\n",
      "llf by hand : 41.47012853607276\n"
     ]
    }
   ],
   "source": [
    "print(\"df_model    :\", election_res.df_model)\n",
    "print(\"k_constant  :\", election_res.k_constant)\n",
    "print(\"llf from ols:\", election_res.llf) #log-likelihood function\n",
    "print(\"llf by hand :\", (n * np.log(2 * np.pi * np.sum(election_res.resid**2)/n) + n)/(-2))"
   ]
  },
  {
   "cell_type": "code",
   "execution_count": 41,
   "metadata": {
    "collapsed": false
   },
   "outputs": [
    {
     "data": {
      "text/plain": [
       "-68.94025707214551"
      ]
     },
     "execution_count": 41,
     "metadata": {},
     "output_type": "execute_result"
    }
   ],
   "source": [
    "# AIC in statsmodels\n",
    "# -2 * self.llf + 2 * (self.df_model + self.k_constant)\n",
    "-2 * election_res.llf + 2 * (election_res.df_model + election_res.k_constant)"
   ]
  },
  {
   "cell_type": "markdown",
   "metadata": {},
   "source": [
    "#### BIC from statsmodels is also different from R"
   ]
  },
  {
   "cell_type": "code",
   "execution_count": 42,
   "metadata": {
    "collapsed": false
   },
   "outputs": [
    {
     "data": {
      "text/plain": [
       "-61.62860000808155"
      ]
     },
     "execution_count": 42,
     "metadata": {},
     "output_type": "execute_result"
    }
   ],
   "source": [
    "# BIC in statsmodels\n",
    "election_res.bic"
   ]
  },
  {
   "cell_type": "markdown",
   "metadata": {},
   "source": [
    "BIC result from R\n",
    "![BIC result from R](./img/12_selection_bic_from_R.png \"BIC result from R\")"
   ]
  },
  {
   "cell_type": "code",
   "execution_count": 43,
   "metadata": {
    "collapsed": false
   },
   "outputs": [
    {
     "data": {
      "text/plain": [
       "-58.58407757035813"
      ]
     },
     "execution_count": 43,
     "metadata": {},
     "output_type": "execute_result"
    }
   ],
   "source": [
    "# if we say k == 8 (instead of 7)\n",
    "# then we get BIC == -58.58408\n",
    "n * np.log(2 * np.pi * np.sum(election_res.resid**2)/n) + n + np.log(n) * k"
   ]
  },
  {
   "cell_type": "code",
   "execution_count": 44,
   "metadata": {
    "collapsed": false
   },
   "outputs": [
    {
     "data": {
      "text/plain": [
       "-61.62860000808155"
      ]
     },
     "execution_count": 44,
     "metadata": {},
     "output_type": "execute_result"
    }
   ],
   "source": [
    "# else if we say k_2 == 7 (as in statsmodels)\n",
    "# then we get BIC == -61.62860\n",
    "n * np.log(2 * np.pi * np.sum(election_res.resid**2)/n) + n + np.log(n) * k_2"
   ]
  },
  {
   "cell_type": "markdown",
   "metadata": {},
   "source": [
    "### Properties of AIC / BIC\n",
    "\n",
    "* BIC will typically choose a model as small or smaller than AIC (if using the same search direction).\n",
    "\n",
    "* As our sample size grows, under some assumptions,\n",
    "it can be shown that\n",
    "     - AIC will (asymptotically) always choose a model that contains the true model, i.e. it won't leave any variables out.\n",
    "     - BIC will (asymptotically) choose exactly the right model.\n",
    "\n",
    "### Election example\n",
    "\n",
    "Let's take a look at `step` in action. Probably the simplest\n",
    "strategy is *forward stepwise* which tries to add one variable at a time, \n",
    "as long as it can find a resulting model whose AIC is better than \n",
    "its current position. \n",
    "\n",
    "When it can make no further additions, it terminates.\n"
   ]
  },
  {
   "cell_type": "markdown",
   "metadata": {},
   "source": [
    "**This is not equivalent to R `step`**\n",
    "\n",
    "R `step`: https://stat.ethz.ch/R-manual/R-devel/library/stats/html/step.html"
   ]
  },
  {
   "cell_type": "markdown",
   "metadata": {},
   "source": [
    "Q. Does scikit-learn have forward selection/stepwise regression algorithm?\n",
    "\n",
    "A. (**My favorite answer** by [David Dale](https://datascience.stackexchange.com/users/24162/david-dale))\n",
    "\n",
    ">Scikit-learn indeed does not support stepwise regression. That's because what is commonly known as 'stepwise regression' is an algorithm based on p-values of coefficients of linear regression, and scikit-learn deliberately avoids inferential approach to model learning (significance testing etc). Moreover, pure OLS is only one of numerous regression algorithms, and from the scikit-learn point of view it is neither very important, nor one of the best.\n",
    "\n",
    ">There are, however, some pieces of advice for those who still need a good way for feature selection with linear models:\n",
    "\n",
    ">1. Use inherently sparse models like ElasticNet or Lasso.  \n",
    ">2. Normalize your features with StandardScaler, and then order your features just by model.coef_. For perfectly independent covariates it is equivalent to sorting by p-values. The class sklearn.feature_selection.RFE will do it for you, and RFECV will even evaluate the optimal number of features. \n",
    ">3. Use an [implementation](https://planspace.org/20150423-forward_selection_with_statsmodels/) of forward selection by adjusted R2 that works with statsmodels.  \n",
    ">4. Do brute-force forward or backward selection to maximize your favorite metric on cross-validation (it could take approximately quadratic time in number of covariates). A scikit-learn compatible mlxtend package [supports](http://rasbt.github.io/mlxtend/user_guide/feature_selection/SequentialFeatureSelector/) this approach for any estimator and any metric.  \n",
    ">5. If you still want vanilla stepwise regression, it is easier to base it on statsmodels, since this package calculates p-values for you. A basic forward-backward selection could look like this:\n",
    "\n",
    "```python\n",
    "from sklearn.datasets import load_boston\n",
    "import pandas as pd\n",
    "import numpy as np\n",
    "import statsmodels.api as sm\n",
    "\n",
    "data = load_boston()\n",
    "X = pd.DataFrame(data.data, columns=data.feature_names)\n",
    "y = data.target\n",
    "\n",
    "def stepwise_selection(X, y, \n",
    "                       initial_list=[], \n",
    "                       threshold_in=0.01, \n",
    "                       threshold_out = 0.05, \n",
    "                       verbose=True):\n",
    "    \"\"\" Perform a forward-backward feature selection \n",
    "    based on p-value from statsmodels.api.OLS\n",
    "    Arguments:\n",
    "        X - pandas.DataFrame with candidate features\n",
    "        y - list-like with the target\n",
    "        initial_list - list of features to start with (column names of X)\n",
    "        threshold_in - include a feature if its p-value < threshold_in\n",
    "        threshold_out - exclude a feature if its p-value > threshold_out\n",
    "        verbose - whether to print the sequence of inclusions and exclusions\n",
    "    Returns: list of selected features \n",
    "    Always set threshold_in < threshold_out to avoid infinite looping.\n",
    "    See https://en.wikipedia.org/wiki/Stepwise_regression for the details\n",
    "    \"\"\"\n",
    "    included = list(initial_list)\n",
    "    while True:\n",
    "        changed=False\n",
    "        # forward step\n",
    "        excluded = list(set(X.columns)-set(included))\n",
    "        new_pval = pd.Series(index=excluded)\n",
    "        for new_column in excluded:\n",
    "            model = sm.OLS(y, sm.add_constant(pd.DataFrame(X[included+[new_column]]))).fit()\n",
    "            new_pval[new_column] = model.pvalues[new_column]\n",
    "        best_pval = new_pval.min()\n",
    "        if best_pval < threshold_in:\n",
    "            best_feature = new_pval.argmin()\n",
    "            included.append(best_feature)\n",
    "            changed=True\n",
    "            if verbose:\n",
    "                print('Add  {:30} with p-value {:.6}'.format(best_feature, best_pval))\n",
    "\n",
    "        # backward step\n",
    "        model = sm.OLS(y, sm.add_constant(pd.DataFrame(X[included]))).fit()\n",
    "        # use all coefs except intercept\n",
    "        pvalues = model.pvalues.iloc[1:]\n",
    "        worst_pval = pvalues.max() # null if pvalues is empty\n",
    "        if worst_pval > threshold_out:\n",
    "            changed=True\n",
    "            worst_feature = pvalues.argmax()\n",
    "            included.remove(worst_feature)\n",
    "            if verbose:\n",
    "                print('Drop {:30} with p-value {:.6}'.format(worst_feature, worst_pval))\n",
    "        if not changed:\n",
    "            break\n",
    "    return included\n",
    "\n",
    "result = stepwise_selection(X, y)\n",
    "\n",
    "print('resulting features:')\n",
    "print(result)\n",
    "```\n",
    "\n",
    ">This example would print the following output:\n",
    "\n",
    "```\n",
    "Add  LSTAT                          with p-value 5.0811e-88\n",
    "Add  RM                             with p-value 3.47226e-27\n",
    "Add  PTRATIO                        with p-value 1.64466e-14\n",
    "Add  DIS                            with p-value 1.66847e-05\n",
    "Add  NOX                            with p-value 5.48815e-08\n",
    "Add  CHAS                           with p-value 0.000265473\n",
    "Add  B                              with p-value 0.000771946\n",
    "Add  ZN                             with p-value 0.00465162\n",
    "resulting features:\n",
    "['LSTAT', 'RM', 'PTRATIO', 'DIS', 'NOX', 'CHAS', 'B', 'ZN']\n",
    "```\n",
    "[Source](https://datascience.stackexchange.com/questions/937/does-scikit-learn-have-forward-selection-stepwise-regression-algorithm)"
   ]
  },
  {
   "cell_type": "markdown",
   "metadata": {},
   "source": [
    "**This is not equivalent to R `step`. In addition, `statsmodels` calculates AIC and BIC differently from R**"
   ]
  },
  {
   "cell_type": "code",
   "execution_count": 45,
   "metadata": {
    "collapsed": true
   },
   "outputs": [],
   "source": [
    "# Heavily borrowed from https://planspace.org/20150423-forward_selection_with_statsmodels/\n",
    "def forward_selected(data, response, criteria):\n",
    "    \"\"\"Linear model designed by forward selection.\n",
    "\n",
    "    Parameters:\n",
    "    -----------\n",
    "    data : pandas DataFrame with all possible predictors and response\n",
    "\n",
    "    response: string, name of response column in data\n",
    "    \n",
    "    criteria: string, 'AIC' or 'BIC'\n",
    "\n",
    "    Returns:\n",
    "    --------\n",
    "    model: an \"optimal\" fitted statsmodels linear model\n",
    "           with an intercept\n",
    "           selected by forward selection\n",
    "           evaluated by AIC or BIC\n",
    "    \"\"\"\n",
    "    remaining = set(data.columns)\n",
    "    remaining.remove(response)\n",
    "    selected = []\n",
    "    current_score, best_new_score = 0.0, 0.0\n",
    "    while remaining and current_score == best_new_score:\n",
    "        scores_with_candidates = []\n",
    "        for candidate in remaining:\n",
    "            formula = \"{} ~ {}\".format(response, ' + '.join(selected + [candidate]))\n",
    "            if criteria==\"AIC\":\n",
    "                score = ols(formula, data).fit().aic\n",
    "            elif criteria == \"BIC\":\n",
    "                score = ols(formula, data).fit().bic   \n",
    "            else:\n",
    "                raise Exception(\"choose between `AIC` and `BIC`\")\n",
    "            scores_with_candidates.append((score, candidate))\n",
    "        scores_with_candidates.sort(reverse=True)\n",
    "        best_new_score, best_candidate = scores_with_candidates.pop()\n",
    "        if current_score > best_new_score:\n",
    "            remaining.remove(best_candidate)\n",
    "            selected.append(best_candidate)\n",
    "            current_score = best_new_score\n",
    "            if criteria==\"AIC\":\n",
    "                print('Add  {:30} with AIC {:.6}'.format(best_candidate, best_new_score))\n",
    "            elif criteria==\"BIC\":\n",
    "                print('Add  {:30} with BIC {:.6}'.format(best_candidate, best_new_score))\n",
    "            else:\n",
    "                raise Exception(\"choose between `AIC` and `BIC`\")\n",
    "    formula = \"{} ~  {}\".format(response, ' + '.join(selected))\n",
    "    model = ols(formula, data).fit()\n",
    "    return model"
   ]
  },
  {
   "cell_type": "code",
   "execution_count": 46,
   "metadata": {
    "collapsed": false,
    "scrolled": false
   },
   "outputs": [
    {
     "name": "stdout",
     "output_type": "stream",
     "text": [
      "Add  D                              with AIC -52.2019\n",
      "Add  P                              with AIC -52.8212\n"
     ]
    }
   ],
   "source": [
    "fs_model = forward_selected(data=election_data, response='V', criteria='AIC')"
   ]
  },
  {
   "cell_type": "code",
   "execution_count": 47,
   "metadata": {
    "collapsed": false
   },
   "outputs": [
    {
     "data": {
      "text/plain": [
       "'V ~  D + P'"
      ]
     },
     "execution_count": 47,
     "metadata": {},
     "output_type": "execute_result"
    }
   ],
   "source": [
    "# The example in R notebook also selected D + P\n",
    "fs_model.model.formula"
   ]
  },
  {
   "cell_type": "code",
   "execution_count": 48,
   "metadata": {
    "collapsed": false
   },
   "outputs": [
    {
     "data": {
      "text/html": [
       "<table class=\"simpletable\">\n",
       "<caption>OLS Regression Results</caption>\n",
       "<tr>\n",
       "  <th>Dep. Variable:</th>            <td>V</td>        <th>  R-squared:         </th> <td>   0.337</td>\n",
       "</tr>\n",
       "<tr>\n",
       "  <th>Model:</th>                   <td>OLS</td>       <th>  Adj. R-squared:    </th> <td>   0.264</td>\n",
       "</tr>\n",
       "<tr>\n",
       "  <th>Method:</th>             <td>Least Squares</td>  <th>  F-statistic:       </th> <td>   4.579</td>\n",
       "</tr>\n",
       "<tr>\n",
       "  <th>Date:</th>             <td>Mon, 01 Jul 2019</td> <th>  Prob (F-statistic):</th>  <td>0.0247</td> \n",
       "</tr>\n",
       "<tr>\n",
       "  <th>Time:</th>                 <td>21:49:36</td>     <th>  Log-Likelihood:    </th> <td>  29.411</td>\n",
       "</tr>\n",
       "<tr>\n",
       "  <th>No. Observations:</th>      <td>    21</td>      <th>  AIC:               </th> <td>  -52.82</td>\n",
       "</tr>\n",
       "<tr>\n",
       "  <th>Df Residuals:</th>          <td>    18</td>      <th>  BIC:               </th> <td>  -49.69</td>\n",
       "</tr>\n",
       "<tr>\n",
       "  <th>Df Model:</th>              <td>     2</td>      <th>                     </th>     <td> </td>   \n",
       "</tr>\n",
       "<tr>\n",
       "  <th>Covariance Type:</th>      <td>nonrobust</td>    <th>                     </th>     <td> </td>   \n",
       "</tr>\n",
       "</table>\n",
       "<table class=\"simpletable\">\n",
       "<tr>\n",
       "      <td></td>         <th>coef</th>     <th>std err</th>      <th>t</th>      <th>P>|t|</th>  <th>[0.025</th>    <th>0.975]</th>  \n",
       "</tr>\n",
       "<tr>\n",
       "  <th>Intercept</th> <td>    0.5140</td> <td>    0.023</td> <td>   22.552</td> <td> 0.000</td> <td>    0.466</td> <td>    0.562</td>\n",
       "</tr>\n",
       "<tr>\n",
       "  <th>D</th>         <td>    0.0431</td> <td>    0.017</td> <td>    2.482</td> <td> 0.023</td> <td>    0.007</td> <td>    0.080</td>\n",
       "</tr>\n",
       "<tr>\n",
       "  <th>P</th>         <td>   -0.0060</td> <td>    0.004</td> <td>   -1.546</td> <td> 0.139</td> <td>   -0.014</td> <td>    0.002</td>\n",
       "</tr>\n",
       "</table>\n",
       "<table class=\"simpletable\">\n",
       "<tr>\n",
       "  <th>Omnibus:</th>       <td> 5.270</td> <th>  Durbin-Watson:     </th> <td>   2.084</td>\n",
       "</tr>\n",
       "<tr>\n",
       "  <th>Prob(Omnibus):</th> <td> 0.072</td> <th>  Jarque-Bera (JB):  </th> <td>   3.175</td>\n",
       "</tr>\n",
       "<tr>\n",
       "  <th>Skew:</th>          <td> 0.887</td> <th>  Prob(JB):          </th> <td>   0.204</td>\n",
       "</tr>\n",
       "<tr>\n",
       "  <th>Kurtosis:</th>      <td> 3.695</td> <th>  Cond. No.          </th> <td>    9.71</td>\n",
       "</tr>\n",
       "</table><br/><br/>Warnings:<br/>[1] Standard Errors assume that the covariance matrix of the errors is correctly specified."
      ],
      "text/plain": [
       "<class 'statsmodels.iolib.summary.Summary'>\n",
       "\"\"\"\n",
       "                            OLS Regression Results                            \n",
       "==============================================================================\n",
       "Dep. Variable:                      V   R-squared:                       0.337\n",
       "Model:                            OLS   Adj. R-squared:                  0.264\n",
       "Method:                 Least Squares   F-statistic:                     4.579\n",
       "Date:                Mon, 01 Jul 2019   Prob (F-statistic):             0.0247\n",
       "Time:                        21:49:36   Log-Likelihood:                 29.411\n",
       "No. Observations:                  21   AIC:                            -52.82\n",
       "Df Residuals:                      18   BIC:                            -49.69\n",
       "Df Model:                           2                                         \n",
       "Covariance Type:            nonrobust                                         \n",
       "==============================================================================\n",
       "                 coef    std err          t      P>|t|      [0.025      0.975]\n",
       "------------------------------------------------------------------------------\n",
       "Intercept      0.5140      0.023     22.552      0.000       0.466       0.562\n",
       "D              0.0431      0.017      2.482      0.023       0.007       0.080\n",
       "P             -0.0060      0.004     -1.546      0.139      -0.014       0.002\n",
       "==============================================================================\n",
       "Omnibus:                        5.270   Durbin-Watson:                   2.084\n",
       "Prob(Omnibus):                  0.072   Jarque-Bera (JB):                3.175\n",
       "Skew:                           0.887   Prob(JB):                        0.204\n",
       "Kurtosis:                       3.695   Cond. No.                         9.71\n",
       "==============================================================================\n",
       "\n",
       "Warnings:\n",
       "[1] Standard Errors assume that the covariance matrix of the errors is correctly specified.\n",
       "\"\"\""
      ]
     },
     "execution_count": 48,
     "metadata": {},
     "output_type": "execute_result"
    }
   ],
   "source": [
    "fs_model.summary()"
   ]
  },
  {
   "cell_type": "markdown",
   "metadata": {},
   "source": [
    "## Interactions and hierarchy\n",
    "\n",
    "We notice that although the *full* model we gave it had the interaction `I:G`, the function `step` never tried to use it. This is \n",
    "due to some rules implemented in `step` that do not include an interaction unless both main effects are already in the model. In this case, because neither $I$ nor $G$ were added, the interaction was never considered.\n",
    "\n",
    "In the `leaps` example, we gave the function the design matrix\n",
    "and it did not have to consider interactions: they were already encoded in the design matrix.\n",
    "\n",
    "### BIC example\n",
    "\n",
    "The only difference between AIC and BIC is the price paid\n",
    "per variable. This is the argument `k` to `step`. By default `k=2` and for BIC\n",
    "we set `k=log(n)`. If we set `k=0` it will always add variables."
   ]
  },
  {
   "cell_type": "markdown",
   "metadata": {},
   "source": [
    "**This is not equivalent to R `step`. In addition, `statsmodels` calculates AIC and BIC differently from R**"
   ]
  },
  {
   "cell_type": "code",
   "execution_count": 49,
   "metadata": {
    "collapsed": false
   },
   "outputs": [
    {
     "name": "stdout",
     "output_type": "stream",
     "text": [
      "Add  D                              with BIC -50.1129\n",
      "V ~  D\n"
     ]
    },
    {
     "data": {
      "text/html": [
       "<table class=\"simpletable\">\n",
       "<caption>OLS Regression Results</caption>\n",
       "<tr>\n",
       "  <th>Dep. Variable:</th>            <td>V</td>        <th>  R-squared:         </th> <td>   0.249</td>\n",
       "</tr>\n",
       "<tr>\n",
       "  <th>Model:</th>                   <td>OLS</td>       <th>  Adj. R-squared:    </th> <td>   0.210</td>\n",
       "</tr>\n",
       "<tr>\n",
       "  <th>Method:</th>             <td>Least Squares</td>  <th>  F-statistic:       </th> <td>   6.305</td>\n",
       "</tr>\n",
       "<tr>\n",
       "  <th>Date:</th>             <td>Mon, 01 Jul 2019</td> <th>  Prob (F-statistic):</th>  <td>0.0212</td> \n",
       "</tr>\n",
       "<tr>\n",
       "  <th>Time:</th>                 <td>21:49:36</td>     <th>  Log-Likelihood:    </th> <td>  28.101</td>\n",
       "</tr>\n",
       "<tr>\n",
       "  <th>No. Observations:</th>      <td>    21</td>      <th>  AIC:               </th> <td>  -52.20</td>\n",
       "</tr>\n",
       "<tr>\n",
       "  <th>Df Residuals:</th>          <td>    19</td>      <th>  BIC:               </th> <td>  -50.11</td>\n",
       "</tr>\n",
       "<tr>\n",
       "  <th>Df Model:</th>              <td>     1</td>      <th>                     </th>     <td> </td>   \n",
       "</tr>\n",
       "<tr>\n",
       "  <th>Covariance Type:</th>      <td>nonrobust</td>    <th>                     </th>     <td> </td>   \n",
       "</tr>\n",
       "</table>\n",
       "<table class=\"simpletable\">\n",
       "<tr>\n",
       "      <td></td>         <th>coef</th>     <th>std err</th>      <th>t</th>      <th>P>|t|</th>  <th>[0.025</th>    <th>0.975]</th>  \n",
       "</tr>\n",
       "<tr>\n",
       "  <th>Intercept</th> <td>    0.4864</td> <td>    0.015</td> <td>   33.172</td> <td> 0.000</td> <td>    0.456</td> <td>    0.517</td>\n",
       "</tr>\n",
       "<tr>\n",
       "  <th>D</th>         <td>    0.0451</td> <td>    0.018</td> <td>    2.511</td> <td> 0.021</td> <td>    0.008</td> <td>    0.083</td>\n",
       "</tr>\n",
       "</table>\n",
       "<table class=\"simpletable\">\n",
       "<tr>\n",
       "  <th>Omnibus:</th>       <td> 1.375</td> <th>  Durbin-Watson:     </th> <td>   1.696</td>\n",
       "</tr>\n",
       "<tr>\n",
       "  <th>Prob(Omnibus):</th> <td> 0.503</td> <th>  Jarque-Bera (JB):  </th> <td>   0.626</td>\n",
       "</tr>\n",
       "<tr>\n",
       "  <th>Skew:</th>          <td> 0.421</td> <th>  Prob(JB):          </th> <td>   0.731</td>\n",
       "</tr>\n",
       "<tr>\n",
       "  <th>Kurtosis:</th>      <td> 3.083</td> <th>  Cond. No.          </th> <td>    1.26</td>\n",
       "</tr>\n",
       "</table><br/><br/>Warnings:<br/>[1] Standard Errors assume that the covariance matrix of the errors is correctly specified."
      ],
      "text/plain": [
       "<class 'statsmodels.iolib.summary.Summary'>\n",
       "\"\"\"\n",
       "                            OLS Regression Results                            \n",
       "==============================================================================\n",
       "Dep. Variable:                      V   R-squared:                       0.249\n",
       "Model:                            OLS   Adj. R-squared:                  0.210\n",
       "Method:                 Least Squares   F-statistic:                     6.305\n",
       "Date:                Mon, 01 Jul 2019   Prob (F-statistic):             0.0212\n",
       "Time:                        21:49:36   Log-Likelihood:                 28.101\n",
       "No. Observations:                  21   AIC:                            -52.20\n",
       "Df Residuals:                      19   BIC:                            -50.11\n",
       "Df Model:                           1                                         \n",
       "Covariance Type:            nonrobust                                         \n",
       "==============================================================================\n",
       "                 coef    std err          t      P>|t|      [0.025      0.975]\n",
       "------------------------------------------------------------------------------\n",
       "Intercept      0.4864      0.015     33.172      0.000       0.456       0.517\n",
       "D              0.0451      0.018      2.511      0.021       0.008       0.083\n",
       "==============================================================================\n",
       "Omnibus:                        1.375   Durbin-Watson:                   1.696\n",
       "Prob(Omnibus):                  0.503   Jarque-Bera (JB):                0.626\n",
       "Skew:                           0.421   Prob(JB):                        0.731\n",
       "Kurtosis:                       3.083   Cond. No.                         1.26\n",
       "==============================================================================\n",
       "\n",
       "Warnings:\n",
       "[1] Standard Errors assume that the covariance matrix of the errors is correctly specified.\n",
       "\"\"\""
      ]
     },
     "execution_count": 49,
     "metadata": {},
     "output_type": "execute_result"
    }
   ],
   "source": [
    "# The example in R notebook also selected D\n",
    "fs_model = forward_selected(data=election_data, response='V', criteria='BIC')\n",
    "print(fs_model.model.formula)\n",
    "fs_model.summary()"
   ]
  },
  {
   "cell_type": "markdown",
   "metadata": {},
   "source": [
    "### Backward selection\n",
    "\n",
    "Just for fun, let's consider backwards stepwise. This starts at a full\n",
    "model and tries to delete variables.\n",
    "\n",
    "There is also a `direction=\"both\"` option."
   ]
  },
  {
   "cell_type": "markdown",
   "metadata": {},
   "source": [
    "**This is not equivalent to R `step`. In addition, `statsmodels` calculates AIC and BIC differently from R**"
   ]
  },
  {
   "cell_type": "code",
   "execution_count": 50,
   "metadata": {
    "collapsed": true
   },
   "outputs": [],
   "source": [
    "# Heavily borrowed from https://planspace.org/20150423-forward_selection_with_statsmodels/\n",
    "def backward_selected(data, response, full_model_formula, criteria):\n",
    "    \"\"\"Linear model designed by forward selection.\n",
    "\n",
    "    Parameters:\n",
    "    -----------\n",
    "    data : pandas DataFrame with all possible predictors and response\n",
    "\n",
    "    full_model_formula: string, for regression model formula\n",
    "                        e.g. \"V ~ I + D + W + G:I + P + N\"\n",
    "    \n",
    "    criteria: string, 'AIC' or 'BIC'\n",
    "\n",
    "    Returns:\n",
    "    --------\n",
    "    model: an \"optimal\" fitted statsmodels linear model\n",
    "           with an intercept\n",
    "           selected by forward selection\n",
    "           evaluated by AIC or BIC\n",
    "    \"\"\"\n",
    "    full_model_formula = full_model_formula\n",
    "    remaining = set([item.strip() for item in full_model_formula.split(\"~\")[1].split(\"+\")])\n",
    "    removed = []\n",
    "    \n",
    "    if criteria==\"AIC\":\n",
    "        current_score = ols(full_model_formula, data).fit().aic\n",
    "    elif criteria==\"BIC\":\n",
    "        current_score = ols(full_model_formula, data).fit().bic\n",
    "    worst_new_score = current_score\n",
    "    print(\"initial currents score:\", current_score)\n",
    "    \n",
    "    while remaining and current_score == worst_new_score:\n",
    "        scores_with_candidates = []\n",
    "        for candidate in remaining:\n",
    "            formula = \"{} ~ {}\".format(response, ' + '.join(list(remaining - set(candidate))))\n",
    "            if criteria==\"AIC\":\n",
    "                score = ols(formula, data).fit().aic\n",
    "            elif criteria == \"BIC\":\n",
    "                score = ols(formula, data).fit().bic   \n",
    "            else:\n",
    "                raise Exception(\"choose between `AIC` and `BIC`\")\n",
    "            scores_with_candidates.append((score, candidate))\n",
    "        \n",
    "        scores_with_candidates.sort(reverse=True)\n",
    "        worst_new_score, worst_candidate = scores_with_candidates.pop()\n",
    "        \n",
    "        if current_score > worst_new_score:\n",
    "            remaining.remove(worst_candidate)\n",
    "            removed.append(worst_candidate)\n",
    "            current_score = worst_new_score\n",
    "            if criteria==\"AIC\":\n",
    "                print('Drop  {:30} with AIC {:.6}'.format(worst_candidate, worst_new_score))\n",
    "            elif criteria==\"BIC\":\n",
    "                print('Drop  {:30} with BIC {:.6}'.format(worst_candidate, worst_new_score))\n",
    "            else:\n",
    "                raise Exception(\"choose between `AIC` and `BIC`\")\n",
    "    \n",
    "    formula = \"{}  ~ {}\".format(response, ' + '.join(remaining))\n",
    "    model = ols(formula, data).fit()\n",
    "    return model"
   ]
  },
  {
   "cell_type": "code",
   "execution_count": 51,
   "metadata": {
    "collapsed": false,
    "scrolled": false
   },
   "outputs": [
    {
     "name": "stdout",
     "output_type": "stream",
     "text": [
      "initial currents score: -68.94025707214551\n",
      "Drop  P                              with AIC -70.8915\n",
      "Drop  W                              with AIC -72.7859\n",
      "V  ~ N + D + I + G:I\n"
     ]
    },
    {
     "data": {
      "text/html": [
       "<table class=\"simpletable\">\n",
       "<caption>OLS Regression Results</caption>\n",
       "<tr>\n",
       "  <th>Dep. Variable:</th>            <td>V</td>        <th>  R-squared:         </th> <td>   0.788</td>\n",
       "</tr>\n",
       "<tr>\n",
       "  <th>Model:</th>                   <td>OLS</td>       <th>  Adj. R-squared:    </th> <td>   0.735</td>\n",
       "</tr>\n",
       "<tr>\n",
       "  <th>Method:</th>             <td>Least Squares</td>  <th>  F-statistic:       </th> <td>   14.89</td>\n",
       "</tr>\n",
       "<tr>\n",
       "  <th>Date:</th>             <td>Mon, 01 Jul 2019</td> <th>  Prob (F-statistic):</th> <td>2.95e-05</td>\n",
       "</tr>\n",
       "<tr>\n",
       "  <th>Time:</th>                 <td>21:49:37</td>     <th>  Log-Likelihood:    </th> <td>  41.393</td>\n",
       "</tr>\n",
       "<tr>\n",
       "  <th>No. Observations:</th>      <td>    21</td>      <th>  AIC:               </th> <td>  -72.79</td>\n",
       "</tr>\n",
       "<tr>\n",
       "  <th>Df Residuals:</th>          <td>    16</td>      <th>  BIC:               </th> <td>  -67.56</td>\n",
       "</tr>\n",
       "<tr>\n",
       "  <th>Df Model:</th>              <td>     4</td>      <th>                     </th>     <td> </td>   \n",
       "</tr>\n",
       "<tr>\n",
       "  <th>Covariance Type:</th>      <td>nonrobust</td>    <th>                     </th>     <td> </td>   \n",
       "</tr>\n",
       "</table>\n",
       "<table class=\"simpletable\">\n",
       "<tr>\n",
       "      <td></td>         <th>coef</th>     <th>std err</th>      <th>t</th>      <th>P>|t|</th>  <th>[0.025</th>    <th>0.975]</th>  \n",
       "</tr>\n",
       "<tr>\n",
       "  <th>Intercept</th> <td>    0.5065</td> <td>    0.021</td> <td>   24.483</td> <td> 0.000</td> <td>    0.463</td> <td>    0.550</td>\n",
       "</tr>\n",
       "<tr>\n",
       "  <th>N</th>         <td>   -0.0047</td> <td>    0.003</td> <td>   -1.465</td> <td> 0.162</td> <td>   -0.011</td> <td>    0.002</td>\n",
       "</tr>\n",
       "<tr>\n",
       "  <th>D</th>         <td>    0.0554</td> <td>    0.018</td> <td>    3.049</td> <td> 0.008</td> <td>    0.017</td> <td>    0.094</td>\n",
       "</tr>\n",
       "<tr>\n",
       "  <th>I</th>         <td>   -0.0194</td> <td>    0.015</td> <td>   -1.321</td> <td> 0.205</td> <td>   -0.051</td> <td>    0.012</td>\n",
       "</tr>\n",
       "<tr>\n",
       "  <th>G:I</th>       <td>    0.0096</td> <td>    0.002</td> <td>    6.314</td> <td> 0.000</td> <td>    0.006</td> <td>    0.013</td>\n",
       "</tr>\n",
       "</table>\n",
       "<table class=\"simpletable\">\n",
       "<tr>\n",
       "  <th>Omnibus:</th>       <td> 6.866</td> <th>  Durbin-Watson:     </th> <td>   2.240</td>\n",
       "</tr>\n",
       "<tr>\n",
       "  <th>Prob(Omnibus):</th> <td> 0.032</td> <th>  Jarque-Bera (JB):  </th> <td>   4.547</td>\n",
       "</tr>\n",
       "<tr>\n",
       "  <th>Skew:</th>          <td> 1.063</td> <th>  Prob(JB):          </th> <td>   0.103</td>\n",
       "</tr>\n",
       "<tr>\n",
       "  <th>Kurtosis:</th>      <td> 3.825</td> <th>  Cond. No.          </th> <td>    19.1</td>\n",
       "</tr>\n",
       "</table><br/><br/>Warnings:<br/>[1] Standard Errors assume that the covariance matrix of the errors is correctly specified."
      ],
      "text/plain": [
       "<class 'statsmodels.iolib.summary.Summary'>\n",
       "\"\"\"\n",
       "                            OLS Regression Results                            \n",
       "==============================================================================\n",
       "Dep. Variable:                      V   R-squared:                       0.788\n",
       "Model:                            OLS   Adj. R-squared:                  0.735\n",
       "Method:                 Least Squares   F-statistic:                     14.89\n",
       "Date:                Mon, 01 Jul 2019   Prob (F-statistic):           2.95e-05\n",
       "Time:                        21:49:37   Log-Likelihood:                 41.393\n",
       "No. Observations:                  21   AIC:                            -72.79\n",
       "Df Residuals:                      16   BIC:                            -67.56\n",
       "Df Model:                           4                                         \n",
       "Covariance Type:            nonrobust                                         \n",
       "==============================================================================\n",
       "                 coef    std err          t      P>|t|      [0.025      0.975]\n",
       "------------------------------------------------------------------------------\n",
       "Intercept      0.5065      0.021     24.483      0.000       0.463       0.550\n",
       "N             -0.0047      0.003     -1.465      0.162      -0.011       0.002\n",
       "D              0.0554      0.018      3.049      0.008       0.017       0.094\n",
       "I             -0.0194      0.015     -1.321      0.205      -0.051       0.012\n",
       "G:I            0.0096      0.002      6.314      0.000       0.006       0.013\n",
       "==============================================================================\n",
       "Omnibus:                        6.866   Durbin-Watson:                   2.240\n",
       "Prob(Omnibus):                  0.032   Jarque-Bera (JB):                4.547\n",
       "Skew:                           1.063   Prob(JB):                        0.103\n",
       "Kurtosis:                       3.825   Cond. No.                         19.1\n",
       "==============================================================================\n",
       "\n",
       "Warnings:\n",
       "[1] Standard Errors assume that the covariance matrix of the errors is correctly specified.\n",
       "\"\"\""
      ]
     },
     "execution_count": 51,
     "metadata": {},
     "output_type": "execute_result"
    }
   ],
   "source": [
    "bs_model = backward_selected(data=election_data, \n",
    "                             response='V',\n",
    "                             full_model_formula=\"V ~ I + D + W + G:I + P + N\", \n",
    "                             criteria='AIC')\n",
    "print(bs_model.model.formula)\n",
    "bs_model.summary()"
   ]
  },
  {
   "cell_type": "markdown",
   "metadata": {
    "collapsed": true
   },
   "source": [
    "**This is not equivalent to R `step`. In addition, `statsmodels` calculates AIC and BIC differently from R**"
   ]
  },
  {
   "cell_type": "markdown",
   "metadata": {
    "collapsed": true
   },
   "source": [
    "## Cross-validation\n",
    "\n",
    "Yet another model selection criterion is \n",
    "$K$-fold cross-validation.\n",
    "\n",
    "- Fix a model ${\\cal M}$. Break data set into $K$ approximately equal sized groups $(G_1, \\dots, G_K)$.\n",
    "- For (i in 1:K) Use all groups except $G_i$ to fit model, predict outcome in group $G_i$ based on this model $\\widehat{Y}_{j,{\\cal M}, G_i}, j \\in G_i$.\n",
    "- Similar to what we saw in Cook's distance / DFFITS.\n",
    "- Estimate $CV({\\cal M}) = \\frac{1}{n}\\sum_{i=1}^K \\sum_{j \\in G_i} (Y_j - \\widehat{Y}_{j,{\\cal M},G_i})^2.$\n",
    "\n",
    "### Comments about cross-validation.\n",
    "\n",
    "* It is a general principle that can be used in other situations to \"choose parameters.\"\n",
    "* Pros (partial list): \"objective\" measure of a model's predictive power.\n",
    "* Cons (partial list): all we know about inference is *usually* \"out the window\" (also true for other model selection procedures).\n",
    "* If goal is not really inference about certain specific parameters, it is a reasonable way to compare models."
   ]
  },
  {
   "cell_type": "markdown",
   "metadata": {
    "collapsed": true
   },
   "source": [
    "#### glm  \n",
    "glm is used to fit generalized linear models, specified by giving a symbolic description of the linear predictor and a description of the error distribution.\n",
    "default family = 'gaussian'  \n",
    "[Source](https://stat.ethz.ch/R-manual/R-devel/library/stats/html/glm.html)\n",
    "\n",
    "#### cv.glm  \n",
    "Cross-Validation For Generalized Linear Models\n",
    "This function calculates the estimated K-fold cross-validation prediction error for generalized linear models.  \n",
    "[Source](https://www.rdocumentation.org/packages/boot/versions/1.3-20/topics/cv.glm)"
   ]
  },
  {
   "cell_type": "code",
   "execution_count": 52,
   "metadata": {
    "collapsed": false
   },
   "outputs": [
    {
     "data": {
      "text/plain": [
       "Intercept    0.132017\n",
       "Year         0.000199\n",
       "I           -0.001962\n",
       "D            0.051542\n",
       "W           -0.007197\n",
       "G           -0.002415\n",
       "P           -0.007334\n",
       "N            0.000296\n",
       "dtype: float64"
      ]
     },
     "execution_count": 52,
     "metadata": {},
     "output_type": "execute_result"
    }
   ],
   "source": [
    "election_glm_res = glm(formula=\"V ~ Year + I + D + W + G + P + N\",\n",
    "                         data = election_data,\n",
    "                         family=sm.families.Gaussian()).fit()\n",
    "election_glm_res.params"
   ]
  },
  {
   "cell_type": "markdown",
   "metadata": {},
   "source": [
    "glm result from R\n",
    "![glm result from R](./img/12_selection_glm_from_R.png \"glm result from R\")"
   ]
  },
  {
   "cell_type": "markdown",
   "metadata": {},
   "source": [
    "##### Using glm from statsmodels and cross validation from scikit-learn\n",
    "Powerful statsmodels object wrapper  \n",
    "[Source](https://stackoverflow.com/questions/41045752/using-statsmodel-estimations-with-scikit-learn-cross-validation-is-it-possible)"
   ]
  },
  {
   "cell_type": "code",
   "execution_count": 53,
   "metadata": {
    "collapsed": false
   },
   "outputs": [],
   "source": [
    "from sklearn.base import BaseEstimator, RegressorMixin\n",
    "\n",
    "# Heavily borrowed from the Source above\n",
    "class SMWrapper(BaseEstimator, RegressorMixin):\n",
    "    \"\"\" A universal sklearn-style wrapper for statsmodels regressors \"\"\"\n",
    "    def __init__(self, model_class, fit_intercept=True):\n",
    "        self.model_class = model_class\n",
    "        self.fit_intercept = fit_intercept\n",
    "        self.family = sm.families.Gaussian()\n",
    "        \n",
    "    def fit(self, X, y):\n",
    "        if self.fit_intercept:\n",
    "            X = sm.add_constant(X)\n",
    "        self.model_ = self.model_class(y, X, family=self.family)\n",
    "        self.results_ = self.model_.fit()\n",
    "        return (self.model_, self.results_)\n",
    "        \n",
    "    def predict(self, X):\n",
    "        if self.fit_intercept:\n",
    "            X = sm.add_constant(X)\n",
    "        return self.results_.predict(X)"
   ]
  },
  {
   "cell_type": "code",
   "execution_count": 54,
   "metadata": {
    "collapsed": false
   },
   "outputs": [
    {
     "data": {
      "text/plain": [
       "array([ 0.13201656,  0.00019915, -0.00196183,  0.05154232, -0.00719714,\n",
       "       -0.00241526, -0.00733399,  0.0002965 ])"
      ]
     },
     "execution_count": 54,
     "metadata": {},
     "output_type": "execute_result"
    }
   ],
   "source": [
    "# check to see if works\n",
    "sm_wrapper = SMWrapper(sm.GLM)\n",
    "model, res = sm_wrapper.fit(X = election_glm_res.model.exog,\n",
    "                           y = election_glm_res.model.endog)\n",
    "\n",
    "res.params\n",
    "# same as \n",
    "# Intercept    0.132017\n",
    "# Year         0.000199\n",
    "# I           -0.001962\n",
    "# D            0.051542\n",
    "# W           -0.007197\n",
    "# G           -0.002415\n",
    "# P           -0.007334\n",
    "# N            0.000296"
   ]
  },
  {
   "cell_type": "code",
   "execution_count": 55,
   "metadata": {
    "collapsed": false
   },
   "outputs": [
    {
     "name": "stdout",
     "output_type": "stream",
     "text": [
      "5-fold CV:  0.014052647995457301\n"
     ]
    }
   ],
   "source": [
    "delta=[]\n",
    "neg_scores = cross_val_score(estimator = SMWrapper(sm.GLM), \n",
    "                X = election_glm_res.model.exog,\n",
    "                y = election_glm_res.model.endog,\n",
    "                scoring='neg_mean_squared_error',\n",
    "               cv=5)\n",
    "\n",
    "# cross_val_score returns the negated value of the metric!\n",
    "# Source: https://scikit-learn.org/stable/modules/model_evaluation.html#scoring-parameter\n",
    "# The actual MSE is simply the positive version\n",
    "print(\"5-fold CV: \", np.mean(-1 * neg_scores))\n",
    "delta.append(np.mean(-1 * neg_scores))"
   ]
  },
  {
   "cell_type": "code",
   "execution_count": 56,
   "metadata": {
    "collapsed": false
   },
   "outputs": [
    {
     "name": "stdout",
     "output_type": "stream",
     "text": [
      "LOOCV     : 0.0023686172803684415\n"
     ]
    }
   ],
   "source": [
    "# Leave one out Cross Validation\n",
    "# K == N, the number of samples in the set\n",
    "neg_scores_loocv = cross_val_score(estimator = SMWrapper(sm.GLM), \n",
    "                X = election_res.model.exog,\n",
    "                y = election_res.model.endog,\n",
    "                scoring='neg_mean_squared_error',\n",
    "                cv=(election_data.shape[0]))\n",
    "print(\"LOOCV     :\", np.mean(-1 * neg_scores_loocv))\n",
    "delta.append(delta[0] - np.mean(-1 * neg_scores_loocv))"
   ]
  },
  {
   "cell_type": "markdown",
   "metadata": {},
   "source": [
    "`delta` in cv.glm in R:  \n",
    "\n",
    "    A vector of length two. The first component is the raw cross-validation estimate of prediction error. The second component is the adjusted cross-validation estimate. The adjustment is designed to compensate for the bias introduced by not using leave-one-out cross-validation."
   ]
  },
  {
   "cell_type": "code",
   "execution_count": 57,
   "metadata": {
    "collapsed": false
   },
   "outputs": [
    {
     "data": {
      "text/plain": [
       "[0.014052647995457301, 0.01168403071508886]"
      ]
     },
     "execution_count": 57,
     "metadata": {},
     "output_type": "execute_result"
    }
   ],
   "source": [
    "# cross validation <= random assignments to groups\n",
    "# can be different \n",
    "delta"
   ]
  },
  {
   "cell_type": "markdown",
   "metadata": {},
   "source": [
    "cv.glm result from R\n",
    "![cvglm result from R](./img/12_selection_cvglm_from_R.png \"cvglm result from R\")"
   ]
  },
  {
   "cell_type": "markdown",
   "metadata": {},
   "source": [
    "### $C_p$ versus 5-fold cross-validation\n",
    "\n",
    "- Let's plot our $C_p$ versus the $CV$ score.\n",
    "\n",
    "- Keep in mind that there is additional randomness in the $CV$ score\n",
    "due to the random assignments to groups. "
   ]
  },
  {
   "cell_type": "code",
   "execution_count": 58,
   "metadata": {
    "collapsed": false
   },
   "outputs": [
    {
     "data": {
      "text/plain": [
       "['I', 'D', 'W', 'G:I', 'P', 'N']"
      ]
     },
     "execution_count": 58,
     "metadata": {},
     "output_type": "execute_result"
    }
   ],
   "source": [
    "election_res = ols('V ~ I + D + W + G:I + P + N', data=election_data).fit()\n",
    "election_res.model.exog_names.remove(\"Intercept\")\n",
    "election_res.model.exog_names"
   ]
  },
  {
   "cell_type": "code",
   "execution_count": 59,
   "metadata": {
    "collapsed": true
   },
   "outputs": [],
   "source": [
    "# heavily borrowed from the Source: https://pypi.org/project/RegscorePy/\n",
    "def calc_cv_glm(X, y):\n",
    "    \"\"\"    \n",
    "    using sklearn's cross_val_score and \n",
    "    statsmodels glm\n",
    "    \"\"\"\n",
    "    neg_scores = cross_val_score(estimator = SMWrapper(sm.GLM), \n",
    "                X = X,\n",
    "                y = y,\n",
    "                scoring='neg_mean_squared_error',\n",
    "               cv=5)\n",
    "\n",
    "    return np.mean(-1 * neg_scores)"
   ]
  },
  {
   "cell_type": "code",
   "execution_count": 60,
   "metadata": {
    "collapsed": false,
    "scrolled": false
   },
   "outputs": [],
   "source": [
    "# This is not equivalent to R leaps\n",
    "# modifying the previous one\n",
    "scores_cp_cv_lst=[]\n",
    "for r in range(1, len(election_res.model.exog_names)+1):\n",
    "    comb = combinations(election_res.model.exog_names, r = r)\n",
    "    \n",
    "    # y\n",
    "    y = election_data[\"V\"]\n",
    "    \n",
    "    # full model\n",
    "    formula_full = 'V ~ I + D + W + G:I + P + N'\n",
    "    election_res_full = ols(formula_full, data=election_data).fit()\n",
    "    y_pred = election_res_full.predict()    \n",
    "\n",
    "    for item in comb:\n",
    "        \n",
    "        # method='cp' in the R notebook\n",
    "        formula_subset = 'V ~ {}'.format('+'.join(set(item)))        \n",
    "        \n",
    "        # y_sub\n",
    "        election_res_sub = ols(formula_subset, election_data).fit()\n",
    "        y_sub = election_res_sub.predict()\n",
    "        \n",
    "        # mallow's cp\n",
    "        cp = calc_mallow_cp(y, y_pred, y_sub, k=6, p=len(set(item)))\n",
    "        \n",
    "        # 5-fold cross validation MSE\n",
    "        cv = calc_cv_glm(X = election_res_sub.model.exog,\n",
    "                        y = election_res_sub.model.endog)\n",
    "        \n",
    "        scores_cp_cv_lst.append((len(item)+1, formula_subset, cp, cv))"
   ]
  },
  {
   "cell_type": "code",
   "execution_count": 61,
   "metadata": {
    "collapsed": false,
    "scrolled": true
   },
   "outputs": [
    {
     "data": {
      "text/html": [
       "<div>\n",
       "<style scoped>\n",
       "    .dataframe tbody tr th:only-of-type {\n",
       "        vertical-align: middle;\n",
       "    }\n",
       "\n",
       "    .dataframe tbody tr th {\n",
       "        vertical-align: top;\n",
       "    }\n",
       "\n",
       "    .dataframe thead th {\n",
       "        text-align: right;\n",
       "    }\n",
       "</style>\n",
       "<table border=\"1\" class=\"dataframe\">\n",
       "  <thead>\n",
       "    <tr style=\"text-align: right;\">\n",
       "      <th></th>\n",
       "      <th>size</th>\n",
       "      <th>formula</th>\n",
       "      <th>Cp</th>\n",
       "      <th>CV</th>\n",
       "    </tr>\n",
       "  </thead>\n",
       "  <tbody>\n",
       "    <tr>\n",
       "      <th>0</th>\n",
       "      <td>2</td>\n",
       "      <td>V ~ I</td>\n",
       "      <td>43.802434</td>\n",
       "      <td>0.005457</td>\n",
       "    </tr>\n",
       "    <tr>\n",
       "      <th>1</th>\n",
       "      <td>2</td>\n",
       "      <td>V ~ D</td>\n",
       "      <td>34.586822</td>\n",
       "      <td>0.004495</td>\n",
       "    </tr>\n",
       "    <tr>\n",
       "      <th>2</th>\n",
       "      <td>2</td>\n",
       "      <td>V ~ W</td>\n",
       "      <td>51.767416</td>\n",
       "      <td>0.008829</td>\n",
       "    </tr>\n",
       "    <tr>\n",
       "      <th>3</th>\n",
       "      <td>2</td>\n",
       "      <td>V ~ G:I</td>\n",
       "      <td>8.680026</td>\n",
       "      <td>0.002534</td>\n",
       "    </tr>\n",
       "    <tr>\n",
       "      <th>4</th>\n",
       "      <td>2</td>\n",
       "      <td>V ~ P</td>\n",
       "      <td>44.487956</td>\n",
       "      <td>0.005279</td>\n",
       "    </tr>\n",
       "    <tr>\n",
       "      <th>5</th>\n",
       "      <td>2</td>\n",
       "      <td>V ~ N</td>\n",
       "      <td>50.834693</td>\n",
       "      <td>0.007433</td>\n",
       "    </tr>\n",
       "    <tr>\n",
       "      <th>6</th>\n",
       "      <td>3</td>\n",
       "      <td>V ~ I+D</td>\n",
       "      <td>35.771487</td>\n",
       "      <td>0.004501</td>\n",
       "    </tr>\n",
       "    <tr>\n",
       "      <th>7</th>\n",
       "      <td>3</td>\n",
       "      <td>V ~ I+W</td>\n",
       "      <td>41.477029</td>\n",
       "      <td>0.008028</td>\n",
       "    </tr>\n",
       "    <tr>\n",
       "      <th>8</th>\n",
       "      <td>3</td>\n",
       "      <td>V ~ I+G:I</td>\n",
       "      <td>8.112744</td>\n",
       "      <td>0.002609</td>\n",
       "    </tr>\n",
       "    <tr>\n",
       "      <th>9</th>\n",
       "      <td>3</td>\n",
       "      <td>V ~ I+P</td>\n",
       "      <td>35.695478</td>\n",
       "      <td>0.004454</td>\n",
       "    </tr>\n",
       "  </tbody>\n",
       "</table>\n",
       "</div>"
      ],
      "text/plain": [
       "   size    formula         Cp        CV\n",
       "0     2      V ~ I  43.802434  0.005457\n",
       "1     2      V ~ D  34.586822  0.004495\n",
       "2     2      V ~ W  51.767416  0.008829\n",
       "3     2    V ~ G:I   8.680026  0.002534\n",
       "4     2      V ~ P  44.487956  0.005279\n",
       "5     2      V ~ N  50.834693  0.007433\n",
       "6     3    V ~ I+D  35.771487  0.004501\n",
       "7     3    V ~ I+W  41.477029  0.008028\n",
       "8     3  V ~ I+G:I   8.112744  0.002609\n",
       "9     3    V ~ I+P  35.695478  0.004454"
      ]
     },
     "execution_count": 61,
     "metadata": {},
     "output_type": "execute_result"
    }
   ],
   "source": [
    "scores_cp_cv_df = pd.DataFrame(scores_cp_cv_lst, \n",
    "                            columns=[\"size\",\"formula\",\"Cp\", \"CV\"])\n",
    "scores_cp_cv_df.head(10)"
   ]
  },
  {
   "cell_type": "code",
   "execution_count": 62,
   "metadata": {
    "collapsed": false
   },
   "outputs": [
    {
     "data": {
      "image/png": "[encoded data removed]",
      "text/plain": [
       "<matplotlib.figure.Figure at 0x7fc767dc7860>"
      ]
     },
     "metadata": {},
     "output_type": "display_data"
    }
   ],
   "source": [
    "# best 3\n",
    "best_cp_cv_lst=[]\n",
    "for i, group in scores_cp_cv_df.groupby(\"size\"):\n",
    "    best_df = group.sort_values(\"CV\")\n",
    "    best_cp_cv_lst.append(best_df.iloc[:3,:])\n",
    "\n",
    "# plot them\n",
    "choose_best_cp_cv_df = pd.concat(best_cp_cv_lst)\n",
    "plotting_size_vs_score(choose_best_cp_cv_df[\"Cp\"], \n",
    "                       choose_best_cp_cv_df[\"CV\"], \n",
    "                       annotate=False,\n",
    "                       xlabel='Cp',\n",
    "                       ylabel='CV',\n",
    "                       ymin=0.001,\n",
    "                       ymax=0.01)"
   ]
  },
  {
   "cell_type": "code",
   "execution_count": 63,
   "metadata": {
    "collapsed": false,
    "scrolled": false
   },
   "outputs": [
    {
     "data": {
      "image/png": "[encoded data removed]",
      "text/plain": [
       "<matplotlib.figure.Figure at 0x7fc767e30f60>"
      ]
     },
     "metadata": {},
     "output_type": "display_data"
    }
   ],
   "source": [
    "# plot them\n",
    "choose_best_cp_cv_df = pd.concat(best_cp_cv_lst)\n",
    "plotting_size_vs_score(choose_best_cp_cv_df[\"size\"], \n",
    "                       choose_best_cp_cv_df[\"CV\"], \n",
    "                       annotate=True,\n",
    "                       ylabel='CV',\n",
    "                       ymin=0.001,\n",
    "                       ymax=0.01)"
   ]
  },
  {
   "cell_type": "markdown",
   "metadata": {},
   "source": [
    "## Summarizing results\n",
    "\n",
    "The model selected depends on the criterion used.\n",
    "\n",
    "Criterion | Model\n",
    "--- | ---\n",
    "$R^2$ | ~ $ I + D + W +G:I + P + N$\n",
    "$R^2_a$ | ~ $ I + D + P + N$\n",
    "$C_p$ | ~ $D+P+N$\n",
    "AIC forward | ~ $D+P$\n",
    "BIC forward | ~ $D$\n",
    "AIC backward | ~ $I + D + N + I:G$\n",
    "5-fold CV | ~ $ I+W$\n",
    "\n",
    "**The selected model is random and depends on which method we use!**\n",
    "\n",
    "## Where we are so far\n",
    "\n",
    "- Many other \"criteria\" have been proposed.\n",
    "- Some work well for some types of data, others for different data.\n",
    "- Check diagnostics!\n",
    "- These criteria (except cross-validation) are not \"direct measures\" of predictive power, though Mallow's $C_p$ is a step in this direction.\n",
    "- $C_p$ measures the quality of a model based on both *bias* and *variance* of the model. Why is this important?\n",
    "- *Bias-variance* tradeoff is ubiquitous in statistics. More soon."
   ]
  },
  {
   "cell_type": "code",
   "execution_count": null,
   "metadata": {
    "collapsed": true
   },
   "outputs": [],
   "source": []
  },
  {
   "cell_type": "markdown",
   "metadata": {},
   "source": [
    "By the way...\n",
    "\n",
    "* Stopping stepwise: Why stepwise selection is bad and what you should use instead - by Peter Flom, 09/22/2018 [Source](https://towardsdatascience.com/stopping-stepwise-why-stepwise-selection-is-bad-and-what-you-should-use-instead-90818b3f52df)\n",
    "\n",
    "* What are some of the problems with stepwise regression? [Source](https://www.stata.com/support/faqs/statistics/stepwise-regression-problems/)"
   ]
  }
 ],
 "metadata": {
  "kernelspec": {
   "display_name": "Python 3",
   "language": "python",
   "name": "python3"
  },
  "language_info": {
   "codemirror_mode": {
    "name": "ipython",
    "version": 3
   },
   "file_extension": ".py",
   "mimetype": "text/x-python",
   "name": "python",
   "nbconvert_exporter": "python",
   "pygments_lexer": "ipython3",
   "version": "3.6.0"
  }
 },
 "nbformat": 4,
 "nbformat_minor": 2
}
