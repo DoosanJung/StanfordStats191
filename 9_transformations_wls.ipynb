{
 "cells": [
  {
   "cell_type": "markdown",
   "metadata": {},
   "source": [
    "R => Python  \n",
    "Source: https://web.stanford.edu/class/stats191/notebooks/Transformations_WLS.html\n",
    "\n",
    "\n",
    "NOTE: \n",
    "* Not exactly porting R to Python.\n",
    "* Also not [rpy2](https://rpy2.readthedocs.io/en/version_2.8.x/)"
   ]
  },
  {
   "cell_type": "markdown",
   "metadata": {},
   "source": [
    "\n",
    "# Transformations & Weighted Least Squares\n",
    "\n",
    "\n",
    "-   We have been working with *linear* regression models so far in the\n",
    "    course.\n",
    "\n",
    "-   Some models are nonlinear, but can be *transformed* to a linear\n",
    "    model.\n",
    "    \n",
    "-   We will also see that transformations can sometimes *stabilize* the variance\n",
    "    making constant variance a more reasonable assumption.\n",
    "\n",
    "-   Finally, we will see how to correct for unequal variance using a technique weighted least squares (WLS).\n",
    "\n"
   ]
  },
  {
   "cell_type": "code",
   "execution_count": 1,
   "metadata": {
    "collapsed": true
   },
   "outputs": [],
   "source": [
    "import os\n",
    "import numpy as np\n",
    "import pandas as pd\n",
    "from scipy import stats\n",
    "import statsmodels.api as sm\n",
    "from statsmodels.formula.api import ols\n",
    "import matplotlib.pyplot as plt\n",
    "import seaborn as sns\n",
    "from statsmodels.graphics.api import interaction_plot\n",
    "from statsmodels.stats.anova import anova_lm\n",
    "from statsmodels.graphics.api import abline_plot\n",
    "from statsmodels.graphics.gofplots import qqplot"
   ]
  },
  {
   "cell_type": "code",
   "execution_count": 2,
   "metadata": {
    "collapsed": false
   },
   "outputs": [
    {
     "data": {
      "text/plain": [
       "'0.9.0'"
      ]
     },
     "execution_count": 2,
     "metadata": {},
     "output_type": "execute_result"
    }
   ],
   "source": [
    "sm.version.version"
   ]
  },
  {
   "cell_type": "code",
   "execution_count": 3,
   "metadata": {
    "collapsed": false
   },
   "outputs": [
    {
     "data": {
      "text/plain": [
       "'0.18.1'"
      ]
     },
     "execution_count": 3,
     "metadata": {},
     "output_type": "execute_result"
    }
   ],
   "source": [
    "import scipy; scipy.__version__"
   ]
  },
  {
   "cell_type": "markdown",
   "metadata": {
    "collapsed": true
   },
   "source": [
    "\n",
    "## Bacterial colony decay\n",
    "\n",
    "Here is a simple dataset showing the number of bacteria alive in a colony, $N_t$\n",
    "as a function of time $t$. A simple linear regression model is clearly not a very\n",
    "good fit."
   ]
  },
  {
   "cell_type": "code",
   "execution_count": 4,
   "metadata": {
    "collapsed": false
   },
   "outputs": [
    {
     "name": "stderr",
     "output_type": "stream",
     "text": [
      "/home/doojung/anaconda3/lib/python3.6/site-packages/ipykernel/__main__.py:2: FutureWarning: read_table is deprecated, use read_csv instead, passing sep='\\t'.\n",
      "  from ipykernel import kernelapp as app\n"
     ]
    }
   ],
   "source": [
    "url = \"http://stats191.stanford.edu/data/bacteria.table\"\n",
    "bacteria_data = pd.read_table(url)\n",
    "bacteria_data.head()\n",
    "bacteria_res = ols(\"N_t ~ t\", data=bacteria_data).fit()"
   ]
  },
  {
   "cell_type": "code",
   "execution_count": 5,
   "metadata": {
    "collapsed": true
   },
   "outputs": [],
   "source": [
    "def plot_abline_scatter(data, result):\n",
    "    fig = abline_plot(model_results = result, color='red')\n",
    "    ax = fig.axes[0]\n",
    "    ax.scatter(data.t, data.N_t, color ='orange', marker='D')\n",
    "    plt.xlabel(\"Time, t\")\n",
    "    plt.ylabel(\"The number of bacteria alive in a colony, N_t\")\n",
    "    plt.show()"
   ]
  },
  {
   "cell_type": "code",
   "execution_count": 6,
   "metadata": {
    "collapsed": false
   },
   "outputs": [
    {
     "data": {
      "image/png": "[encoded data removed]",
      "text/plain": [
       "<matplotlib.figure.Figure at 0x7feeaecbd748>"
      ]
     },
     "metadata": {},
     "output_type": "display_data"
    }
   ],
   "source": [
    "plot_abline_scatter(data=bacteria_data, result=bacteria_res)"
   ]
  },
  {
   "cell_type": "code",
   "execution_count": 7,
   "metadata": {
    "collapsed": false
   },
   "outputs": [],
   "source": [
    "# Residuals vs. Fitted\n",
    "def residuals_fitted(data, y, result, ax):\n",
    "    sns.residplot(result.fittedvalues, y, \n",
    "                  data=data, \n",
    "                  lowess=True,\n",
    "                  scatter_kws={'alpha': 0.5},\n",
    "                  line_kws={'color': 'red', 'alpha':0.5},\n",
    "                  ax=ax)\n",
    "    ax.set_xlabel('Fitted values')\n",
    "    ax.set_ylabel('Residuals')\n",
    "    ax.set_title('Residuals vs. Fitted')\n",
    "    return ax"
   ]
  },
  {
   "cell_type": "code",
   "execution_count": 8,
   "metadata": {
    "collapsed": true
   },
   "outputs": [],
   "source": [
    "# Normal Q-Q Plot\n",
    "def normal_qq_plot(result, ax):\n",
    "    # result.resid also works too\n",
    "#     fig = qqplot(result.resid, line='q', alpha=0.5, ax=ax)\n",
    "    # standardized residuals\n",
    "    fig = qqplot(result.get_influence().resid_studentized_internal, line='q', alpha=0.5, ax=ax)\n",
    "    ax.set_xlabel('Theoretical Quantiles')\n",
    "    ax.set_ylabel('Standardized residuals')\n",
    "    ax.set_title('Normal Q-Q')\n",
    "    return fig"
   ]
  },
  {
   "cell_type": "code",
   "execution_count": 9,
   "metadata": {
    "collapsed": false
   },
   "outputs": [],
   "source": [
    "# Scale-location\n",
    "def scale_location(result, ax):\n",
    "    norm_resid = result.get_influence().resid_studentized_internal\n",
    "    abs_sqrt_norm_resid = np.sqrt(np.abs(norm_resid))\n",
    "    ax.scatter(result.fittedvalues, abs_sqrt_norm_resid, alpha=0.5)\n",
    "    sns.regplot(result.fittedvalues, abs_sqrt_norm_resid, \n",
    "                scatter=False, ci=False, lowess=True,\n",
    "                line_kws={'color': 'red', 'alpha':0.5},\n",
    "                ax=ax)\n",
    "    ax.set_xlabel('Fitted values')\n",
    "    ax.set_ylabel('np.sqrt(standardized residuals)')\n",
    "    ax.set_title('Scale-location')\n",
    "    return ax"
   ]
  },
  {
   "cell_type": "code",
   "execution_count": 10,
   "metadata": {
    "collapsed": false
   },
   "outputs": [],
   "source": [
    "# Residuals vs. Leverage\n",
    "def residuals_leverage(result, ax, xmin=0, xmax=0.3, ymin=-1, ymax=5): \n",
    "    norm_resid = result.get_influence().resid_studentized_internal\n",
    "    leverage = result.get_influence().hat_matrix_diag\n",
    "    ax.scatter(leverage, norm_resid, alpha=0.5)\n",
    "    sns.regplot(leverage, norm_resid, \n",
    "                scatter=False, ci=False, lowess=True,\n",
    "                line_kws={'color': 'red', 'alpha':0.5},\n",
    "                ax=ax)\n",
    "    ax.set_xlabel('Leverage')\n",
    "    ax.set_ylabel('Standardized Residuals')\n",
    "    ax.set_title('Residuals vs. Leverage')\n",
    "\n",
    "    x = np.linspace(0, 0.3, 50)\n",
    "    y = np.sqrt((0.5 * len(result.params) * (1 - x)) / x)\n",
    "    ax.plot(x, y, label='Cook\\'s distance', ls='--', color='red')\n",
    "    ax.set_xlim([xmin, xmax])\n",
    "    ax.set_ylim([ymin, ymax])\n",
    "    return ax"
   ]
  },
  {
   "cell_type": "code",
   "execution_count": 11,
   "metadata": {
    "collapsed": false,
    "scrolled": false
   },
   "outputs": [],
   "source": [
    "def make_plots(data, y, result, xmin=0, xmax=0.3, ymin=-1, ymax=5):\n",
    "    fig, axes = plt.subplots(2,2, sharex=False, sharey=False)\n",
    "    axes[0, 0] = residuals_fitted(data=data, y=y,\n",
    "                                  result=result, \n",
    "                                  ax=axes[0, 0])\n",
    "    axes[0, 1] = normal_qq_plot(result=result,\n",
    "                                 ax=axes[0, 1])\n",
    "    axes[1, 0] = scale_location(result=result,\n",
    "                                 ax=axes[1, 0])\n",
    "    axes[1, 1] = residuals_leverage(result=result,\n",
    "                                 ax=axes[1, 1],\n",
    "                                 xmin=xmin, xmax=xmax,\n",
    "                                 ymin=ymin, ymax=ymax)\n",
    "    plt.tight_layout()\n",
    "    plt.show()"
   ]
  },
  {
   "cell_type": "code",
   "execution_count": 12,
   "metadata": {
    "collapsed": false
   },
   "outputs": [
    {
     "name": "stderr",
     "output_type": "stream",
     "text": [
      "/home/doojung/anaconda3/lib/python3.6/site-packages/scipy/stats/stats.py:1626: FutureWarning: Using a non-tuple sequence for multidimensional indexing is deprecated; use `arr[tuple(seq)]` instead of `arr[seq]`. In the future this will be interpreted as an array index, `arr[np.array(seq)]`, which will result either in an error or a different result.\n",
      "  return np.add.reduce(sorted[indexer] * weights, axis=axis) / sumval\n",
      "/home/doojung/anaconda3/lib/python3.6/site-packages/ipykernel/__main__.py:15: RuntimeWarning: divide by zero encountered in true_divide\n"
     ]
    },
    {
     "data": {
      "image/png": "[encoded data removed]",
      "text/plain": [
       "<matplotlib.figure.Figure at 0x7feeae40b390>"
      ]
     },
     "metadata": {},
     "output_type": "display_data"
    }
   ],
   "source": [
    "make_plots(data=bacteria_data, y='N_t', result=bacteria_res)"
   ]
  },
  {
   "cell_type": "markdown",
   "metadata": {},
   "source": [
    "## Exponential decay model\n",
    "\n",
    "-   Suppose the expected number of cells grows like\n",
    "    $$E(n_t) = n_0 e^{\\beta_1t}, \\qquad t=1, 2, 3, \\dots$$\n",
    "\n",
    "-   If we take logs of both sides\n",
    "    $$\\log E(n_t) = \\log n_0 + \\beta_1 t.$$\n",
    "\n",
    "-   A reasonable (?) model:\n",
    "    $$\\log n_t = \\log n_0 + \\beta_1 t + \\varepsilon_t, \\qquad \\varepsilon_t \\overset{IID}{\\sim} N(0,\\sigma^2).$$\n"
   ]
  },
  {
   "cell_type": "code",
   "execution_count": 13,
   "metadata": {
    "collapsed": false
   },
   "outputs": [
    {
     "name": "stdout",
     "output_type": "stream",
     "text": [
      "   t  N_t   log_N_t\n",
      "0  1  355  5.872118\n",
      "1  2  211  5.351858\n",
      "2  3  197  5.283204\n",
      "3  4  166  5.111988\n",
      "4  5  142  4.955827\n"
     ]
    },
    {
     "data": {
      "text/plain": [
       "Intercept    5.973160\n",
       "t           -0.218425\n",
       "dtype: float64"
      ]
     },
     "execution_count": 13,
     "metadata": {},
     "output_type": "execute_result"
    }
   ],
   "source": [
    "# 1. directly modifying the data\n",
    "bacteria_log_data = bacteria_data.copy()\n",
    "bacteria_log_data[\"log_N_t\"] = np.log(bacteria_data[\"N_t\"])\n",
    "print(bacteria_log_data.head())\n",
    "bacteria_log_res = ols(\"log_N_t ~ t\", data=bacteria_log_data).fit()\n",
    "bacteria_log_res.params"
   ]
  },
  {
   "cell_type": "code",
   "execution_count": 14,
   "metadata": {
    "collapsed": false
   },
   "outputs": [
    {
     "data": {
      "text/plain": [
       "Intercept    5.973160\n",
       "t           -0.218425\n",
       "dtype: float64"
      ]
     },
     "execution_count": 14,
     "metadata": {},
     "output_type": "execute_result"
    }
   ],
   "source": [
    "# 2. using statsmodels R-style formula\n",
    "bacteria_log_res = ols(\"np.log(N_t) ~ t\", data=bacteria_log_data).fit()\n",
    "bacteria_log_res.params"
   ]
  },
  {
   "cell_type": "code",
   "execution_count": 15,
   "metadata": {
    "collapsed": false
   },
   "outputs": [
    {
     "data": {
      "image/png": "[encoded data removed]",
      "text/plain": [
       "<matplotlib.figure.Figure at 0x7feeab8db128>"
      ]
     },
     "metadata": {},
     "output_type": "display_data"
    }
   ],
   "source": [
    "plt.scatter(bacteria_log_data.t, bacteria_log_data.N_t, \n",
    "            color ='orange', marker='D')\n",
    "plt.plot(bacteria_log_data.t, bacteria_res.fittedvalues,\n",
    "        color='red')\n",
    "plt.plot(bacteria_log_data.t, np.exp(bacteria_log_res.fittedvalues),\n",
    "        color='green')\n",
    "plt.xlabel(\"Time, t\")\n",
    "plt.ylabel(\"The number of bacteria alive in a colony, N_t\")\n",
    "plt.show()"
   ]
  },
  {
   "cell_type": "code",
   "execution_count": 16,
   "metadata": {
    "collapsed": false
   },
   "outputs": [
    {
     "name": "stderr",
     "output_type": "stream",
     "text": [
      "/home/doojung/anaconda3/lib/python3.6/site-packages/scipy/stats/stats.py:1626: FutureWarning: Using a non-tuple sequence for multidimensional indexing is deprecated; use `arr[tuple(seq)]` instead of `arr[seq]`. In the future this will be interpreted as an array index, `arr[np.array(seq)]`, which will result either in an error or a different result.\n",
      "  return np.add.reduce(sorted[indexer] * weights, axis=axis) / sumval\n",
      "/home/doojung/anaconda3/lib/python3.6/site-packages/ipykernel/__main__.py:15: RuntimeWarning: divide by zero encountered in true_divide\n"
     ]
    },
    {
     "data": {
      "image/png": "[encoded data removed]",
      "text/plain": [
       "<matplotlib.figure.Figure at 0x7feeab7f7da0>"
      ]
     },
     "metadata": {},
     "output_type": "display_data"
    }
   ],
   "source": [
    "make_plots(data=bacteria_log_data, y='log_N_t', result=bacteria_log_res, ymin=-2)"
   ]
  },
  {
   "cell_type": "markdown",
   "metadata": {},
   "source": [
    "### Logarithmic transformation\n",
    "\n",
    "-   This model slightly different than original model:\n",
    "    $$E(\\log n_t) \\leq \\log E(n_t)$$ but may be approximately true.\n",
    "\n",
    "-   If $\\varepsilon_t \\sim N(0,\\sigma^2)$ then\n",
    "    $$n_t = n_0 \\cdot \\gamma_t \\cdot e^{\\beta_1 t}.$$\n",
    "\n",
    "-   $\\gamma_t=e^{\\varepsilon_t}$ is called a log-normal \n",
    "    $(0,\\sigma^2)$ random variable.\n",
    "\n",
    "## Linearizing regression function\n",
    "\n",
    "We see that an exponential growth or decay model can\n",
    "be made (approximately) linear. Here are a few other models that can be linearized:\n",
    "\n",
    "-   $y=\\alpha x^{\\beta}$, use $\\tilde{y}=\\log(y), \\tilde{x}=\\log(x)$;\n",
    "\n",
    "-   $y=\\alpha e^{\\beta x}$, use $\\tilde{y}=\\log(y)$;\n",
    "\n",
    "-   $y=x/(\\alpha x - \\beta)$, use $\\tilde{y}=1/y, \\tilde{x}=1/x$.\n",
    "\n",
    "-   More in textbook.\n",
    "\n",
    "### Caveats\n",
    "\n",
    "-   Just because expected value linearizes, does not mean that the errors\n",
    "    behave correctly.\n",
    "\n",
    "-   In some cases, this can be corrected using weighted least squares\n",
    "    (more later).\n",
    "\n",
    "-   Constant variance, normality assumptions should still be checked.\n",
    "\n",
    "## Stabilizing variance\n",
    "\n",
    "-   Sometimes, a transformation can turn non-constant variance errors to\n",
    "    \"close to\" constant variance. This is another situation in which we might\n",
    "    consider a transformation.\n",
    "\n",
    "-   Example: by the \"delta rule\", if\n",
    "    $$\\text{Var}(Y) = \\sigma^2 E(Y)$$ then\n",
    "    $$\\text{Var}(\\sqrt{Y}) \\simeq \\frac{\\sigma^2}{4}.$$\n",
    "    \n",
    "-   In practice, we might not know which transformation is best. [Box-Cox transformations](http://en.wikipedia.org/wiki/Power_transform) offer a tool to find a \"best\" transformation.\n",
    "\n",
    "## Delta rule\n",
    "\n",
    "The following approximation is ubiquitous in statistics.\n",
    "\n",
    "-   Taylor series expansion:\n",
    "    $$f(Y) = f(E(Y)) + \\dot{f}(E(Y)) (Y - E(Y)) + \\dots$$\n",
    "\n",
    "-   Taking expectations of both sides yields:\n",
    "    $$\\text{Var}(f(Y)) \\simeq \\dot{f}(E(Y))^2  \\cdot \\text{Var}(Y)$$\n",
    "\n",
    "## Delta rule\n",
    "\n",
    "-  So, for our previous example:\n",
    "    $$\\text{Var}(\\sqrt{Y}) \\simeq \\frac{\\text{Var}(Y)}{4 \\cdot E(Y)}$$\n",
    "    \n",
    "- Another example\n",
    "    $$\\text{Var}(\\log(Y)) \\simeq \\frac{\\text{Var}(Y)}{E(Y)^2}.$$\n",
    "\n",
    "### Caveats\n",
    "\n",
    "-   Just because a transformation makes variance constant does not mean\n",
    "    regression function is still linear (or even that it was linear)!\n",
    "\n",
    "-   The models are approximations, and once a model is selected our\n",
    "    standard diagnostics should be used to assess adequacy of fit.\n",
    "\n",
    "-   It is possible to have non-constant variance but the variance\n",
    "    stabilizing transformation may destroy linearity of the regression\n",
    "    function. \n",
    "    \n",
    "    - *Solution:* try weighted least squares (WLS).\n",
    "\n",
    "## Correcting for unequal variance: weighted least squares\n",
    "\n",
    "- We will now see an example in which there seems to be strong evidence\n",
    "for variance that changes based on `Region`.\n",
    "\n",
    "- After observing this, we will create a new model that\n",
    "attempts to *correct* for this and come up with better estimates.\n",
    "\n",
    "- *Correcting* for unequal variance, as we describe it here, generally\n",
    "requires a model for how the variance depends on observable quantities.\n",
    "\n",
    "## Correcting for unequal variance: weighted least squares\n",
    "\n",
    "\n",
    "\n",
    "<table>\n",
    "<tr><td><b>Variable</b></td><td><b>Description</b></td></tr>\n",
    "<tr><td>$Y$</td><td>Per capita education expenditure by state</td></tr>\n",
    "<tr><td>$X_1$</td><td>Per capita income in 1973 by state</td></tr>\n",
    "<tr><td>$X_2$</td><td>Proportion of population under 18</td></tr>\n",
    "<tr><td>$X_3$</td><td>Proportion in urban areas</td></tr>\n",
    "<tr><td>`Region`</td><td>Which region of the country are the states located in</td></tr>\n",
    "</table>"
   ]
  },
  {
   "cell_type": "code",
   "execution_count": 17,
   "metadata": {
    "collapsed": false
   },
   "outputs": [
    {
     "name": "stderr",
     "output_type": "stream",
     "text": [
      "/home/doojung/anaconda3/lib/python3.6/site-packages/ipykernel/__main__.py:2: FutureWarning: read_table is deprecated, use read_csv instead, passing sep='\\t'.\n",
      "  from ipykernel import kernelapp as app\n"
     ]
    },
    {
     "data": {
      "text/html": [
       "<div>\n",
       "<style scoped>\n",
       "    .dataframe tbody tr th:only-of-type {\n",
       "        vertical-align: middle;\n",
       "    }\n",
       "\n",
       "    .dataframe tbody tr th {\n",
       "        vertical-align: top;\n",
       "    }\n",
       "\n",
       "    .dataframe thead th {\n",
       "        text-align: right;\n",
       "    }\n",
       "</style>\n",
       "<table border=\"1\" class=\"dataframe\">\n",
       "  <thead>\n",
       "    <tr style=\"text-align: right;\">\n",
       "      <th></th>\n",
       "      <th>STATE</th>\n",
       "      <th>Y</th>\n",
       "      <th>X1</th>\n",
       "      <th>X2</th>\n",
       "      <th>X3</th>\n",
       "      <th>Region</th>\n",
       "    </tr>\n",
       "  </thead>\n",
       "  <tbody>\n",
       "    <tr>\n",
       "      <th>0</th>\n",
       "      <td>ME</td>\n",
       "      <td>235</td>\n",
       "      <td>3944</td>\n",
       "      <td>325</td>\n",
       "      <td>508</td>\n",
       "      <td>1</td>\n",
       "    </tr>\n",
       "    <tr>\n",
       "      <th>1</th>\n",
       "      <td>NH</td>\n",
       "      <td>231</td>\n",
       "      <td>4578</td>\n",
       "      <td>323</td>\n",
       "      <td>564</td>\n",
       "      <td>1</td>\n",
       "    </tr>\n",
       "    <tr>\n",
       "      <th>2</th>\n",
       "      <td>VT</td>\n",
       "      <td>270</td>\n",
       "      <td>4011</td>\n",
       "      <td>328</td>\n",
       "      <td>322</td>\n",
       "      <td>1</td>\n",
       "    </tr>\n",
       "    <tr>\n",
       "      <th>3</th>\n",
       "      <td>MA</td>\n",
       "      <td>261</td>\n",
       "      <td>5233</td>\n",
       "      <td>305</td>\n",
       "      <td>846</td>\n",
       "      <td>1</td>\n",
       "    </tr>\n",
       "    <tr>\n",
       "      <th>4</th>\n",
       "      <td>RI</td>\n",
       "      <td>300</td>\n",
       "      <td>4780</td>\n",
       "      <td>303</td>\n",
       "      <td>871</td>\n",
       "      <td>1</td>\n",
       "    </tr>\n",
       "    <tr>\n",
       "      <th>5</th>\n",
       "      <td>CT</td>\n",
       "      <td>317</td>\n",
       "      <td>5889</td>\n",
       "      <td>307</td>\n",
       "      <td>774</td>\n",
       "      <td>1</td>\n",
       "    </tr>\n",
       "  </tbody>\n",
       "</table>\n",
       "</div>"
      ],
      "text/plain": [
       "  STATE    Y    X1   X2   X3   Region  \n",
       "0    ME   235  3944  325  508         1\n",
       "1    NH   231  4578  323  564         1\n",
       "2    VT   270  4011  328  322         1\n",
       "3    MA   261  5233  305  846         1\n",
       "4    RI   300  4780  303  871         1\n",
       "5    CT   317  5889  307  774         1"
      ]
     },
     "execution_count": 17,
     "metadata": {},
     "output_type": "execute_result"
    }
   ],
   "source": [
    "url = \"http://stats191.stanford.edu/data/education1975.table\"\n",
    "education_data = pd.read_table(url)\n",
    "education_data.head(6)"
   ]
  },
  {
   "cell_type": "code",
   "execution_count": 18,
   "metadata": {
    "collapsed": false
   },
   "outputs": [
    {
     "data": {
      "text/plain": [
       "Index(['STATE ', 'Y ', 'X1 ', 'X2 ', 'X3 ', 'Region  '], dtype='object')"
      ]
     },
     "execution_count": 18,
     "metadata": {},
     "output_type": "execute_result"
    }
   ],
   "source": [
    "education_data.columns"
   ]
  },
  {
   "cell_type": "code",
   "execution_count": 19,
   "metadata": {
    "collapsed": true
   },
   "outputs": [],
   "source": [
    "education_data.rename(columns={\"STATE \":\"STATE\",\n",
    "                               \"Y \":\"Y\",\n",
    "                               \"X1 \":\"X1\",\n",
    "                               \"X2 \":\"X2\",\n",
    "                               \"X3 \":\"X3\",\n",
    "                               \"Region  \": \"Region\" \n",
    "                               }, inplace=True)"
   ]
  },
  {
   "cell_type": "code",
   "execution_count": 20,
   "metadata": {
    "collapsed": false
   },
   "outputs": [
    {
     "data": {
      "text/plain": [
       "Index(['STATE', 'Y', 'X1', 'X2', 'X3', 'Region'], dtype='object')"
      ]
     },
     "execution_count": 20,
     "metadata": {},
     "output_type": "execute_result"
    }
   ],
   "source": [
    "education_data.columns"
   ]
  },
  {
   "cell_type": "code",
   "execution_count": 21,
   "metadata": {
    "collapsed": false
   },
   "outputs": [
    {
     "data": {
      "text/plain": [
       "[1, 1, 1, 1, 1, ..., 4, 4, 4, 4, 4]\n",
       "Length: 50\n",
       "Categories (4, int64): [1, 2, 3, 4]"
      ]
     },
     "execution_count": 21,
     "metadata": {},
     "output_type": "execute_result"
    }
   ],
   "source": [
    "region_factor = pd.Categorical(education_data[\"Region\"])\n",
    "region_factor"
   ]
  },
  {
   "cell_type": "code",
   "execution_count": 22,
   "metadata": {
    "collapsed": false,
    "scrolled": false
   },
   "outputs": [
    {
     "data": {
      "text/html": [
       "<table class=\"simpletable\">\n",
       "<caption>OLS Regression Results</caption>\n",
       "<tr>\n",
       "  <th>Dep. Variable:</th>            <td>Y</td>        <th>  R-squared:         </th> <td>   0.591</td>\n",
       "</tr>\n",
       "<tr>\n",
       "  <th>Model:</th>                   <td>OLS</td>       <th>  Adj. R-squared:    </th> <td>   0.565</td>\n",
       "</tr>\n",
       "<tr>\n",
       "  <th>Method:</th>             <td>Least Squares</td>  <th>  F-statistic:       </th> <td>   22.19</td>\n",
       "</tr>\n",
       "<tr>\n",
       "  <th>Date:</th>             <td>Fri, 21 Jun 2019</td> <th>  Prob (F-statistic):</th> <td>4.94e-09</td>\n",
       "</tr>\n",
       "<tr>\n",
       "  <th>Time:</th>                 <td>01:10:22</td>     <th>  Log-Likelihood:    </th> <td> -253.89</td>\n",
       "</tr>\n",
       "<tr>\n",
       "  <th>No. Observations:</th>      <td>    50</td>      <th>  AIC:               </th> <td>   515.8</td>\n",
       "</tr>\n",
       "<tr>\n",
       "  <th>Df Residuals:</th>          <td>    46</td>      <th>  BIC:               </th> <td>   523.4</td>\n",
       "</tr>\n",
       "<tr>\n",
       "  <th>Df Model:</th>              <td>     3</td>      <th>                     </th>     <td> </td>   \n",
       "</tr>\n",
       "<tr>\n",
       "  <th>Covariance Type:</th>      <td>nonrobust</td>    <th>                     </th>     <td> </td>   \n",
       "</tr>\n",
       "</table>\n",
       "<table class=\"simpletable\">\n",
       "<tr>\n",
       "      <td></td>         <th>coef</th>     <th>std err</th>      <th>t</th>      <th>P>|t|</th>  <th>[0.025</th>    <th>0.975]</th>  \n",
       "</tr>\n",
       "<tr>\n",
       "  <th>Intercept</th> <td> -556.5680</td> <td>  123.195</td> <td>   -4.518</td> <td> 0.000</td> <td> -804.547</td> <td> -308.589</td>\n",
       "</tr>\n",
       "<tr>\n",
       "  <th>X1</th>        <td>    0.0724</td> <td>    0.012</td> <td>    6.239</td> <td> 0.000</td> <td>    0.049</td> <td>    0.096</td>\n",
       "</tr>\n",
       "<tr>\n",
       "  <th>X2</th>        <td>    1.5521</td> <td>    0.315</td> <td>    4.932</td> <td> 0.000</td> <td>    0.919</td> <td>    2.185</td>\n",
       "</tr>\n",
       "<tr>\n",
       "  <th>X3</th>        <td>   -0.0043</td> <td>    0.051</td> <td>   -0.083</td> <td> 0.934</td> <td>   -0.108</td> <td>    0.099</td>\n",
       "</tr>\n",
       "</table>\n",
       "<table class=\"simpletable\">\n",
       "<tr>\n",
       "  <th>Omnibus:</th>       <td> 0.719</td> <th>  Durbin-Watson:     </th> <td>   2.149</td>\n",
       "</tr>\n",
       "<tr>\n",
       "  <th>Prob(Omnibus):</th> <td> 0.698</td> <th>  Jarque-Bera (JB):  </th> <td>   0.760</td>\n",
       "</tr>\n",
       "<tr>\n",
       "  <th>Skew:</th>          <td> 0.264</td> <th>  Prob(JB):          </th> <td>   0.684</td>\n",
       "</tr>\n",
       "<tr>\n",
       "  <th>Kurtosis:</th>      <td> 2.705</td> <th>  Cond. No.          </th> <td>1.03e+05</td>\n",
       "</tr>\n",
       "</table><br/><br/>Warnings:<br/>[1] Standard Errors assume that the covariance matrix of the errors is correctly specified.<br/>[2] The condition number is large, 1.03e+05. This might indicate that there are<br/>strong multicollinearity or other numerical problems."
      ],
      "text/plain": [
       "<class 'statsmodels.iolib.summary.Summary'>\n",
       "\"\"\"\n",
       "                            OLS Regression Results                            \n",
       "==============================================================================\n",
       "Dep. Variable:                      Y   R-squared:                       0.591\n",
       "Model:                            OLS   Adj. R-squared:                  0.565\n",
       "Method:                 Least Squares   F-statistic:                     22.19\n",
       "Date:                Fri, 21 Jun 2019   Prob (F-statistic):           4.94e-09\n",
       "Time:                        01:10:22   Log-Likelihood:                -253.89\n",
       "No. Observations:                  50   AIC:                             515.8\n",
       "Df Residuals:                      46   BIC:                             523.4\n",
       "Df Model:                           3                                         \n",
       "Covariance Type:            nonrobust                                         \n",
       "==============================================================================\n",
       "                 coef    std err          t      P>|t|      [0.025      0.975]\n",
       "------------------------------------------------------------------------------\n",
       "Intercept   -556.5680    123.195     -4.518      0.000    -804.547    -308.589\n",
       "X1             0.0724      0.012      6.239      0.000       0.049       0.096\n",
       "X2             1.5521      0.315      4.932      0.000       0.919       2.185\n",
       "X3            -0.0043      0.051     -0.083      0.934      -0.108       0.099\n",
       "==============================================================================\n",
       "Omnibus:                        0.719   Durbin-Watson:                   2.149\n",
       "Prob(Omnibus):                  0.698   Jarque-Bera (JB):                0.760\n",
       "Skew:                           0.264   Prob(JB):                        0.684\n",
       "Kurtosis:                       2.705   Cond. No.                     1.03e+05\n",
       "==============================================================================\n",
       "\n",
       "Warnings:\n",
       "[1] Standard Errors assume that the covariance matrix of the errors is correctly specified.\n",
       "[2] The condition number is large, 1.03e+05. This might indicate that there are\n",
       "strong multicollinearity or other numerical problems.\n",
       "\"\"\""
      ]
     },
     "execution_count": 22,
     "metadata": {},
     "output_type": "execute_result"
    }
   ],
   "source": [
    "formula = \"Y ~ X1 + X2 + X3\"\n",
    "education_res = ols(formula, data=education_data).fit()\n",
    "education_res.summary()"
   ]
  },
  {
   "cell_type": "code",
   "execution_count": 23,
   "metadata": {
    "collapsed": false
   },
   "outputs": [
    {
     "name": "stderr",
     "output_type": "stream",
     "text": [
      "/home/doojung/anaconda3/lib/python3.6/site-packages/scipy/stats/stats.py:1626: FutureWarning: Using a non-tuple sequence for multidimensional indexing is deprecated; use `arr[tuple(seq)]` instead of `arr[seq]`. In the future this will be interpreted as an array index, `arr[np.array(seq)]`, which will result either in an error or a different result.\n",
      "  return np.add.reduce(sorted[indexer] * weights, axis=axis) / sumval\n",
      "/home/doojung/anaconda3/lib/python3.6/site-packages/ipykernel/__main__.py:15: RuntimeWarning: divide by zero encountered in true_divide\n"
     ]
    },
    {
     "data": {
      "image/png": "[encoded data removed]",
      "text/plain": [
       "<matplotlib.figure.Figure at 0x7feeab8c4668>"
      ]
     },
     "metadata": {},
     "output_type": "display_data"
    }
   ],
   "source": [
    "make_plots(data=education_data, y='Y', result=education_res, xmax=0.4, ymin=-3)"
   ]
  },
  {
   "cell_type": "code",
   "execution_count": 24,
   "metadata": {
    "collapsed": false
   },
   "outputs": [
    {
     "data": {
      "text/plain": [
       "array([ 0.09733303, -1.07301386,  0.76018334, -0.79193686,  1.14704983,\n",
       "       -0.67490698,  1.81309575, -1.36259063,  1.01086908, -2.12890654,\n",
       "       -1.06569626, -1.15801331,  0.56245933,  1.41982951,  1.72815395,\n",
       "       -1.39132237, -0.68545913, -1.52817152, -0.88712399, -0.39573961,\n",
       "        1.48644887, -0.16464353,  0.06661636, -0.32649885,  0.3717291 ,\n",
       "        0.18083548, -0.39607097, -0.60696202,  0.56228922, -0.42519984,\n",
       "       -0.08815936, -0.45566118, -0.83714672,  0.43003158, -0.64252595,\n",
       "        0.39336951, -0.1249304 ,  0.53154057, -0.50430088,  0.50266845,\n",
       "       -0.1057826 ,  0.9850654 ,  0.98474018, -0.04644862, -1.62959705,\n",
       "        0.6211206 ,  1.56928622,  0.57734117,  3.2823873 , -0.76660817])"
      ]
     },
     "execution_count": 24,
     "metadata": {},
     "output_type": "execute_result"
    }
   ],
   "source": [
    "infl = education_res.get_influence()\n",
    "infl.resid_studentized_internal # rstandard()"
   ]
  },
  {
   "cell_type": "code",
   "execution_count": 25,
   "metadata": {
    "collapsed": false
   },
   "outputs": [],
   "source": [
    "education_data[\"rstandard\"] = infl.resid_studentized_internal"
   ]
  },
  {
   "cell_type": "code",
   "execution_count": 26,
   "metadata": {
    "collapsed": false,
    "scrolled": false
   },
   "outputs": [
    {
     "data": {
      "image/png": "[encoded data removed]",
      "text/plain": [
       "<matplotlib.figure.Figure at 0x7feeab900550>"
      ]
     },
     "metadata": {},
     "output_type": "display_data"
    }
   ],
   "source": [
    "# to fill the colors inside the box\n",
    "bp_dict = education_data.boxplot(\"rstandard\",\n",
    "    by=\"Region\", \n",
    "    return_type='both',\n",
    "    patch_artist = True,\n",
    ")\n",
    "\n",
    "colors = ['red', 'green', 'blue', 'yellow']\n",
    "for row_key, (ax,row) in bp_dict.iteritems():\n",
    "    ax.set_xlabel('')\n",
    "    for i,box in enumerate(row['boxes']):\n",
    "        box.set_facecolor(colors[i])\n",
    "\n",
    "plt.show()"
   ]
  },
  {
   "cell_type": "code",
   "execution_count": 27,
   "metadata": {
    "collapsed": false
   },
   "outputs": [],
   "source": [
    "education_data[\"STATE\"] = education_data[\"STATE\"].apply(lambda x: x.strip())"
   ]
  },
  {
   "cell_type": "code",
   "execution_count": 28,
   "metadata": {
    "collapsed": false
   },
   "outputs": [
    {
     "data": {
      "text/plain": [
       "['AK', 'AL', 'AR', 'AZ', 'CA']"
      ]
     },
     "execution_count": 28,
     "metadata": {},
     "output_type": "execute_result"
    }
   ],
   "source": [
    "sorted(education_data.STATE.unique())[:5]"
   ]
  },
  {
   "cell_type": "code",
   "execution_count": 29,
   "metadata": {
    "collapsed": false
   },
   "outputs": [
    {
     "data": {
      "text/plain": [
       "['AL', 'AR', 'AZ', 'CA', 'CO']"
      ]
     },
     "execution_count": 29,
     "metadata": {},
     "output_type": "execute_result"
    }
   ],
   "source": [
    "# 1. directly modifying the data\n",
    "education_data_noAK = education_data[education_data[\"STATE\"]!=\"AK\"]\n",
    "sorted(education_data_noAK.STATE.unique())[:5]"
   ]
  },
  {
   "cell_type": "code",
   "execution_count": 30,
   "metadata": {
    "collapsed": false
   },
   "outputs": [
    {
     "data": {
      "text/html": [
       "<table class=\"simpletable\">\n",
       "<caption>OLS Regression Results</caption>\n",
       "<tr>\n",
       "  <th>Dep. Variable:</th>            <td>Y</td>        <th>  R-squared:         </th> <td>   0.497</td>\n",
       "</tr>\n",
       "<tr>\n",
       "  <th>Model:</th>                   <td>OLS</td>       <th>  Adj. R-squared:    </th> <td>   0.463</td>\n",
       "</tr>\n",
       "<tr>\n",
       "  <th>Method:</th>             <td>Least Squares</td>  <th>  F-statistic:       </th> <td>   14.80</td>\n",
       "</tr>\n",
       "<tr>\n",
       "  <th>Date:</th>             <td>Fri, 21 Jun 2019</td> <th>  Prob (F-statistic):</th> <td>7.65e-07</td>\n",
       "</tr>\n",
       "<tr>\n",
       "  <th>Time:</th>                 <td>01:10:23</td>     <th>  Log-Likelihood:    </th> <td> -242.77</td>\n",
       "</tr>\n",
       "<tr>\n",
       "  <th>No. Observations:</th>      <td>    49</td>      <th>  AIC:               </th> <td>   493.5</td>\n",
       "</tr>\n",
       "<tr>\n",
       "  <th>Df Residuals:</th>          <td>    45</td>      <th>  BIC:               </th> <td>   501.1</td>\n",
       "</tr>\n",
       "<tr>\n",
       "  <th>Df Model:</th>              <td>     3</td>      <th>                     </th>     <td> </td>   \n",
       "</tr>\n",
       "<tr>\n",
       "  <th>Covariance Type:</th>      <td>nonrobust</td>    <th>                     </th>     <td> </td>   \n",
       "</tr>\n",
       "</table>\n",
       "<table class=\"simpletable\">\n",
       "<tr>\n",
       "      <td></td>         <th>coef</th>     <th>std err</th>      <th>t</th>      <th>P>|t|</th>  <th>[0.025</th>    <th>0.975]</th>  \n",
       "</tr>\n",
       "<tr>\n",
       "  <th>Intercept</th> <td> -277.5773</td> <td>  132.423</td> <td>   -2.096</td> <td> 0.042</td> <td> -544.291</td> <td>  -10.864</td>\n",
       "</tr>\n",
       "<tr>\n",
       "  <th>X1</th>        <td>    0.0483</td> <td>    0.012</td> <td>    3.976</td> <td> 0.000</td> <td>    0.024</td> <td>    0.073</td>\n",
       "</tr>\n",
       "<tr>\n",
       "  <th>X2</th>        <td>    0.8869</td> <td>    0.331</td> <td>    2.678</td> <td> 0.010</td> <td>    0.220</td> <td>    1.554</td>\n",
       "</tr>\n",
       "<tr>\n",
       "  <th>X3</th>        <td>    0.0668</td> <td>    0.049</td> <td>    1.354</td> <td> 0.183</td> <td>   -0.033</td> <td>    0.166</td>\n",
       "</tr>\n",
       "</table>\n",
       "<table class=\"simpletable\">\n",
       "<tr>\n",
       "  <th>Omnibus:</th>       <td> 0.883</td> <th>  Durbin-Watson:     </th> <td>   1.946</td>\n",
       "</tr>\n",
       "<tr>\n",
       "  <th>Prob(Omnibus):</th> <td> 0.643</td> <th>  Jarque-Bera (JB):  </th> <td>   0.932</td>\n",
       "</tr>\n",
       "<tr>\n",
       "  <th>Skew:</th>          <td> 0.289</td> <th>  Prob(JB):          </th> <td>   0.628</td>\n",
       "</tr>\n",
       "<tr>\n",
       "  <th>Kurtosis:</th>      <td> 2.652</td> <th>  Cond. No.          </th> <td>1.23e+05</td>\n",
       "</tr>\n",
       "</table><br/><br/>Warnings:<br/>[1] Standard Errors assume that the covariance matrix of the errors is correctly specified.<br/>[2] The condition number is large, 1.23e+05. This might indicate that there are<br/>strong multicollinearity or other numerical problems."
      ],
      "text/plain": [
       "<class 'statsmodels.iolib.summary.Summary'>\n",
       "\"\"\"\n",
       "                            OLS Regression Results                            \n",
       "==============================================================================\n",
       "Dep. Variable:                      Y   R-squared:                       0.497\n",
       "Model:                            OLS   Adj. R-squared:                  0.463\n",
       "Method:                 Least Squares   F-statistic:                     14.80\n",
       "Date:                Fri, 21 Jun 2019   Prob (F-statistic):           7.65e-07\n",
       "Time:                        01:10:23   Log-Likelihood:                -242.77\n",
       "No. Observations:                  49   AIC:                             493.5\n",
       "Df Residuals:                      45   BIC:                             501.1\n",
       "Df Model:                           3                                         \n",
       "Covariance Type:            nonrobust                                         \n",
       "==============================================================================\n",
       "                 coef    std err          t      P>|t|      [0.025      0.975]\n",
       "------------------------------------------------------------------------------\n",
       "Intercept   -277.5773    132.423     -2.096      0.042    -544.291     -10.864\n",
       "X1             0.0483      0.012      3.976      0.000       0.024       0.073\n",
       "X2             0.8869      0.331      2.678      0.010       0.220       1.554\n",
       "X3             0.0668      0.049      1.354      0.183      -0.033       0.166\n",
       "==============================================================================\n",
       "Omnibus:                        0.883   Durbin-Watson:                   1.946\n",
       "Prob(Omnibus):                  0.643   Jarque-Bera (JB):                0.932\n",
       "Skew:                           0.289   Prob(JB):                        0.628\n",
       "Kurtosis:                       2.652   Cond. No.                     1.23e+05\n",
       "==============================================================================\n",
       "\n",
       "Warnings:\n",
       "[1] Standard Errors assume that the covariance matrix of the errors is correctly specified.\n",
       "[2] The condition number is large, 1.23e+05. This might indicate that there are\n",
       "strong multicollinearity or other numerical problems.\n",
       "\"\"\""
      ]
     },
     "execution_count": 30,
     "metadata": {},
     "output_type": "execute_result"
    }
   ],
   "source": [
    "education_res_noAK = ols(\"Y ~ X1 + X2 + X3\", data=education_data_noAK).fit()\n",
    "education_res_noAK.summary()"
   ]
  },
  {
   "cell_type": "code",
   "execution_count": 31,
   "metadata": {
    "collapsed": false
   },
   "outputs": [
    {
     "data": {
      "text/plain": [
       "Int64Index([ 0,  1,  2,  3,  4,  5,  6,  7,  8,  9, 10, 11, 12, 13, 14, 15, 16,\n",
       "            17, 18, 19, 20, 21, 22, 23, 24, 25, 26, 27, 28, 29, 30, 31, 32, 33,\n",
       "            34, 35, 36, 37, 38, 39, 40, 41, 42, 43, 44, 45, 46, 47, 49],\n",
       "           dtype='int64')"
      ]
     },
     "execution_count": 31,
     "metadata": {},
     "output_type": "execute_result"
    }
   ],
   "source": [
    "idx = education_data.index[education_data[\"STATE\"]!=\"AK\"]\n",
    "idx"
   ]
  },
  {
   "cell_type": "code",
   "execution_count": 32,
   "metadata": {
    "collapsed": false
   },
   "outputs": [
    {
     "data": {
      "text/html": [
       "<table class=\"simpletable\">\n",
       "<caption>OLS Regression Results</caption>\n",
       "<tr>\n",
       "  <th>Dep. Variable:</th>            <td>Y</td>        <th>  R-squared:         </th> <td>   0.497</td>\n",
       "</tr>\n",
       "<tr>\n",
       "  <th>Model:</th>                   <td>OLS</td>       <th>  Adj. R-squared:    </th> <td>   0.463</td>\n",
       "</tr>\n",
       "<tr>\n",
       "  <th>Method:</th>             <td>Least Squares</td>  <th>  F-statistic:       </th> <td>   14.80</td>\n",
       "</tr>\n",
       "<tr>\n",
       "  <th>Date:</th>             <td>Fri, 21 Jun 2019</td> <th>  Prob (F-statistic):</th> <td>7.65e-07</td>\n",
       "</tr>\n",
       "<tr>\n",
       "  <th>Time:</th>                 <td>01:10:23</td>     <th>  Log-Likelihood:    </th> <td> -242.77</td>\n",
       "</tr>\n",
       "<tr>\n",
       "  <th>No. Observations:</th>      <td>    49</td>      <th>  AIC:               </th> <td>   493.5</td>\n",
       "</tr>\n",
       "<tr>\n",
       "  <th>Df Residuals:</th>          <td>    45</td>      <th>  BIC:               </th> <td>   501.1</td>\n",
       "</tr>\n",
       "<tr>\n",
       "  <th>Df Model:</th>              <td>     3</td>      <th>                     </th>     <td> </td>   \n",
       "</tr>\n",
       "<tr>\n",
       "  <th>Covariance Type:</th>      <td>nonrobust</td>    <th>                     </th>     <td> </td>   \n",
       "</tr>\n",
       "</table>\n",
       "<table class=\"simpletable\">\n",
       "<tr>\n",
       "      <td></td>         <th>coef</th>     <th>std err</th>      <th>t</th>      <th>P>|t|</th>  <th>[0.025</th>    <th>0.975]</th>  \n",
       "</tr>\n",
       "<tr>\n",
       "  <th>Intercept</th> <td> -277.5773</td> <td>  132.423</td> <td>   -2.096</td> <td> 0.042</td> <td> -544.291</td> <td>  -10.864</td>\n",
       "</tr>\n",
       "<tr>\n",
       "  <th>X1</th>        <td>    0.0483</td> <td>    0.012</td> <td>    3.976</td> <td> 0.000</td> <td>    0.024</td> <td>    0.073</td>\n",
       "</tr>\n",
       "<tr>\n",
       "  <th>X2</th>        <td>    0.8869</td> <td>    0.331</td> <td>    2.678</td> <td> 0.010</td> <td>    0.220</td> <td>    1.554</td>\n",
       "</tr>\n",
       "<tr>\n",
       "  <th>X3</th>        <td>    0.0668</td> <td>    0.049</td> <td>    1.354</td> <td> 0.183</td> <td>   -0.033</td> <td>    0.166</td>\n",
       "</tr>\n",
       "</table>\n",
       "<table class=\"simpletable\">\n",
       "<tr>\n",
       "  <th>Omnibus:</th>       <td> 0.883</td> <th>  Durbin-Watson:     </th> <td>   1.946</td>\n",
       "</tr>\n",
       "<tr>\n",
       "  <th>Prob(Omnibus):</th> <td> 0.643</td> <th>  Jarque-Bera (JB):  </th> <td>   0.932</td>\n",
       "</tr>\n",
       "<tr>\n",
       "  <th>Skew:</th>          <td> 0.289</td> <th>  Prob(JB):          </th> <td>   0.628</td>\n",
       "</tr>\n",
       "<tr>\n",
       "  <th>Kurtosis:</th>      <td> 2.652</td> <th>  Cond. No.          </th> <td>1.23e+05</td>\n",
       "</tr>\n",
       "</table><br/><br/>Warnings:<br/>[1] Standard Errors assume that the covariance matrix of the errors is correctly specified.<br/>[2] The condition number is large, 1.23e+05. This might indicate that there are<br/>strong multicollinearity or other numerical problems."
      ],
      "text/plain": [
       "<class 'statsmodels.iolib.summary.Summary'>\n",
       "\"\"\"\n",
       "                            OLS Regression Results                            \n",
       "==============================================================================\n",
       "Dep. Variable:                      Y   R-squared:                       0.497\n",
       "Model:                            OLS   Adj. R-squared:                  0.463\n",
       "Method:                 Least Squares   F-statistic:                     14.80\n",
       "Date:                Fri, 21 Jun 2019   Prob (F-statistic):           7.65e-07\n",
       "Time:                        01:10:23   Log-Likelihood:                -242.77\n",
       "No. Observations:                  49   AIC:                             493.5\n",
       "Df Residuals:                      45   BIC:                             501.1\n",
       "Df Model:                           3                                         \n",
       "Covariance Type:            nonrobust                                         \n",
       "==============================================================================\n",
       "                 coef    std err          t      P>|t|      [0.025      0.975]\n",
       "------------------------------------------------------------------------------\n",
       "Intercept   -277.5773    132.423     -2.096      0.042    -544.291     -10.864\n",
       "X1             0.0483      0.012      3.976      0.000       0.024       0.073\n",
       "X2             0.8869      0.331      2.678      0.010       0.220       1.554\n",
       "X3             0.0668      0.049      1.354      0.183      -0.033       0.166\n",
       "==============================================================================\n",
       "Omnibus:                        0.883   Durbin-Watson:                   1.946\n",
       "Prob(Omnibus):                  0.643   Jarque-Bera (JB):                0.932\n",
       "Skew:                           0.289   Prob(JB):                        0.628\n",
       "Kurtosis:                       2.652   Cond. No.                     1.23e+05\n",
       "==============================================================================\n",
       "\n",
       "Warnings:\n",
       "[1] Standard Errors assume that the covariance matrix of the errors is correctly specified.\n",
       "[2] The condition number is large, 1.23e+05. This might indicate that there are\n",
       "strong multicollinearity or other numerical problems.\n",
       "\"\"\""
      ]
     },
     "execution_count": 32,
     "metadata": {},
     "output_type": "execute_result"
    }
   ],
   "source": [
    "# 2. using statsmodels R-style formula\n",
    "education_res_noAK = ols(\"Y ~ X1 + X2 + X3\", \n",
    "                         data=education_data_noAK,\n",
    "                         subset=idx).fit()\n",
    "education_res_noAK.summary()"
   ]
  },
  {
   "cell_type": "code",
   "execution_count": 33,
   "metadata": {
    "collapsed": false
   },
   "outputs": [
    {
     "name": "stderr",
     "output_type": "stream",
     "text": [
      "/home/doojung/anaconda3/lib/python3.6/site-packages/scipy/stats/stats.py:1626: FutureWarning: Using a non-tuple sequence for multidimensional indexing is deprecated; use `arr[tuple(seq)]` instead of `arr[seq]`. In the future this will be interpreted as an array index, `arr[np.array(seq)]`, which will result either in an error or a different result.\n",
      "  return np.add.reduce(sorted[indexer] * weights, axis=axis) / sumval\n",
      "/home/doojung/anaconda3/lib/python3.6/site-packages/ipykernel/__main__.py:15: RuntimeWarning: divide by zero encountered in true_divide\n"
     ]
    },
    {
     "data": {
      "image/png": "[encoded data removed]",
      "text/plain": [
       "<matplotlib.figure.Figure at 0x7feea9dde6d8>"
      ]
     },
     "metadata": {},
     "output_type": "display_data"
    }
   ],
   "source": [
    "make_plots(data=education_data_noAK, y='Y', result=education_res_noAK, xmax=0.35, ymin=-3)"
   ]
  },
  {
   "cell_type": "code",
   "execution_count": 34,
   "metadata": {
    "collapsed": false
   },
   "outputs": [
    {
     "data": {
      "text/plain": [
       "array([-2.11246222e-03, -1.04185722e+00,  1.25525621e+00, -1.19262235e+00,\n",
       "        5.94918815e-01, -4.08731307e-01,  1.95686704e+00, -1.45935011e+00,\n",
       "        7.91043780e-01, -2.30082754e+00, -8.69584585e-01, -9.22032944e-01,\n",
       "        1.34616244e+00,  1.71795907e+00,  2.29871857e+00, -1.31340533e+00,\n",
       "       -1.08373978e+00, -9.74679259e-01, -6.49782154e-01, -3.02553865e-01,\n",
       "        1.62481240e+00,  4.36628687e-01,  3.57313025e-01, -3.51803711e-01,\n",
       "        1.71799056e-01,  2.56476260e-01, -2.56873547e-01, -5.19989683e-01,\n",
       "       -3.78640949e-01, -6.07510919e-01, -5.71696364e-01, -8.05589163e-01,\n",
       "       -6.33454374e-01,  1.06852133e-01, -6.57764075e-01, -2.22459616e-01,\n",
       "       -3.86010425e-01,  9.55601811e-01, -1.27548150e-01,  9.74597482e-01,\n",
       "       -5.42655371e-02,  1.28549428e+00,  1.08678026e+00,  3.41051713e-01,\n",
       "       -1.36271320e+00,  6.39651627e-01,  1.47431461e+00,  4.08642755e-01,\n",
       "       -5.40923879e-01])"
      ]
     },
     "execution_count": 34,
     "metadata": {},
     "output_type": "execute_result"
    }
   ],
   "source": [
    "infl_noAK = education_res_noAK.get_influence()\n",
    "infl_noAK.resid_studentized_internal # rstandard()"
   ]
  },
  {
   "cell_type": "code",
   "execution_count": 35,
   "metadata": {
    "collapsed": false
   },
   "outputs": [
    {
     "name": "stderr",
     "output_type": "stream",
     "text": [
      "/home/doojung/anaconda3/lib/python3.6/site-packages/ipykernel/__main__.py:1: SettingWithCopyWarning: \n",
      "A value is trying to be set on a copy of a slice from a DataFrame.\n",
      "Try using .loc[row_indexer,col_indexer] = value instead\n",
      "\n",
      "See the caveats in the documentation: http://pandas.pydata.org/pandas-docs/stable/indexing.html#indexing-view-versus-copy\n",
      "  if __name__ == '__main__':\n"
     ]
    }
   ],
   "source": [
    "education_data_noAK[\"rstandard\"] = infl_noAK.resid_studentized_internal"
   ]
  },
  {
   "cell_type": "code",
   "execution_count": 36,
   "metadata": {
    "collapsed": false
   },
   "outputs": [
    {
     "data": {
      "image/png": "[encoded data removed]",
      "text/plain": [
       "<matplotlib.figure.Figure at 0x7feea9c53940>"
      ]
     },
     "metadata": {},
     "output_type": "display_data"
    }
   ],
   "source": [
    "# to fill the colors inside the box\n",
    "bp_dict = education_data_noAK.boxplot(\"rstandard\",\n",
    "    by=\"Region\", \n",
    "    return_type='both',\n",
    "    patch_artist = True,\n",
    ")\n",
    "\n",
    "colors = ['red', 'green', 'blue', 'yellow']\n",
    "for row_key, (ax,row) in bp_dict.iteritems():\n",
    "    ax.set_xlabel('')\n",
    "    for i,box in enumerate(row['boxes']):\n",
    "        box.set_facecolor(colors[i])\n",
    "\n",
    "plt.show()"
   ]
  },
  {
   "cell_type": "markdown",
   "metadata": {},
   "source": [
    "## Reweighting observations\n",
    "\n",
    "-   If you have a reasonable guess of variance as a function of the\n",
    "    predictors, you can use this to *reweight* the data.\n",
    "\n",
    "-   Hypothetical example\n",
    "    $$Y_i = \\beta_0 + \\beta_1 X_i + \\varepsilon_i, \\qquad \\varepsilon_i \\sim N(0,\\sigma^2 X_i^2).$$\n",
    "\n",
    "-   Setting $\\tilde{Y}_i = Y_i / X_i$, $\\tilde{X}_i = 1 / X_i$, model\n",
    "    becomes\n",
    "    $$\\tilde{Y}_i = \\beta_0 \\tilde{X}_i + \\beta_1 + \\gamma_i, \\gamma_i \\sim N(0,\\sigma^2).$$\n",
    "\n",
    "## Weighted Least Squares\n",
    "\n",
    "-   Fitting this model is equivalent to minimizing\n",
    "    $$\\sum_{i=1}^n \\frac{1}{X_i^2} \\left(Y_i - \\beta_0 - \\beta_1 X_i\\right)^2$$\n",
    "\n",
    "-   Weighted Least Squares\n",
    "    $$SSE(\\beta, w) = \\sum_{i=1}^n w_i \\left(Y_i - \\beta_0 - \\beta_1 X_i\\right)^2, \\qquad w_i = \\frac{1}{X_i^2}.$$\n",
    "\n",
    "-   In general, weights should be like:\n",
    "    $$w_i = \\frac{1}{\\text{Var}(\\varepsilon_i)}.$$\n",
    "    \n",
    "- Our education expenditure example assumes\n",
    "    $$\n",
    "    w_i = W_{\\tt Region[i]}\n",
    "    $$\n",
    "\n",
    "## What if we didn't reweight?\n",
    "\n",
    "- Our (ordinary) least squares estimator  with design matrix $X$ is\n",
    "$$\n",
    "\\hat{\\beta} =\\hat{\\beta}_{OLS} =  (X^TX)^{-1}X^TY = \\beta + (X^TX)^{-1}X^T\\epsilon.\n",
    "$$\n",
    "\n",
    "- Our model says that $\\varepsilon | X \\sim N(0, \\sigma^2X)$ so\n",
    "$$\n",
    "\\begin{aligned}\n",
    "E[(X^TX)^{-1}X^T\\epsilon] &= E[(X^TX)^{-1}X^T\\epsilon|X] \\\\\n",
    "&= 0\n",
    "\\end{aligned}\n",
    "$$\n",
    "So the **OLS estimator is unbiased.**\n",
    "\n",
    "- Variance of $\\hat{\\beta}_{OLS}$ is\n",
    "$$\n",
    "\\text{Var}((X^TX)^{-1}X^T\\epsilon) = \\sigma^2 (X^TX)^{-1}X^TVX (X^TX)^{-1}, \\qquad V =\\text{diag}(X_1^2, \\dots, X_n^2)\n",
    "$$\n",
    "\n",
    "## Common weighting schemes\n",
    "\n",
    "-   If you have a qualitative variable, then it is easy to estimate\n",
    "    weight within groups (our example today).\n",
    "\n",
    "-   \"Often\" $$\\text{Var}(\\varepsilon_i) = \\text{Var}(Y_i) = V(E(Y_i))$$\n",
    "\n",
    "-   Many non-Gaussian (non-Normal) models behave like this: logistic, Poisson\n",
    "    regression.\n",
    "\n",
    "## Two stage procedure\n",
    "\n",
    "-   Suppose we have a hypothesis about the weights, i.e. they are\n",
    "    constant within Region, or they are something like\n",
    "    $$w_i^{-1} = \\text{Var}(\\epsilon_i) =  \\alpha_0 + \\alpha_1 X_{i1}^2.$$\n",
    "\n",
    "-   We pre-whiten:\n",
    "\n",
    "    1.  Fit model using OLS (Ordinary Least Squares) to get initial\n",
    "        estimate $\\widehat{\\beta}_{OLS}$\n",
    "\n",
    "    2.  Use predicted values from this model to estimate $w_i$.\n",
    "\n",
    "    3.  Refit model using WLS (Weighted Least Squares).\n",
    "\n",
    "    4.  If needed, iterate previous two steps."
   ]
  },
  {
   "cell_type": "code",
   "execution_count": 37,
   "metadata": {
    "collapsed": false
   },
   "outputs": [],
   "source": [
    "education_data[\"weights\"] = np.zeros(education_data.Y.shape)"
   ]
  },
  {
   "cell_type": "code",
   "execution_count": 38,
   "metadata": {
    "collapsed": false
   },
   "outputs": [
    {
     "data": {
      "text/html": [
       "<div>\n",
       "<style scoped>\n",
       "    .dataframe tbody tr th:only-of-type {\n",
       "        vertical-align: middle;\n",
       "    }\n",
       "\n",
       "    .dataframe tbody tr th {\n",
       "        vertical-align: top;\n",
       "    }\n",
       "\n",
       "    .dataframe thead th {\n",
       "        text-align: right;\n",
       "    }\n",
       "</style>\n",
       "<table border=\"1\" class=\"dataframe\">\n",
       "  <thead>\n",
       "    <tr style=\"text-align: right;\">\n",
       "      <th></th>\n",
       "      <th>STATE</th>\n",
       "      <th>Y</th>\n",
       "      <th>X1</th>\n",
       "      <th>X2</th>\n",
       "      <th>X3</th>\n",
       "      <th>Region</th>\n",
       "      <th>rstandard</th>\n",
       "      <th>weights</th>\n",
       "    </tr>\n",
       "  </thead>\n",
       "  <tbody>\n",
       "    <tr>\n",
       "      <th>0</th>\n",
       "      <td>ME</td>\n",
       "      <td>235</td>\n",
       "      <td>3944</td>\n",
       "      <td>325</td>\n",
       "      <td>508</td>\n",
       "      <td>1</td>\n",
       "      <td>0.097333</td>\n",
       "      <td>0.0</td>\n",
       "    </tr>\n",
       "    <tr>\n",
       "      <th>1</th>\n",
       "      <td>NH</td>\n",
       "      <td>231</td>\n",
       "      <td>4578</td>\n",
       "      <td>323</td>\n",
       "      <td>564</td>\n",
       "      <td>1</td>\n",
       "      <td>-1.073014</td>\n",
       "      <td>0.0</td>\n",
       "    </tr>\n",
       "    <tr>\n",
       "      <th>2</th>\n",
       "      <td>VT</td>\n",
       "      <td>270</td>\n",
       "      <td>4011</td>\n",
       "      <td>328</td>\n",
       "      <td>322</td>\n",
       "      <td>1</td>\n",
       "      <td>0.760183</td>\n",
       "      <td>0.0</td>\n",
       "    </tr>\n",
       "    <tr>\n",
       "      <th>3</th>\n",
       "      <td>MA</td>\n",
       "      <td>261</td>\n",
       "      <td>5233</td>\n",
       "      <td>305</td>\n",
       "      <td>846</td>\n",
       "      <td>1</td>\n",
       "      <td>-0.791937</td>\n",
       "      <td>0.0</td>\n",
       "    </tr>\n",
       "    <tr>\n",
       "      <th>4</th>\n",
       "      <td>RI</td>\n",
       "      <td>300</td>\n",
       "      <td>4780</td>\n",
       "      <td>303</td>\n",
       "      <td>871</td>\n",
       "      <td>1</td>\n",
       "      <td>1.147050</td>\n",
       "      <td>0.0</td>\n",
       "    </tr>\n",
       "  </tbody>\n",
       "</table>\n",
       "</div>"
      ],
      "text/plain": [
       "  STATE    Y    X1   X2   X3  Region  rstandard  weights\n",
       "0    ME  235  3944  325  508       1   0.097333      0.0\n",
       "1    NH  231  4578  323  564       1  -1.073014      0.0\n",
       "2    VT  270  4011  328  322       1   0.760183      0.0\n",
       "3    MA  261  5233  305  846       1  -0.791937      0.0\n",
       "4    RI  300  4780  303  871       1   1.147050      0.0"
      ]
     },
     "execution_count": 38,
     "metadata": {},
     "output_type": "execute_result"
    }
   ],
   "source": [
    "education_data.head()"
   ]
  },
  {
   "cell_type": "code",
   "execution_count": 39,
   "metadata": {
    "collapsed": false
   },
   "outputs": [
    {
     "name": "stdout",
     "output_type": "stream",
     "text": [
      "\n",
      "Region:  1\n",
      "Int64Index([0, 1, 2, 3, 4, 5, 6, 7, 8], dtype='int64')\n",
      "1451.112830899244\n",
      "0.0006891262889463305\n",
      "\n",
      "Region:  2\n",
      "Int64Index([9, 10, 11, 12, 13, 14, 15, 16, 17, 18, 19, 20], dtype='int64')\n",
      "2436.977684504094\n",
      "0.0004103443401877076\n",
      "\n",
      "Region:  3\n",
      "Int64Index([21, 22, 23, 24, 25, 26, 27, 28, 29, 30, 31, 32, 33, 34, 35, 36], dtype='int64')\n",
      "249.43325634351805\n",
      "0.0040090885019069215\n",
      "\n",
      "Region:  4\n",
      "Int64Index([37, 38, 39, 40, 41, 42, 43, 44, 45, 46, 47, 49], dtype='int64')\n",
      "950.4232793999245\n",
      "0.001052162780178719\n"
     ]
    }
   ],
   "source": [
    "weights = []\n",
    "for region, group in education_data_noAK.groupby(\"Region\"):\n",
    "    print(\"\\nRegion: \", region)\n",
    "    print(group.index)\n",
    "    print(np.sum(education_res_noAK.resid[group.index]**2)/group.shape[0])\n",
    "    weight = 1/(np.sum(education_res_noAK.resid[group.index]**2)/group.shape[0]) \n",
    "    print(weight)\n",
    "    weights.extend([weight] * group.shape[0])"
   ]
  },
  {
   "cell_type": "code",
   "execution_count": 40,
   "metadata": {
    "collapsed": false
   },
   "outputs": [
    {
     "data": {
      "text/plain": [
       "array([0.00068913, 0.00041034, 0.00400909, 0.00105216])"
      ]
     },
     "execution_count": 40,
     "metadata": {},
     "output_type": "execute_result"
    }
   ],
   "source": [
    "pd.Series(weights).unique()"
   ]
  },
  {
   "cell_type": "markdown",
   "metadata": {},
   "source": [
    "Here is our new model. Note that the scale of the estimates is *unchanged*. Numerically\n",
    "the estimates are similar. What changes most is the `Std. Error` column."
   ]
  },
  {
   "cell_type": "markdown",
   "metadata": {},
   "source": [
    "**WARNING**  \n",
    "The following WLS result is different from the original R notebook, especially the diagnostic plots."
   ]
  },
  {
   "cell_type": "code",
   "execution_count": 41,
   "metadata": {
    "collapsed": false
   },
   "outputs": [],
   "source": [
    "string=\"\"\"\n",
    "# In the original R notebook\n",
    "\n",
    "Call:\n",
    "lm(formula = Y ~ X1 + X2 + X3, data = education.table, subset = keep.subset, \n",
    "    weights = educ.weights)\n",
    "\n",
    "Weighted Residuals:\n",
    "     Min       1Q   Median       3Q      Max \n",
    "-1.69882 -0.71382 -0.07928  0.79298  1.86328 \n",
    "\n",
    "Coefficients:\n",
    "              Estimate Std. Error t value Pr(>|t|)    \n",
    "(Intercept) -3.181e+02  7.833e+01  -4.060 0.000193 ***\n",
    "X1           6.245e-02  7.867e-03   7.938 4.24e-10 ***\n",
    "X2           8.791e-01  2.003e-01   4.388 6.83e-05 ***\n",
    "X3           2.981e-02  3.421e-02   0.871 0.388178    \n",
    "---\n",
    "Signif. codes:  0 ‘***’ 0.001 ‘**’ 0.01 ‘*’ 0.05 ‘.’ 0.1 ‘ ’ 1\n",
    "\n",
    "Residual standard error: 0.984 on 45 degrees of freedom\n",
    "Multiple R-squared:  0.7566,\tAdjusted R-squared:  0.7404 \n",
    "F-statistic: 46.63 on 3 and 45 DF,  p-value: 7.41e-14  \n",
    "\"\"\""
   ]
  },
  {
   "cell_type": "markdown",
   "metadata": {},
   "source": [
    "* attempt 1.  use wls models and OLS method\n",
    "* This way, you can get get_influence() from wls result.  \n",
    "Source: https://stackoverflow.com/questions/40621686/does-statsmodels-wls-have-get-influence-function"
   ]
  },
  {
   "cell_type": "code",
   "execution_count": 42,
   "metadata": {
    "collapsed": false
   },
   "outputs": [],
   "source": [
    "from statsmodels.regression.linear_model import OLS, WLS"
   ]
  },
  {
   "cell_type": "code",
   "execution_count": 43,
   "metadata": {
    "collapsed": false
   },
   "outputs": [
    {
     "name": "stderr",
     "output_type": "stream",
     "text": [
      "/home/doojung/anaconda3/lib/python3.6/site-packages/numpy/core/fromnumeric.py:2389: FutureWarning: Method .ptp is deprecated and will be removed in a future version. Use numpy.ptp instead.\n",
      "  return ptp(axis=axis, out=out, **kwargs)\n"
     ]
    }
   ],
   "source": [
    "mod_wls = WLS(endog=education_data_noAK[\"Y\"],\n",
    "                                exog=sm.add_constant(education_data_noAK[[\"X1\",\"X2\",\"X3\"]]),\n",
    "                                weights=weights,\n",
    "                                data=education_data_noAK)"
   ]
  },
  {
   "cell_type": "code",
   "execution_count": 44,
   "metadata": {
    "collapsed": false
   },
   "outputs": [],
   "source": [
    "education_res_noAK_weight = OLS(endog=mod_wls.wendog,\n",
    "                                exog=mod_wls.wexog,\n",
    "                                data=education_data_noAK).fit()"
   ]
  },
  {
   "cell_type": "code",
   "execution_count": 45,
   "metadata": {
    "collapsed": false
   },
   "outputs": [
    {
     "data": {
      "text/html": [
       "<table class=\"simpletable\">\n",
       "<caption>OLS Regression Results</caption>\n",
       "<tr>\n",
       "  <th>Dep. Variable:</th>            <td>y</td>        <th>  R-squared:         </th> <td>   0.993</td>\n",
       "</tr>\n",
       "<tr>\n",
       "  <th>Model:</th>                   <td>OLS</td>       <th>  Adj. R-squared:    </th> <td>   0.992</td>\n",
       "</tr>\n",
       "<tr>\n",
       "  <th>Method:</th>             <td>Least Squares</td>  <th>  F-statistic:       </th> <td>   1571.</td>\n",
       "</tr>\n",
       "<tr>\n",
       "  <th>Date:</th>             <td>Fri, 21 Jun 2019</td> <th>  Prob (F-statistic):</th> <td>1.09e-47</td>\n",
       "</tr>\n",
       "<tr>\n",
       "  <th>Time:</th>                 <td>01:10:26</td>     <th>  Log-Likelihood:    </th> <td> -66.730</td>\n",
       "</tr>\n",
       "<tr>\n",
       "  <th>No. Observations:</th>      <td>    49</td>      <th>  AIC:               </th> <td>   141.5</td>\n",
       "</tr>\n",
       "<tr>\n",
       "  <th>Df Residuals:</th>          <td>    45</td>      <th>  BIC:               </th> <td>   149.0</td>\n",
       "</tr>\n",
       "<tr>\n",
       "  <th>Df Model:</th>              <td>     4</td>      <th>                     </th>     <td> </td>   \n",
       "</tr>\n",
       "<tr>\n",
       "  <th>Covariance Type:</th>      <td>nonrobust</td>    <th>                     </th>     <td> </td>   \n",
       "</tr>\n",
       "</table>\n",
       "<table class=\"simpletable\">\n",
       "<tr>\n",
       "   <td></td>     <th>coef</th>     <th>std err</th>      <th>t</th>      <th>P>|t|</th>  <th>[0.025</th>    <th>0.975]</th>  \n",
       "</tr>\n",
       "<tr>\n",
       "  <th>x1</th> <td> -315.5170</td> <td>   78.178</td> <td>   -4.036</td> <td> 0.000</td> <td> -472.975</td> <td> -158.059</td>\n",
       "</tr>\n",
       "<tr>\n",
       "  <th>x2</th> <td>    0.0623</td> <td>    0.008</td> <td>    7.916</td> <td> 0.000</td> <td>    0.046</td> <td>    0.078</td>\n",
       "</tr>\n",
       "<tr>\n",
       "  <th>x3</th> <td>    0.8743</td> <td>    0.200</td> <td>    4.366</td> <td> 0.000</td> <td>    0.471</td> <td>    1.278</td>\n",
       "</tr>\n",
       "<tr>\n",
       "  <th>x4</th> <td>    0.0294</td> <td>    0.034</td> <td>    0.857</td> <td> 0.396</td> <td>   -0.040</td> <td>    0.098</td>\n",
       "</tr>\n",
       "</table>\n",
       "<table class=\"simpletable\">\n",
       "<tr>\n",
       "  <th>Omnibus:</th>       <td> 6.395</td> <th>  Durbin-Watson:     </th> <td>   2.023</td>\n",
       "</tr>\n",
       "<tr>\n",
       "  <th>Prob(Omnibus):</th> <td> 0.041</td> <th>  Jarque-Bera (JB):  </th> <td>   2.405</td>\n",
       "</tr>\n",
       "<tr>\n",
       "  <th>Skew:</th>          <td> 0.147</td> <th>  Prob(JB):          </th> <td>   0.300</td>\n",
       "</tr>\n",
       "<tr>\n",
       "  <th>Kurtosis:</th>      <td> 1.955</td> <th>  Cond. No.          </th> <td>1.05e+05</td>\n",
       "</tr>\n",
       "</table><br/><br/>Warnings:<br/>[1] Standard Errors assume that the covariance matrix of the errors is correctly specified.<br/>[2] The condition number is large, 1.05e+05. This might indicate that there are<br/>strong multicollinearity or other numerical problems."
      ],
      "text/plain": [
       "<class 'statsmodels.iolib.summary.Summary'>\n",
       "\"\"\"\n",
       "                            OLS Regression Results                            \n",
       "==============================================================================\n",
       "Dep. Variable:                      y   R-squared:                       0.993\n",
       "Model:                            OLS   Adj. R-squared:                  0.992\n",
       "Method:                 Least Squares   F-statistic:                     1571.\n",
       "Date:                Fri, 21 Jun 2019   Prob (F-statistic):           1.09e-47\n",
       "Time:                        01:10:26   Log-Likelihood:                -66.730\n",
       "No. Observations:                  49   AIC:                             141.5\n",
       "Df Residuals:                      45   BIC:                             149.0\n",
       "Df Model:                           4                                         \n",
       "Covariance Type:            nonrobust                                         \n",
       "==============================================================================\n",
       "                 coef    std err          t      P>|t|      [0.025      0.975]\n",
       "------------------------------------------------------------------------------\n",
       "x1          -315.5170     78.178     -4.036      0.000    -472.975    -158.059\n",
       "x2             0.0623      0.008      7.916      0.000       0.046       0.078\n",
       "x3             0.8743      0.200      4.366      0.000       0.471       1.278\n",
       "x4             0.0294      0.034      0.857      0.396      -0.040       0.098\n",
       "==============================================================================\n",
       "Omnibus:                        6.395   Durbin-Watson:                   2.023\n",
       "Prob(Omnibus):                  0.041   Jarque-Bera (JB):                2.405\n",
       "Skew:                           0.147   Prob(JB):                        0.300\n",
       "Kurtosis:                       1.955   Cond. No.                     1.05e+05\n",
       "==============================================================================\n",
       "\n",
       "Warnings:\n",
       "[1] Standard Errors assume that the covariance matrix of the errors is correctly specified.\n",
       "[2] The condition number is large, 1.05e+05. This might indicate that there are\n",
       "strong multicollinearity or other numerical problems.\n",
       "\"\"\""
      ]
     },
     "execution_count": 45,
     "metadata": {},
     "output_type": "execute_result"
    }
   ],
   "source": [
    "education_res_noAK_weight.summary()"
   ]
  },
  {
   "cell_type": "code",
   "execution_count": 46,
   "metadata": {
    "collapsed": false
   },
   "outputs": [
    {
     "data": {
      "text/html": [
       "<table class=\"simpletable\">\n",
       "<caption>OLS Regression Results</caption>\n",
       "<tr>\n",
       "  <th>Dep. Variable:</th>            <td>Y</td>        <th>  R-squared:         </th> <td>   0.497</td>\n",
       "</tr>\n",
       "<tr>\n",
       "  <th>Model:</th>                   <td>OLS</td>       <th>  Adj. R-squared:    </th> <td>   0.463</td>\n",
       "</tr>\n",
       "<tr>\n",
       "  <th>Method:</th>             <td>Least Squares</td>  <th>  F-statistic:       </th> <td>   14.80</td>\n",
       "</tr>\n",
       "<tr>\n",
       "  <th>Date:</th>             <td>Fri, 21 Jun 2019</td> <th>  Prob (F-statistic):</th> <td>7.65e-07</td>\n",
       "</tr>\n",
       "<tr>\n",
       "  <th>Time:</th>                 <td>01:10:26</td>     <th>  Log-Likelihood:    </th> <td> -242.77</td>\n",
       "</tr>\n",
       "<tr>\n",
       "  <th>No. Observations:</th>      <td>    49</td>      <th>  AIC:               </th> <td>   493.5</td>\n",
       "</tr>\n",
       "<tr>\n",
       "  <th>Df Residuals:</th>          <td>    45</td>      <th>  BIC:               </th> <td>   501.1</td>\n",
       "</tr>\n",
       "<tr>\n",
       "  <th>Df Model:</th>              <td>     3</td>      <th>                     </th>     <td> </td>   \n",
       "</tr>\n",
       "<tr>\n",
       "  <th>Covariance Type:</th>      <td>nonrobust</td>    <th>                     </th>     <td> </td>   \n",
       "</tr>\n",
       "</table>\n",
       "<table class=\"simpletable\">\n",
       "<tr>\n",
       "      <td></td>         <th>coef</th>     <th>std err</th>      <th>t</th>      <th>P>|t|</th>  <th>[0.025</th>    <th>0.975]</th>  \n",
       "</tr>\n",
       "<tr>\n",
       "  <th>Intercept</th> <td> -277.5773</td> <td>  132.423</td> <td>   -2.096</td> <td> 0.042</td> <td> -544.291</td> <td>  -10.864</td>\n",
       "</tr>\n",
       "<tr>\n",
       "  <th>X1</th>        <td>    0.0483</td> <td>    0.012</td> <td>    3.976</td> <td> 0.000</td> <td>    0.024</td> <td>    0.073</td>\n",
       "</tr>\n",
       "<tr>\n",
       "  <th>X2</th>        <td>    0.8869</td> <td>    0.331</td> <td>    2.678</td> <td> 0.010</td> <td>    0.220</td> <td>    1.554</td>\n",
       "</tr>\n",
       "<tr>\n",
       "  <th>X3</th>        <td>    0.0668</td> <td>    0.049</td> <td>    1.354</td> <td> 0.183</td> <td>   -0.033</td> <td>    0.166</td>\n",
       "</tr>\n",
       "</table>\n",
       "<table class=\"simpletable\">\n",
       "<tr>\n",
       "  <th>Omnibus:</th>       <td> 0.883</td> <th>  Durbin-Watson:     </th> <td>   1.946</td>\n",
       "</tr>\n",
       "<tr>\n",
       "  <th>Prob(Omnibus):</th> <td> 0.643</td> <th>  Jarque-Bera (JB):  </th> <td>   0.932</td>\n",
       "</tr>\n",
       "<tr>\n",
       "  <th>Skew:</th>          <td> 0.289</td> <th>  Prob(JB):          </th> <td>   0.628</td>\n",
       "</tr>\n",
       "<tr>\n",
       "  <th>Kurtosis:</th>      <td> 2.652</td> <th>  Cond. No.          </th> <td>1.23e+05</td>\n",
       "</tr>\n",
       "</table><br/><br/>Warnings:<br/>[1] Standard Errors assume that the covariance matrix of the errors is correctly specified.<br/>[2] The condition number is large, 1.23e+05. This might indicate that there are<br/>strong multicollinearity or other numerical problems."
      ],
      "text/plain": [
       "<class 'statsmodels.iolib.summary.Summary'>\n",
       "\"\"\"\n",
       "                            OLS Regression Results                            \n",
       "==============================================================================\n",
       "Dep. Variable:                      Y   R-squared:                       0.497\n",
       "Model:                            OLS   Adj. R-squared:                  0.463\n",
       "Method:                 Least Squares   F-statistic:                     14.80\n",
       "Date:                Fri, 21 Jun 2019   Prob (F-statistic):           7.65e-07\n",
       "Time:                        01:10:26   Log-Likelihood:                -242.77\n",
       "No. Observations:                  49   AIC:                             493.5\n",
       "Df Residuals:                      45   BIC:                             501.1\n",
       "Df Model:                           3                                         \n",
       "Covariance Type:            nonrobust                                         \n",
       "==============================================================================\n",
       "                 coef    std err          t      P>|t|      [0.025      0.975]\n",
       "------------------------------------------------------------------------------\n",
       "Intercept   -277.5773    132.423     -2.096      0.042    -544.291     -10.864\n",
       "X1             0.0483      0.012      3.976      0.000       0.024       0.073\n",
       "X2             0.8869      0.331      2.678      0.010       0.220       1.554\n",
       "X3             0.0668      0.049      1.354      0.183      -0.033       0.166\n",
       "==============================================================================\n",
       "Omnibus:                        0.883   Durbin-Watson:                   1.946\n",
       "Prob(Omnibus):                  0.643   Jarque-Bera (JB):                0.932\n",
       "Skew:                           0.289   Prob(JB):                        0.628\n",
       "Kurtosis:                       2.652   Cond. No.                     1.23e+05\n",
       "==============================================================================\n",
       "\n",
       "Warnings:\n",
       "[1] Standard Errors assume that the covariance matrix of the errors is correctly specified.\n",
       "[2] The condition number is large, 1.23e+05. This might indicate that there are\n",
       "strong multicollinearity or other numerical problems.\n",
       "\"\"\""
      ]
     },
     "execution_count": 46,
     "metadata": {},
     "output_type": "execute_result"
    }
   ],
   "source": [
    "# without weights\n",
    "education_res_noAK.summary()"
   ]
  },
  {
   "cell_type": "code",
   "execution_count": 66,
   "metadata": {
    "collapsed": false
   },
   "outputs": [
    {
     "name": "stderr",
     "output_type": "stream",
     "text": [
      "/home/doojung/anaconda3/lib/python3.6/site-packages/scipy/stats/stats.py:1626: FutureWarning: Using a non-tuple sequence for multidimensional indexing is deprecated; use `arr[tuple(seq)]` instead of `arr[seq]`. In the future this will be interpreted as an array index, `arr[np.array(seq)]`, which will result either in an error or a different result.\n",
      "  return np.add.reduce(sorted[indexer] * weights, axis=axis) / sumval\n",
      "/home/doojung/anaconda3/lib/python3.6/site-packages/ipykernel/__main__.py:15: RuntimeWarning: divide by zero encountered in true_divide\n"
     ]
    },
    {
     "data": {
      "image/png": "[encoded data removed]",
      "text/plain": [
       "<matplotlib.figure.Figure at 0x7feeab7be160>"
      ]
     },
     "metadata": {},
     "output_type": "display_data"
    }
   ],
   "source": [
    "make_plots(data=education_data_noAK, y='Y', \n",
    "           result=education_res_noAK_weight,\n",
    "           xmin=-0.01, xmax=0.4, ymin=-2, ymax=3)"
   ]
  },
  {
   "cell_type": "markdown",
   "metadata": {},
   "source": [
    "The above two plots (1. Residuals vs. Fitted and 3.Scale-location) look way different from the plots from R. The other two plots (2. Normal Q-Q and 4. Residuals vs. Leverage) look similar enough (below image is obtained from R).  \n",
    "\n",
    "The x-axis of the two plots (1. and 3.) looks off (5~20 magnitue in above vs. 200~300 magnitue in below).  \n",
    "\n",
    "Let's try another attempt to replicate the two plots (1. Residuals vs. Fitted and 3.Scale-location)\n",
    "<img src=\"img/plot_9_transformations_wls_from_R.png\" width=\"600\">"
   ]
  },
  {
   "cell_type": "code",
   "execution_count": 48,
   "metadata": {
    "collapsed": false
   },
   "outputs": [
    {
     "data": {
      "text/plain": [
       "array([6.01521838, 7.04891132, 6.05022893, 7.92392671, 7.15675566])"
      ]
     },
     "execution_count": 48,
     "metadata": {},
     "output_type": "execute_result"
    }
   ],
   "source": [
    "education_res_noAK_weight.fittedvalues[:5]"
   ]
  },
  {
   "cell_type": "code",
   "execution_count": 49,
   "metadata": {
    "collapsed": false
   },
   "outputs": [
    {
     "data": {
      "text/plain": [
       "0    235.073537\n",
       "1    267.657998\n",
       "2    228.546716\n",
       "3    302.160696\n",
       "4    280.179747\n",
       "dtype: float64"
      ]
     },
     "execution_count": 49,
     "metadata": {},
     "output_type": "execute_result"
    }
   ],
   "source": [
    "education_res_noAK.fittedvalues[:5]"
   ]
  },
  {
   "cell_type": "code",
   "execution_count": 50,
   "metadata": {
    "collapsed": false
   },
   "outputs": [
    {
     "data": {
      "text/plain": [
       "array([235., 231., 270., 261., 300.])"
      ]
     },
     "execution_count": 50,
     "metadata": {},
     "output_type": "execute_result"
    }
   ],
   "source": [
    "education_res_noAK.model.endog[:5]"
   ]
  },
  {
   "cell_type": "markdown",
   "metadata": {},
   "source": [
    "Fittedvalues magnitdue looks off.. "
   ]
  },
  {
   "cell_type": "markdown",
   "metadata": {},
   "source": [
    "* attempt 2. using WLS itself  "
   ]
  },
  {
   "cell_type": "code",
   "execution_count": 51,
   "metadata": {
    "collapsed": false
   },
   "outputs": [
    {
     "name": "stderr",
     "output_type": "stream",
     "text": [
      "/home/doojung/anaconda3/lib/python3.6/site-packages/numpy/core/fromnumeric.py:2389: FutureWarning: Method .ptp is deprecated and will be removed in a future version. Use numpy.ptp instead.\n",
      "  return ptp(axis=axis, out=out, **kwargs)\n"
     ]
    },
    {
     "data": {
      "text/html": [
       "<table class=\"simpletable\">\n",
       "<caption>WLS Regression Results</caption>\n",
       "<tr>\n",
       "  <th>Dep. Variable:</th>            <td>Y</td>        <th>  R-squared:         </th> <td>   0.757</td>\n",
       "</tr>\n",
       "<tr>\n",
       "  <th>Model:</th>                   <td>WLS</td>       <th>  Adj. R-squared:    </th> <td>   0.741</td>\n",
       "</tr>\n",
       "<tr>\n",
       "  <th>Method:</th>             <td>Least Squares</td>  <th>  F-statistic:       </th> <td>   46.75</td>\n",
       "</tr>\n",
       "<tr>\n",
       "  <th>Date:</th>             <td>Fri, 21 Jun 2019</td> <th>  Prob (F-statistic):</th> <td>7.10e-14</td>\n",
       "</tr>\n",
       "<tr>\n",
       "  <th>Time:</th>                 <td>01:10:27</td>     <th>  Log-Likelihood:    </th> <td> -231.58</td>\n",
       "</tr>\n",
       "<tr>\n",
       "  <th>No. Observations:</th>      <td>    49</td>      <th>  AIC:               </th> <td>   471.2</td>\n",
       "</tr>\n",
       "<tr>\n",
       "  <th>Df Residuals:</th>          <td>    45</td>      <th>  BIC:               </th> <td>   478.7</td>\n",
       "</tr>\n",
       "<tr>\n",
       "  <th>Df Model:</th>              <td>     3</td>      <th>                     </th>     <td> </td>   \n",
       "</tr>\n",
       "<tr>\n",
       "  <th>Covariance Type:</th>      <td>nonrobust</td>    <th>                     </th>     <td> </td>   \n",
       "</tr>\n",
       "</table>\n",
       "<table class=\"simpletable\">\n",
       "<tr>\n",
       "    <td></td>       <th>coef</th>     <th>std err</th>      <th>t</th>      <th>P>|t|</th>  <th>[0.025</th>    <th>0.975]</th>  \n",
       "</tr>\n",
       "<tr>\n",
       "  <th>const</th> <td> -315.5170</td> <td>   78.178</td> <td>   -4.036</td> <td> 0.000</td> <td> -472.975</td> <td> -158.059</td>\n",
       "</tr>\n",
       "<tr>\n",
       "  <th>X1</th>    <td>    0.0623</td> <td>    0.008</td> <td>    7.916</td> <td> 0.000</td> <td>    0.046</td> <td>    0.078</td>\n",
       "</tr>\n",
       "<tr>\n",
       "  <th>X2</th>    <td>    0.8743</td> <td>    0.200</td> <td>    4.366</td> <td> 0.000</td> <td>    0.471</td> <td>    1.278</td>\n",
       "</tr>\n",
       "<tr>\n",
       "  <th>X3</th>    <td>    0.0294</td> <td>    0.034</td> <td>    0.857</td> <td> 0.396</td> <td>   -0.040</td> <td>    0.098</td>\n",
       "</tr>\n",
       "</table>\n",
       "<table class=\"simpletable\">\n",
       "<tr>\n",
       "  <th>Omnibus:</th>       <td> 6.395</td> <th>  Durbin-Watson:     </th> <td>   2.023</td>\n",
       "</tr>\n",
       "<tr>\n",
       "  <th>Prob(Omnibus):</th> <td> 0.041</td> <th>  Jarque-Bera (JB):  </th> <td>   2.405</td>\n",
       "</tr>\n",
       "<tr>\n",
       "  <th>Skew:</th>          <td> 0.147</td> <th>  Prob(JB):          </th> <td>   0.300</td>\n",
       "</tr>\n",
       "<tr>\n",
       "  <th>Kurtosis:</th>      <td> 1.955</td> <th>  Cond. No.          </th> <td>1.05e+05</td>\n",
       "</tr>\n",
       "</table><br/><br/>Warnings:<br/>[1] Standard Errors assume that the covariance matrix of the errors is correctly specified.<br/>[2] The condition number is large, 1.05e+05. This might indicate that there are<br/>strong multicollinearity or other numerical problems."
      ],
      "text/plain": [
       "<class 'statsmodels.iolib.summary.Summary'>\n",
       "\"\"\"\n",
       "                            WLS Regression Results                            \n",
       "==============================================================================\n",
       "Dep. Variable:                      Y   R-squared:                       0.757\n",
       "Model:                            WLS   Adj. R-squared:                  0.741\n",
       "Method:                 Least Squares   F-statistic:                     46.75\n",
       "Date:                Fri, 21 Jun 2019   Prob (F-statistic):           7.10e-14\n",
       "Time:                        01:10:27   Log-Likelihood:                -231.58\n",
       "No. Observations:                  49   AIC:                             471.2\n",
       "Df Residuals:                      45   BIC:                             478.7\n",
       "Df Model:                           3                                         \n",
       "Covariance Type:            nonrobust                                         \n",
       "==============================================================================\n",
       "                 coef    std err          t      P>|t|      [0.025      0.975]\n",
       "------------------------------------------------------------------------------\n",
       "const       -315.5170     78.178     -4.036      0.000    -472.975    -158.059\n",
       "X1             0.0623      0.008      7.916      0.000       0.046       0.078\n",
       "X2             0.8743      0.200      4.366      0.000       0.471       1.278\n",
       "X3             0.0294      0.034      0.857      0.396      -0.040       0.098\n",
       "==============================================================================\n",
       "Omnibus:                        6.395   Durbin-Watson:                   2.023\n",
       "Prob(Omnibus):                  0.041   Jarque-Bera (JB):                2.405\n",
       "Skew:                           0.147   Prob(JB):                        0.300\n",
       "Kurtosis:                       1.955   Cond. No.                     1.05e+05\n",
       "==============================================================================\n",
       "\n",
       "Warnings:\n",
       "[1] Standard Errors assume that the covariance matrix of the errors is correctly specified.\n",
       "[2] The condition number is large, 1.05e+05. This might indicate that there are\n",
       "strong multicollinearity or other numerical problems.\n",
       "\"\"\""
      ]
     },
     "execution_count": 51,
     "metadata": {},
     "output_type": "execute_result"
    }
   ],
   "source": [
    "education_res_noAK_weight2 = WLS(endog=education_data_noAK[\"Y\"],\n",
    "                                exog=sm.add_constant(education_data_noAK[[\"X1\",\"X2\",\"X3\"]]),\n",
    "                                weights=weights,\n",
    "                                data=education_data_noAK).fit()\n",
    "education_res_noAK_weight2.summary()"
   ]
  },
  {
   "cell_type": "code",
   "execution_count": 52,
   "metadata": {
    "collapsed": false
   },
   "outputs": [
    {
     "data": {
      "text/plain": [
       "0    229.140571\n",
       "1    268.517527\n",
       "2    230.474244\n",
       "3    301.849903\n",
       "4    272.625692\n",
       "dtype: float64"
      ]
     },
     "execution_count": 52,
     "metadata": {},
     "output_type": "execute_result"
    }
   ],
   "source": [
    "# now it looks about right\n",
    "education_res_noAK_weight2.fittedvalues[:5]"
   ]
  },
  {
   "cell_type": "code",
   "execution_count": 53,
   "metadata": {
    "collapsed": false
   },
   "outputs": [
    {
     "data": {
      "image/png": "[encoded data removed]",
      "text/plain": [
       "<matplotlib.figure.Figure at 0x7feea9cc5a58>"
      ]
     },
     "metadata": {},
     "output_type": "display_data"
    }
   ],
   "source": [
    "# Residual vs Fitted looks about right\n",
    "sns.residplot(education_res_noAK_weight2.fittedvalues, 'Y', \n",
    "              data=education_data_noAK,\n",
    "              lowess=True,\n",
    "              scatter_kws={'alpha': 0.5},\n",
    "              line_kws={'color': 'red', 'alpha':0.5})\n",
    "plt.xlabel('Fitted values')\n",
    "plt.ylabel('Residuals')\n",
    "plt.title('Residuals vs. Fitted')\n",
    "plt.show()"
   ]
  },
  {
   "cell_type": "markdown",
   "metadata": {},
   "source": [
    "<img src='img/plot_9_transformations_wls_from_R.png'>"
   ]
  },
  {
   "cell_type": "code",
   "execution_count": 55,
   "metadata": {
    "collapsed": false
   },
   "outputs": [],
   "source": [
    "# the following line throws AttributeError because wls result does not have get_influence()\n",
    "# norm_resid = education_res_noAK_weight2.get_influence().resid_studentized_internal"
   ]
  },
  {
   "cell_type": "code",
   "execution_count": null,
   "metadata": {
    "collapsed": true
   },
   "outputs": [],
   "source": [
    "# FAILED to replicate Scale-Location plots.\n",
    "# TODO: try again later ..."
   ]
  },
  {
   "cell_type": "markdown",
   "metadata": {},
   "source": [
    "Let's look at the boxplot again. It looks better, but perhaps not perfect."
   ]
  },
  {
   "cell_type": "code",
   "execution_count": 89,
   "metadata": {
    "collapsed": false
   },
   "outputs": [
    {
     "name": "stderr",
     "output_type": "stream",
     "text": [
      "/home/doojung/anaconda3/lib/python3.6/site-packages/ipykernel/__main__.py:1: SettingWithCopyWarning: \n",
      "A value is trying to be set on a copy of a slice from a DataFrame.\n",
      "Try using .loc[row_indexer,col_indexer] = value instead\n",
      "\n",
      "See the caveats in the documentation: http://pandas.pydata.org/pandas-docs/stable/indexing.html#indexing-view-versus-copy\n",
      "  if __name__ == '__main__':\n"
     ]
    }
   ],
   "source": [
    "education_data_noAK[\"resid_pearson\"] = education_res_noAK_weight2.resid_pearson"
   ]
  },
  {
   "cell_type": "code",
   "execution_count": 90,
   "metadata": {
    "collapsed": false
   },
   "outputs": [
    {
     "data": {
      "text/html": [
       "<div>\n",
       "<style scoped>\n",
       "    .dataframe tbody tr th:only-of-type {\n",
       "        vertical-align: middle;\n",
       "    }\n",
       "\n",
       "    .dataframe tbody tr th {\n",
       "        vertical-align: top;\n",
       "    }\n",
       "\n",
       "    .dataframe thead th {\n",
       "        text-align: right;\n",
       "    }\n",
       "</style>\n",
       "<table border=\"1\" class=\"dataframe\">\n",
       "  <thead>\n",
       "    <tr style=\"text-align: right;\">\n",
       "      <th></th>\n",
       "      <th>STATE</th>\n",
       "      <th>Y</th>\n",
       "      <th>X1</th>\n",
       "      <th>X2</th>\n",
       "      <th>X3</th>\n",
       "      <th>Region</th>\n",
       "      <th>rstandard</th>\n",
       "      <th>resid_pearson</th>\n",
       "    </tr>\n",
       "  </thead>\n",
       "  <tbody>\n",
       "    <tr>\n",
       "      <th>0</th>\n",
       "      <td>ME</td>\n",
       "      <td>235</td>\n",
       "      <td>3944</td>\n",
       "      <td>325</td>\n",
       "      <td>508</td>\n",
       "      <td>1</td>\n",
       "      <td>-0.002112</td>\n",
       "      <td>0.156067</td>\n",
       "    </tr>\n",
       "    <tr>\n",
       "      <th>1</th>\n",
       "      <td>NH</td>\n",
       "      <td>231</td>\n",
       "      <td>4578</td>\n",
       "      <td>323</td>\n",
       "      <td>564</td>\n",
       "      <td>1</td>\n",
       "      <td>-1.041857</td>\n",
       "      <td>-0.999289</td>\n",
       "    </tr>\n",
       "    <tr>\n",
       "      <th>2</th>\n",
       "      <td>VT</td>\n",
       "      <td>270</td>\n",
       "      <td>4011</td>\n",
       "      <td>328</td>\n",
       "      <td>322</td>\n",
       "      <td>1</td>\n",
       "      <td>1.255256</td>\n",
       "      <td>1.052778</td>\n",
       "    </tr>\n",
       "    <tr>\n",
       "      <th>3</th>\n",
       "      <td>MA</td>\n",
       "      <td>261</td>\n",
       "      <td>5233</td>\n",
       "      <td>305</td>\n",
       "      <td>846</td>\n",
       "      <td>1</td>\n",
       "      <td>-1.192622</td>\n",
       "      <td>-1.088047</td>\n",
       "    </tr>\n",
       "    <tr>\n",
       "      <th>4</th>\n",
       "      <td>RI</td>\n",
       "      <td>300</td>\n",
       "      <td>4780</td>\n",
       "      <td>303</td>\n",
       "      <td>871</td>\n",
       "      <td>1</td>\n",
       "      <td>0.594919</td>\n",
       "      <td>0.729121</td>\n",
       "    </tr>\n",
       "  </tbody>\n",
       "</table>\n",
       "</div>"
      ],
      "text/plain": [
       "  STATE    Y    X1   X2   X3  Region  rstandard  resid_pearson\n",
       "0    ME  235  3944  325  508       1  -0.002112       0.156067\n",
       "1    NH  231  4578  323  564       1  -1.041857      -0.999289\n",
       "2    VT  270  4011  328  322       1   1.255256       1.052778\n",
       "3    MA  261  5233  305  846       1  -1.192622      -1.088047\n",
       "4    RI  300  4780  303  871       1   0.594919       0.729121"
      ]
     },
     "execution_count": 90,
     "metadata": {},
     "output_type": "execute_result"
    }
   ],
   "source": [
    "education_data_noAK.head()"
   ]
  },
  {
   "cell_type": "code",
   "execution_count": 91,
   "metadata": {
    "collapsed": false
   },
   "outputs": [
    {
     "data": {
      "image/png": "[encoded data removed]",
      "text/plain": [
       "<matplotlib.figure.Figure at 0x7feeab7fd0b8>"
      ]
     },
     "metadata": {},
     "output_type": "display_data"
    }
   ],
   "source": [
    "# to fill the colors inside the box\n",
    "bp_dict = education_data_noAK.boxplot(\"resid_pearson\",\n",
    "    by=\"Region\", \n",
    "    return_type='both',\n",
    "    patch_artist = True,\n",
    ")\n",
    "\n",
    "colors = ['red', 'green', 'blue', 'yellow']\n",
    "for row_key, (ax,row) in bp_dict.iteritems():\n",
    "    ax.set_xlabel('')\n",
    "    for i,box in enumerate(row['boxes']):\n",
    "        box.set_facecolor(colors[i])\n",
    "\n",
    "plt.show()"
   ]
  },
  {
   "cell_type": "markdown",
   "metadata": {},
   "source": [
    "## Unequal variance: effects on inference\n",
    "\n",
    "-   So far, we have just mentioned that things *may* have unequal\n",
    "    variance, but not thought about how it affects inference.\n",
    "\n",
    "-   In general, if we ignore unequal variance, our estimates of variance\n",
    "    are not very good. The covariance has the â€œsandwich formâ€ we saw above\n",
    "    $$\\text{Cov}(\\widehat{\\beta}_{OLS}) = (X'X)^{-1}(X'W^{-1}X)(X'X)^{-1}.$$\n",
    "    with $W=\\text{diag}(1/\\sigma^2_i)$.\n",
    "    \n",
    "- ** If our `Std. Error` is incorrect, so are our conclusions based on $t$-statistics!**\n",
    "\n",
    "- In this example, correcting for weights seemed to make the $t$-statistics larger. ** This will not always be the case!**\n",
    "\n",
    "## Unequal variance: effects on inference\n",
    "\n",
    "- Weighted least squares estimator\n",
    "$$\n",
    "\\hat{\\beta}_{WLS} = (X^TWX)^{-1}X^TWY\n",
    "$$\n",
    "\n",
    "-   If we have the correct weights, then\n",
    "$$\n",
    "\\text{Cov}(\\widehat{\\beta}_{WLS}) = (X^TWX)^{-1}.\n",
    "$$\n",
    "\n",
    "\n",
    "## Efficiency\n",
    "\n",
    "-   The efficiency of an unbiased estimator of $\\beta$ is 1 / variance.\n",
    "\n",
    "-   Estimators can be compared by their efficiency: the more efficient,\n",
    "    the better.\n",
    "\n",
    "-   The other reason to correct for unequal variance (besides so that we\n",
    "    get valid inference) is for efficiency.\n",
    "\n",
    "## Illustrative example\n",
    "\n",
    "-   Suppose\n",
    "    $$Z_i = \\mu + \\varepsilon_i, \\qquad \\varepsilon_i \\sim N(0, i^2 \\cdot \\sigma^2), 1 \\leq i \\leq n.$$\n",
    "\n",
    "-   Three unbiased estimators of $\\mu$: $$\\begin{aligned}\n",
    "       \\widehat{\\mu}_1 &= \\frac{1}{n}\\sum_{i=1}^n Z_i \\\\\n",
    "       \\widehat{\\mu}_2 &= \\frac{1}{\\sum_{i=1}^n i^{-2}}\\sum_{i=1}^n i^{-2}Z_i \\\\\n",
    "       \\widehat{\\mu}_3 &= \\frac{1}{\\sum_{i=1}^n i^{-1}}\\sum_{i=1}^n i^{-1}Z_i \\\\\n",
    "       \\end{aligned}$$\n",
    "\n",
    "## Illustrative example\n",
    "\n",
    "\n",
    "-   The estimator $\\widehat{\\mu}_2$ will always have lower variance,\n",
    "    hence tighter confidence intervals. \n",
    "    \n",
    "- The estimator $\\widehat{\\mu}_3$ has incorrect weights, but they are \"closer\" to correct\n",
    "than the naive mean's weights which assume each observation has equal variance."
   ]
  },
  {
   "cell_type": "code",
   "execution_count": null,
   "metadata": {
    "collapsed": true
   },
   "outputs": [],
   "source": []
  },
  {
   "cell_type": "code",
   "execution_count": null,
   "metadata": {
    "collapsed": true
   },
   "outputs": [],
   "source": []
  },
  {
   "cell_type": "code",
   "execution_count": null,
   "metadata": {
    "collapsed": true
   },
   "outputs": [],
   "source": []
  },
  {
   "cell_type": "code",
   "execution_count": null,
   "metadata": {
    "collapsed": true
   },
   "outputs": [],
   "source": []
  },
  {
   "cell_type": "markdown",
   "metadata": {},
   "source": [
    "Let's simulate a number of experiments and compare the three estimates."
   ]
  },
  {
   "cell_type": "code",
   "execution_count": null,
   "metadata": {
    "collapsed": true
   },
   "outputs": [],
   "source": []
  },
  {
   "cell_type": "code",
   "execution_count": null,
   "metadata": {
    "collapsed": true
   },
   "outputs": [],
   "source": []
  },
  {
   "cell_type": "code",
   "execution_count": null,
   "metadata": {
    "collapsed": true
   },
   "outputs": [],
   "source": []
  },
  {
   "cell_type": "code",
   "execution_count": null,
   "metadata": {
    "collapsed": true
   },
   "outputs": [],
   "source": []
  },
  {
   "cell_type": "code",
   "execution_count": null,
   "metadata": {
    "collapsed": true
   },
   "outputs": [],
   "source": []
  },
  {
   "cell_type": "code",
   "execution_count": null,
   "metadata": {
    "collapsed": true
   },
   "outputs": [],
   "source": []
  },
  {
   "cell_type": "code",
   "execution_count": null,
   "metadata": {
    "collapsed": true
   },
   "outputs": [],
   "source": []
  },
  {
   "cell_type": "code",
   "execution_count": null,
   "metadata": {
    "collapsed": true
   },
   "outputs": [],
   "source": []
  },
  {
   "cell_type": "code",
   "execution_count": null,
   "metadata": {
    "collapsed": true
   },
   "outputs": [],
   "source": []
  },
  {
   "cell_type": "code",
   "execution_count": null,
   "metadata": {
    "collapsed": true
   },
   "outputs": [],
   "source": []
  },
  {
   "cell_type": "code",
   "execution_count": null,
   "metadata": {
    "collapsed": true
   },
   "outputs": [],
   "source": []
  },
  {
   "cell_type": "code",
   "execution_count": null,
   "metadata": {
    "collapsed": true
   },
   "outputs": [],
   "source": []
  },
  {
   "cell_type": "code",
   "execution_count": null,
   "metadata": {
    "collapsed": true
   },
   "outputs": [],
   "source": []
  },
  {
   "cell_type": "code",
   "execution_count": null,
   "metadata": {
    "collapsed": true
   },
   "outputs": [],
   "source": []
  },
  {
   "cell_type": "code",
   "execution_count": null,
   "metadata": {
    "collapsed": true
   },
   "outputs": [],
   "source": []
  },
  {
   "cell_type": "code",
   "execution_count": null,
   "metadata": {
    "collapsed": true
   },
   "outputs": [],
   "source": []
  }
 ],
 "metadata": {
  "kernelspec": {
   "display_name": "Python 3",
   "language": "python",
   "name": "python3"
  },
  "language_info": {
   "codemirror_mode": {
    "name": "ipython",
    "version": 3
   },
   "file_extension": ".py",
   "mimetype": "text/x-python",
   "name": "python",
   "nbconvert_exporter": "python",
   "pygments_lexer": "ipython3",
   "version": "3.6.0"
  }
 },
 "nbformat": 4,
 "nbformat_minor": 2
}
