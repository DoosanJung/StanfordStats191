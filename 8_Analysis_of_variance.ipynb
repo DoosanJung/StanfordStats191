{
 "cells": [
  {
   "cell_type": "markdown",
   "metadata": {},
   "source": [
    "R => Python  \n",
    "Source: https://web.stanford.edu/class/stats191/notebooks/ANOVA.html\n",
    "\n",
    "\n",
    "NOTE: \n",
    "* Not exactly porting R to Python.\n",
    "* Also not [rpy2](https://rpy2.readthedocs.io/en/version_2.8.x/)"
   ]
  },
  {
   "cell_type": "markdown",
   "metadata": {},
   "source": [
    "# ANOVA models\n",
    "\n",
    "In previous slides, we discussed the use of categorical variables\n",
    "in multivariate regression. Often, these are encoded as\n",
    "indicator columns in the design matrix.\n"
   ]
  },
  {
   "cell_type": "code",
   "execution_count": 1,
   "metadata": {
    "collapsed": true
   },
   "outputs": [],
   "source": [
    "import os\n",
    "import numpy as np\n",
    "import pandas as pd\n",
    "from scipy import stats\n",
    "import statsmodels.api as sm\n",
    "from statsmodels.formula.api import ols\n",
    "import matplotlib.pyplot as plt\n",
    "import seaborn as sns\n",
    "from statsmodels.graphics.api import interaction_plot\n",
    "from statsmodels.stats.anova import anova_lm"
   ]
  },
  {
   "cell_type": "code",
   "execution_count": 2,
   "metadata": {
    "collapsed": false
   },
   "outputs": [
    {
     "data": {
      "text/plain": [
       "'0.9.0'"
      ]
     },
     "execution_count": 2,
     "metadata": {},
     "output_type": "execute_result"
    }
   ],
   "source": [
    "sm.version.version"
   ]
  },
  {
   "cell_type": "code",
   "execution_count": 3,
   "metadata": {
    "collapsed": false
   },
   "outputs": [
    {
     "data": {
      "text/plain": [
       "'0.18.1'"
      ]
     },
     "execution_count": 3,
     "metadata": {},
     "output_type": "execute_result"
    }
   ],
   "source": [
    "import scipy; scipy.__version__"
   ]
  },
  {
   "cell_type": "code",
   "execution_count": 4,
   "metadata": {
    "collapsed": false
   },
   "outputs": [
    {
     "name": "stderr",
     "output_type": "stream",
     "text": [
      "/home/doojung/anaconda3/lib/python3.6/site-packages/ipykernel/__main__.py:2: FutureWarning: read_table is deprecated, use read_csv instead, passing sep='\\t'.\n",
      "  from ipykernel import kernelapp as app\n"
     ]
    },
    {
     "data": {
      "text/html": [
       "<div>\n",
       "<style scoped>\n",
       "    .dataframe tbody tr th:only-of-type {\n",
       "        vertical-align: middle;\n",
       "    }\n",
       "\n",
       "    .dataframe tbody tr th {\n",
       "        vertical-align: top;\n",
       "    }\n",
       "\n",
       "    .dataframe thead th {\n",
       "        text-align: right;\n",
       "    }\n",
       "</style>\n",
       "<table border=\"1\" class=\"dataframe\">\n",
       "  <thead>\n",
       "    <tr style=\"text-align: right;\">\n",
       "      <th></th>\n",
       "      <th>Intercept</th>\n",
       "      <th>C(E)[T.2]</th>\n",
       "      <th>C(E)[T.3]</th>\n",
       "      <th>C(M)[T.1]</th>\n",
       "      <th>X</th>\n",
       "    </tr>\n",
       "  </thead>\n",
       "  <tbody>\n",
       "    <tr>\n",
       "      <th>0</th>\n",
       "      <td>1.0</td>\n",
       "      <td>0.0</td>\n",
       "      <td>0.0</td>\n",
       "      <td>1.0</td>\n",
       "      <td>1.0</td>\n",
       "    </tr>\n",
       "    <tr>\n",
       "      <th>1</th>\n",
       "      <td>1.0</td>\n",
       "      <td>0.0</td>\n",
       "      <td>1.0</td>\n",
       "      <td>0.0</td>\n",
       "      <td>1.0</td>\n",
       "    </tr>\n",
       "    <tr>\n",
       "      <th>2</th>\n",
       "      <td>1.0</td>\n",
       "      <td>0.0</td>\n",
       "      <td>1.0</td>\n",
       "      <td>1.0</td>\n",
       "      <td>1.0</td>\n",
       "    </tr>\n",
       "    <tr>\n",
       "      <th>3</th>\n",
       "      <td>1.0</td>\n",
       "      <td>1.0</td>\n",
       "      <td>0.0</td>\n",
       "      <td>0.0</td>\n",
       "      <td>1.0</td>\n",
       "    </tr>\n",
       "    <tr>\n",
       "      <th>4</th>\n",
       "      <td>1.0</td>\n",
       "      <td>0.0</td>\n",
       "      <td>1.0</td>\n",
       "      <td>0.0</td>\n",
       "      <td>1.0</td>\n",
       "    </tr>\n",
       "    <tr>\n",
       "      <th>5</th>\n",
       "      <td>1.0</td>\n",
       "      <td>1.0</td>\n",
       "      <td>0.0</td>\n",
       "      <td>1.0</td>\n",
       "      <td>2.0</td>\n",
       "    </tr>\n",
       "  </tbody>\n",
       "</table>\n",
       "</div>"
      ],
      "text/plain": [
       "   Intercept  C(E)[T.2]  C(E)[T.3]  C(M)[T.1]    X\n",
       "0        1.0        0.0        0.0        1.0  1.0\n",
       "1        1.0        0.0        1.0        0.0  1.0\n",
       "2        1.0        0.0        1.0        1.0  1.0\n",
       "3        1.0        1.0        0.0        0.0  1.0\n",
       "4        1.0        0.0        1.0        0.0  1.0\n",
       "5        1.0        1.0        0.0        1.0  2.0"
      ]
     },
     "execution_count": 4,
     "metadata": {},
     "output_type": "execute_result"
    }
   ],
   "source": [
    "url = 'http://stats191.stanford.edu/data/salary.table'\n",
    "salary_data = pd.read_table(url)\n",
    "formula = \"S ~ X + C(E) + C(M)\"\n",
    "salary_res = ols(formula, data=salary_data).fit()\n",
    "pd.DataFrame(salary_res.model.exog, columns=salary_res.model.exog_names).head(6)"
   ]
  },
  {
   "cell_type": "markdown",
   "metadata": {},
   "source": [
    "## ANOVA models\n",
    "\n",
    "* Often, especially in experimental settings, we record\n",
    "*only* categorical variables. \n",
    "\n",
    "* Such models are often referred to *ANOVA (Analysis of Variance)* models.\n",
    "\n",
    "* These are generalizations of our favorite example, the two sample $t$-test.\n",
    "\n",
    "## Example: recovery time\n",
    "\n",
    "* Suppose we want to understand the relationship between\n",
    "recovery time after surgery based on an patient's prior fitness.\n",
    "\n",
    "* We group patients into three fitness levels: below average, average, above average.\n",
    "\n",
    "* If you are in better shape before surgery, does it take less time to\n",
    "  recover?"
   ]
  },
  {
   "cell_type": "code",
   "execution_count": 5,
   "metadata": {
    "collapsed": false
   },
   "outputs": [
    {
     "data": {
      "text/html": [
       "<div>\n",
       "<style scoped>\n",
       "    .dataframe tbody tr th:only-of-type {\n",
       "        vertical-align: middle;\n",
       "    }\n",
       "\n",
       "    .dataframe tbody tr th {\n",
       "        vertical-align: top;\n",
       "    }\n",
       "\n",
       "    .dataframe thead th {\n",
       "        text-align: right;\n",
       "    }\n",
       "</style>\n",
       "<table border=\"1\" class=\"dataframe\">\n",
       "  <thead>\n",
       "    <tr style=\"text-align: right;\">\n",
       "      <th></th>\n",
       "      <th>Fitness</th>\n",
       "      <th>Time</th>\n",
       "    </tr>\n",
       "  </thead>\n",
       "  <tbody>\n",
       "    <tr>\n",
       "      <th>0</th>\n",
       "      <td>1</td>\n",
       "      <td>29</td>\n",
       "    </tr>\n",
       "    <tr>\n",
       "      <th>1</th>\n",
       "      <td>1</td>\n",
       "      <td>42</td>\n",
       "    </tr>\n",
       "    <tr>\n",
       "      <th>2</th>\n",
       "      <td>1</td>\n",
       "      <td>38</td>\n",
       "    </tr>\n",
       "    <tr>\n",
       "      <th>3</th>\n",
       "      <td>1</td>\n",
       "      <td>40</td>\n",
       "    </tr>\n",
       "    <tr>\n",
       "      <th>4</th>\n",
       "      <td>1</td>\n",
       "      <td>43</td>\n",
       "    </tr>\n",
       "    <tr>\n",
       "      <th>5</th>\n",
       "      <td>1</td>\n",
       "      <td>40</td>\n",
       "    </tr>\n",
       "  </tbody>\n",
       "</table>\n",
       "</div>"
      ],
      "text/plain": [
       "   Fitness  Time\n",
       "0        1    29\n",
       "1        1    42\n",
       "2        1    38\n",
       "3        1    40\n",
       "4        1    43\n",
       "5        1    40"
      ]
     },
     "execution_count": 5,
     "metadata": {},
     "output_type": "execute_result"
    }
   ],
   "source": [
    "url = 'http://stats191.stanford.edu/data/rehab.csv'\n",
    "rehab_data = pd.read_csv(url)\n",
    "rehab_data.head(6)"
   ]
  },
  {
   "cell_type": "code",
   "execution_count": 6,
   "metadata": {
    "collapsed": false
   },
   "outputs": [
    {
     "data": {
      "text/plain": [
       "[1, 1, 1, 1, 1, ..., 3, 3, 3, 3, 3]\n",
       "Length: 24\n",
       "Categories (3, int64): [1, 2, 3]"
      ]
     },
     "execution_count": 6,
     "metadata": {},
     "output_type": "execute_result"
    }
   ],
   "source": [
    "# pd.Categorical: Represents a categorical variable in classic R / S-plus fashion\n",
    "factor = pd.Categorical(rehab_data.Fitness)\n",
    "factor"
   ]
  },
  {
   "cell_type": "code",
   "execution_count": 7,
   "metadata": {
    "collapsed": false
   },
   "outputs": [
    {
     "data": {
      "image/png": "[encoded data removed]",
      "text/plain": [
       "<matplotlib.figure.Figure at 0x7f29bbfd2630>"
      ]
     },
     "metadata": {},
     "output_type": "display_data"
    }
   ],
   "source": [
    "# Make a box-and-whisker plot from Pandas DataFrame\n",
    "\"\"\"\n",
    "The box extends from the Q1 to Q3 quartile values of the data, with a line\n",
    "at the median (Q2). The whiskers extend from the edges of box to show the \n",
    "range of the data. \n",
    "\n",
    "The position of the whiskers is set by default to 1.5 * IQR (IQR = Q3 - Q1)\n",
    "from the edges of the box. \n",
    "\n",
    "Outlier points are those past the end of the whiskers.\n",
    "\"\"\"\n",
    "boxplot = rehab_data.boxplot('Time', by='Fitness')\n",
    "plt.show()\n",
    "\n",
    "# Source: https://pandas.pydata.org/pandas-docs/stable/reference/api/pandas.DataFrame.boxplot.html"
   ]
  },
  {
   "cell_type": "code",
   "execution_count": 8,
   "metadata": {
    "collapsed": false,
    "scrolled": false
   },
   "outputs": [
    {
     "data": {
      "image/png": "[encoded data removed]",
      "text/plain": [
       "<matplotlib.figure.Figure at 0x7f29bbf00da0>"
      ]
     },
     "metadata": {},
     "output_type": "display_data"
    }
   ],
   "source": [
    "# to fill the colors inside the box\n",
    "bp_dict = rehab_data.boxplot(\"Time\",\n",
    "    by=\"Fitness\", \n",
    "    return_type='both',\n",
    "    patch_artist = True,\n",
    ")\n",
    "\n",
    "colors = ['red', 'green', 'blue']\n",
    "for row_key, (ax,row) in bp_dict.iteritems():\n",
    "    ax.set_xlabel('')\n",
    "    for i,box in enumerate(row['boxes']):\n",
    "        box.set_facecolor(colors[i])\n",
    "\n",
    "plt.show()\n",
    "# Source: https://stackoverflow.com/questions/50963960/change-color-of-individual-boxes-in-pandas-boxplot-subplots"
   ]
  },
  {
   "cell_type": "markdown",
   "metadata": {},
   "source": [
    "violin plots from seaborn - not in the original R notebook\n",
    "\n",
    "\"A violin plot plays a similar role as a box and whisker plot. It shows the distribution of quantitative data across several levels of one (or more) categorical variables such that those distributions can be compared. Unlike a box plot, in which all of the plot components correspond to actual datapoints, the violin plot features a kernel density estimation of the underlying distribution.\"  \n",
    "\n",
    "\"This can be an effective and attractive way to show multiple distributions of data at once, but keep in mind that the estimation procedure is influenced by the sample size, and violins for relatively small samples might look misleadingly smooth.\"\n",
    "\n",
    "Source: https://seaborn.pydata.org/generated/seaborn.violinplot.html"
   ]
  },
  {
   "cell_type": "code",
   "execution_count": 9,
   "metadata": {
    "collapsed": false
   },
   "outputs": [
    {
     "name": "stderr",
     "output_type": "stream",
     "text": [
      "/home/doojung/anaconda3/lib/python3.6/site-packages/seaborn/categorical.py:588: FutureWarning: remove_na is deprecated and is a private function. Do not use.\n",
      "  kde_data = remove_na(group_data)\n",
      "/home/doojung/anaconda3/lib/python3.6/site-packages/seaborn/categorical.py:816: FutureWarning: remove_na is deprecated and is a private function. Do not use.\n",
      "  violin_data = remove_na(group_data)\n",
      "/home/doojung/anaconda3/lib/python3.6/site-packages/scipy/stats/stats.py:1626: FutureWarning: Using a non-tuple sequence for multidimensional indexing is deprecated; use `arr[tuple(seq)]` instead of `arr[seq]`. In the future this will be interpreted as an array index, `arr[np.array(seq)]`, which will result either in an error or a different result.\n",
      "  return np.add.reduce(sorted[indexer] * weights, axis=axis) / sumval\n"
     ]
    },
    {
     "data": {
      "image/png": "[encoded data removed]",
      "text/plain": [
       "<matplotlib.figure.Figure at 0x7f29f815b748>"
      ]
     },
     "metadata": {},
     "output_type": "display_data"
    }
   ],
   "source": [
    "sns.violinplot(x=\"Fitness\", y=\"Time\", data=rehab_data, palette=\"hls\")\n",
    "plt.show()"
   ]
  },
  {
   "cell_type": "markdown",
   "metadata": {},
   "source": [
    "## One-way ANOVA\n",
    "\n",
    "*   First generalization of two sample $t$-test: more than two groups.\n",
    "\n",
    "* Observations are broken up into $r$ groups with $n_i, 1 \\leq i \\leq r$ observations per group. \n",
    "\n",
    "*  Model:\n",
    "    $$Y_{ij} = \\mu  + \\alpha_i + \\varepsilon_{ij}, \\qquad \\varepsilon_{ij} \\overset{IID}{\\sim} N(0, \\sigma^2).$$\n",
    "\n",
    "*   Constraint: $\\sum_{i=1}^r \\alpha_i = 0$. This constraint is needed\n",
    "    for \"identifiability\". This is \"equivalent\" to only adding $r-1$\n",
    "    columns to the design matrix for this qualitative variable.\n",
    " \n",
    "\n",
    "## One-way ANOVA\n",
    "\n",
    "* This is not the same *parameterization* we get when only adding $r-1$ 0-1 columns, but it gives the same *model*.\n",
    "\n",
    "* The estimates of $\\alpha$ can be obtained from the estimates\n",
    "of $\\beta$ using `R`'s default parameters.\n",
    "\n",
    "* For a more detailed exploration into `R`'s creation of design matrices,\n",
    "try reading the following [tutorial on design matrices](http://nbviewer.ipython.org/github/fperez/nipy-notebooks/blob/master/exploring_r_formula.ipynb).\n",
    "\n",
    "## Remember, it's still a model (i.e. a plane)\n",
    "\n",
    "<img src=\"http://stats191.stanford.edu/figs/axes_multiple_full.svg\"  width=\"700\">\n",
    "\n",
    "\n",
    "## Fitting the model\n",
    "\n",
    "\n",
    "-   Model is easy to fit:\n",
    "    $$\\widehat{Y}_{ij} = \\frac{1}{n_i} \\sum_{j=1}^{n_i} Y_{ij} = \\overline{Y}_{i\\cdot}$$\n",
    "    If observation is in $i$-th group: predicted mean is just the sample\n",
    "    mean of observations in $i$-th group.\n",
    "\n",
    "-   Simplest question: is there any group (main) effect?\n",
    " $$H_0:\\alpha_1 = \\dots = \\alpha_r= 0?$$\n",
    "\n",
    "-   Test is based on $F$-test with full model vs. reduced model. Reduced\n",
    "    model just has an intercept.\n",
    "\n",
    "-   Other questions: is the effect the same in groups 1 and 2?\n",
    "    $$H_0:\\alpha_1=\\alpha_2?$$\n"
   ]
  },
  {
   "cell_type": "code",
   "execution_count": 10,
   "metadata": {
    "collapsed": false
   },
   "outputs": [
    {
     "data": {
      "text/html": [
       "<table class=\"simpletable\">\n",
       "<caption>OLS Regression Results</caption>\n",
       "<tr>\n",
       "  <th>Dep. Variable:</th>          <td>Time</td>       <th>  R-squared:         </th> <td>   0.618</td>\n",
       "</tr>\n",
       "<tr>\n",
       "  <th>Model:</th>                   <td>OLS</td>       <th>  Adj. R-squared:    </th> <td>   0.581</td>\n",
       "</tr>\n",
       "<tr>\n",
       "  <th>Method:</th>             <td>Least Squares</td>  <th>  F-statistic:       </th> <td>   16.96</td>\n",
       "</tr>\n",
       "<tr>\n",
       "  <th>Date:</th>             <td>Wed, 19 Jun 2019</td> <th>  Prob (F-statistic):</th> <td>4.13e-05</td>\n",
       "</tr>\n",
       "<tr>\n",
       "  <th>Time:</th>                 <td>21:41:24</td>     <th>  Log-Likelihood:    </th> <td> -68.286</td>\n",
       "</tr>\n",
       "<tr>\n",
       "  <th>No. Observations:</th>      <td>    24</td>      <th>  AIC:               </th> <td>   142.6</td>\n",
       "</tr>\n",
       "<tr>\n",
       "  <th>Df Residuals:</th>          <td>    21</td>      <th>  BIC:               </th> <td>   146.1</td>\n",
       "</tr>\n",
       "<tr>\n",
       "  <th>Df Model:</th>              <td>     2</td>      <th>                     </th>     <td> </td>   \n",
       "</tr>\n",
       "<tr>\n",
       "  <th>Covariance Type:</th>      <td>nonrobust</td>    <th>                     </th>     <td> </td>   \n",
       "</tr>\n",
       "</table>\n",
       "<table class=\"simpletable\">\n",
       "<tr>\n",
       "         <td></td>            <th>coef</th>     <th>std err</th>      <th>t</th>      <th>P>|t|</th>  <th>[0.025</th>    <th>0.975]</th>  \n",
       "</tr>\n",
       "<tr>\n",
       "  <th>Intercept</th>       <td>   38.0000</td> <td>    1.574</td> <td>   24.149</td> <td> 0.000</td> <td>   34.728</td> <td>   41.272</td>\n",
       "</tr>\n",
       "<tr>\n",
       "  <th>C(Fitness)[T.2]</th> <td>   -6.0000</td> <td>    2.111</td> <td>   -2.842</td> <td> 0.010</td> <td>  -10.390</td> <td>   -1.610</td>\n",
       "</tr>\n",
       "<tr>\n",
       "  <th>C(Fitness)[T.3]</th> <td>  -14.0000</td> <td>    2.404</td> <td>   -5.824</td> <td> 0.000</td> <td>  -18.999</td> <td>   -9.001</td>\n",
       "</tr>\n",
       "</table>\n",
       "<table class=\"simpletable\">\n",
       "<tr>\n",
       "  <th>Omnibus:</th>       <td> 0.163</td> <th>  Durbin-Watson:     </th> <td>   2.209</td>\n",
       "</tr>\n",
       "<tr>\n",
       "  <th>Prob(Omnibus):</th> <td> 0.922</td> <th>  Jarque-Bera (JB):  </th> <td>   0.211</td>\n",
       "</tr>\n",
       "<tr>\n",
       "  <th>Skew:</th>          <td>-0.163</td> <th>  Prob(JB):          </th> <td>   0.900</td>\n",
       "</tr>\n",
       "<tr>\n",
       "  <th>Kurtosis:</th>      <td> 2.675</td> <th>  Cond. No.          </th> <td>    3.80</td>\n",
       "</tr>\n",
       "</table><br/><br/>Warnings:<br/>[1] Standard Errors assume that the covariance matrix of the errors is correctly specified."
      ],
      "text/plain": [
       "<class 'statsmodels.iolib.summary.Summary'>\n",
       "\"\"\"\n",
       "                            OLS Regression Results                            \n",
       "==============================================================================\n",
       "Dep. Variable:                   Time   R-squared:                       0.618\n",
       "Model:                            OLS   Adj. R-squared:                  0.581\n",
       "Method:                 Least Squares   F-statistic:                     16.96\n",
       "Date:                Wed, 19 Jun 2019   Prob (F-statistic):           4.13e-05\n",
       "Time:                        21:41:24   Log-Likelihood:                -68.286\n",
       "No. Observations:                  24   AIC:                             142.6\n",
       "Df Residuals:                      21   BIC:                             146.1\n",
       "Df Model:                           2                                         \n",
       "Covariance Type:            nonrobust                                         \n",
       "===================================================================================\n",
       "                      coef    std err          t      P>|t|      [0.025      0.975]\n",
       "-----------------------------------------------------------------------------------\n",
       "Intercept          38.0000      1.574     24.149      0.000      34.728      41.272\n",
       "C(Fitness)[T.2]    -6.0000      2.111     -2.842      0.010     -10.390      -1.610\n",
       "C(Fitness)[T.3]   -14.0000      2.404     -5.824      0.000     -18.999      -9.001\n",
       "==============================================================================\n",
       "Omnibus:                        0.163   Durbin-Watson:                   2.209\n",
       "Prob(Omnibus):                  0.922   Jarque-Bera (JB):                0.211\n",
       "Skew:                          -0.163   Prob(JB):                        0.900\n",
       "Kurtosis:                       2.675   Cond. No.                         3.80\n",
       "==============================================================================\n",
       "\n",
       "Warnings:\n",
       "[1] Standard Errors assume that the covariance matrix of the errors is correctly specified.\n",
       "\"\"\""
      ]
     },
     "execution_count": 10,
     "metadata": {},
     "output_type": "execute_result"
    }
   ],
   "source": [
    "formula_oneway_anova = 'Time ~ C(Fitness)'\n",
    "rehab_res = ols(formula_oneway_anova, data=rehab_data).fit()\n",
    "rehab_res.summary()"
   ]
  },
  {
   "cell_type": "code",
   "execution_count": 11,
   "metadata": {
    "collapsed": false
   },
   "outputs": [
    {
     "data": {
      "text/html": [
       "<div>\n",
       "<style scoped>\n",
       "    .dataframe tbody tr th:only-of-type {\n",
       "        vertical-align: middle;\n",
       "    }\n",
       "\n",
       "    .dataframe tbody tr th {\n",
       "        vertical-align: top;\n",
       "    }\n",
       "\n",
       "    .dataframe thead th {\n",
       "        text-align: right;\n",
       "    }\n",
       "</style>\n",
       "<table border=\"1\" class=\"dataframe\">\n",
       "  <thead>\n",
       "    <tr style=\"text-align: right;\">\n",
       "      <th></th>\n",
       "      <th>Fitness</th>\n",
       "    </tr>\n",
       "  </thead>\n",
       "  <tbody>\n",
       "    <tr>\n",
       "      <th>0</th>\n",
       "      <td>1</td>\n",
       "    </tr>\n",
       "    <tr>\n",
       "      <th>1</th>\n",
       "      <td>2</td>\n",
       "    </tr>\n",
       "    <tr>\n",
       "      <th>2</th>\n",
       "      <td>3</td>\n",
       "    </tr>\n",
       "  </tbody>\n",
       "</table>\n",
       "</div>"
      ],
      "text/plain": [
       "   Fitness\n",
       "0        1\n",
       "1        2\n",
       "2        3"
      ]
     },
     "execution_count": 11,
     "metadata": {},
     "output_type": "execute_result"
    }
   ],
   "source": [
    "#prepare the data for prediction\n",
    "predict_data = pd.DataFrame([1, 2, 3], columns=[\"Fitness\"])\n",
    "predict_data "
   ]
  },
  {
   "cell_type": "code",
   "execution_count": 12,
   "metadata": {
    "collapsed": false
   },
   "outputs": [
    {
     "data": {
      "text/plain": [
       "0    38.0\n",
       "1    32.0\n",
       "2    24.0\n",
       "dtype: float64"
      ]
     },
     "execution_count": 12,
     "metadata": {},
     "output_type": "execute_result"
    }
   ],
   "source": [
    "rehab_res.predict(exog=predict_data)"
   ]
  },
  {
   "cell_type": "code",
   "execution_count": 13,
   "metadata": {
    "collapsed": false
   },
   "outputs": [
    {
     "data": {
      "text/html": [
       "<div>\n",
       "<style scoped>\n",
       "    .dataframe tbody tr th:only-of-type {\n",
       "        vertical-align: middle;\n",
       "    }\n",
       "\n",
       "    .dataframe tbody tr th {\n",
       "        vertical-align: top;\n",
       "    }\n",
       "\n",
       "    .dataframe thead th {\n",
       "        text-align: right;\n",
       "    }\n",
       "</style>\n",
       "<table border=\"1\" class=\"dataframe\">\n",
       "  <thead>\n",
       "    <tr style=\"text-align: right;\">\n",
       "      <th></th>\n",
       "      <th>0</th>\n",
       "      <th>1</th>\n",
       "      <th>2</th>\n",
       "    </tr>\n",
       "  </thead>\n",
       "  <tbody>\n",
       "    <tr>\n",
       "      <th>Fitness</th>\n",
       "      <td>1.0</td>\n",
       "      <td>2.0</td>\n",
       "      <td>3.0</td>\n",
       "    </tr>\n",
       "    <tr>\n",
       "      <th>Time</th>\n",
       "      <td>38.0</td>\n",
       "      <td>32.0</td>\n",
       "      <td>24.0</td>\n",
       "    </tr>\n",
       "  </tbody>\n",
       "</table>\n",
       "</div>"
      ],
      "text/plain": [
       "            0     1     2\n",
       "Fitness   1.0   2.0   3.0\n",
       "Time     38.0  32.0  24.0"
      ]
     },
     "execution_count": 13,
     "metadata": {},
     "output_type": "execute_result"
    }
   ],
   "source": [
    "pd.concat([rehab_data[rehab_data[\"Fitness\"] == 1].mean(),\n",
    "         rehab_data[rehab_data[\"Fitness\"] == 2].mean(),\n",
    "         rehab_data[rehab_data[\"Fitness\"] == 3].mean()], axis=1)"
   ]
  },
  {
   "cell_type": "markdown",
   "metadata": {},
   "source": [
    "Recall that the rows of the `Coefficients` table above do not\n",
    "correspond to the $\\alpha$ parameter. For one thing, we would see \n",
    "three $\\alpha$'s and their sum would have to be equal to 0.\n",
    "\n",
    "Also, the design matrix is the indicator coding we saw last time.\n"
   ]
  },
  {
   "cell_type": "code",
   "execution_count": 14,
   "metadata": {
    "collapsed": false
   },
   "outputs": [
    {
     "data": {
      "text/html": [
       "<div>\n",
       "<style scoped>\n",
       "    .dataframe tbody tr th:only-of-type {\n",
       "        vertical-align: middle;\n",
       "    }\n",
       "\n",
       "    .dataframe tbody tr th {\n",
       "        vertical-align: top;\n",
       "    }\n",
       "\n",
       "    .dataframe thead th {\n",
       "        text-align: right;\n",
       "    }\n",
       "</style>\n",
       "<table border=\"1\" class=\"dataframe\">\n",
       "  <thead>\n",
       "    <tr style=\"text-align: right;\">\n",
       "      <th></th>\n",
       "      <th>Intercept</th>\n",
       "      <th>C(Fitness)[T.2]</th>\n",
       "      <th>C(Fitness)[T.3]</th>\n",
       "    </tr>\n",
       "  </thead>\n",
       "  <tbody>\n",
       "    <tr>\n",
       "      <th>0</th>\n",
       "      <td>1.0</td>\n",
       "      <td>0.0</td>\n",
       "      <td>0.0</td>\n",
       "    </tr>\n",
       "    <tr>\n",
       "      <th>1</th>\n",
       "      <td>1.0</td>\n",
       "      <td>0.0</td>\n",
       "      <td>0.0</td>\n",
       "    </tr>\n",
       "    <tr>\n",
       "      <th>2</th>\n",
       "      <td>1.0</td>\n",
       "      <td>0.0</td>\n",
       "      <td>0.0</td>\n",
       "    </tr>\n",
       "    <tr>\n",
       "      <th>3</th>\n",
       "      <td>1.0</td>\n",
       "      <td>0.0</td>\n",
       "      <td>0.0</td>\n",
       "    </tr>\n",
       "    <tr>\n",
       "      <th>4</th>\n",
       "      <td>1.0</td>\n",
       "      <td>0.0</td>\n",
       "      <td>0.0</td>\n",
       "    </tr>\n",
       "    <tr>\n",
       "      <th>5</th>\n",
       "      <td>1.0</td>\n",
       "      <td>0.0</td>\n",
       "      <td>0.0</td>\n",
       "    </tr>\n",
       "  </tbody>\n",
       "</table>\n",
       "</div>"
      ],
      "text/plain": [
       "   Intercept  C(Fitness)[T.2]  C(Fitness)[T.3]\n",
       "0        1.0              0.0              0.0\n",
       "1        1.0              0.0              0.0\n",
       "2        1.0              0.0              0.0\n",
       "3        1.0              0.0              0.0\n",
       "4        1.0              0.0              0.0\n",
       "5        1.0              0.0              0.0"
      ]
     },
     "execution_count": 14,
     "metadata": {},
     "output_type": "execute_result"
    }
   ],
   "source": [
    "pd.DataFrame(rehab_res.model.exog, columns=rehab_res.model.exog_names).head(6)"
   ]
  },
  {
   "cell_type": "markdown",
   "metadata": {},
   "source": [
    "* There are ways to get *different* design matrices by using the\n",
    "`contrasts` argument. This is a bit above our pay grade at the moment.\n",
    "\n",
    "* Upon inspection of the design matrix above, we see that\n",
    "the `(Intercept)` coefficient corresponds to the mean in `Fitness==1`, while\n",
    "`Fitness==2` coefficient corresponds to the difference between the groups \n",
    "`Fitness==2` and `Fitness==1`."
   ]
  },
  {
   "cell_type": "code",
   "execution_count": 15,
   "metadata": {
    "collapsed": false
   },
   "outputs": [
    {
     "name": "stdout",
     "output_type": "stream",
     "text": [
      "Intercept      :  38.0\n",
      "group Fitness1 :  Fitness     1.0\n",
      "Time       38.0\n",
      "dtype: float64\n",
      "\n",
      "\n",
      "C(Fitness)[T.2]:  -5.999999999999995\n",
      "group Fitness2 - Fitness1 Fitness    1.0\n",
      "Time      -6.0\n",
      "dtype: float64\n"
     ]
    }
   ],
   "source": [
    "# to see\n",
    "print(\"Intercept      : \", rehab_res.params[0])\n",
    "print(\"group Fitness1 : \", rehab_data[rehab_data[\"Fitness\"] == 1].mean())\n",
    "print(\"\\n\")\n",
    "print(\"C(Fitness)[T.2]: \", rehab_res.params[1])\n",
    "print(\"group Fitness2 - Fitness1\", rehab_data[rehab_data[\"Fitness\"] == 2].mean() \n",
    "                              - rehab_data[rehab_data[\"Fitness\"] == 1].mean())"
   ]
  },
  {
   "cell_type": "markdown",
   "metadata": {
    "collapsed": true
   },
   "source": [
    "## ANOVA table\n",
    "\n",
    "Much of the information in an ANOVA model is contained in the \n",
    "ANOVA table.\n",
    "\n",
    "<table>\n",
    "<tr><td>Source</td><td width=\"300\">SS</td><td width=\"100\">df</td><td width=\"100\">$\\mathbb{E}(MS)$</td></tr>\n",
    "<tr><td>Treatment</td><td>$SSTR=\\sum_{i=1}^r n_i \\left(\\overline{Y}_{i\\cdot} - \\overline{Y}_{\\cdot\\cdot}\\right)^2$</td><td>r-1</td><td>$\\sigma^2 + \\frac{\\sum_{i=1}^r n_i \\alpha_i^2}{r-1}$</td></tr>\n",
    "<tr><td>Error</td><td>$SSE=\\sum_{i=1}^r \\sum_{j=1}^{n_i}(Y_{ij} - \\overline{Y}_{i\\cdot})^2$</td>\n",
    "<td>$\\sum_{i=1}^r (n_i - 1)$</td><td>$\\sigma^2$</td></tr>\n",
    "</table>"
   ]
  },
  {
   "cell_type": "code",
   "execution_count": 16,
   "metadata": {
    "collapsed": false
   },
   "outputs": [
    {
     "data": {
      "text/html": [
       "<div>\n",
       "<style scoped>\n",
       "    .dataframe tbody tr th:only-of-type {\n",
       "        vertical-align: middle;\n",
       "    }\n",
       "\n",
       "    .dataframe tbody tr th {\n",
       "        vertical-align: top;\n",
       "    }\n",
       "\n",
       "    .dataframe thead th {\n",
       "        text-align: right;\n",
       "    }\n",
       "</style>\n",
       "<table border=\"1\" class=\"dataframe\">\n",
       "  <thead>\n",
       "    <tr style=\"text-align: right;\">\n",
       "      <th></th>\n",
       "      <th>df</th>\n",
       "      <th>sum_sq</th>\n",
       "      <th>mean_sq</th>\n",
       "      <th>F</th>\n",
       "      <th>PR(&gt;F)</th>\n",
       "    </tr>\n",
       "  </thead>\n",
       "  <tbody>\n",
       "    <tr>\n",
       "      <th>C(Fitness)</th>\n",
       "      <td>2.0</td>\n",
       "      <td>672.0</td>\n",
       "      <td>336.000000</td>\n",
       "      <td>16.961538</td>\n",
       "      <td>0.000041</td>\n",
       "    </tr>\n",
       "    <tr>\n",
       "      <th>Residual</th>\n",
       "      <td>21.0</td>\n",
       "      <td>416.0</td>\n",
       "      <td>19.809524</td>\n",
       "      <td>NaN</td>\n",
       "      <td>NaN</td>\n",
       "    </tr>\n",
       "  </tbody>\n",
       "</table>\n",
       "</div>"
      ],
      "text/plain": [
       "              df  sum_sq     mean_sq          F    PR(>F)\n",
       "C(Fitness)   2.0   672.0  336.000000  16.961538  0.000041\n",
       "Residual    21.0   416.0   19.809524        NaN       NaN"
      ]
     },
     "execution_count": 16,
     "metadata": {},
     "output_type": "execute_result"
    }
   ],
   "source": [
    "anova_rehab = anova_lm(rehab_res)\n",
    "anova_rehab"
   ]
  },
  {
   "cell_type": "markdown",
   "metadata": {},
   "source": [
    "-   Note that $MSTR$ measures â€œvariabilityâ€ of the â€œcellâ€ means. If\n",
    "    there is a group effect we expect this to be large relative to\n",
    "    $MSE$.\n",
    "\n",
    "-   We see that under $H_0:\\alpha_1=\\dots=\\alpha_r=0$, the expected\n",
    "    value of $MSTR$ and $MSE$ is $\\sigma^2$. This tells us how to test\n",
    "    $H_0$ using ratio of mean squares, i.e. an $F$ test.\n",
    "\n",
    "\n",
    "\n",
    "## Testing for any main effect\n",
    "\n",
    "\n",
    "-   Rows in the ANOVA table are, in general, independent.\n",
    "\n",
    "-   Therefore, under $H_0$\n",
    "    $$F = \\frac{MSTR}{MSE} = \\frac{\\frac{SSTR}{df_{TR}}}{\\frac{SSE}{df_{E}}} \\sim F_{df_{TR}, df_E}$$\n",
    "    the degrees of freedom come from the $df$ column in previous table.\n",
    "\n",
    "-   Reject $H_0$ at level $\\alpha$ if\n",
    "    $F > F_{1-\\alpha, df_{TR}, df_{E}}.$\n"
   ]
  },
  {
   "cell_type": "code",
   "execution_count": 17,
   "metadata": {
    "collapsed": false
   },
   "outputs": [
    {
     "data": {
      "text/plain": [
       "16.96113074204947"
      ]
     },
     "execution_count": 17,
     "metadata": {},
     "output_type": "execute_result"
    }
   ],
   "source": [
    "# MSTR/MSE\n",
    "F = 336.00 / 19.81\n",
    "F"
   ]
  },
  {
   "cell_type": "code",
   "execution_count": 18,
   "metadata": {
    "collapsed": false
   },
   "outputs": [
    {
     "data": {
      "text/plain": [
       "C(Fitness)    16.961538\n",
       "Residual            NaN\n",
       "Name: F, dtype: float64"
      ]
     },
     "execution_count": 18,
     "metadata": {},
     "output_type": "execute_result"
    }
   ],
   "source": [
    "anova_rehab.F"
   ]
  },
  {
   "cell_type": "code",
   "execution_count": 19,
   "metadata": {
    "collapsed": false
   },
   "outputs": [
    {
     "data": {
      "text/plain": [
       "C(Fitness)     2.0\n",
       "Residual      21.0\n",
       "Name: df, dtype: float64"
      ]
     },
     "execution_count": 19,
     "metadata": {},
     "output_type": "execute_result"
    }
   ],
   "source": [
    "anova_rehab.df"
   ]
  },
  {
   "cell_type": "code",
   "execution_count": 20,
   "metadata": {
    "collapsed": false
   },
   "outputs": [],
   "source": [
    "pval = 1 - stats.f.cdf(F, anova_rehab.df.values[0], anova_rehab.df.Residual)"
   ]
  },
  {
   "cell_type": "code",
   "execution_count": 21,
   "metadata": {
    "collapsed": false
   },
   "outputs": [
    {
     "data": {
      "text/html": [
       "<div>\n",
       "<style scoped>\n",
       "    .dataframe tbody tr th:only-of-type {\n",
       "        vertical-align: middle;\n",
       "    }\n",
       "\n",
       "    .dataframe tbody tr th {\n",
       "        vertical-align: top;\n",
       "    }\n",
       "\n",
       "    .dataframe thead th {\n",
       "        text-align: right;\n",
       "    }\n",
       "</style>\n",
       "<table border=\"1\" class=\"dataframe\">\n",
       "  <thead>\n",
       "    <tr style=\"text-align: right;\">\n",
       "      <th></th>\n",
       "      <th>F</th>\n",
       "      <th>pval</th>\n",
       "    </tr>\n",
       "  </thead>\n",
       "  <tbody>\n",
       "    <tr>\n",
       "      <th>0</th>\n",
       "      <td>16.961131</td>\n",
       "      <td>0.000041</td>\n",
       "    </tr>\n",
       "  </tbody>\n",
       "</table>\n",
       "</div>"
      ],
      "text/plain": [
       "           F      pval\n",
       "0  16.961131  0.000041"
      ]
     },
     "execution_count": 21,
     "metadata": {},
     "output_type": "execute_result"
    }
   ],
   "source": [
    "d = dict(F=F, pval=pval)\n",
    "pd.DataFrame(d, columns=[\"F\", \"pval\"], index=[0])"
   ]
  },
  {
   "cell_type": "markdown",
   "metadata": {},
   "source": [
    "## Inference for linear combinations\n",
    "\n",
    "- Suppose we want to \"infer\" something about\n",
    "   $$                                                                           \n",
    "   \\sum_{i=1}^r a_i \\mu_i$$\n",
    "   where $\\mu_i = \\mu+\\alpha_i$ is the mean in the $i$-th group.\n",
    "   For example:\n",
    "   $$\n",
    "   H_0:\\mu_1-\\mu_2=0 \\qquad \\text{(same as $H_0:\\alpha_1-\\alpha_2=0$)}?$$       \n",
    "- For example:\n",
    "\n",
    "    Is there a difference between below average and average groups in \n",
    "    terms of rehab time?                                                                      \n",
    "\n",
    "## Inference for linear combinations\n",
    "\n",
    "\n",
    "- We need to know $$\n",
    "   \\text{Var}\\left(\\sum_{i=1}^r a_i \\overline{Y}_{i\\cdot} \\right) = \\sigma^2 \n",
    "   \\sum_{i=1}^r \\frac{a_i^2}{n_i}.$$\n",
    "   \n",
    "- After this, the usual confidence intervals and $t$-tests apply."
   ]
  },
  {
   "cell_type": "code",
   "execution_count": 22,
   "metadata": {
    "collapsed": false
   },
   "outputs": [
    {
     "data": {
      "text/html": [
       "<div>\n",
       "<style scoped>\n",
       "    .dataframe tbody tr th:only-of-type {\n",
       "        vertical-align: middle;\n",
       "    }\n",
       "\n",
       "    .dataframe tbody tr th {\n",
       "        vertical-align: top;\n",
       "    }\n",
       "\n",
       "    .dataframe thead th {\n",
       "        text-align: right;\n",
       "    }\n",
       "</style>\n",
       "<table border=\"1\" class=\"dataframe\">\n",
       "  <thead>\n",
       "    <tr style=\"text-align: right;\">\n",
       "      <th></th>\n",
       "      <th>Intercept</th>\n",
       "      <th>C(Fitness)[T.2]</th>\n",
       "      <th>C(Fitness)[T.3]</th>\n",
       "    </tr>\n",
       "  </thead>\n",
       "  <tbody>\n",
       "    <tr>\n",
       "      <th>0</th>\n",
       "      <td>1.0</td>\n",
       "      <td>0.0</td>\n",
       "      <td>0.0</td>\n",
       "    </tr>\n",
       "    <tr>\n",
       "      <th>1</th>\n",
       "      <td>1.0</td>\n",
       "      <td>0.0</td>\n",
       "      <td>0.0</td>\n",
       "    </tr>\n",
       "    <tr>\n",
       "      <th>2</th>\n",
       "      <td>1.0</td>\n",
       "      <td>0.0</td>\n",
       "      <td>0.0</td>\n",
       "    </tr>\n",
       "    <tr>\n",
       "      <th>3</th>\n",
       "      <td>1.0</td>\n",
       "      <td>0.0</td>\n",
       "      <td>0.0</td>\n",
       "    </tr>\n",
       "    <tr>\n",
       "      <th>4</th>\n",
       "      <td>1.0</td>\n",
       "      <td>0.0</td>\n",
       "      <td>0.0</td>\n",
       "    </tr>\n",
       "    <tr>\n",
       "      <th>5</th>\n",
       "      <td>1.0</td>\n",
       "      <td>0.0</td>\n",
       "      <td>0.0</td>\n",
       "    </tr>\n",
       "  </tbody>\n",
       "</table>\n",
       "</div>"
      ],
      "text/plain": [
       "   Intercept  C(Fitness)[T.2]  C(Fitness)[T.3]\n",
       "0        1.0              0.0              0.0\n",
       "1        1.0              0.0              0.0\n",
       "2        1.0              0.0              0.0\n",
       "3        1.0              0.0              0.0\n",
       "4        1.0              0.0              0.0\n",
       "5        1.0              0.0              0.0"
      ]
     },
     "execution_count": 22,
     "metadata": {},
     "output_type": "execute_result"
    }
   ],
   "source": [
    "pd.DataFrame(rehab_res.model.exog, columns=rehab_res.model.exog_names).head(6)"
   ]
  },
  {
   "cell_type": "markdown",
   "metadata": {},
   "source": [
    "This means that the coefficient Fitness2 is the estimated\n",
    "   difference between the two groups."
   ]
  },
  {
   "cell_type": "markdown",
   "metadata": {},
   "source": [
    "## Two-way ANOVA\n",
    "\n",
    "Often, we will have more than one variable we are changing.\n",
    "\n",
    "### Example\n",
    "\n",
    "After kidney failure, we suppose that the time of stay in hospital depends on weight gain between treatments and duration of treatment. \n",
    "\n",
    "We will model the `log` number of days as a function of the other\n",
    "two factors.\n",
    "\n",
    "<table>\n",
    "<tr><td><b>Variable</b></td><td><b>Description</b></td></tr>\n",
    "<tr><td>Days</td><td>Duration of hospital stay</td></tr>\n",
    "<tr><td>Weight</td><td>How much weight is gained?</td></tr>\n",
    "<tr><td>Duration</td><td>How long under treatment for kidney problems? (two levels)</td></tr>\n",
    "</table>\n"
   ]
  },
  {
   "cell_type": "code",
   "execution_count": 23,
   "metadata": {
    "collapsed": false
   },
   "outputs": [
    {
     "data": {
      "text/html": [
       "<div>\n",
       "<style scoped>\n",
       "    .dataframe tbody tr th:only-of-type {\n",
       "        vertical-align: middle;\n",
       "    }\n",
       "\n",
       "    .dataframe tbody tr th {\n",
       "        vertical-align: top;\n",
       "    }\n",
       "\n",
       "    .dataframe thead th {\n",
       "        text-align: right;\n",
       "    }\n",
       "</style>\n",
       "<table border=\"1\" class=\"dataframe\">\n",
       "  <thead>\n",
       "    <tr style=\"text-align: right;\">\n",
       "      <th></th>\n",
       "      <th>Days</th>\n",
       "      <th>Duration</th>\n",
       "      <th>Weight</th>\n",
       "      <th>ID</th>\n",
       "      <th>logDays</th>\n",
       "    </tr>\n",
       "  </thead>\n",
       "  <tbody>\n",
       "    <tr>\n",
       "      <th>0</th>\n",
       "      <td>0.0</td>\n",
       "      <td>1</td>\n",
       "      <td>1</td>\n",
       "      <td>1</td>\n",
       "      <td>0.000000</td>\n",
       "    </tr>\n",
       "    <tr>\n",
       "      <th>1</th>\n",
       "      <td>2.0</td>\n",
       "      <td>1</td>\n",
       "      <td>1</td>\n",
       "      <td>2</td>\n",
       "      <td>1.098612</td>\n",
       "    </tr>\n",
       "    <tr>\n",
       "      <th>2</th>\n",
       "      <td>1.0</td>\n",
       "      <td>1</td>\n",
       "      <td>1</td>\n",
       "      <td>3</td>\n",
       "      <td>0.693147</td>\n",
       "    </tr>\n",
       "    <tr>\n",
       "      <th>3</th>\n",
       "      <td>3.0</td>\n",
       "      <td>1</td>\n",
       "      <td>1</td>\n",
       "      <td>4</td>\n",
       "      <td>1.386294</td>\n",
       "    </tr>\n",
       "    <tr>\n",
       "      <th>4</th>\n",
       "      <td>0.0</td>\n",
       "      <td>1</td>\n",
       "      <td>1</td>\n",
       "      <td>5</td>\n",
       "      <td>0.000000</td>\n",
       "    </tr>\n",
       "    <tr>\n",
       "      <th>5</th>\n",
       "      <td>2.0</td>\n",
       "      <td>1</td>\n",
       "      <td>1</td>\n",
       "      <td>6</td>\n",
       "      <td>1.098612</td>\n",
       "    </tr>\n",
       "  </tbody>\n",
       "</table>\n",
       "</div>"
      ],
      "text/plain": [
       "   Days  Duration  Weight  ID   logDays\n",
       "0   0.0         1       1   1  0.000000\n",
       "1   2.0         1       1   2  1.098612\n",
       "2   1.0         1       1   3  0.693147\n",
       "3   3.0         1       1   4  1.386294\n",
       "4   0.0         1       1   5  0.000000\n",
       "5   2.0         1       1   6  1.098612"
      ]
     },
     "execution_count": 23,
     "metadata": {},
     "output_type": "execute_result"
    }
   ],
   "source": [
    "filepath = os.path.join(os.path.curdir, 'data', 'kidney.csv')\n",
    "kidney_data = pd.read_csv(filepath)\n",
    "kidney_data[\"logDays\"] = np.log(kidney_data[\"Days\"] + 1)\n",
    "kidney_data.head(6)"
   ]
  },
  {
   "cell_type": "code",
   "execution_count": 24,
   "metadata": {
    "collapsed": false
   },
   "outputs": [
    {
     "data": {
      "text/plain": [
       "[0.0, 2.0, 1.0, 3.0, 0.0, ..., 15.0, 4.0, 9.0, 6.0, 1.0]\n",
       "Length: 60\n",
       "Categories (18, float64): [0.0, 1.0, 2.0, 3.0, ..., 20.0, 25.0, 27.0, 30.0]"
      ]
     },
     "execution_count": 24,
     "metadata": {},
     "output_type": "execute_result"
    }
   ],
   "source": [
    "factor_D = pd.Categorical(kidney_data.Days)\n",
    "factor_D"
   ]
  },
  {
   "cell_type": "code",
   "execution_count": 25,
   "metadata": {
    "collapsed": false
   },
   "outputs": [
    {
     "data": {
      "text/plain": [
       "[1, 1, 1, 1, 1, ..., 3, 3, 3, 3, 3]\n",
       "Length: 60\n",
       "Categories (3, int64): [1, 2, 3]"
      ]
     },
     "execution_count": 25,
     "metadata": {},
     "output_type": "execute_result"
    }
   ],
   "source": [
    "factor_W = pd.Categorical(kidney_data.Weight)\n",
    "factor_W"
   ]
  },
  {
   "cell_type": "markdown",
   "metadata": {},
   "source": [
    "### Two-way ANOVA model\n",
    "\n",
    "-   Second generalization of $t$-test: more than one grouping variable.\n",
    "\n",
    "-   Two-way ANOVA model: \n",
    "    - $r$ groups in first factor\n",
    "    - $m$ groups in second factor\n",
    "    - $n_{ij}$ in each combination of factor variables.\n",
    "\n",
    "- Model: \n",
    "    $$Y_{ijk} = \\mu + \\alpha_i + \\beta_j + (\\alpha \\beta)_{ij} +         \n",
    "    \\varepsilon_{ijk} , \\qquad \\varepsilon_{ijk} \\sim N(0, \\sigma^2).$$\n",
    "\n",
    "-   In kidney example, $r=3$ (weight gain), $m=2$ (duration of\n",
    "    treatment), $n_{ij}=10$ for all $(i,j)$.\n",
    "\n",
    "\n",
    "### Questions of interest\n",
    "\n",
    "\n",
    "Two-way ANOVA: main questions of interest\n",
    "\n",
    "-   Are there main effects for the grouping variables?\n",
    "    $$H_0:\\alpha_1 = \\dots = \\alpha_r = 0, \\qquad H_0: \\beta_1 = \\dots = \\beta_m = 0.$$\n",
    "\n",
    "-   Are there interaction effects:\n",
    "    $$H_0:(\\alpha\\beta)_{ij} = 0, 1 \\leq i \\leq r, 1 \\leq j \\leq m.$$\n",
    "\n",
    "### Interactions between factors\n",
    "\n",
    "We've already seen these interactions in the IT salary example. \n",
    "\n",
    "- An *additive model* says that the effects of the two factors\n",
    "occur additively -- such a model has no interactions.\n",
    "\n",
    "- An *interaction* is present whenever the additive model does not hold.\n",
    "\n",
    "### Interaction plot\n",
    "\n",
    "When these broken lines are not parallel, there is evidence of an interaction.\n",
    "The one thing missing from this plot are errorbars. The above broken lines\n",
    "are clearly not parallel but there is measurement error. If the\n",
    "error bars were large then we might consider there to be no interaction, otherwise we might."
   ]
  },
  {
   "cell_type": "code",
   "execution_count": 26,
   "metadata": {
    "collapsed": false
   },
   "outputs": [
    {
     "data": {
      "image/png": "[encoded data removed]",
      "text/plain": [
       "<matplotlib.figure.Figure at 0x7f29b95891d0>"
      ]
     },
     "metadata": {},
     "output_type": "display_data"
    }
   ],
   "source": [
    "# Interaction plot for factor level statistics.\n",
    "interaction_plot(x=kidney_data[\"Weight\"], \n",
    "                trace=kidney_data[\"Duration\"], \n",
    "                response=kidney_data[\"logDays\"],\n",
    "                colors=['red','blue'], \n",
    "                markers=['D','^'],\n",
    "                markersize=10, \n",
    "                ax=plt.gca())\n",
    "plt.ylabel(\"mean of logDays\")\n",
    "plt.show()"
   ]
  },
  {
   "cell_type": "markdown",
   "metadata": {},
   "source": [
    "### Parameterization\n",
    "\n",
    "-   Many constraints are needed, again for identifiability. Letâ€™s not\n",
    "    worry too much about the details\n",
    "\n",
    "-   Constraints:\n",
    "\n",
    "    -   $\\sum_{i=1}^r \\alpha_i = 0$\n",
    "\n",
    "    -   $\\sum_{j=1}^m \\beta_j = 0$\n",
    "\n",
    "    -   $\\sum_{j=1}^m (\\alpha\\beta)_{ij} = 0, 1 \\leq i \\leq r$\n",
    "\n",
    "    -   $\\sum_{i=1}^r (\\alpha\\beta)_{ij} = 0, 1 \\leq j \\leq m.$\n",
    "\n",
    "- We should convince ourselves that we know have exactly $r*m$ free parameters.\n",
    "\n",
    "### Fitting the model\n",
    "\n",
    "-   Easy to fit when $n_{ij}=n$ (balanced)\n",
    "    $$\\widehat{Y}_{ijk}= \\overline{Y}_{ij\\cdot} = \\frac{1}{n}\\sum_{k=1}^{n} Y_{ijk}.$$\n",
    "\n",
    "-   Inference for combinations\n",
    "    $$\\text{Var} \\left(\\sum_{i=1}^r \\sum_{j=1}^m a_{ij} \\overline{Y}_{ij\\cdot}\\right) = \\frac{ \\sigma^2}{n} \\cdot \\sum_{i=1}^r \\sum_{j=1}^m{a_{ij}^2}.$$\n",
    "\n",
    "-   Usual $t$-tests, confidence intervals."
   ]
  },
  {
   "cell_type": "code",
   "execution_count": 27,
   "metadata": {
    "collapsed": false
   },
   "outputs": [
    {
     "data": {
      "text/html": [
       "<table class=\"simpletable\">\n",
       "<caption>OLS Regression Results</caption>\n",
       "<tr>\n",
       "  <th>Dep. Variable:</th>         <td>logDays</td>     <th>  R-squared:         </th> <td>   0.408</td>\n",
       "</tr>\n",
       "<tr>\n",
       "  <th>Model:</th>                   <td>OLS</td>       <th>  Adj. R-squared:    </th> <td>   0.353</td>\n",
       "</tr>\n",
       "<tr>\n",
       "  <th>Method:</th>             <td>Least Squares</td>  <th>  F-statistic:       </th> <td>   7.431</td>\n",
       "</tr>\n",
       "<tr>\n",
       "  <th>Date:</th>             <td>Wed, 19 Jun 2019</td> <th>  Prob (F-statistic):</th> <td>2.30e-05</td>\n",
       "</tr>\n",
       "<tr>\n",
       "  <th>Time:</th>                 <td>21:41:25</td>     <th>  Log-Likelihood:    </th> <td> -63.314</td>\n",
       "</tr>\n",
       "<tr>\n",
       "  <th>No. Observations:</th>      <td>    60</td>      <th>  AIC:               </th> <td>   138.6</td>\n",
       "</tr>\n",
       "<tr>\n",
       "  <th>Df Residuals:</th>          <td>    54</td>      <th>  BIC:               </th> <td>   151.2</td>\n",
       "</tr>\n",
       "<tr>\n",
       "  <th>Df Model:</th>              <td>     5</td>      <th>                     </th>     <td> </td>   \n",
       "</tr>\n",
       "<tr>\n",
       "  <th>Covariance Type:</th>      <td>nonrobust</td>    <th>                     </th>     <td> </td>   \n",
       "</tr>\n",
       "</table>\n",
       "<table class=\"simpletable\">\n",
       "<tr>\n",
       "                 <td></td>                    <th>coef</th>     <th>std err</th>      <th>t</th>      <th>P>|t|</th>  <th>[0.025</th>    <th>0.975]</th>  \n",
       "</tr>\n",
       "<tr>\n",
       "  <th>Intercept</th>                       <td>    1.0212</td> <td>    0.232</td> <td>    4.407</td> <td> 0.000</td> <td>    0.557</td> <td>    1.486</td>\n",
       "</tr>\n",
       "<tr>\n",
       "  <th>C(Duration)[T.2]</th>                <td>   -0.1042</td> <td>    0.328</td> <td>   -0.318</td> <td> 0.752</td> <td>   -0.761</td> <td>    0.553</td>\n",
       "</tr>\n",
       "<tr>\n",
       "  <th>C(Weight)[T.2]</th>                  <td>    0.8439</td> <td>    0.328</td> <td>    2.575</td> <td> 0.013</td> <td>    0.187</td> <td>    1.501</td>\n",
       "</tr>\n",
       "<tr>\n",
       "  <th>C(Weight)[T.3]</th>                  <td>    1.5271</td> <td>    0.328</td> <td>    4.661</td> <td> 0.000</td> <td>    0.870</td> <td>    2.184</td>\n",
       "</tr>\n",
       "<tr>\n",
       "  <th>C(Duration)[T.2]:C(Weight)[T.2]</th> <td>   -0.4231</td> <td>    0.463</td> <td>   -0.913</td> <td> 0.365</td> <td>   -1.352</td> <td>    0.506</td>\n",
       "</tr>\n",
       "<tr>\n",
       "  <th>C(Duration)[T.2]:C(Weight)[T.3]</th> <td>   -0.4491</td> <td>    0.463</td> <td>   -0.969</td> <td> 0.337</td> <td>   -1.378</td> <td>    0.480</td>\n",
       "</tr>\n",
       "</table>\n",
       "<table class=\"simpletable\">\n",
       "<tr>\n",
       "  <th>Omnibus:</th>       <td> 7.659</td> <th>  Durbin-Watson:     </th> <td>   1.870</td>\n",
       "</tr>\n",
       "<tr>\n",
       "  <th>Prob(Omnibus):</th> <td> 0.022</td> <th>  Jarque-Bera (JB):  </th> <td>   2.856</td>\n",
       "</tr>\n",
       "<tr>\n",
       "  <th>Skew:</th>          <td>-0.168</td> <th>  Prob(JB):          </th> <td>   0.240</td>\n",
       "</tr>\n",
       "<tr>\n",
       "  <th>Kurtosis:</th>      <td> 1.985</td> <th>  Cond. No.          </th> <td>    9.77</td>\n",
       "</tr>\n",
       "</table><br/><br/>Warnings:<br/>[1] Standard Errors assume that the covariance matrix of the errors is correctly specified."
      ],
      "text/plain": [
       "<class 'statsmodels.iolib.summary.Summary'>\n",
       "\"\"\"\n",
       "                            OLS Regression Results                            \n",
       "==============================================================================\n",
       "Dep. Variable:                logDays   R-squared:                       0.408\n",
       "Model:                            OLS   Adj. R-squared:                  0.353\n",
       "Method:                 Least Squares   F-statistic:                     7.431\n",
       "Date:                Wed, 19 Jun 2019   Prob (F-statistic):           2.30e-05\n",
       "Time:                        21:41:25   Log-Likelihood:                -63.314\n",
       "No. Observations:                  60   AIC:                             138.6\n",
       "Df Residuals:                      54   BIC:                             151.2\n",
       "Df Model:                           5                                         \n",
       "Covariance Type:            nonrobust                                         \n",
       "===================================================================================================\n",
       "                                      coef    std err          t      P>|t|      [0.025      0.975]\n",
       "---------------------------------------------------------------------------------------------------\n",
       "Intercept                           1.0212      0.232      4.407      0.000       0.557       1.486\n",
       "C(Duration)[T.2]                   -0.1042      0.328     -0.318      0.752      -0.761       0.553\n",
       "C(Weight)[T.2]                      0.8439      0.328      2.575      0.013       0.187       1.501\n",
       "C(Weight)[T.3]                      1.5271      0.328      4.661      0.000       0.870       2.184\n",
       "C(Duration)[T.2]:C(Weight)[T.2]    -0.4231      0.463     -0.913      0.365      -1.352       0.506\n",
       "C(Duration)[T.2]:C(Weight)[T.3]    -0.4491      0.463     -0.969      0.337      -1.378       0.480\n",
       "==============================================================================\n",
       "Omnibus:                        7.659   Durbin-Watson:                   1.870\n",
       "Prob(Omnibus):                  0.022   Jarque-Bera (JB):                2.856\n",
       "Skew:                          -0.168   Prob(JB):                        0.240\n",
       "Kurtosis:                       1.985   Cond. No.                         9.77\n",
       "==============================================================================\n",
       "\n",
       "Warnings:\n",
       "[1] Standard Errors assume that the covariance matrix of the errors is correctly specified.\n",
       "\"\"\""
      ]
     },
     "execution_count": 27,
     "metadata": {},
     "output_type": "execute_result"
    }
   ],
   "source": [
    "# Wrong: not having contrasts in the formula\n",
    "formula_no_contrasts = 'logDays ~ C(Duration) * C(Weight)'\n",
    "kidney_res_no_contrasts = ols(formula=formula_no_contrasts, \n",
    "                             data=kidney_data).fit()\n",
    "kidney_res_no_contrasts.summary()"
   ]
  },
  {
   "cell_type": "markdown",
   "metadata": {},
   "source": [
    "### Contrasts Overview - not in the original notebook\n",
    "Source: https://www.statsmodels.org/dev/examples/notebooks/generated/contrasts.html"
   ]
  },
  {
   "cell_type": "markdown",
   "metadata": {},
   "source": [
    "\"A categorical variable of K categories, or levels, usually enters a regression as a sequence of K-1 dummy variables. This amounts to a linear hypothesis on the level means. That is, each test statistic for these variables amounts to testing whether the mean for that level is statistically significantly different from the mean of the base category. This dummy coding is called Treatment coding in R parlance, and we will follow this convention. There are, however, different coding methods that amount to different sets of linear hypotheses.\n",
    "\n",
    "In fact, the dummy coding is not technically a contrast coding. This is because the dummy variables add to one and are not functionally independent of the model's intercept. On the other hand, a set of contrasts for a categorical variable with k levels is a set of k-1 functionally independent linear combinations of the factor level means that are also independent of the sum of the dummy variables. The dummy coding isn't wrong per se. It captures all of the coefficients, but it complicates matters when the model assumes independence of the coefficients such as in ANOVA. Linear regression models do not assume independence of the coefficients and thus dummy coding is often the only coding that is taught in this context\""
   ]
  },
  {
   "cell_type": "markdown",
   "metadata": {},
   "source": [
    "#### Sum (Deviation) Coding - not in the original notebook"
   ]
  },
  {
   "cell_type": "markdown",
   "metadata": {},
   "source": [
    "\"Sum coding compares the mean of the dependent variable for a given level to the overall mean of the dependent variable over all the levels\"\n",
    "\n",
    "Source: https://www.statsmodels.org/dev/examples/notebooks/generated/contrasts.html"
   ]
  },
  {
   "cell_type": "code",
   "execution_count": 28,
   "metadata": {
    "collapsed": false
   },
   "outputs": [
    {
     "name": "stdout",
     "output_type": "stream",
     "text": [
      "[[ 1.]\n",
      " [-1.]]\n"
     ]
    }
   ],
   "source": [
    "# Correct: Having contrasts in the formula\n",
    "from patsy.contrasts import Sum\n",
    "levels=[0, 1]\n",
    "contrast = Sum().code_without_intercept(levels)\n",
    "print(contrast.matrix)"
   ]
  },
  {
   "cell_type": "code",
   "execution_count": 29,
   "metadata": {
    "collapsed": false
   },
   "outputs": [
    {
     "data": {
      "text/html": [
       "<table class=\"simpletable\">\n",
       "<caption>OLS Regression Results</caption>\n",
       "<tr>\n",
       "  <th>Dep. Variable:</th>         <td>logDays</td>     <th>  R-squared:         </th> <td>   0.408</td>\n",
       "</tr>\n",
       "<tr>\n",
       "  <th>Model:</th>                   <td>OLS</td>       <th>  Adj. R-squared:    </th> <td>   0.353</td>\n",
       "</tr>\n",
       "<tr>\n",
       "  <th>Method:</th>             <td>Least Squares</td>  <th>  F-statistic:       </th> <td>   7.431</td>\n",
       "</tr>\n",
       "<tr>\n",
       "  <th>Date:</th>             <td>Wed, 19 Jun 2019</td> <th>  Prob (F-statistic):</th> <td>2.30e-05</td>\n",
       "</tr>\n",
       "<tr>\n",
       "  <th>Time:</th>                 <td>21:41:25</td>     <th>  Log-Likelihood:    </th> <td> -63.314</td>\n",
       "</tr>\n",
       "<tr>\n",
       "  <th>No. Observations:</th>      <td>    60</td>      <th>  AIC:               </th> <td>   138.6</td>\n",
       "</tr>\n",
       "<tr>\n",
       "  <th>Df Residuals:</th>          <td>    54</td>      <th>  BIC:               </th> <td>   151.2</td>\n",
       "</tr>\n",
       "<tr>\n",
       "  <th>Df Model:</th>              <td>     5</td>      <th>                     </th>     <td> </td>   \n",
       "</tr>\n",
       "<tr>\n",
       "  <th>Covariance Type:</th>      <td>nonrobust</td>    <th>                     </th>     <td> </td>   \n",
       "</tr>\n",
       "</table>\n",
       "<table class=\"simpletable\">\n",
       "<tr>\n",
       "                      <td></td>                         <th>coef</th>     <th>std err</th>      <th>t</th>      <th>P>|t|</th>  <th>[0.025</th>    <th>0.975]</th>  \n",
       "</tr>\n",
       "<tr>\n",
       "  <th>Intercept</th>                                 <td>    1.6140</td> <td>    0.095</td> <td>   17.063</td> <td> 0.000</td> <td>    1.424</td> <td>    1.804</td>\n",
       "</tr>\n",
       "<tr>\n",
       "  <th>C(Duration, Sum)[S.1]</th>                     <td>    0.1975</td> <td>    0.095</td> <td>    2.088</td> <td> 0.042</td> <td>    0.008</td> <td>    0.387</td>\n",
       "</tr>\n",
       "<tr>\n",
       "  <th>C(Weight, Sum)[S.1]</th>                       <td>   -0.6450</td> <td>    0.134</td> <td>   -4.821</td> <td> 0.000</td> <td>   -0.913</td> <td>   -0.377</td>\n",
       "</tr>\n",
       "<tr>\n",
       "  <th>C(Weight, Sum)[S.2]</th>                       <td>   -0.0126</td> <td>    0.134</td> <td>   -0.095</td> <td> 0.925</td> <td>   -0.281</td> <td>    0.256</td>\n",
       "</tr>\n",
       "<tr>\n",
       "  <th>C(Duration, Sum)[S.1]:C(Weight, Sum)[S.1]</th> <td>   -0.1454</td> <td>    0.134</td> <td>   -1.087</td> <td> 0.282</td> <td>   -0.414</td> <td>    0.123</td>\n",
       "</tr>\n",
       "<tr>\n",
       "  <th>C(Duration, Sum)[S.1]:C(Weight, Sum)[S.2]</th> <td>    0.0662</td> <td>    0.134</td> <td>    0.495</td> <td> 0.623</td> <td>   -0.202</td> <td>    0.334</td>\n",
       "</tr>\n",
       "</table>\n",
       "<table class=\"simpletable\">\n",
       "<tr>\n",
       "  <th>Omnibus:</th>       <td> 7.659</td> <th>  Durbin-Watson:     </th> <td>   1.870</td>\n",
       "</tr>\n",
       "<tr>\n",
       "  <th>Prob(Omnibus):</th> <td> 0.022</td> <th>  Jarque-Bera (JB):  </th> <td>   2.856</td>\n",
       "</tr>\n",
       "<tr>\n",
       "  <th>Skew:</th>          <td>-0.168</td> <th>  Prob(JB):          </th> <td>   0.240</td>\n",
       "</tr>\n",
       "<tr>\n",
       "  <th>Kurtosis:</th>      <td> 1.985</td> <th>  Cond. No.          </th> <td>    1.73</td>\n",
       "</tr>\n",
       "</table><br/><br/>Warnings:<br/>[1] Standard Errors assume that the covariance matrix of the errors is correctly specified."
      ],
      "text/plain": [
       "<class 'statsmodels.iolib.summary.Summary'>\n",
       "\"\"\"\n",
       "                            OLS Regression Results                            \n",
       "==============================================================================\n",
       "Dep. Variable:                logDays   R-squared:                       0.408\n",
       "Model:                            OLS   Adj. R-squared:                  0.353\n",
       "Method:                 Least Squares   F-statistic:                     7.431\n",
       "Date:                Wed, 19 Jun 2019   Prob (F-statistic):           2.30e-05\n",
       "Time:                        21:41:25   Log-Likelihood:                -63.314\n",
       "No. Observations:                  60   AIC:                             138.6\n",
       "Df Residuals:                      54   BIC:                             151.2\n",
       "Df Model:                           5                                         \n",
       "Covariance Type:            nonrobust                                         \n",
       "=============================================================================================================\n",
       "                                                coef    std err          t      P>|t|      [0.025      0.975]\n",
       "-------------------------------------------------------------------------------------------------------------\n",
       "Intercept                                     1.6140      0.095     17.063      0.000       1.424       1.804\n",
       "C(Duration, Sum)[S.1]                         0.1975      0.095      2.088      0.042       0.008       0.387\n",
       "C(Weight, Sum)[S.1]                          -0.6450      0.134     -4.821      0.000      -0.913      -0.377\n",
       "C(Weight, Sum)[S.2]                          -0.0126      0.134     -0.095      0.925      -0.281       0.256\n",
       "C(Duration, Sum)[S.1]:C(Weight, Sum)[S.1]    -0.1454      0.134     -1.087      0.282      -0.414       0.123\n",
       "C(Duration, Sum)[S.1]:C(Weight, Sum)[S.2]     0.0662      0.134      0.495      0.623      -0.202       0.334\n",
       "==============================================================================\n",
       "Omnibus:                        7.659   Durbin-Watson:                   1.870\n",
       "Prob(Omnibus):                  0.022   Jarque-Bera (JB):                2.856\n",
       "Skew:                          -0.168   Prob(JB):                        0.240\n",
       "Kurtosis:                       1.985   Cond. No.                         1.73\n",
       "==============================================================================\n",
       "\n",
       "Warnings:\n",
       "[1] Standard Errors assume that the covariance matrix of the errors is correctly specified.\n",
       "\"\"\""
      ]
     },
     "execution_count": 29,
     "metadata": {},
     "output_type": "execute_result"
    }
   ],
   "source": [
    "formula_contrasts = \"logDays ~ C(Duration, Sum) * C(Weight, Sum)\"\n",
    "res_contrasts = ols(formula=formula_contrasts, \n",
    "                      data=kidney_data).fit()\n",
    "res_contrasts.summary()"
   ]
  },
  {
   "cell_type": "markdown",
   "metadata": {},
   "source": [
    "## Example\n",
    "\n",
    "* Suppose we are interested in comparing the mean in $(D=1,W=3)$ and $(D=2,W=2)$\n",
    "groups. The difference is\n",
    "$$\n",
    "E(\\bar{Y}_{13\\cdot}-\\bar{Y}_{22\\cdot})\n",
    "$$\n",
    "\n",
    "* By independence, its variance is \n",
    "$$\\text{Var}(\\bar{Y}_{13\\cdot}) + \\text{Var}(\\bar{Y}_{22\\cdot}) = \\frac{2 \\sigma^2}{n}.\n",
    "$$"
   ]
  },
  {
   "cell_type": "code",
   "execution_count": 30,
   "metadata": {
    "collapsed": false
   },
   "outputs": [],
   "source": [
    "new_point = dict(intercept=1, Duration=1, Weight=3)\n",
    "new_point2 = dict(intercept=1, Duration=2, Weight=2)\n",
    "new_data = pd.DataFrame([new_point, new_point2])"
   ]
  },
  {
   "cell_type": "code",
   "execution_count": 31,
   "metadata": {
    "collapsed": false
   },
   "outputs": [],
   "source": [
    "Y_hat = res_contrasts.predict(new_data)"
   ]
  },
  {
   "cell_type": "code",
   "execution_count": 32,
   "metadata": {
    "collapsed": false
   },
   "outputs": [
    {
     "name": "stdout",
     "output_type": "stream",
     "text": [
      "1.210551391615516\n"
     ]
    }
   ],
   "source": [
    "fit = Y_hat[0]-Y_hat[1]\n",
    "print(fit)"
   ]
  },
  {
   "cell_type": "code",
   "execution_count": 33,
   "metadata": {
    "collapsed": true
   },
   "outputs": [],
   "source": [
    "# another way to get prediction mean\n",
    "predictions = res_contrasts.get_prediction(exog=new_data)"
   ]
  },
  {
   "cell_type": "code",
   "execution_count": 34,
   "metadata": {
    "collapsed": false
   },
   "outputs": [
    {
     "data": {
      "text/plain": [
       "0    2.548271\n",
       "1    1.337719\n",
       "Name: mean, dtype: float64"
      ]
     },
     "execution_count": 34,
     "metadata": {},
     "output_type": "execute_result"
    }
   ],
   "source": [
    "predictions.summary_frame(alpha=0.05)[\"mean\"]"
   ]
  },
  {
   "cell_type": "code",
   "execution_count": 35,
   "metadata": {
    "collapsed": false
   },
   "outputs": [],
   "source": [
    "# residual standard error = positive square root of the mean square error\n",
    "sigma_hat = np.sqrt(res_contrasts.mse_resid)"
   ]
  },
  {
   "cell_type": "code",
   "execution_count": 36,
   "metadata": {
    "collapsed": false
   },
   "outputs": [],
   "source": [
    "# ten observations per group\n",
    "n = 10\n",
    "tppf = stats.t.ppf(1 - (0.05/2.0), res_contrasts.df_resid)\n",
    "upper = fit + tppf * np.sqrt(2 * sigma_hat**2 / n)\n",
    "lower = fit - tppf * np.sqrt(2 * sigma_hat**2 / n)"
   ]
  },
  {
   "cell_type": "code",
   "execution_count": 37,
   "metadata": {
    "collapsed": false
   },
   "outputs": [
    {
     "name": "stdout",
     "output_type": "stream",
     "text": [
      "fit   :  1.210551391615516\n",
      "lower :  0.553613296680555\n",
      "uppder:  1.8674894865504768\n"
     ]
    }
   ],
   "source": [
    "print(\"fit   : \", fit)\n",
    "print(\"lower : \", lower)\n",
    "print(\"uppder: \", upper)"
   ]
  },
  {
   "cell_type": "code",
   "execution_count": 38,
   "metadata": {
    "collapsed": false
   },
   "outputs": [
    {
     "data": {
      "text/html": [
       "<div>\n",
       "<style scoped>\n",
       "    .dataframe tbody tr th:only-of-type {\n",
       "        vertical-align: middle;\n",
       "    }\n",
       "\n",
       "    .dataframe tbody tr th {\n",
       "        vertical-align: top;\n",
       "    }\n",
       "\n",
       "    .dataframe thead th {\n",
       "        text-align: right;\n",
       "    }\n",
       "</style>\n",
       "<table border=\"1\" class=\"dataframe\">\n",
       "  <thead>\n",
       "    <tr style=\"text-align: right;\">\n",
       "      <th></th>\n",
       "      <th>Intercept</th>\n",
       "      <th>C(Duration, Sum)[S.1]</th>\n",
       "      <th>C(Weight, Sum)[S.1]</th>\n",
       "      <th>C(Weight, Sum)[S.2]</th>\n",
       "      <th>C(Duration, Sum)[S.1]:C(Weight, Sum)[S.1]</th>\n",
       "      <th>C(Duration, Sum)[S.1]:C(Weight, Sum)[S.2]</th>\n",
       "    </tr>\n",
       "  </thead>\n",
       "  <tbody>\n",
       "    <tr>\n",
       "      <th>0</th>\n",
       "      <td>1.0</td>\n",
       "      <td>1.0</td>\n",
       "      <td>1.0</td>\n",
       "      <td>0.0</td>\n",
       "      <td>1.0</td>\n",
       "      <td>0.0</td>\n",
       "    </tr>\n",
       "    <tr>\n",
       "      <th>1</th>\n",
       "      <td>1.0</td>\n",
       "      <td>1.0</td>\n",
       "      <td>1.0</td>\n",
       "      <td>0.0</td>\n",
       "      <td>1.0</td>\n",
       "      <td>0.0</td>\n",
       "    </tr>\n",
       "    <tr>\n",
       "      <th>2</th>\n",
       "      <td>1.0</td>\n",
       "      <td>1.0</td>\n",
       "      <td>1.0</td>\n",
       "      <td>0.0</td>\n",
       "      <td>1.0</td>\n",
       "      <td>0.0</td>\n",
       "    </tr>\n",
       "    <tr>\n",
       "      <th>3</th>\n",
       "      <td>1.0</td>\n",
       "      <td>1.0</td>\n",
       "      <td>1.0</td>\n",
       "      <td>0.0</td>\n",
       "      <td>1.0</td>\n",
       "      <td>0.0</td>\n",
       "    </tr>\n",
       "    <tr>\n",
       "      <th>4</th>\n",
       "      <td>1.0</td>\n",
       "      <td>1.0</td>\n",
       "      <td>1.0</td>\n",
       "      <td>0.0</td>\n",
       "      <td>1.0</td>\n",
       "      <td>0.0</td>\n",
       "    </tr>\n",
       "    <tr>\n",
       "      <th>5</th>\n",
       "      <td>1.0</td>\n",
       "      <td>1.0</td>\n",
       "      <td>1.0</td>\n",
       "      <td>0.0</td>\n",
       "      <td>1.0</td>\n",
       "      <td>0.0</td>\n",
       "    </tr>\n",
       "  </tbody>\n",
       "</table>\n",
       "</div>"
      ],
      "text/plain": [
       "   Intercept  C(Duration, Sum)[S.1]  C(Weight, Sum)[S.1]  C(Weight, Sum)[S.2]  \\\n",
       "0        1.0                    1.0                  1.0                  0.0   \n",
       "1        1.0                    1.0                  1.0                  0.0   \n",
       "2        1.0                    1.0                  1.0                  0.0   \n",
       "3        1.0                    1.0                  1.0                  0.0   \n",
       "4        1.0                    1.0                  1.0                  0.0   \n",
       "5        1.0                    1.0                  1.0                  0.0   \n",
       "\n",
       "   C(Duration, Sum)[S.1]:C(Weight, Sum)[S.1]  \\\n",
       "0                                        1.0   \n",
       "1                                        1.0   \n",
       "2                                        1.0   \n",
       "3                                        1.0   \n",
       "4                                        1.0   \n",
       "5                                        1.0   \n",
       "\n",
       "   C(Duration, Sum)[S.1]:C(Weight, Sum)[S.2]  \n",
       "0                                        0.0  \n",
       "1                                        0.0  \n",
       "2                                        0.0  \n",
       "3                                        0.0  \n",
       "4                                        0.0  \n",
       "5                                        0.0  "
      ]
     },
     "execution_count": 38,
     "metadata": {},
     "output_type": "execute_result"
    }
   ],
   "source": [
    "pd.DataFrame(res_contrasts.model.exog, columns=res_contrasts.model.exog_names).head(6)"
   ]
  },
  {
   "cell_type": "markdown",
   "metadata": {},
   "source": [
    "### Finding predicted values\n",
    "\n",
    "The most direct way to compute predicted values is using the `predict` function\n"
   ]
  },
  {
   "cell_type": "code",
   "execution_count": 39,
   "metadata": {
    "collapsed": true
   },
   "outputs": [],
   "source": [
    "# another way to get prediction mean\n",
    "new_point3 = dict(intercept=1, Duration=1, Weight=1)\n",
    "new_data2 = pd.DataFrame([new_point3])\n",
    "predictions2 = res_contrasts.get_prediction(exog=new_data2)"
   ]
  },
  {
   "cell_type": "code",
   "execution_count": 40,
   "metadata": {
    "collapsed": false
   },
   "outputs": [
    {
     "data": {
      "text/html": [
       "<div>\n",
       "<style scoped>\n",
       "    .dataframe tbody tr th:only-of-type {\n",
       "        vertical-align: middle;\n",
       "    }\n",
       "\n",
       "    .dataframe tbody tr th {\n",
       "        vertical-align: top;\n",
       "    }\n",
       "\n",
       "    .dataframe thead th {\n",
       "        text-align: right;\n",
       "    }\n",
       "</style>\n",
       "<table border=\"1\" class=\"dataframe\">\n",
       "  <thead>\n",
       "    <tr style=\"text-align: right;\">\n",
       "      <th></th>\n",
       "      <th>mean</th>\n",
       "      <th>mean_se</th>\n",
       "      <th>mean_ci_lower</th>\n",
       "      <th>mean_ci_upper</th>\n",
       "      <th>obs_ci_lower</th>\n",
       "      <th>obs_ci_upper</th>\n",
       "    </tr>\n",
       "  </thead>\n",
       "  <tbody>\n",
       "    <tr>\n",
       "      <th>0</th>\n",
       "      <td>1.021156</td>\n",
       "      <td>0.231697</td>\n",
       "      <td>0.556631</td>\n",
       "      <td>1.485681</td>\n",
       "      <td>-0.5195</td>\n",
       "      <td>2.561812</td>\n",
       "    </tr>\n",
       "  </tbody>\n",
       "</table>\n",
       "</div>"
      ],
      "text/plain": [
       "       mean   mean_se  mean_ci_lower  mean_ci_upper  obs_ci_lower  \\\n",
       "0  1.021156  0.231697       0.556631       1.485681       -0.5195   \n",
       "\n",
       "   obs_ci_upper  \n",
       "0      2.561812  "
      ]
     },
     "execution_count": 40,
     "metadata": {},
     "output_type": "execute_result"
    }
   ],
   "source": [
    "predictions2.summary_frame(alpha=0.05)\n",
    "# R produces mean_ci_lower and mean_ci_upper"
   ]
  },
  {
   "cell_type": "markdown",
   "metadata": {},
   "source": [
    "### ANOVA table\n",
    "\n",
    "In the balanced case, everything can again be summarized\n",
    "from the ANOVA table\n",
    "\n",
    "<table>\n",
    "<tr><td>Source</td><td width=\"400\">SS</td><td width=\"100\">df</td><td width=\"200\">$\\mathbb{E}(MS)$</td></tr>\n",
    "<tr><td>A</td><td>$SSA=nm\\sum_{i=1}^r  \\left(\\overline{Y}_{i\\cdot\\cdot} - \\overline{Y}_{\\cdot\\cdot\\cdot}\\right)^2$</td><td>r-1</td><td>$\\sigma^2 + nm\\frac{\\sum_{i=1}^r \\alpha_i^2}{r-1}$</td></tr>\n",
    "<tr><td>B</td><td>$SSB=nr\\sum_{j=1}^m  \\left(\\overline{Y}_{\\cdot j\\cdot} - \\overline{Y}_{\\cdot\\cdot\\cdot}\\right)^2$</td>\n",
    "<td>m-1</td><td>$\\sigma^2 + nr\\frac{\\sum_{j=1}^m \\beta_j^2}{m-1}$</td></tr>\n",
    "<tr><td>A:B</td><td>$SSAB = n\\sum_{i=1}^r \\sum_{j=1}^m  \\left(\\overline{Y}_{ij\\cdot} - \\overline{Y}_{i\\cdot\\cdot} - \\overline{Y}_{\\cdot j\\cdot} + \\overline{Y}_{\\cdot\\cdot\\cdot}\\right)^2$</td>\n",
    "<td>(m-1)(r-1)</td><td>$\\sigma^2 + n\\frac{\\sum_{i=1}^r\\sum_{j=1}^m (\\alpha\\beta)_{ij}^2}{(r-1)(m-1)}$</td></tr>\n",
    "<tr><td>Error</td><td>$SSE = \\sum_{i=1}^r \\sum_{j=1}^m \\sum_{k=1}^{n}(Y_{ijk} - \\overline{Y}_{ij\\cdot})^2$</td>\n",
    "<td>(n-1)mr</td><td>$\\sigma^2$</td></tr>\n",
    "</table>\n",
    "\n",
    "\n",
    "### Tests using the ANOVA table\n",
    "\n",
    "* Rows of the ANOVA table can be used to test various\n",
    "of the hypotheses we started out with.\n",
    "\n",
    "* For instance, we see that under\n",
    "  $H_0:(\\alpha\\beta)_{ij}=0, \\forall i,j$ the expected value of $SSAB$\n",
    "  and $SSE$ is $\\sigma^2$ â€“ use these for an $F$-test testing for an\n",
    "  interaction.\n",
    "  \n",
    "- Under $H_0$\n",
    "    $$F = \\frac{MSAB}{MSE} = \\frac{\\frac{SSAB}{(m-1)(r-1)}}{\\frac{SSE}{(n-1)mr}} \\sim F_{(m-1)(r-1), (n-1)mr}$$\n"
   ]
  },
  {
   "cell_type": "code",
   "execution_count": 41,
   "metadata": {
    "collapsed": false
   },
   "outputs": [
    {
     "data": {
      "text/html": [
       "<div>\n",
       "<style scoped>\n",
       "    .dataframe tbody tr th:only-of-type {\n",
       "        vertical-align: middle;\n",
       "    }\n",
       "\n",
       "    .dataframe tbody tr th {\n",
       "        vertical-align: top;\n",
       "    }\n",
       "\n",
       "    .dataframe thead th {\n",
       "        text-align: right;\n",
       "    }\n",
       "</style>\n",
       "<table border=\"1\" class=\"dataframe\">\n",
       "  <thead>\n",
       "    <tr style=\"text-align: right;\">\n",
       "      <th></th>\n",
       "      <th>df</th>\n",
       "      <th>sum_sq</th>\n",
       "      <th>mean_sq</th>\n",
       "      <th>F</th>\n",
       "      <th>PR(&gt;F)</th>\n",
       "    </tr>\n",
       "  </thead>\n",
       "  <tbody>\n",
       "    <tr>\n",
       "      <th>C(Duration, Sum)</th>\n",
       "      <td>1.0</td>\n",
       "      <td>2.339693</td>\n",
       "      <td>2.339693</td>\n",
       "      <td>4.358293</td>\n",
       "      <td>0.041562</td>\n",
       "    </tr>\n",
       "    <tr>\n",
       "      <th>C(Weight, Sum)</th>\n",
       "      <td>2.0</td>\n",
       "      <td>16.971291</td>\n",
       "      <td>8.485645</td>\n",
       "      <td>15.806745</td>\n",
       "      <td>0.000004</td>\n",
       "    </tr>\n",
       "    <tr>\n",
       "      <th>C(Duration, Sum):C(Weight, Sum)</th>\n",
       "      <td>2.0</td>\n",
       "      <td>0.635658</td>\n",
       "      <td>0.317829</td>\n",
       "      <td>0.592040</td>\n",
       "      <td>0.556748</td>\n",
       "    </tr>\n",
       "    <tr>\n",
       "      <th>Residual</th>\n",
       "      <td>54.0</td>\n",
       "      <td>28.989198</td>\n",
       "      <td>0.536837</td>\n",
       "      <td>NaN</td>\n",
       "      <td>NaN</td>\n",
       "    </tr>\n",
       "  </tbody>\n",
       "</table>\n",
       "</div>"
      ],
      "text/plain": [
       "                                   df     sum_sq   mean_sq          F  \\\n",
       "C(Duration, Sum)                  1.0   2.339693  2.339693   4.358293   \n",
       "C(Weight, Sum)                    2.0  16.971291  8.485645  15.806745   \n",
       "C(Duration, Sum):C(Weight, Sum)   2.0   0.635658  0.317829   0.592040   \n",
       "Residual                         54.0  28.989198  0.536837        NaN   \n",
       "\n",
       "                                   PR(>F)  \n",
       "C(Duration, Sum)                 0.041562  \n",
       "C(Weight, Sum)                   0.000004  \n",
       "C(Duration, Sum):C(Weight, Sum)  0.556748  \n",
       "Residual                              NaN  "
      ]
     },
     "execution_count": 41,
     "metadata": {},
     "output_type": "execute_result"
    }
   ],
   "source": [
    "anova_lm(res_contrasts)"
   ]
  },
  {
   "cell_type": "markdown",
   "metadata": {},
   "source": [
    "We can also test for interactions using our usual approach\n"
   ]
  },
  {
   "cell_type": "code",
   "execution_count": 42,
   "metadata": {
    "collapsed": false
   },
   "outputs": [
    {
     "name": "stderr",
     "output_type": "stream",
     "text": [
      "/home/doojung/anaconda3/lib/python3.6/site-packages/scipy/stats/_distn_infrastructure.py:875: RuntimeWarning: invalid value encountered in greater\n",
      "  return (self.a < x) & (x < self.b)\n",
      "/home/doojung/anaconda3/lib/python3.6/site-packages/scipy/stats/_distn_infrastructure.py:875: RuntimeWarning: invalid value encountered in less\n",
      "  return (self.a < x) & (x < self.b)\n",
      "/home/doojung/anaconda3/lib/python3.6/site-packages/scipy/stats/_distn_infrastructure.py:1814: RuntimeWarning: invalid value encountered in less_equal\n",
      "  cond2 = cond0 & (x <= self.a)\n"
     ]
    },
    {
     "data": {
      "text/html": [
       "<div>\n",
       "<style scoped>\n",
       "    .dataframe tbody tr th:only-of-type {\n",
       "        vertical-align: middle;\n",
       "    }\n",
       "\n",
       "    .dataframe tbody tr th {\n",
       "        vertical-align: top;\n",
       "    }\n",
       "\n",
       "    .dataframe thead th {\n",
       "        text-align: right;\n",
       "    }\n",
       "</style>\n",
       "<table border=\"1\" class=\"dataframe\">\n",
       "  <thead>\n",
       "    <tr style=\"text-align: right;\">\n",
       "      <th></th>\n",
       "      <th>df_resid</th>\n",
       "      <th>ssr</th>\n",
       "      <th>df_diff</th>\n",
       "      <th>ss_diff</th>\n",
       "      <th>F</th>\n",
       "      <th>Pr(&gt;F)</th>\n",
       "    </tr>\n",
       "  </thead>\n",
       "  <tbody>\n",
       "    <tr>\n",
       "      <th>0</th>\n",
       "      <td>56.0</td>\n",
       "      <td>29.624856</td>\n",
       "      <td>0.0</td>\n",
       "      <td>NaN</td>\n",
       "      <td>NaN</td>\n",
       "      <td>NaN</td>\n",
       "    </tr>\n",
       "    <tr>\n",
       "      <th>1</th>\n",
       "      <td>54.0</td>\n",
       "      <td>28.989198</td>\n",
       "      <td>2.0</td>\n",
       "      <td>0.635658</td>\n",
       "      <td>0.59204</td>\n",
       "      <td>0.556748</td>\n",
       "    </tr>\n",
       "  </tbody>\n",
       "</table>\n",
       "</div>"
      ],
      "text/plain": [
       "   df_resid        ssr  df_diff   ss_diff        F    Pr(>F)\n",
       "0      56.0  29.624856      0.0       NaN      NaN       NaN\n",
       "1      54.0  28.989198      2.0  0.635658  0.59204  0.556748"
      ]
     },
     "execution_count": 42,
     "metadata": {},
     "output_type": "execute_result"
    }
   ],
   "source": [
    "# one-liner as in R\n",
    "anova_lm(ols(\"logDays ~ C(Duration) + C(Weight)\", data=kidney_data).fit(), \n",
    "         res_contrasts)"
   ]
  },
  {
   "cell_type": "markdown",
   "metadata": {},
   "source": [
    "### Some caveats about `R` formulae\n",
    "\n",
    "While we see that it is straightforward to form the\n",
    "interactions test using our usual `anova` function approach, we generally\n",
    "*cannot* test for main effects by this approach. \n"
   ]
  },
  {
   "cell_type": "code",
   "execution_count": 43,
   "metadata": {
    "collapsed": false
   },
   "outputs": [
    {
     "name": "stderr",
     "output_type": "stream",
     "text": [
      "/home/doojung/anaconda3/lib/python3.6/site-packages/scipy/stats/_distn_infrastructure.py:875: RuntimeWarning: invalid value encountered in greater\n",
      "  return (self.a < x) & (x < self.b)\n",
      "/home/doojung/anaconda3/lib/python3.6/site-packages/scipy/stats/_distn_infrastructure.py:875: RuntimeWarning: invalid value encountered in less\n",
      "  return (self.a < x) & (x < self.b)\n",
      "/home/doojung/anaconda3/lib/python3.6/site-packages/scipy/stats/_distn_infrastructure.py:1814: RuntimeWarning: invalid value encountered in less_equal\n",
      "  cond2 = cond0 & (x <= self.a)\n"
     ]
    },
    {
     "data": {
      "text/html": [
       "<div>\n",
       "<style scoped>\n",
       "    .dataframe tbody tr th:only-of-type {\n",
       "        vertical-align: middle;\n",
       "    }\n",
       "\n",
       "    .dataframe tbody tr th {\n",
       "        vertical-align: top;\n",
       "    }\n",
       "\n",
       "    .dataframe thead th {\n",
       "        text-align: right;\n",
       "    }\n",
       "</style>\n",
       "<table border=\"1\" class=\"dataframe\">\n",
       "  <thead>\n",
       "    <tr style=\"text-align: right;\">\n",
       "      <th></th>\n",
       "      <th>df_resid</th>\n",
       "      <th>ssr</th>\n",
       "      <th>df_diff</th>\n",
       "      <th>ss_diff</th>\n",
       "      <th>F</th>\n",
       "      <th>Pr(&gt;F)</th>\n",
       "    </tr>\n",
       "  </thead>\n",
       "  <tbody>\n",
       "    <tr>\n",
       "      <th>0</th>\n",
       "      <td>54.0</td>\n",
       "      <td>28.989198</td>\n",
       "      <td>0.0</td>\n",
       "      <td>NaN</td>\n",
       "      <td>NaN</td>\n",
       "      <td>NaN</td>\n",
       "    </tr>\n",
       "    <tr>\n",
       "      <th>1</th>\n",
       "      <td>54.0</td>\n",
       "      <td>28.989198</td>\n",
       "      <td>-0.0</td>\n",
       "      <td>-3.552714e-15</td>\n",
       "      <td>inf</td>\n",
       "      <td>NaN</td>\n",
       "    </tr>\n",
       "  </tbody>\n",
       "</table>\n",
       "</div>"
      ],
      "text/plain": [
       "   df_resid        ssr  df_diff       ss_diff    F  Pr(>F)\n",
       "0      54.0  28.989198      0.0           NaN  NaN     NaN\n",
       "1      54.0  28.989198     -0.0 -3.552714e-15  inf     NaN"
      ]
     },
     "execution_count": 43,
     "metadata": {},
     "output_type": "execute_result"
    }
   ],
   "source": [
    "res_no_main_weight = ols(\"logDays ~ C(Duration) + C(Weight):C(Duration)\", \n",
    "                         data=kidney_data).fit()\n",
    "anova_lm(res_no_main_weight, res_contrasts)"
   ]
  },
  {
   "cell_type": "code",
   "execution_count": 44,
   "metadata": {
    "collapsed": false
   },
   "outputs": [
    {
     "name": "stderr",
     "output_type": "stream",
     "text": [
      "/home/doojung/anaconda3/lib/python3.6/site-packages/scipy/stats/_distn_infrastructure.py:875: RuntimeWarning: invalid value encountered in greater\n",
      "  return (self.a < x) & (x < self.b)\n",
      "/home/doojung/anaconda3/lib/python3.6/site-packages/scipy/stats/_distn_infrastructure.py:875: RuntimeWarning: invalid value encountered in less\n",
      "  return (self.a < x) & (x < self.b)\n",
      "/home/doojung/anaconda3/lib/python3.6/site-packages/scipy/stats/_distn_infrastructure.py:1814: RuntimeWarning: invalid value encountered in less_equal\n",
      "  cond2 = cond0 & (x <= self.a)\n"
     ]
    },
    {
     "data": {
      "text/html": [
       "<div>\n",
       "<style scoped>\n",
       "    .dataframe tbody tr th:only-of-type {\n",
       "        vertical-align: middle;\n",
       "    }\n",
       "\n",
       "    .dataframe tbody tr th {\n",
       "        vertical-align: top;\n",
       "    }\n",
       "\n",
       "    .dataframe thead th {\n",
       "        text-align: right;\n",
       "    }\n",
       "</style>\n",
       "<table border=\"1\" class=\"dataframe\">\n",
       "  <thead>\n",
       "    <tr style=\"text-align: right;\">\n",
       "      <th></th>\n",
       "      <th>df_resid</th>\n",
       "      <th>ssr</th>\n",
       "      <th>df_diff</th>\n",
       "      <th>ss_diff</th>\n",
       "      <th>F</th>\n",
       "      <th>Pr(&gt;F)</th>\n",
       "    </tr>\n",
       "  </thead>\n",
       "  <tbody>\n",
       "    <tr>\n",
       "      <th>0</th>\n",
       "      <td>58.0</td>\n",
       "      <td>46.596147</td>\n",
       "      <td>0.0</td>\n",
       "      <td>NaN</td>\n",
       "      <td>NaN</td>\n",
       "      <td>NaN</td>\n",
       "    </tr>\n",
       "    <tr>\n",
       "      <th>1</th>\n",
       "      <td>56.0</td>\n",
       "      <td>29.624856</td>\n",
       "      <td>2.0</td>\n",
       "      <td>16.971291</td>\n",
       "      <td>16.040454</td>\n",
       "      <td>0.000003</td>\n",
       "    </tr>\n",
       "  </tbody>\n",
       "</table>\n",
       "</div>"
      ],
      "text/plain": [
       "   df_resid        ssr  df_diff    ss_diff          F    Pr(>F)\n",
       "0      58.0  46.596147      0.0        NaN        NaN       NaN\n",
       "1      56.0  29.624856      2.0  16.971291  16.040454  0.000003"
      ]
     },
     "execution_count": 44,
     "metadata": {},
     "output_type": "execute_result"
    }
   ],
   "source": [
    "anova_lm(ols(\"logDays ~ C(Duration)\", data=kidney_data).fit(),\n",
    "        ols(\"logDays ~ C(Duration) + C(Weight)\", data=kidney_data).fit())"
   ]
  },
  {
   "cell_type": "markdown",
   "metadata": {},
   "source": [
    "In fact, these models are identical in terms of their *planes* or their\n",
    "*fitted values*. What has happened is that `R` has\n",
    "formed a different design matrix using its rules for `formula` objects."
   ]
  },
  {
   "cell_type": "code",
   "execution_count": 45,
   "metadata": {
    "collapsed": false
   },
   "outputs": [
    {
     "name": "stdout",
     "output_type": "stream",
     "text": [
      "9.890343599208436e-29\n"
     ]
    }
   ],
   "source": [
    "res_1 = ols(\"logDays ~ C(Duration) + C(Weight):C(Duration)\", \n",
    "            data=kidney_data).fit()\n",
    "res_2 = ols(\"logDays ~ C(Duration) + C(Weight):C(Duration) + C(Weight)\", \n",
    "            data=kidney_data).fit()\n",
    "\n",
    "print(np.sum((res_1.resid - res_2.resid)**2))\n",
    "assert (np.abs(np.sum((res_1.resid - res_2.resid)**2)) < 0.0000001)\n",
    "# no diff"
   ]
  },
  {
   "cell_type": "markdown",
   "metadata": {},
   "source": [
    "\n",
    "## ANOVA tables in general\n",
    "\n",
    "So far, we have used `anova` to compare two models. In this section,\n",
    "we produced tables for just 1 model. This also works for\n",
    "*any* regression model, though we have to be a little careful\n",
    "about interpretation.\n",
    "\n",
    "Let's revisit the job aptitude test data from last section.\n"
   ]
  },
  {
   "cell_type": "code",
   "execution_count": 46,
   "metadata": {
    "collapsed": false
   },
   "outputs": [
    {
     "name": "stderr",
     "output_type": "stream",
     "text": [
      "/home/doojung/anaconda3/lib/python3.6/site-packages/ipykernel/__main__.py:2: FutureWarning: read_table is deprecated, use read_csv instead, passing sep='\\t'.\n",
      "  from ipykernel import kernelapp as app\n"
     ]
    },
    {
     "name": "stdout",
     "output_type": "stream",
     "text": [
      "   TEST  MINORITY  JPERF\n",
      "0  0.28         1   1.83\n",
      "1  0.97         1   4.59\n",
      "2  1.25         1   2.97\n",
      "3  2.46         1   8.14\n",
      "4  2.51         1   8.00\n"
     ]
    },
    {
     "data": {
      "text/html": [
       "<table class=\"simpletable\">\n",
       "<caption>OLS Regression Results</caption>\n",
       "<tr>\n",
       "  <th>Dep. Variable:</th>          <td>JPERF</td>      <th>  R-squared:         </th> <td>   0.664</td>\n",
       "</tr>\n",
       "<tr>\n",
       "  <th>Model:</th>                   <td>OLS</td>       <th>  Adj. R-squared:    </th> <td>   0.601</td>\n",
       "</tr>\n",
       "<tr>\n",
       "  <th>Method:</th>             <td>Least Squares</td>  <th>  F-statistic:       </th> <td>   10.55</td>\n",
       "</tr>\n",
       "<tr>\n",
       "  <th>Date:</th>             <td>Wed, 19 Jun 2019</td> <th>  Prob (F-statistic):</th> <td>0.000451</td>\n",
       "</tr>\n",
       "<tr>\n",
       "  <th>Time:</th>                 <td>21:41:27</td>     <th>  Log-Likelihood:    </th> <td> -32.971</td>\n",
       "</tr>\n",
       "<tr>\n",
       "  <th>No. Observations:</th>      <td>    20</td>      <th>  AIC:               </th> <td>   73.94</td>\n",
       "</tr>\n",
       "<tr>\n",
       "  <th>Df Residuals:</th>          <td>    16</td>      <th>  BIC:               </th> <td>   77.92</td>\n",
       "</tr>\n",
       "<tr>\n",
       "  <th>Df Model:</th>              <td>     3</td>      <th>                     </th>     <td> </td>   \n",
       "</tr>\n",
       "<tr>\n",
       "  <th>Covariance Type:</th>      <td>nonrobust</td>    <th>                     </th>     <td> </td>   \n",
       "</tr>\n",
       "</table>\n",
       "<table class=\"simpletable\">\n",
       "<tr>\n",
       "            <td></td>               <th>coef</th>     <th>std err</th>      <th>t</th>      <th>P>|t|</th>  <th>[0.025</th>    <th>0.975]</th>  \n",
       "</tr>\n",
       "<tr>\n",
       "  <th>Intercept</th>             <td>    2.0103</td> <td>    1.050</td> <td>    1.914</td> <td> 0.074</td> <td>   -0.216</td> <td>    4.236</td>\n",
       "</tr>\n",
       "<tr>\n",
       "  <th>C(MINORITY)[T.1]</th>      <td>   -1.9132</td> <td>    1.540</td> <td>   -1.242</td> <td> 0.232</td> <td>   -5.179</td> <td>    1.352</td>\n",
       "</tr>\n",
       "<tr>\n",
       "  <th>TEST</th>                  <td>    1.3134</td> <td>    0.670</td> <td>    1.959</td> <td> 0.068</td> <td>   -0.108</td> <td>    2.735</td>\n",
       "</tr>\n",
       "<tr>\n",
       "  <th>TEST:C(MINORITY)[T.1]</th> <td>    1.9975</td> <td>    0.954</td> <td>    2.093</td> <td> 0.053</td> <td>   -0.026</td> <td>    4.021</td>\n",
       "</tr>\n",
       "</table>\n",
       "<table class=\"simpletable\">\n",
       "<tr>\n",
       "  <th>Omnibus:</th>       <td> 3.377</td> <th>  Durbin-Watson:     </th> <td>   3.015</td>\n",
       "</tr>\n",
       "<tr>\n",
       "  <th>Prob(Omnibus):</th> <td> 0.185</td> <th>  Jarque-Bera (JB):  </th> <td>   1.330</td>\n",
       "</tr>\n",
       "<tr>\n",
       "  <th>Skew:</th>          <td> 0.120</td> <th>  Prob(JB):          </th> <td>   0.514</td>\n",
       "</tr>\n",
       "<tr>\n",
       "  <th>Kurtosis:</th>      <td> 1.760</td> <th>  Cond. No.          </th> <td>    13.8</td>\n",
       "</tr>\n",
       "</table><br/><br/>Warnings:<br/>[1] Standard Errors assume that the covariance matrix of the errors is correctly specified."
      ],
      "text/plain": [
       "<class 'statsmodels.iolib.summary.Summary'>\n",
       "\"\"\"\n",
       "                            OLS Regression Results                            \n",
       "==============================================================================\n",
       "Dep. Variable:                  JPERF   R-squared:                       0.664\n",
       "Model:                            OLS   Adj. R-squared:                  0.601\n",
       "Method:                 Least Squares   F-statistic:                     10.55\n",
       "Date:                Wed, 19 Jun 2019   Prob (F-statistic):           0.000451\n",
       "Time:                        21:41:27   Log-Likelihood:                -32.971\n",
       "No. Observations:                  20   AIC:                             73.94\n",
       "Df Residuals:                      16   BIC:                             77.92\n",
       "Df Model:                           3                                         \n",
       "Covariance Type:            nonrobust                                         \n",
       "=========================================================================================\n",
       "                            coef    std err          t      P>|t|      [0.025      0.975]\n",
       "-----------------------------------------------------------------------------------------\n",
       "Intercept                 2.0103      1.050      1.914      0.074      -0.216       4.236\n",
       "C(MINORITY)[T.1]         -1.9132      1.540     -1.242      0.232      -5.179       1.352\n",
       "TEST                      1.3134      0.670      1.959      0.068      -0.108       2.735\n",
       "TEST:C(MINORITY)[T.1]     1.9975      0.954      2.093      0.053      -0.026       4.021\n",
       "==============================================================================\n",
       "Omnibus:                        3.377   Durbin-Watson:                   3.015\n",
       "Prob(Omnibus):                  0.185   Jarque-Bera (JB):                1.330\n",
       "Skew:                           0.120   Prob(JB):                        0.514\n",
       "Kurtosis:                       1.760   Cond. No.                         13.8\n",
       "==============================================================================\n",
       "\n",
       "Warnings:\n",
       "[1] Standard Errors assume that the covariance matrix of the errors is correctly specified.\n",
       "\"\"\""
      ]
     },
     "execution_count": 46,
     "metadata": {},
     "output_type": "execute_result"
    }
   ],
   "source": [
    "url = 'http://stats191.stanford.edu/data/jobtest.table'\n",
    "jobtest_data = pd.read_table(url)\n",
    "print(jobtest_data.head())\n",
    "jobtest_formula = \"JPERF ~ TEST:C(MINORITY) + C(MINORITY) + TEST\"\n",
    "jobtest_res = ols(jobtest_formula, data=jobtest_data).fit()\n",
    "jobtest_res.summary()"
   ]
  },
  {
   "cell_type": "markdown",
   "metadata": {},
   "source": [
    "Now, let's look at the `anova` output. We'll see the results don't match.\n",
    "\n"
   ]
  },
  {
   "cell_type": "code",
   "execution_count": 47,
   "metadata": {
    "collapsed": false
   },
   "outputs": [
    {
     "data": {
      "text/html": [
       "<div>\n",
       "<style scoped>\n",
       "    .dataframe tbody tr th:only-of-type {\n",
       "        vertical-align: middle;\n",
       "    }\n",
       "\n",
       "    .dataframe tbody tr th {\n",
       "        vertical-align: top;\n",
       "    }\n",
       "\n",
       "    .dataframe thead th {\n",
       "        text-align: right;\n",
       "    }\n",
       "</style>\n",
       "<table border=\"1\" class=\"dataframe\">\n",
       "  <thead>\n",
       "    <tr style=\"text-align: right;\">\n",
       "      <th></th>\n",
       "      <th>df</th>\n",
       "      <th>sum_sq</th>\n",
       "      <th>mean_sq</th>\n",
       "      <th>F</th>\n",
       "      <th>PR(&gt;F)</th>\n",
       "    </tr>\n",
       "  </thead>\n",
       "  <tbody>\n",
       "    <tr>\n",
       "      <th>C(MINORITY)</th>\n",
       "      <td>1.0</td>\n",
       "      <td>8.051805</td>\n",
       "      <td>8.051805</td>\n",
       "      <td>4.069719</td>\n",
       "      <td>0.060756</td>\n",
       "    </tr>\n",
       "    <tr>\n",
       "      <th>TEST</th>\n",
       "      <td>1.0</td>\n",
       "      <td>45.917904</td>\n",
       "      <td>45.917904</td>\n",
       "      <td>23.208829</td>\n",
       "      <td>0.000189</td>\n",
       "    </tr>\n",
       "    <tr>\n",
       "      <th>TEST:C(MINORITY)</th>\n",
       "      <td>1.0</td>\n",
       "      <td>8.666073</td>\n",
       "      <td>8.666073</td>\n",
       "      <td>4.380196</td>\n",
       "      <td>0.052650</td>\n",
       "    </tr>\n",
       "    <tr>\n",
       "      <th>Residual</th>\n",
       "      <td>16.0</td>\n",
       "      <td>31.655473</td>\n",
       "      <td>1.978467</td>\n",
       "      <td>NaN</td>\n",
       "      <td>NaN</td>\n",
       "    </tr>\n",
       "  </tbody>\n",
       "</table>\n",
       "</div>"
      ],
      "text/plain": [
       "                    df     sum_sq    mean_sq          F    PR(>F)\n",
       "C(MINORITY)        1.0   8.051805   8.051805   4.069719  0.060756\n",
       "TEST               1.0  45.917904  45.917904  23.208829  0.000189\n",
       "TEST:C(MINORITY)   1.0   8.666073   8.666073   4.380196  0.052650\n",
       "Residual          16.0  31.655473   1.978467        NaN       NaN"
      ]
     },
     "execution_count": 47,
     "metadata": {},
     "output_type": "execute_result"
    }
   ],
   "source": [
    "anova_lm(jobtest_res)"
   ]
  },
  {
   "cell_type": "markdown",
   "metadata": {},
   "source": [
    "The difference is how the `Sum Sq` columns is created. In the `anova` output, terms in the\n",
    "response are added sequentially.\n",
    "\n",
    "We can see this by comparing these two models directly. The `F` statistic doesn't agree\n",
    "because the `MSE` above is computed in the *fullest* model, but the `Sum of Sq` is correct.\n"
   ]
  },
  {
   "cell_type": "code",
   "execution_count": 48,
   "metadata": {
    "collapsed": false
   },
   "outputs": [
    {
     "name": "stderr",
     "output_type": "stream",
     "text": [
      "/home/doojung/anaconda3/lib/python3.6/site-packages/scipy/stats/_distn_infrastructure.py:875: RuntimeWarning: invalid value encountered in greater\n",
      "  return (self.a < x) & (x < self.b)\n",
      "/home/doojung/anaconda3/lib/python3.6/site-packages/scipy/stats/_distn_infrastructure.py:875: RuntimeWarning: invalid value encountered in less\n",
      "  return (self.a < x) & (x < self.b)\n",
      "/home/doojung/anaconda3/lib/python3.6/site-packages/scipy/stats/_distn_infrastructure.py:1814: RuntimeWarning: invalid value encountered in less_equal\n",
      "  cond2 = cond0 & (x <= self.a)\n"
     ]
    },
    {
     "data": {
      "text/html": [
       "<div>\n",
       "<style scoped>\n",
       "    .dataframe tbody tr th:only-of-type {\n",
       "        vertical-align: middle;\n",
       "    }\n",
       "\n",
       "    .dataframe tbody tr th {\n",
       "        vertical-align: top;\n",
       "    }\n",
       "\n",
       "    .dataframe thead th {\n",
       "        text-align: right;\n",
       "    }\n",
       "</style>\n",
       "<table border=\"1\" class=\"dataframe\">\n",
       "  <thead>\n",
       "    <tr style=\"text-align: right;\">\n",
       "      <th></th>\n",
       "      <th>df_resid</th>\n",
       "      <th>ssr</th>\n",
       "      <th>df_diff</th>\n",
       "      <th>ss_diff</th>\n",
       "      <th>F</th>\n",
       "      <th>Pr(&gt;F)</th>\n",
       "    </tr>\n",
       "  </thead>\n",
       "  <tbody>\n",
       "    <tr>\n",
       "      <th>0</th>\n",
       "      <td>18.0</td>\n",
       "      <td>45.568297</td>\n",
       "      <td>0.0</td>\n",
       "      <td>NaN</td>\n",
       "      <td>NaN</td>\n",
       "      <td>NaN</td>\n",
       "    </tr>\n",
       "    <tr>\n",
       "      <th>1</th>\n",
       "      <td>17.0</td>\n",
       "      <td>40.321546</td>\n",
       "      <td>1.0</td>\n",
       "      <td>5.246751</td>\n",
       "      <td>2.212087</td>\n",
       "      <td>0.155246</td>\n",
       "    </tr>\n",
       "  </tbody>\n",
       "</table>\n",
       "</div>"
      ],
      "text/plain": [
       "   df_resid        ssr  df_diff   ss_diff         F    Pr(>F)\n",
       "0      18.0  45.568297      0.0       NaN       NaN       NaN\n",
       "1      17.0  40.321546      1.0  5.246751  2.212087  0.155246"
      ]
     },
     "execution_count": 48,
     "metadata": {},
     "output_type": "execute_result"
    }
   ],
   "source": [
    "anova_lm(ols(\"JPERF ~ TEST\", data=jobtest_data).fit(),\n",
    "        ols(\"JPERF ~ TEST + C(MINORITY)\", data=jobtest_data).fit())"
   ]
  },
  {
   "cell_type": "markdown",
   "metadata": {},
   "source": [
    "Similarly, the first `Sum Sq` in `anova` can be found by:\n",
    "\n"
   ]
  },
  {
   "cell_type": "code",
   "execution_count": 49,
   "metadata": {
    "collapsed": false
   },
   "outputs": [
    {
     "name": "stderr",
     "output_type": "stream",
     "text": [
      "/home/doojung/anaconda3/lib/python3.6/site-packages/scipy/stats/_distn_infrastructure.py:875: RuntimeWarning: invalid value encountered in greater\n",
      "  return (self.a < x) & (x < self.b)\n",
      "/home/doojung/anaconda3/lib/python3.6/site-packages/scipy/stats/_distn_infrastructure.py:875: RuntimeWarning: invalid value encountered in less\n",
      "  return (self.a < x) & (x < self.b)\n",
      "/home/doojung/anaconda3/lib/python3.6/site-packages/scipy/stats/_distn_infrastructure.py:1814: RuntimeWarning: invalid value encountered in less_equal\n",
      "  cond2 = cond0 & (x <= self.a)\n"
     ]
    },
    {
     "data": {
      "text/html": [
       "<div>\n",
       "<style scoped>\n",
       "    .dataframe tbody tr th:only-of-type {\n",
       "        vertical-align: middle;\n",
       "    }\n",
       "\n",
       "    .dataframe tbody tr th {\n",
       "        vertical-align: top;\n",
       "    }\n",
       "\n",
       "    .dataframe thead th {\n",
       "        text-align: right;\n",
       "    }\n",
       "</style>\n",
       "<table border=\"1\" class=\"dataframe\">\n",
       "  <thead>\n",
       "    <tr style=\"text-align: right;\">\n",
       "      <th></th>\n",
       "      <th>df_resid</th>\n",
       "      <th>ssr</th>\n",
       "      <th>df_diff</th>\n",
       "      <th>ss_diff</th>\n",
       "      <th>F</th>\n",
       "      <th>Pr(&gt;F)</th>\n",
       "    </tr>\n",
       "  </thead>\n",
       "  <tbody>\n",
       "    <tr>\n",
       "      <th>0</th>\n",
       "      <td>19.0</td>\n",
       "      <td>94.291255</td>\n",
       "      <td>0.0</td>\n",
       "      <td>NaN</td>\n",
       "      <td>NaN</td>\n",
       "      <td>NaN</td>\n",
       "    </tr>\n",
       "    <tr>\n",
       "      <th>1</th>\n",
       "      <td>18.0</td>\n",
       "      <td>45.568297</td>\n",
       "      <td>1.0</td>\n",
       "      <td>48.722958</td>\n",
       "      <td>19.246127</td>\n",
       "      <td>0.000356</td>\n",
       "    </tr>\n",
       "  </tbody>\n",
       "</table>\n",
       "</div>"
      ],
      "text/plain": [
       "   df_resid        ssr  df_diff    ss_diff          F    Pr(>F)\n",
       "0      19.0  94.291255      0.0        NaN        NaN       NaN\n",
       "1      18.0  45.568297      1.0  48.722958  19.246127  0.000356"
      ]
     },
     "execution_count": 49,
     "metadata": {},
     "output_type": "execute_result"
    }
   ],
   "source": [
    "anova_lm(ols(\"JPERF ~ 1\", data=jobtest_data).fit(),\n",
    "        ols(\"JPERF ~ TEST\", data=jobtest_data).fit())"
   ]
  },
  {
   "cell_type": "markdown",
   "metadata": {},
   "source": [
    "There are ways to produce an *ANOVA* table whose $p$-values agree with\n",
    "`summary`. This is done by an ANOVA table that uses Type-III sum of squares.\n"
   ]
  },
  {
   "cell_type": "code",
   "execution_count": 50,
   "metadata": {
    "collapsed": false
   },
   "outputs": [
    {
     "data": {
      "text/html": [
       "<div>\n",
       "<style scoped>\n",
       "    .dataframe tbody tr th:only-of-type {\n",
       "        vertical-align: middle;\n",
       "    }\n",
       "\n",
       "    .dataframe tbody tr th {\n",
       "        vertical-align: top;\n",
       "    }\n",
       "\n",
       "    .dataframe thead th {\n",
       "        text-align: right;\n",
       "    }\n",
       "</style>\n",
       "<table border=\"1\" class=\"dataframe\">\n",
       "  <thead>\n",
       "    <tr style=\"text-align: right;\">\n",
       "      <th></th>\n",
       "      <th>sum_sq</th>\n",
       "      <th>df</th>\n",
       "      <th>F</th>\n",
       "      <th>PR(&gt;F)</th>\n",
       "    </tr>\n",
       "  </thead>\n",
       "  <tbody>\n",
       "    <tr>\n",
       "      <th>Intercept</th>\n",
       "      <td>7.250560</td>\n",
       "      <td>1.0</td>\n",
       "      <td>3.664736</td>\n",
       "      <td>0.073633</td>\n",
       "    </tr>\n",
       "    <tr>\n",
       "      <th>C(MINORITY)</th>\n",
       "      <td>3.052180</td>\n",
       "      <td>1.0</td>\n",
       "      <td>1.542699</td>\n",
       "      <td>0.232115</td>\n",
       "    </tr>\n",
       "    <tr>\n",
       "      <th>TEST</th>\n",
       "      <td>7.594407</td>\n",
       "      <td>1.0</td>\n",
       "      <td>3.838531</td>\n",
       "      <td>0.067749</td>\n",
       "    </tr>\n",
       "    <tr>\n",
       "      <th>TEST:C(MINORITY)</th>\n",
       "      <td>8.666073</td>\n",
       "      <td>1.0</td>\n",
       "      <td>4.380196</td>\n",
       "      <td>0.052650</td>\n",
       "    </tr>\n",
       "    <tr>\n",
       "      <th>Residual</th>\n",
       "      <td>31.655473</td>\n",
       "      <td>16.0</td>\n",
       "      <td>NaN</td>\n",
       "      <td>NaN</td>\n",
       "    </tr>\n",
       "  </tbody>\n",
       "</table>\n",
       "</div>"
      ],
      "text/plain": [
       "                     sum_sq    df         F    PR(>F)\n",
       "Intercept          7.250560   1.0  3.664736  0.073633\n",
       "C(MINORITY)        3.052180   1.0  1.542699  0.232115\n",
       "TEST               7.594407   1.0  3.838531  0.067749\n",
       "TEST:C(MINORITY)   8.666073   1.0  4.380196  0.052650\n",
       "Residual          31.655473  16.0       NaN       NaN"
      ]
     },
     "execution_count": 50,
     "metadata": {},
     "output_type": "execute_result"
    }
   ],
   "source": [
    "anova_lm(jobtest_res, typ=3)\n",
    "# Source: http://www.statsmodels.org/devel/generated/statsmodels.stats.anova.anova_lm.html"
   ]
  },
  {
   "cell_type": "code",
   "execution_count": 51,
   "metadata": {
    "collapsed": false
   },
   "outputs": [
    {
     "data": {
      "text/html": [
       "<table class=\"simpletable\">\n",
       "<caption>OLS Regression Results</caption>\n",
       "<tr>\n",
       "  <th>Dep. Variable:</th>          <td>JPERF</td>      <th>  R-squared:         </th> <td>   0.664</td>\n",
       "</tr>\n",
       "<tr>\n",
       "  <th>Model:</th>                   <td>OLS</td>       <th>  Adj. R-squared:    </th> <td>   0.601</td>\n",
       "</tr>\n",
       "<tr>\n",
       "  <th>Method:</th>             <td>Least Squares</td>  <th>  F-statistic:       </th> <td>   10.55</td>\n",
       "</tr>\n",
       "<tr>\n",
       "  <th>Date:</th>             <td>Wed, 19 Jun 2019</td> <th>  Prob (F-statistic):</th> <td>0.000451</td>\n",
       "</tr>\n",
       "<tr>\n",
       "  <th>Time:</th>                 <td>21:41:27</td>     <th>  Log-Likelihood:    </th> <td> -32.971</td>\n",
       "</tr>\n",
       "<tr>\n",
       "  <th>No. Observations:</th>      <td>    20</td>      <th>  AIC:               </th> <td>   73.94</td>\n",
       "</tr>\n",
       "<tr>\n",
       "  <th>Df Residuals:</th>          <td>    16</td>      <th>  BIC:               </th> <td>   77.92</td>\n",
       "</tr>\n",
       "<tr>\n",
       "  <th>Df Model:</th>              <td>     3</td>      <th>                     </th>     <td> </td>   \n",
       "</tr>\n",
       "<tr>\n",
       "  <th>Covariance Type:</th>      <td>nonrobust</td>    <th>                     </th>     <td> </td>   \n",
       "</tr>\n",
       "</table>\n",
       "<table class=\"simpletable\">\n",
       "<tr>\n",
       "            <td></td>               <th>coef</th>     <th>std err</th>      <th>t</th>      <th>P>|t|</th>  <th>[0.025</th>    <th>0.975]</th>  \n",
       "</tr>\n",
       "<tr>\n",
       "  <th>Intercept</th>             <td>    2.0103</td> <td>    1.050</td> <td>    1.914</td> <td> 0.074</td> <td>   -0.216</td> <td>    4.236</td>\n",
       "</tr>\n",
       "<tr>\n",
       "  <th>C(MINORITY)[T.1]</th>      <td>   -1.9132</td> <td>    1.540</td> <td>   -1.242</td> <td> 0.232</td> <td>   -5.179</td> <td>    1.352</td>\n",
       "</tr>\n",
       "<tr>\n",
       "  <th>TEST</th>                  <td>    1.3134</td> <td>    0.670</td> <td>    1.959</td> <td> 0.068</td> <td>   -0.108</td> <td>    2.735</td>\n",
       "</tr>\n",
       "<tr>\n",
       "  <th>TEST:C(MINORITY)[T.1]</th> <td>    1.9975</td> <td>    0.954</td> <td>    2.093</td> <td> 0.053</td> <td>   -0.026</td> <td>    4.021</td>\n",
       "</tr>\n",
       "</table>\n",
       "<table class=\"simpletable\">\n",
       "<tr>\n",
       "  <th>Omnibus:</th>       <td> 3.377</td> <th>  Durbin-Watson:     </th> <td>   3.015</td>\n",
       "</tr>\n",
       "<tr>\n",
       "  <th>Prob(Omnibus):</th> <td> 0.185</td> <th>  Jarque-Bera (JB):  </th> <td>   1.330</td>\n",
       "</tr>\n",
       "<tr>\n",
       "  <th>Skew:</th>          <td> 0.120</td> <th>  Prob(JB):          </th> <td>   0.514</td>\n",
       "</tr>\n",
       "<tr>\n",
       "  <th>Kurtosis:</th>      <td> 1.760</td> <th>  Cond. No.          </th> <td>    13.8</td>\n",
       "</tr>\n",
       "</table><br/><br/>Warnings:<br/>[1] Standard Errors assume that the covariance matrix of the errors is correctly specified."
      ],
      "text/plain": [
       "<class 'statsmodels.iolib.summary.Summary'>\n",
       "\"\"\"\n",
       "                            OLS Regression Results                            \n",
       "==============================================================================\n",
       "Dep. Variable:                  JPERF   R-squared:                       0.664\n",
       "Model:                            OLS   Adj. R-squared:                  0.601\n",
       "Method:                 Least Squares   F-statistic:                     10.55\n",
       "Date:                Wed, 19 Jun 2019   Prob (F-statistic):           0.000451\n",
       "Time:                        21:41:27   Log-Likelihood:                -32.971\n",
       "No. Observations:                  20   AIC:                             73.94\n",
       "Df Residuals:                      16   BIC:                             77.92\n",
       "Df Model:                           3                                         \n",
       "Covariance Type:            nonrobust                                         \n",
       "=========================================================================================\n",
       "                            coef    std err          t      P>|t|      [0.025      0.975]\n",
       "-----------------------------------------------------------------------------------------\n",
       "Intercept                 2.0103      1.050      1.914      0.074      -0.216       4.236\n",
       "C(MINORITY)[T.1]         -1.9132      1.540     -1.242      0.232      -5.179       1.352\n",
       "TEST                      1.3134      0.670      1.959      0.068      -0.108       2.735\n",
       "TEST:C(MINORITY)[T.1]     1.9975      0.954      2.093      0.053      -0.026       4.021\n",
       "==============================================================================\n",
       "Omnibus:                        3.377   Durbin-Watson:                   3.015\n",
       "Prob(Omnibus):                  0.185   Jarque-Bera (JB):                1.330\n",
       "Skew:                           0.120   Prob(JB):                        0.514\n",
       "Kurtosis:                       1.760   Cond. No.                         13.8\n",
       "==============================================================================\n",
       "\n",
       "Warnings:\n",
       "[1] Standard Errors assume that the covariance matrix of the errors is correctly specified.\n",
       "\"\"\""
      ]
     },
     "execution_count": 51,
     "metadata": {},
     "output_type": "execute_result"
    }
   ],
   "source": [
    "jobtest_res.summary()"
   ]
  },
  {
   "cell_type": "markdown",
   "metadata": {},
   "source": [
    "# Fixed and random effects\n",
    "\n",
    "-   In kidney & rehab examples, the categorical variables are\n",
    "    well-defined categories: below average fitness, long duration, etc.\n",
    "\n",
    "-   In some designs, the categorical variable is \"subject\".\n",
    "\n",
    "-   Simplest example: repeated measures, where more than one (identical)\n",
    "    measurement is taken on the same individual.\n",
    "\n",
    "-   In this case, the \"group\" effect $\\alpha_i$ is best thought of as\n",
    "    random because we only sample a subset of the entire population.\n",
    "\n",
    "\n",
    "\n",
    "### When to use random effects?\n",
    "\n",
    "-   A \"group\" effect is random if we can think of the levels we observe\n",
    "    in that group to be samples from a larger population.\n",
    "\n",
    "-   Example: if collecting data from different medical centers, \"center\"\n",
    "    might be thought of as random.\n",
    "\n",
    "-   Example: if surveying students on different campuses, \"campus\" may\n",
    "    be a random effect.\n",
    "\n",
    "\n",
    "\n",
    "### Example: sodium content in beer\n",
    "\n",
    "-   How much sodium is there in North American beer? How much does this\n",
    "    vary by brand?\n",
    "\n",
    "-   Observations: for 6 brands of beer, we recorded the sodium content\n",
    "    of 8 12 ounce bottles.\n",
    "\n",
    "-   Questions of interest: what is the â€œgrand meanâ€ sodium content? How\n",
    "    much variability is there from brand to brand?\n",
    "\n",
    "-   â€œIndividualsâ€ in this case are brands, repeated measures are the 8\n",
    "    bottles.\n"
   ]
  },
  {
   "cell_type": "code",
   "execution_count": 52,
   "metadata": {
    "collapsed": false
   },
   "outputs": [
    {
     "data": {
      "text/html": [
       "<div>\n",
       "<style scoped>\n",
       "    .dataframe tbody tr th:only-of-type {\n",
       "        vertical-align: middle;\n",
       "    }\n",
       "\n",
       "    .dataframe tbody tr th {\n",
       "        vertical-align: top;\n",
       "    }\n",
       "\n",
       "    .dataframe thead th {\n",
       "        text-align: right;\n",
       "    }\n",
       "</style>\n",
       "<table border=\"1\" class=\"dataframe\">\n",
       "  <thead>\n",
       "    <tr style=\"text-align: right;\">\n",
       "      <th></th>\n",
       "      <th>sodium</th>\n",
       "      <th>brand</th>\n",
       "      <th>bottle</th>\n",
       "    </tr>\n",
       "  </thead>\n",
       "  <tbody>\n",
       "    <tr>\n",
       "      <th>0</th>\n",
       "      <td>24.4</td>\n",
       "      <td>1</td>\n",
       "      <td>1</td>\n",
       "    </tr>\n",
       "    <tr>\n",
       "      <th>1</th>\n",
       "      <td>22.6</td>\n",
       "      <td>1</td>\n",
       "      <td>2</td>\n",
       "    </tr>\n",
       "    <tr>\n",
       "      <th>2</th>\n",
       "      <td>23.8</td>\n",
       "      <td>1</td>\n",
       "      <td>3</td>\n",
       "    </tr>\n",
       "    <tr>\n",
       "      <th>3</th>\n",
       "      <td>22.0</td>\n",
       "      <td>1</td>\n",
       "      <td>4</td>\n",
       "    </tr>\n",
       "    <tr>\n",
       "      <th>4</th>\n",
       "      <td>24.5</td>\n",
       "      <td>1</td>\n",
       "      <td>5</td>\n",
       "    </tr>\n",
       "    <tr>\n",
       "      <th>5</th>\n",
       "      <td>22.3</td>\n",
       "      <td>1</td>\n",
       "      <td>6</td>\n",
       "    </tr>\n",
       "  </tbody>\n",
       "</table>\n",
       "</div>"
      ],
      "text/plain": [
       "   sodium  brand  bottle\n",
       "0    24.4      1       1\n",
       "1    22.6      1       2\n",
       "2    23.8      1       3\n",
       "3    22.0      1       4\n",
       "4    24.5      1       5\n",
       "5    22.3      1       6"
      ]
     },
     "execution_count": 52,
     "metadata": {},
     "output_type": "execute_result"
    }
   ],
   "source": [
    "filepath = os.path.join(os.path.curdir, 'data', 'sodium.csv')\n",
    "sodium_data = pd.read_csv(filepath)\n",
    "sodium_data.head(6)"
   ]
  },
  {
   "cell_type": "code",
   "execution_count": 53,
   "metadata": {
    "collapsed": false
   },
   "outputs": [
    {
     "data": {
      "text/html": [
       "<div>\n",
       "<style scoped>\n",
       "    .dataframe tbody tr th:only-of-type {\n",
       "        vertical-align: middle;\n",
       "    }\n",
       "\n",
       "    .dataframe tbody tr th {\n",
       "        vertical-align: top;\n",
       "    }\n",
       "\n",
       "    .dataframe thead th {\n",
       "        text-align: right;\n",
       "    }\n",
       "</style>\n",
       "<table border=\"1\" class=\"dataframe\">\n",
       "  <thead>\n",
       "    <tr style=\"text-align: right;\">\n",
       "      <th></th>\n",
       "      <th>df</th>\n",
       "      <th>sum_sq</th>\n",
       "      <th>mean_sq</th>\n",
       "      <th>F</th>\n",
       "      <th>PR(&gt;F)</th>\n",
       "    </tr>\n",
       "  </thead>\n",
       "  <tbody>\n",
       "    <tr>\n",
       "      <th>C(brand)</th>\n",
       "      <td>5.0</td>\n",
       "      <td>854.529167</td>\n",
       "      <td>170.905833</td>\n",
       "      <td>238.711174</td>\n",
       "      <td>1.083746e-29</td>\n",
       "    </tr>\n",
       "    <tr>\n",
       "      <th>Residual</th>\n",
       "      <td>42.0</td>\n",
       "      <td>30.070000</td>\n",
       "      <td>0.715952</td>\n",
       "      <td>NaN</td>\n",
       "      <td>NaN</td>\n",
       "    </tr>\n",
       "  </tbody>\n",
       "</table>\n",
       "</div>"
      ],
      "text/plain": [
       "            df      sum_sq     mean_sq           F        PR(>F)\n",
       "C(brand)   5.0  854.529167  170.905833  238.711174  1.083746e-29\n",
       "Residual  42.0   30.070000    0.715952         NaN           NaN"
      ]
     },
     "execution_count": 53,
     "metadata": {},
     "output_type": "execute_result"
    }
   ],
   "source": [
    "anova_lm(ols(\"sodium ~ C(brand)\", data=sodium_data).fit())"
   ]
  },
  {
   "cell_type": "code",
   "execution_count": 54,
   "metadata": {
    "collapsed": false
   },
   "outputs": [
    {
     "data": {
      "text/plain": [
       "[1, 1, 1, 1, 1, ..., 6, 6, 6, 6, 6]\n",
       "Length: 48\n",
       "Categories (6, int64): [1, 2, 3, 4, 5, 6]"
      ]
     },
     "execution_count": 54,
     "metadata": {},
     "output_type": "execute_result"
    }
   ],
   "source": [
    "factor_brand = pd.Categorical(sodium_data.brand)\n",
    "factor_brand"
   ]
  },
  {
   "cell_type": "markdown",
   "metadata": {},
   "source": [
    "### One-way random effects model\n",
    "\n",
    "-   Assuming that cell-sizes are the same, i.e. equal observations for\n",
    "    each â€œsubjectâ€ (brand of beer).\n",
    "\n",
    "-   Observations\n",
    "    $$Y_{ij} \\sim \\mu+ \\alpha_i + \\varepsilon_{ij}, 1 \\leq i \\leq r, 1 \\leq j \\leq n$$\n",
    "\n",
    "-   $\\varepsilon_{ij} \\sim N(0, \\sigma^2_{\\epsilon}), 1 \\leq i \\leq r, 1 \\leq j \\leq n$\n",
    "\n",
    "-   $\\alpha_i \\sim N(0, \\sigma^2_{\\alpha}), 1 \\leq  i \\leq r.$\n",
    "\n",
    "-   Parameters:\n",
    "\n",
    "    -   $\\mu$ is the population mean;\n",
    "\n",
    "    -   $\\sigma^2_{\\epsilon}$ is the measurement variance (i.e. how variable are\n",
    "        the readings from the machine that reads the sodium content?);\n",
    "\n",
    "    -   $\\sigma^2_{\\alpha}$ is the population variance (i.e. how variable\n",
    "\tis the sodium content of beer across brands).\n",
    "\n",
    "### Modelling the variance\n",
    "\n",
    "- In random effects model, the observations are no longer independent (even if $\\varepsilon$'s are independent\n",
    "   $$                                                                                                                                         \n",
    "   {\\rm Cov}(Y_{ij}, Y_{i'j'}) = \\left(\\sigma^2_{\\alpha}  + \\sigma^2_{\\epsilon} \\delta_{j,j'} \\right) \\delta_{i,i'}.$$\n",
    "\n",
    "- In more complicated models, this makes ``maximum likelihood estimation'' more complicated: least squares is no longer the best solution. \n",
    "\n",
    "- **It's no longer just a plane!**\n",
    "\n",
    "\n",
    "- This model has a very simple model for the *mean*, it just has a slightly\n",
    "more complex model for the *variance*.\n",
    "\n",
    "- Shortly we'll see other more complex models of the variance:\n",
    "    - Weighted Least Squares\n",
    "    - Correlated Errors\n",
    "\n",
    "### Fitting the model\n",
    "\n",
    "The *MLE (Maximum Likelihood Estimator)* is found by minimizing\n",
    "$$\n",
    "\\begin{aligned}\n",
    "-2 \\log \\ell (\\mu, \\sigma^2_{\\epsilon}, \\sigma^2_{\\alpha}|Y) &= \\sum_{i=1}^r \\biggl[ (Y_i - \\mu)^T (\\sigma^2_{\\epsilon} I_{n_i \\times n_i} + \\sigma^2_{\\alpha} 11^T)^{-1} (Y_i - \\mu) \\\\\n",
    "& \\qquad + \\log \\left( \\det(\\sigma^2_{\\epsilon} I_{n_i \\times n_i} + \\sigma^2_{\\alpha} 11^T) \\right) \\biggr].\n",
    "\\end{aligned}\n",
    "$$\n",
    "\n",
    "THe function $\\ell(\\mu, \\sigma^2_{\\epsilon}, \\sigma^2_{\\alpha})$ is called the *likelihood function*.\n",
    "\n",
    "### Fitting the model in balanced design\n",
    "\n",
    "Only one parameter in the mean function $\\mu.$\n",
    "- When cell sizes are the same (balanced),\n",
    "   $$                                                                           \n",
    "   \\widehat{\\mu} = \\overline{Y}_{\\cdot \\cdot} = \\frac{1}{nr} \\sum_{i,j} Y_{ij}.$$\n",
    "Unbalanced models: use numerical optimizer.\n",
    "\n",
    "- This also changes estimates of $\\sigma^2_{\\epsilon}$ -- see ANOVA table. We\n",
    " might guess that $df=nr-1$ and\n",
    "   $$                                                                           \n",
    "   \\widehat{\\sigma}^2 = \\frac{1}{nr-1} \\sum_{i,j} (Y_{ij} - \\overline{Y}_{\\cdot\\cdot})^2.$$\n",
    "   **This is not correct.**\n",
    "\n",
    "### ANOVA table\n",
    "\n",
    "Again, the information needed can be summarized in an\n",
    "ANOVA table.\n",
    "\n",
    "<table>\n",
    "<tr><td>Source</td><td width=\"300\">SS</td><td width=\"100\">df</td><td width=\"100\">$\\mathbb{E}(MS)$</td></tr>\n",
    "<tr><td>Treatment</td><td>$SSTR=\\sum_{i=1}^r n_i \\left(\\overline{Y}_{i\\cdot} - \\overline{Y}_{\\cdot\\cdot}\\right)^2$</td><td>r-1</td><td>$\\sigma^2_{\\epsilon} + n \\sigma^2_{\\alpha}$</td></tr>\n",
    "<tr><td>Error</td><td>$SSE=\\sum_{i=1}^r \\sum_{j=1}^{n_i}(Y_{ij} - \\overline{Y}_{i\\cdot})^2$</td>\n",
    "<td>$\\sum_{i=1}^r (n_i - 1)$</td><td>$\\sigma^2_{\\epsilon}$</td></tr>\n",
    "</table>\n",
    "\n",
    "- ANOVA table is still useful to setup tests: the same $F$ statistics for fixed or random will work here.\n",
    "\n",
    "- Test for random effect: $H_0:\\sigma^2_{\\alpha}=0$ based on\n",
    "   $$\n",
    "   F = \\frac{MSTR}{MSE} \\sim F_{r-1, (n-1)r} \\qquad \\text{under $H_0$}.$$\n",
    "\n",
    "\n",
    "### Degrees of freedom\n",
    "\n",
    "- Why $r-1$ degrees of freedom?\n",
    " \n",
    "- Imagine we could record an infinite number of observations for each individual, so that $\\overline{Y}_{i\\cdot} \\rightarrow \\mu + \\alpha_i$.\n",
    "\n",
    "- To learn anything about $\\mu_{\\cdot}$ we still only have $r$ observations\n",
    "   $(\\mu_1, \\dots, \\mu_r)$.\n",
    "\n",
    "- Sampling more within an individual cannot narrow the CI for $\\mu$.\n",
    "\n",
    "\n",
    "### Inference for $\\mu$\n",
    "\n",
    "- Easy to check that\n",
    "   $$\n",
    "   \\begin{aligned}\n",
    "   E(\\overline{Y}_{\\cdot \\cdot}) &= \\mu   \\\\\n",
    "   \\text{Var}(\\overline{Y}_{\\cdot \\cdot}) &= \\frac{\\sigma^2_{\\epsilon} + n\\sigma^2_{\\alpha}}{rn}.\n",
    "   \\end{aligned}\n",
    "   $$\n",
    "\n",
    "- To come up with a $t$ statistic that we can use for test, CIs, we\n",
    "   need to find an estimate of $\\text{Var}(\\overline{Y}_{\\cdot \\cdot})$.\n",
    "  \n",
    "  \n",
    "- ANOVA table says $E(MSTR) = n\\sigma^2_{\\alpha}+\\sigma^2_{\\epsilon}$ which suggests\n",
    "   $$                                                                           \n",
    "   \\frac{\\overline{Y}_{\\cdot \\cdot} - \\mu_{\\cdot}}{\\sqrt{\\frac{MSTR}{rn}}} \\sim t_{r-1}.$$\n",
    "\n",
    "### Estimating $\\sigma^2_{\\alpha}$\n",
    "\n",
    "We have seen estimates of $\\mu$ and $\\sigma^2_{\\epsilon}$. Only one parameter\n",
    "remains.\n",
    "\n",
    "- Based on the ANOVA table, we see that\n",
    "$$\n",
    "\\sigma^2_{\\alpha} =  \\frac{1}{n}(\\mathbb{E}(MSTR) - \\mathbb{E}(MSE)).\n",
    "$$\n",
    "\n",
    "- This suggests the estimate\n",
    "$$\n",
    "\\hat{\\sigma^2}_{\\alpha} = \\frac{1}{n} (MSTR-MSE).\n",
    "$$\n",
    "\n",
    "- However, this estimate can be negative!\n",
    "\n",
    "- Many such computational difficulties arise in random (and mixed) effects models.\n",
    "\n",
    "\n",
    "\n",
    "\n",
    "## Mixed effects model\n",
    "\n",
    "- The one-way random effects ANOVA is a special case of a so-called *mixed effects* model:\n",
    "$$\n",
    "\\begin{aligned}\n",
    "Y_{n \\times 1} &= X_{n \\times p}\\beta_{p \\times 1} + Z_{n \\times q}\\gamma_{q \\times 1} \\\\\n",
    "\\gamma &\\sim N(0, \\Sigma).\n",
    "\\end{aligned}\n",
    "$$\n",
    "\n",
    "- Various models also consider restrictions on $\\Sigma$ (e.g. diagonal, unrestricted, block diagonal, etc.)\n",
    "\n",
    "\n",
    "- Our multiple linear regression model is a (very simple) mixed-effects model with $q=n$, \n",
    "$$\n",
    "\\begin{aligned}\n",
    "Z &= I_{n \\times n} \\\\\n",
    "\\Sigma &= \\sigma^2 I_{n \\times n}.\n",
    "\\end{aligned}\n",
    "$$\n",
    "\n",
    "## Using mixed effects models: `lme`\n"
   ]
  },
  {
   "cell_type": "markdown",
   "metadata": {},
   "source": [
    "Source: http://www.statsmodels.org/stable/mixed_linear.html  \n",
    "Example: http://www.statsmodels.org/stable/examples/notebooks/generated/mixed_lm_example.html  \n",
    "MixedLM.from_formula: http://www.statsmodels.org/devel/generated/statsmodels.regression.mixed_linear_model.MixedLM.from_formula.html"
   ]
  },
  {
   "cell_type": "code",
   "execution_count": 55,
   "metadata": {
    "collapsed": true
   },
   "outputs": [],
   "source": [
    "from statsmodels.formula.api import mixedlm"
   ]
  },
  {
   "cell_type": "markdown",
   "metadata": {},
   "source": [
    "Not in the original notebook ..."
   ]
  },
  {
   "cell_type": "code",
   "execution_count": 56,
   "metadata": {
    "collapsed": false
   },
   "outputs": [
    {
     "data": {
      "text/html": [
       "<table class=\"simpletable\">\n",
       "<tr>\n",
       "       <td>Model:</td>       <td>MixedLM</td> <td>Dependent Variable:</td>  <td>sodium</td> \n",
       "</tr>\n",
       "<tr>\n",
       "  <td>No. Observations:</td>   <td>48</td>          <td>Method:</td>         <td>REML</td>  \n",
       "</tr>\n",
       "<tr>\n",
       "     <td>No. Groups:</td>       <td>6</td>          <td>Scale:</td>         <td>0.7160</td> \n",
       "</tr>\n",
       "<tr>\n",
       "  <td>Min. group size:</td>     <td>8</td>        <td>Likelihood:</td>     <td>-58.8168</td>\n",
       "</tr>\n",
       "<tr>\n",
       "  <td>Max. group size:</td>     <td>8</td>        <td>Converged:</td>         <td>Yes</td>  \n",
       "</tr>\n",
       "<tr>\n",
       "  <td>Mean group size:</td>    <td>8.0</td>            <td></td>               <td></td>    \n",
       "</tr>\n",
       "</table>\n",
       "<table class=\"simpletable\">\n",
       "<tr>\n",
       "        <td></td>         <th>Coef.</th>    <th>Std.Err.</th>      <th>z</th>    <th>P>|z|</th> <th>[0.025</th>  <th>0.975]</th> \n",
       "</tr>\n",
       "<tr>\n",
       "  <th>Intercept</th>     <td>23.638</td>      <td>0.897</td>    <td>26.338</td>  <td>0.000</td> <td>21.878</td>  <td>25.397</td> \n",
       "</tr>\n",
       "<tr>\n",
       "  <th>C(brand)[T.2]</th> <td>-12.963</td>     <td>1.269</td>    <td>-10.213</td> <td>0.000</td> <td>-15.450</td> <td>-10.475</td>\n",
       "</tr>\n",
       "<tr>\n",
       "  <th>C(brand)[T.3]</th> <td>-4.300</td>      <td>1.269</td>    <td>-3.388</td>  <td>0.001</td> <td>-6.788</td>  <td>-1.812</td> \n",
       "</tr>\n",
       "<tr>\n",
       "  <th>C(brand)[T.4]</th> <td>-6.138</td>      <td>1.269</td>    <td>-4.836</td>  <td>0.000</td> <td>-8.625</td>  <td>-3.650</td> \n",
       "</tr>\n",
       "<tr>\n",
       "  <th>C(brand)[T.5]</th> <td>-9.425</td>      <td>1.269</td>    <td>-7.426</td>  <td>0.000</td> <td>-11.913</td> <td>-6.937</td> \n",
       "</tr>\n",
       "<tr>\n",
       "  <th>C(brand)[T.6]</th> <td>-3.225</td>      <td>1.269</td>    <td>-2.541</td>  <td>0.011</td> <td>-5.713</td>  <td>-0.737</td> \n",
       "</tr>\n",
       "<tr>\n",
       "  <th>Group Var</th>      <td>0.716</td>  <td>28391736.809</td>    <td></td>       <td></td>       <td></td>        <td></td>    \n",
       "</tr>\n",
       "</table>"
      ],
      "text/plain": [
       "<class 'statsmodels.iolib.summary2.Summary'>\n",
       "\"\"\"\n",
       "             Mixed Linear Model Regression Results\n",
       "================================================================\n",
       "Model:                MixedLM    Dependent Variable:    sodium  \n",
       "No. Observations:     48         Method:                REML    \n",
       "No. Groups:           6          Scale:                 0.7160  \n",
       "Min. group size:      8          Likelihood:            -58.8168\n",
       "Max. group size:      8          Converged:             Yes     \n",
       "Mean group size:      8.0                                       \n",
       "----------------------------------------------------------------\n",
       "               Coef.    Std.Err.      z    P>|z|  [0.025  0.975]\n",
       "----------------------------------------------------------------\n",
       "Intercept      23.638        0.897  26.338 0.000  21.878  25.397\n",
       "C(brand)[T.2] -12.963        1.269 -10.213 0.000 -15.450 -10.475\n",
       "C(brand)[T.3]  -4.300        1.269  -3.388 0.001  -6.788  -1.812\n",
       "C(brand)[T.4]  -6.138        1.269  -4.836 0.000  -8.625  -3.650\n",
       "C(brand)[T.5]  -9.425        1.269  -7.426 0.000 -11.913  -6.937\n",
       "C(brand)[T.6]  -3.225        1.269  -2.541 0.011  -5.713  -0.737\n",
       "Group Var       0.716 28391736.809                              \n",
       "================================================================\n",
       "\n",
       "\"\"\""
      ]
     },
     "execution_count": 56,
     "metadata": {},
     "output_type": "execute_result"
    }
   ],
   "source": [
    "# First we fit a model that expresses \n",
    "# the mean sodium as a linear function of brand, \n",
    "# with a random intercept for each brand. \n",
    "sodium_mixedlm = mixedlm(\"sodium ~ C(brand)\", \n",
    "                         data=sodium_data,\n",
    "                         groups=sodium_data[\"brand\"]).fit()\n",
    "sodium_mixedlm.summary()"
   ]
  },
  {
   "cell_type": "markdown",
   "metadata": {},
   "source": [
    "in the original R notebook, but not generating exactly same result..."
   ]
  },
  {
   "cell_type": "code",
   "execution_count": 57,
   "metadata": {
    "collapsed": false
   },
   "outputs": [
    {
     "data": {
      "text/html": [
       "<table class=\"simpletable\">\n",
       "<tr>\n",
       "       <td>Model:</td>       <td>MixedLM</td> <td>Dependent Variable:</td>  <td>sodium</td> \n",
       "</tr>\n",
       "<tr>\n",
       "  <td>No. Observations:</td>   <td>48</td>          <td>Method:</td>         <td>REML</td>  \n",
       "</tr>\n",
       "<tr>\n",
       "     <td>No. Groups:</td>       <td>6</td>          <td>Scale:</td>         <td>0.7160</td> \n",
       "</tr>\n",
       "<tr>\n",
       "  <td>Min. group size:</td>     <td>8</td>        <td>Likelihood:</td>     <td>-74.4615</td>\n",
       "</tr>\n",
       "<tr>\n",
       "  <td>Max. group size:</td>     <td>8</td>        <td>Converged:</td>         <td>Yes</td>  \n",
       "</tr>\n",
       "<tr>\n",
       "  <td>Mean group size:</td>    <td>8.0</td>            <td></td>               <td></td>    \n",
       "</tr>\n",
       "</table>\n",
       "<table class=\"simpletable\">\n",
       "<tr>\n",
       "      <td></td>       <th>Coef.</th> <th>Std.Err.</th>   <th>z</th>   <th>P>|z|</th> <th>[0.025</th> <th>0.975]</th>\n",
       "</tr>\n",
       "<tr>\n",
       "  <th>Intercept</th> <td>17.629</td>   <td>1.887</td>  <td>9.344</td> <td>0.000</td> <td>13.931</td> <td>21.327</td>\n",
       "</tr>\n",
       "<tr>\n",
       "  <th>Group Var</th> <td>21.267</td>  <td>16.880</td>    <td></td>      <td></td>       <td></td>       <td></td>   \n",
       "</tr>\n",
       "</table>"
      ],
      "text/plain": [
       "<class 'statsmodels.iolib.summary2.Summary'>\n",
       "\"\"\"\n",
       "        Mixed Linear Model Regression Results\n",
       "======================================================\n",
       "Model:            MixedLM Dependent Variable: sodium  \n",
       "No. Observations: 48      Method:             REML    \n",
       "No. Groups:       6       Scale:              0.7160  \n",
       "Min. group size:  8       Likelihood:         -74.4615\n",
       "Max. group size:  8       Converged:          Yes     \n",
       "Mean group size:  8.0                                 \n",
       "------------------------------------------------------\n",
       "             Coef.  Std.Err.   z   P>|z| [0.025 0.975]\n",
       "------------------------------------------------------\n",
       "Intercept    17.629    1.887 9.344 0.000 13.931 21.327\n",
       "Group Var    21.267   16.880                          \n",
       "======================================================\n",
       "\n",
       "\"\"\""
      ]
     },
     "execution_count": 57,
     "metadata": {},
     "output_type": "execute_result"
    }
   ],
   "source": [
    "sodium_mixedlm = mixedlm(\"sodium ~ 1\", \n",
    "                         data=sodium_data,\n",
    "                         groups=sodium_data[\"brand\"]).fit()\n",
    "sodium_mixedlm.summary()\n",
    "\n",
    "# mixedLMResult\n",
    "# Source: https://www.statsmodels.org/devel/generated/statsmodels.regression.mixed_linear_model.MixedLMResults.html"
   ]
  },
  {
   "cell_type": "code",
   "execution_count": 58,
   "metadata": {
    "collapsed": false
   },
   "outputs": [
    {
     "data": {
      "text/plain": [
       "Intercept    17.629167\n",
       "Group Var    29.702890\n",
       "dtype: float64"
      ]
     },
     "execution_count": 58,
     "metadata": {},
     "output_type": "execute_result"
    }
   ],
   "source": [
    "sodium_mixedlm.params"
   ]
  },
  {
   "cell_type": "code",
   "execution_count": 59,
   "metadata": {
    "collapsed": false
   },
   "outputs": [
    {
     "data": {
      "text/plain": [
       "Intercept    9.344274\n",
       "Group Var    1.488898\n",
       "dtype: float64"
      ]
     },
     "execution_count": 59,
     "metadata": {},
     "output_type": "execute_result"
    }
   ],
   "source": [
    "sodium_mixedlm.tvalues # 9.342733"
   ]
  },
  {
   "cell_type": "code",
   "execution_count": 60,
   "metadata": {
    "collapsed": false
   },
   "outputs": [
    {
     "data": {
      "text/plain": [
       "Intercept    9.252227e-21\n",
       "Group Var    1.365141e-01\n",
       "dtype: float64"
      ]
     },
     "execution_count": 60,
     "metadata": {},
     "output_type": "execute_result"
    }
   ],
   "source": [
    "sodium_mixedlm.pvalues #0"
   ]
  },
  {
   "cell_type": "code",
   "execution_count": 61,
   "metadata": {
    "collapsed": false
   },
   "outputs": [
    {
     "data": {
      "text/plain": [
       "Intercept     1.886628\n",
       "Group Var    19.949575\n",
       "dtype: float64"
      ]
     },
     "execution_count": 61,
     "metadata": {},
     "output_type": "execute_result"
    }
   ],
   "source": [
    "sodium_mixedlm.bse #1.886939 - slightly different from the original notebook"
   ]
  },
  {
   "cell_type": "code",
   "execution_count": 62,
   "metadata": {
    "collapsed": false
   },
   "outputs": [
    {
     "data": {
      "text/plain": [
       "Intercept    1.886628\n",
       "dtype: float64"
      ]
     },
     "execution_count": 62,
     "metadata": {},
     "output_type": "execute_result"
    }
   ],
   "source": [
    "# the standard errors of the fixed effect regression coefficients.\n",
    "sodium_mixedlm.bse_fe"
   ]
  },
  {
   "cell_type": "markdown",
   "metadata": {},
   "source": [
    "**WARNING**  \n",
    "The following result is different from the original R notebook"
   ]
  },
  {
   "cell_type": "code",
   "execution_count": 63,
   "metadata": {
    "collapsed": false
   },
   "outputs": [
    {
     "data": {
      "text/html": [
       "<div>\n",
       "<style scoped>\n",
       "    .dataframe tbody tr th:only-of-type {\n",
       "        vertical-align: middle;\n",
       "    }\n",
       "\n",
       "    .dataframe tbody tr th {\n",
       "        vertical-align: top;\n",
       "    }\n",
       "\n",
       "    .dataframe thead th {\n",
       "        text-align: right;\n",
       "    }\n",
       "</style>\n",
       "<table border=\"1\" class=\"dataframe\">\n",
       "  <thead>\n",
       "    <tr style=\"text-align: right;\">\n",
       "      <th></th>\n",
       "      <th>0</th>\n",
       "      <th>1</th>\n",
       "    </tr>\n",
       "  </thead>\n",
       "  <tbody>\n",
       "    <tr>\n",
       "      <th>Intercept</th>\n",
       "      <td>13.931444</td>\n",
       "      <td>21.326889</td>\n",
       "    </tr>\n",
       "    <tr>\n",
       "      <th>Group Var</th>\n",
       "      <td>-9.397559</td>\n",
       "      <td>68.803338</td>\n",
       "    </tr>\n",
       "  </tbody>\n",
       "</table>\n",
       "</div>"
      ],
      "text/plain": [
       "                   0          1\n",
       "Intercept  13.931444  21.326889\n",
       "Group Var  -9.397559  68.803338"
      ]
     },
     "execution_count": 63,
     "metadata": {},
     "output_type": "execute_result"
    }
   ],
   "source": [
    "# WARNING!!!\n",
    "# does not match with the original R notebook\n",
    "sodium_mixedlm.conf_int(alpha=0.05)"
   ]
  },
  {
   "cell_type": "markdown",
   "metadata": {
    "collapsed": true
   },
   "source": [
    "For reasons I'm not sure of, the degrees of freedom don't agree with our ANOVA, though we do find the correct SE for our estimate of μ:"
   ]
  },
  {
   "cell_type": "code",
   "execution_count": 64,
   "metadata": {
    "collapsed": false
   },
   "outputs": [
    {
     "data": {
      "text/plain": [
       "47"
      ]
     },
     "execution_count": 64,
     "metadata": {},
     "output_type": "execute_result"
    }
   ],
   "source": [
    "sodium_mixedlm.df_resid"
   ]
  },
  {
   "cell_type": "code",
   "execution_count": 65,
   "metadata": {
    "collapsed": false
   },
   "outputs": [],
   "source": [
    "# anova_lm(sodium_mixedlm) \n",
    "# throws an AttributeError: 'MixedLMResults' object has no attribute 'ssr'"
   ]
  },
  {
   "cell_type": "markdown",
   "metadata": {},
   "source": [
    "The intervals formed by `lme` use the 42 degrees of freedom, but \n",
    "are otherwise the same:"
   ]
  },
  {
   "cell_type": "markdown",
   "metadata": {},
   "source": [
    "**WARNING**  \n",
    "The following result is different from the original R notebook"
   ]
  },
  {
   "cell_type": "code",
   "execution_count": 66,
   "metadata": {
    "collapsed": false
   },
   "outputs": [
    {
     "data": {
      "text/plain": [
       "17.629166666666663"
      ]
     },
     "execution_count": 66,
     "metadata": {},
     "output_type": "execute_result"
    }
   ],
   "source": [
    "center = sodium_data.sodium.mean()\n",
    "center"
   ]
  },
  {
   "cell_type": "code",
   "execution_count": 67,
   "metadata": {
    "collapsed": true
   },
   "outputs": [],
   "source": [
    "tppf = stats.t.ppf(1 - (0.05/2.0), sodium_mixedlm.df_resid)\n",
    "upper = center + tppf * sodium_mixedlm.bse_fe[\"Intercept\"]\n",
    "lower = center - tppf * sodium_mixedlm.bse_fe[\"Intercept\"]"
   ]
  },
  {
   "cell_type": "code",
   "execution_count": 68,
   "metadata": {
    "collapsed": false
   },
   "outputs": [
    {
     "name": "stdout",
     "output_type": "stream",
     "text": [
      "lower 21.42457226318537\n",
      "upper 13.833761070147954\n"
     ]
    }
   ],
   "source": [
    "print(\"lower\", upper)\n",
    "print(\"upper\", lower)"
   ]
  },
  {
   "cell_type": "markdown",
   "metadata": {},
   "source": [
    "\n",
    "Using our degrees of freedom as 5 yields slightly wider intervals\n"
   ]
  },
  {
   "cell_type": "code",
   "execution_count": 69,
   "metadata": {
    "collapsed": true
   },
   "outputs": [],
   "source": [
    "tppf = stats.t.ppf(1 - (0.05/2.0), 5)\n",
    "upper = center + tppf * sodium_mixedlm.bse_fe[\"Intercept\"]\n",
    "lower = center - tppf * sodium_mixedlm.bse_fe[\"Intercept\"]"
   ]
  },
  {
   "cell_type": "code",
   "execution_count": 70,
   "metadata": {
    "collapsed": false
   },
   "outputs": [
    {
     "name": "stdout",
     "output_type": "stream",
     "text": [
      "lower 22.478897851276372\n",
      "upper 12.779435482056954\n"
     ]
    }
   ],
   "source": [
    "print(\"lower\", upper)\n",
    "print(\"upper\", lower)"
   ]
  },
  {
   "cell_type": "markdown",
   "metadata": {},
   "source": [
    "** FUTURE TODO:**  \n",
    "follow this to understand how statsmodels' LME works:   http://www.statsmodels.org/stable/examples/notebooks/generated/mixed_lm_example.html"
   ]
  }
 ],
 "metadata": {
  "kernelspec": {
   "display_name": "Python 3",
   "language": "python",
   "name": "python3"
  },
  "language_info": {
   "codemirror_mode": {
    "name": "ipython",
    "version": 3
   },
   "file_extension": ".py",
   "mimetype": "text/x-python",
   "name": "python",
   "nbconvert_exporter": "python",
   "pygments_lexer": "ipython3",
   "version": "3.6.0"
  }
 },
 "nbformat": 4,
 "nbformat_minor": 2
}
