{
 "cells": [
  {
   "cell_type": "markdown",
   "metadata": {},
   "source": [
    "R => Python  \n",
    "Source: https://web.stanford.edu/class/stats191/notebooks/Simple_linear_regression.html\n",
    "\n",
    "NOTE: \n",
    "* Not exactly porting R to Python.\n",
    "* Also not [rpy2](https://rpy2.readthedocs.io/en/version_2.8.x/)"
   ]
  },
  {
   "cell_type": "markdown",
   "metadata": {},
   "source": [
    "# Simple linear regression "
   ]
  },
  {
   "cell_type": "code",
   "execution_count": 1,
   "metadata": {
    "collapsed": true
   },
   "outputs": [],
   "source": [
    "import numpy as np\n",
    "import pandas as pd\n",
    "from scipy import stats\n",
    "import statsmodels.api as sm\n",
    "from statsmodels.formula.api import ols\n",
    "import matplotlib.pyplot as plt\n",
    "import seaborn as sns\n",
    "from statsmodels.graphics.regressionplots import abline_plot"
   ]
  },
  {
   "cell_type": "code",
   "execution_count": 2,
   "metadata": {
    "collapsed": false
   },
   "outputs": [
    {
     "data": {
      "text/plain": [
       "'0.9.0'"
      ]
     },
     "execution_count": 2,
     "metadata": {},
     "output_type": "execute_result"
    }
   ],
   "source": [
    "sm.version.version"
   ]
  },
  {
   "cell_type": "code",
   "execution_count": 3,
   "metadata": {
    "collapsed": false
   },
   "outputs": [
    {
     "data": {
      "text/plain": [
       "'0.18.1'"
      ]
     },
     "execution_count": 3,
     "metadata": {},
     "output_type": "execute_result"
    }
   ],
   "source": [
    "import scipy; scipy.__version__"
   ]
  },
  {
   "cell_type": "markdown",
   "metadata": {},
   "source": [
    "The first type of model, which we will spend a lot of time on, is the *simple linear regresssion model*. One simple way to think of it\n",
    "is via scatter plots. Below are [heights](http://www.stat.cmu.edu/~roeder/stat707/=data/=data/data/Rlibraries/alr3/html/heights.html) of mothers and daughters collected \n",
    "by Karl Pearson in the late 19th century."
   ]
  },
  {
   "cell_type": "code",
   "execution_count": 4,
   "metadata": {
    "collapsed": true
   },
   "outputs": [],
   "source": [
    "url='http://web.stanford.edu/class/stats191/data/pearson_lee.csv'"
   ]
  },
  {
   "cell_type": "code",
   "execution_count": 5,
   "metadata": {
    "collapsed": false
   },
   "outputs": [
    {
     "data": {
      "text/html": [
       "<div>\n",
       "<style scoped>\n",
       "    .dataframe tbody tr th:only-of-type {\n",
       "        vertical-align: middle;\n",
       "    }\n",
       "\n",
       "    .dataframe tbody tr th {\n",
       "        vertical-align: top;\n",
       "    }\n",
       "\n",
       "    .dataframe thead th {\n",
       "        text-align: right;\n",
       "    }\n",
       "</style>\n",
       "<table border=\"1\" class=\"dataframe\">\n",
       "  <thead>\n",
       "    <tr style=\"text-align: right;\">\n",
       "      <th></th>\n",
       "      <th>mother</th>\n",
       "      <th>daughter</th>\n",
       "    </tr>\n",
       "  </thead>\n",
       "  <tbody>\n",
       "    <tr>\n",
       "      <th>0</th>\n",
       "      <td>59.7</td>\n",
       "      <td>55.1</td>\n",
       "    </tr>\n",
       "    <tr>\n",
       "      <th>1</th>\n",
       "      <td>58.2</td>\n",
       "      <td>56.5</td>\n",
       "    </tr>\n",
       "    <tr>\n",
       "      <th>2</th>\n",
       "      <td>60.6</td>\n",
       "      <td>56.0</td>\n",
       "    </tr>\n",
       "    <tr>\n",
       "      <th>3</th>\n",
       "      <td>60.7</td>\n",
       "      <td>56.8</td>\n",
       "    </tr>\n",
       "    <tr>\n",
       "      <th>4</th>\n",
       "      <td>61.8</td>\n",
       "      <td>56.0</td>\n",
       "    </tr>\n",
       "  </tbody>\n",
       "</table>\n",
       "</div>"
      ],
      "text/plain": [
       "   mother  daughter\n",
       "0    59.7      55.1\n",
       "1    58.2      56.5\n",
       "2    60.6      56.0\n",
       "3    60.7      56.8\n",
       "4    61.8      56.0"
      ]
     },
     "execution_count": 5,
     "metadata": {},
     "output_type": "execute_result"
    }
   ],
   "source": [
    "height_data = pd.read_csv(url)\n",
    "height_data.head()"
   ]
  },
  {
   "cell_type": "code",
   "execution_count": 6,
   "metadata": {
    "collapsed": false
   },
   "outputs": [
    {
     "data": {
      "image/png": "[encoded data removed]",
      "text/plain": [
       "<matplotlib.figure.Figure at 0x7eff5f099518>"
      ]
     },
     "metadata": {},
     "output_type": "display_data"
    }
   ],
   "source": [
    "plt.scatter(height_data.mother, height_data.daughter)\n",
    "plt.xlabel(\"Mheight\")\n",
    "plt.ylabel(\"Dheight\")\n",
    "plt.title(\"Daughter height vs. Mother height\")\n",
    "plt.show()"
   ]
  },
  {
   "cell_type": "markdown",
   "metadata": {},
   "source": [
    "A simple linear regression model fits a line through the above scatter plot in a particular way. Specifically, it tries to estimate\n",
    "the height of a new daughter in this population, say $D_{new}$, whose mother had height $H_{new}$. It does this by considering\n",
    "each slice of the data. Here is a slice of the data near $M=66$, the slice is taken over a window of size 1 inch.\n"
   ]
  },
  {
   "cell_type": "code",
   "execution_count": 7,
   "metadata": {
    "collapsed": false
   },
   "outputs": [
    {
     "data": {
      "image/png": "[encoded data removed]",
      "text/plain": [
       "<matplotlib.figure.Figure at 0x7eff5f099320>"
      ]
     },
     "metadata": {},
     "output_type": "display_data"
    }
   ],
   "source": [
    "X=66\n",
    "plt.scatter(height_data.mother, height_data.daughter)\n",
    "plt.axvspan(X-0.5, X+0.5, color='grey', alpha=0.5)\n",
    "plt.xlabel(\"Mheight\")\n",
    "plt.ylabel(\"Dheight\")\n",
    "plt.title(\"Daughter height vs. Mother height\")\n",
    "plt.show()"
   ]
  },
  {
   "cell_type": "code",
   "execution_count": 8,
   "metadata": {
    "collapsed": false
   },
   "outputs": [
    {
     "data": {
      "text/html": [
       "<div>\n",
       "<style scoped>\n",
       "    .dataframe tbody tr th:only-of-type {\n",
       "        vertical-align: middle;\n",
       "    }\n",
       "\n",
       "    .dataframe tbody tr th {\n",
       "        vertical-align: top;\n",
       "    }\n",
       "\n",
       "    .dataframe thead th {\n",
       "        text-align: right;\n",
       "    }\n",
       "</style>\n",
       "<table border=\"1\" class=\"dataframe\">\n",
       "  <thead>\n",
       "    <tr style=\"text-align: right;\">\n",
       "      <th></th>\n",
       "      <th>mother</th>\n",
       "      <th>daughter</th>\n",
       "    </tr>\n",
       "  </thead>\n",
       "  <tbody>\n",
       "    <tr>\n",
       "      <th>33</th>\n",
       "      <td>66.2</td>\n",
       "      <td>58.8</td>\n",
       "    </tr>\n",
       "    <tr>\n",
       "      <th>190</th>\n",
       "      <td>65.9</td>\n",
       "      <td>60.3</td>\n",
       "    </tr>\n",
       "    <tr>\n",
       "      <th>191</th>\n",
       "      <td>66.3</td>\n",
       "      <td>60.1</td>\n",
       "    </tr>\n",
       "    <tr>\n",
       "      <th>192</th>\n",
       "      <td>66.5</td>\n",
       "      <td>60.4</td>\n",
       "    </tr>\n",
       "    <tr>\n",
       "      <th>326</th>\n",
       "      <td>65.8</td>\n",
       "      <td>61.7</td>\n",
       "    </tr>\n",
       "  </tbody>\n",
       "</table>\n",
       "</div>"
      ],
      "text/plain": [
       "     mother  daughter\n",
       "33     66.2      58.8\n",
       "190    65.9      60.3\n",
       "191    66.3      60.1\n",
       "192    66.5      60.4\n",
       "326    65.8      61.7"
      ]
     },
     "execution_count": 8,
     "metadata": {},
     "output_type": "execute_result"
    }
   ],
   "source": [
    "mask = (height_data[\"mother\"] >= X-0.5) & (height_data[\"mother\"] <= X+0.5)\n",
    "sliced_height_data = height_data[mask]\n",
    "sliced_height_data.head()"
   ]
  },
  {
   "cell_type": "code",
   "execution_count": 9,
   "metadata": {
    "collapsed": false
   },
   "outputs": [
    {
     "data": {
      "text/plain": [
       "65.5"
      ]
     },
     "execution_count": 9,
     "metadata": {},
     "output_type": "execute_result"
    }
   ],
   "source": [
    "sliced_height_data.mother.min()"
   ]
  },
  {
   "cell_type": "code",
   "execution_count": 10,
   "metadata": {
    "collapsed": false
   },
   "outputs": [
    {
     "data": {
      "text/plain": [
       "66.5"
      ]
     },
     "execution_count": 10,
     "metadata": {},
     "output_type": "execute_result"
    }
   ],
   "source": [
    "sliced_height_data.mother.max()"
   ]
  },
  {
   "cell_type": "code",
   "execution_count": 11,
   "metadata": {
    "collapsed": false
   },
   "outputs": [
    {
     "data": {
      "text/plain": [
       "65.17333333333333"
      ]
     },
     "execution_count": 11,
     "metadata": {},
     "output_type": "execute_result"
    }
   ],
   "source": [
    "np.mean(sliced_height_data.daughter)"
   ]
  },
  {
   "cell_type": "markdown",
   "metadata": {},
   "source": [
    "We see that, in our sample, the average height of daughters whose height fell within our slice is about 65.2 inches. Of course this\n",
    "height varies by slice. For instance, at 60 inches:\n"
   ]
  },
  {
   "cell_type": "code",
   "execution_count": 12,
   "metadata": {
    "collapsed": false
   },
   "outputs": [
    {
     "data": {
      "text/plain": [
       "62.42828947368421"
      ]
     },
     "execution_count": 12,
     "metadata": {},
     "output_type": "execute_result"
    }
   ],
   "source": [
    "X2=60\n",
    "mask2 = (height_data[\"mother\"] >= X2-0.5) & (height_data[\"mother\"] <= X2+0.5)\n",
    "sliced_height_data2 = height_data[mask2]\n",
    "np.mean(sliced_height_data2.daughter)"
   ]
  },
  {
   "cell_type": "code",
   "execution_count": 13,
   "metadata": {
    "collapsed": false
   },
   "outputs": [
    {
     "data": {
      "image/png": "[encoded data removed]",
      "text/plain": [
       "<matplotlib.figure.Figure at 0x7eff5cf252b0>"
      ]
     },
     "metadata": {},
     "output_type": "display_data"
    }
   ],
   "source": [
    "plt.scatter(height_data.mother, height_data.daughter)\n",
    "plt.axvspan(X2-0.5, X2+0.5, color='grey', alpha=0.5)\n",
    "plt.xlabel(\"Mheight\")\n",
    "plt.ylabel(\"Dheight\")\n",
    "plt.title(\"Daughter height vs. Mother height\")\n",
    "plt.show()"
   ]
  },
  {
   "cell_type": "markdown",
   "metadata": {},
   "source": [
    "The regression model puts a line through this scatter plot in an *optimal* fashion.\n",
    "\n",
    "To do this, it assumes that the mean in slice `M` lies on some line\n",
    "$$\n",
    "\\beta_0+\\beta_1 M.\n",
    "$$\n",
    "\n",
    "It then chooses $(\\beta_0, \\beta_1)$ based on the data."
   ]
  },
  {
   "cell_type": "code",
   "execution_count": 14,
   "metadata": {
    "collapsed": false
   },
   "outputs": [
    {
     "data": {
      "text/plain": [
       "Intercept    29.917437\n",
       "mother        0.541747\n",
       "dtype: float64"
      ]
     },
     "execution_count": 14,
     "metadata": {},
     "output_type": "execute_result"
    }
   ],
   "source": [
    "formula = 'daughter ~ mother'\n",
    "height_res = ols(formula, data=height_data).fit()\n",
    "height_res.params"
   ]
  },
  {
   "cell_type": "code",
   "execution_count": 15,
   "metadata": {
    "collapsed": false
   },
   "outputs": [
    {
     "data": {
      "image/png": "[encoded data removed]",
      "text/plain": [
       "<matplotlib.figure.Figure at 0x7eff5c4eb710>"
      ]
     },
     "metadata": {},
     "output_type": "display_data"
    }
   ],
   "source": [
    "fig = abline_plot(model_results=height_res, color='red')\n",
    "ax = fig.axes[0]\n",
    "ax.scatter(height_data.mother, height_data.daughter)\n",
    "plt.xlabel(\"Mheight\")\n",
    "plt.ylabel(\"Dheight\")\n",
    "plt.title(\"Daughter height vs. Mother height\")\n",
    "plt.show()"
   ]
  },
  {
   "cell_type": "markdown",
   "metadata": {},
   "source": [
    "### What is a \"regression\" model?\n",
    "\n",
    "A regression model is a model of the relationships between some covariates (predictors) and an outcome. Specifically, regression is a model of the average outcome given the covariates.\n",
    "\n",
    "### Mathematical formulation\n",
    "\n",
    "For height of couples data: a mathematical model:\n",
    "$$\n",
    "{\\tt Daughter} = f({\\tt Mother}) + \\varepsilon\n",
    "$$\n",
    "where $f$ gives the average height of the daughter of a mother of height Mother and $\\varepsilon$ is the random variation within the slice.\n",
    "\n",
    "### Linear regression models\n",
    "\n",
    "* A *linear* regression model says that\n",
    "the function $f$ is a sum (linear combination) of functions of ${\\tt Mother}$.\n",
    "\n",
    "* Simple linear regression model:\n",
    "   $$f({\\tt Mother}) = \\beta_0 + \\beta_1 \\cdot {\\tt Mother}$$\n",
    "   for some unknown parameter vector $(\\beta_0, \\beta_1)$.\n",
    "\n",
    "* Could also be a sum (linear combination) of *fixed* functions of `Mother`:\n",
    "   $$f({\\tt Mother}) = \\beta_0 + \\beta_1 \\cdot {\\tt Mother} + \\beta_2 \\cdot {\\tt Mother}^2\n",
    "   $$\n",
    "\n",
    "\n",
    "### Simple linear regression model\n",
    "\n",
    " *  *Simple linear* regression is the case when there is only one predictor:\n",
    "   $$\n",
    "   f({\\tt Mother}) = \\beta_0 + \\beta_1  \\cdot {\\tt Mother}.$$\n",
    "\n",
    "* Let $Y_i$ be the height of the $i$-th daughter in the sample, $X_i$ be the height of the $i$-th mother.\n",
    "\n",
    "* Model:\n",
    "   $$\n",
    "   Y_i = \\underbrace{\\beta_0 + \\beta_1 X_i}_{\\text{regression equation}} + \\underbrace{\\varepsilon_i}_{\\text{error}}$$\n",
    "   where $\\varepsilon_i \\sim N(0, \\sigma^2)$ are independent.\n",
    "\n",
    "* This specifies a *distribution* for the $Y$'s given the $X$'s, i.e.\n",
    "   it is a *statistical model*.\n",
    "\n",
    "\n",
    "### Fitting the model\n",
    "\n",
    "* We will be using *least squares* regression. This measures\n",
    "   the *goodness of fit* of a line by the sum of squared errors, $SSE$.\n",
    "   \n",
    "* Least squares regression chooses the line that minimizes\n",
    "   $$\n",
    "   SSE(\\beta_0, \\beta_1) = \\sum_{i=1}^n (Y_i - \\beta_0 - \\beta_1 \\cdot X_i)^2.$$\n",
    "\n",
    "* In principle, we might measure goodness of fit differently: \n",
    "   $$\n",
    "   SAD(\\beta_0, \\beta_1) = \\sum_{i=1}^n |Y_i - \\beta_0 - \\beta_1 \\cdot X_i|.$$\n",
    "   \n",
    "* For some *loss function* $L$ we might try to minimize\n",
    "    $$\n",
    "    L(\\beta_0,\\beta_1) = \\sum_{i=1}^n L(Y_i-\\beta_0-\\beta_1X_i) \n",
    "    $$\n",
    "\n",
    "\n",
    "### Why least squares?\n",
    "\n",
    "* With least squares, the minimizers have explicit formulae -- not so important with today's computer power -- especially when $L$ is convex.\n",
    "\n",
    "* Resulting formulae are *linear* in the outcome $Y$. This is important\n",
    "   for inferential reasons. For only predictive power, this is also not so important.\n",
    "   \n",
    "* If assumptions are correct, then this is *maximum likelihood estimation*.\n",
    "\n",
    "* Statistical theory tells us the *maximum likelihood estimators (MLEs)* are generally good estimators.\n",
    "\n",
    "\n",
    "\n",
    "### Choice of loss function\n",
    "\n",
    "The choice of the function we use to measure goodness of fit, or the *loss* function, has an outcome on what\n",
    "sort of estimates we get out of our procedure. For instance, if, instead of fitting a line to a scatterplot, we were\n",
    "estimating a *center* of a distribution, which we denote by $\\mu$, then we might consider minimizing several loss functions.\n",
    "\n",
    "### Choice of loss function\n",
    "\n",
    "* If we choose the sum of squared errors:\n",
    "$$\n",
    "SSE(\\mu) = \\sum_{i=1}^n (Y_i - \\mu)^2.\n",
    "$$\n",
    "Then, we know that the minimizer of $SSE(\\mu)$ is the sample mean.\n",
    "\n",
    "* On the other hand, if we choose the sum of the absolute errors\n",
    " $$\n",
    "   SAD(\\mu) = \\sum_{i=1}^n |Y_i - \\mu|.$$\n",
    "   Then, the resulting minimizer is the sample median.\n",
    "   \n",
    "* Both of these minimization problems also have *population* versions as well. For instance, the population mean\n",
    "minimizes, as a function of $\\mu$\n",
    "$$\n",
    "\\mathbb{E}((Y-\\mu)^2)\n",
    "$$\n",
    "while the population median minimizes\n",
    "$$\n",
    "\\mathbb{E}(|Y-\\mu|).\n",
    "$$\n",
    "\n",
    "### Visualizing the loss function\n",
    "\n",
    "Let's take some a random scatter plot and view the loss function."
   ]
  },
  {
   "cell_type": "code",
   "execution_count": 16,
   "metadata": {
    "collapsed": false
   },
   "outputs": [
    {
     "name": "stdout",
     "output_type": "stream",
     "text": [
      "intercept:  1.8086123323494272\n",
      "slope    :  0.405391043436268\n"
     ]
    }
   ],
   "source": [
    "X = np.random.normal(loc=0, scale=1, size=50)\n",
    "Y = 1.5 + 0.1 * X + 2 * np.random.normal(loc=0, scale=1, size=50)\n",
    "X = sm.add_constant(X)\n",
    "res = sm.OLS(Y, X).fit()\n",
    "intercept = res.params[0]\n",
    "slope = res.params[1]\n",
    "print(\"intercept: \", intercept)\n",
    "print(\"slope    : \", slope)"
   ]
  },
  {
   "cell_type": "code",
   "execution_count": 17,
   "metadata": {
    "collapsed": false
   },
   "outputs": [
    {
     "data": {
      "image/png": "[encoded data removed]",
      "text/plain": [
       "<matplotlib.figure.Figure at 0x7eff5c4eb5f8>"
      ]
     },
     "metadata": {},
     "output_type": "display_data"
    }
   ],
   "source": [
    "fig = abline_plot(model_results=res, color='red')\n",
    "ax = fig.axes[0]\n",
    "ax.scatter(X[:,1], Y)\n",
    "plt.xlabel(\"X\")\n",
    "plt.ylabel(\"Y\")\n",
    "plt.title(\"X vs. Y\")\n",
    "plt.show()"
   ]
  },
  {
   "cell_type": "markdown",
   "metadata": {},
   "source": [
    "Let's plot the *loss* as a function of the parameters. Note that the\n",
    "*true* intercept is 1.5 while the *true* slope is 0.1.\n"
   ]
  },
  {
   "cell_type": "code",
   "execution_count": 18,
   "metadata": {
    "collapsed": true
   },
   "outputs": [],
   "source": [
    "intercept_axis = np.linspace(start=intercept-2, stop=intercept+2, num=100)\n",
    "slope_axis = np.linspace(start=slope-2, stop=slope+2, num=100)\n",
    "intercept_grid, slope_grid = np.meshgrid(intercept_axis, slope_axis)"
   ]
  },
  {
   "cell_type": "code",
   "execution_count": 19,
   "metadata": {
    "collapsed": false
   },
   "outputs": [
    {
     "data": {
      "text/plain": [
       "array([[0., 0., 0., ..., 0., 0., 0.],\n",
       "       [0., 0., 0., ..., 0., 0., 0.],\n",
       "       [0., 0., 0., ..., 0., 0., 0.],\n",
       "       ...,\n",
       "       [0., 0., 0., ..., 0., 0., 0.],\n",
       "       [0., 0., 0., ..., 0., 0., 0.],\n",
       "       [0., 0., 0., ..., 0., 0., 0.]])"
      ]
     },
     "execution_count": 19,
     "metadata": {},
     "output_type": "execute_result"
    }
   ],
   "source": [
    "loss_data = np.zeros(intercept_grid.shape)\n",
    "loss_data"
   ]
  },
  {
   "cell_type": "code",
   "execution_count": 20,
   "metadata": {
    "collapsed": false
   },
   "outputs": [],
   "source": [
    "for index in np.ndindex(intercept_grid.shape):\n",
    "    squared_errors = (Y - X[:,1]*slope_grid[index] - intercept_grid[index])**2\n",
    "    loss_data[index] = np.sum(squared_errors)"
   ]
  },
  {
   "cell_type": "code",
   "execution_count": 21,
   "metadata": {
    "collapsed": false
   },
   "outputs": [
    {
     "data": {
      "image/png": "[encoded data removed]",
      "text/plain": [
       "<matplotlib.figure.Figure at 0x7eff5b445a58>"
      ]
     },
     "metadata": {},
     "output_type": "display_data"
    }
   ],
   "source": [
    "plt.pcolormesh(intercept_grid, \n",
    "               slope_grid, \n",
    "               loss_data, \n",
    "               cmap='YlGnBu', \n",
    "               vmin=loss_data.min(), \n",
    "               vmax=loss_data.max())\n",
    "cbar = plt.colorbar()\n",
    "cbar.ax.set_title(\"Squared Error\")\n",
    "ax = plt.gca()\n",
    "ax.set_ylabel('Slpoe')\n",
    "ax.set_xlabel('Intercept')\n",
    "ax.set_title('Loss function: SSE')\n",
    "plt.show()"
   ]
  },
  {
   "cell_type": "markdown",
   "metadata": {},
   "source": [
    "Let's contrast this with the sum of absolute errors."
   ]
  },
  {
   "cell_type": "code",
   "execution_count": 22,
   "metadata": {
    "collapsed": true
   },
   "outputs": [],
   "source": [
    "for index in np.ndindex(intercept_grid.shape):\n",
    "    abs_errors = np.abs((Y - X[:,1]*slope_grid[index] - intercept_grid[index]))\n",
    "    loss_data[index] = np.sum(abs_errors)"
   ]
  },
  {
   "cell_type": "code",
   "execution_count": 23,
   "metadata": {
    "collapsed": false
   },
   "outputs": [
    {
     "data": {
      "image/png": "[encoded data removed]",
      "text/plain": [
       "<matplotlib.figure.Figure at 0x7eff5b32aeb8>"
      ]
     },
     "metadata": {},
     "output_type": "display_data"
    }
   ],
   "source": [
    "plt.pcolormesh(intercept_grid, \n",
    "               slope_grid, \n",
    "               loss_data, \n",
    "               cmap='YlGnBu', \n",
    "               vmin=loss_data.min(), \n",
    "               vmax=loss_data.max())\n",
    "cbar = plt.colorbar()\n",
    "cbar.ax.set_title(\"Absolute Error\")\n",
    "ax = plt.gca()\n",
    "ax.set_ylabel('Slpoe')\n",
    "ax.set_xlabel('Intercept')\n",
    "ax.set_title('Loss function: SSE')\n",
    "plt.show()"
   ]
  },
  {
   "cell_type": "markdown",
   "metadata": {},
   "source": [
    "### Geometry of least squares\n",
    "\n",
    "The following picture will be with us, in various guises, throughout much of the course. It depicts\n",
    "the geometric picture involved in least squares regression.\n",
    "\n",
    "<img src=\"http://stats191.stanford.edu/figs/axes_simple.svg\" width=\"600\">\n",
    "\n",
    "It requires some imagination but the picture should be thought as representing vectors in $n$-dimensional space, l where $n$ is the number of points in the scatterplot. In our height data, $n=1375$. The bottom two axes should be thought of as 2-dimensional, while the axis marked \"$\\perp$\" should be thought of as $(n-2)$ dimensional, or, 1373 in this case.\n",
    "\n",
    "\n",
    "\n",
    "## Important lengths\n",
    "\n",
    "The (squared) lengths of the above vectors are important quantities in what follows.\n",
    "\n",
    "There are three to note:\n",
    "$$\n",
    "\\begin{aligned}\n",
    "   SSE &= \\sum_{i=1}^n(Y_i - \\widehat{Y}_i)^2 = \\sum_{i=1}^n (Y_i - \\widehat{\\beta}_0 - \\widehat{\\beta}_1 X_i)^2 \\\\\n",
    "   SSR &= \\sum_{i=1}^n(\\overline{Y} - \\widehat{Y}_i)^2 = \\sum_{i=1}^n (\\overline{Y} - \\widehat{\\beta}_0 - \\widehat{\\beta}_1 X_i)^2 \\\\\n",
    "   SST &= \\sum_{i=1}^n(Y_i - \\overline{Y})^2 = SSE + SSR \\\\\n",
    "   R^2 &= \\frac{SSR}{SST} = 1 - \\frac{SSE}{SST} = \\widehat{Cor}(\\pmb{X},\\pmb{Y})^2.\n",
    "   \\end{aligned}\n",
    "$$\n",
    "\n",
    "## Important lengths\n",
    "\n",
    "\n",
    "An important summary of the fit is the ratio\n",
    "$$\n",
    "R^2 = \\frac{SSR}{SST} = 1 - \\frac{SSE}{SST}\n",
    "$$\n",
    "which measures *how much variability in $Y$* is explained by $X$.\n",
    "\n",
    "## Example: wages vs. education\n",
    "\n",
    "\n",
    "In this example, we'll look at the output of *lm* for the wage\n",
    "data and verify that some of the equations we present for the \n",
    "least squares solutions agree with the output.\n",
    "The data was compiled from a study in econometrics [Learning about Heterogeneity in Returns to Schooling]( http://www.econ.queensu.ca/jae/2004-v19.7/koop-tobias/readme.kt.txt)."
   ]
  },
  {
   "cell_type": "code",
   "execution_count": 24,
   "metadata": {
    "collapsed": true
   },
   "outputs": [],
   "source": [
    "url = 'http://www.stanford.edu/class/stats191/data/wage.csv'"
   ]
  },
  {
   "cell_type": "code",
   "execution_count": 25,
   "metadata": {
    "collapsed": false
   },
   "outputs": [
    {
     "data": {
      "text/html": [
       "<div>\n",
       "<style scoped>\n",
       "    .dataframe tbody tr th:only-of-type {\n",
       "        vertical-align: middle;\n",
       "    }\n",
       "\n",
       "    .dataframe tbody tr th {\n",
       "        vertical-align: top;\n",
       "    }\n",
       "\n",
       "    .dataframe thead th {\n",
       "        text-align: right;\n",
       "    }\n",
       "</style>\n",
       "<table border=\"1\" class=\"dataframe\">\n",
       "  <thead>\n",
       "    <tr style=\"text-align: right;\">\n",
       "      <th></th>\n",
       "      <th>education</th>\n",
       "      <th>logwage</th>\n",
       "    </tr>\n",
       "  </thead>\n",
       "  <tbody>\n",
       "    <tr>\n",
       "      <th>0</th>\n",
       "      <td>16.750000</td>\n",
       "      <td>2.845000</td>\n",
       "    </tr>\n",
       "    <tr>\n",
       "      <th>1</th>\n",
       "      <td>15.000000</td>\n",
       "      <td>2.446667</td>\n",
       "    </tr>\n",
       "    <tr>\n",
       "      <th>2</th>\n",
       "      <td>10.000000</td>\n",
       "      <td>1.560000</td>\n",
       "    </tr>\n",
       "    <tr>\n",
       "      <th>3</th>\n",
       "      <td>12.666667</td>\n",
       "      <td>2.099167</td>\n",
       "    </tr>\n",
       "    <tr>\n",
       "      <th>4</th>\n",
       "      <td>15.000000</td>\n",
       "      <td>2.490000</td>\n",
       "    </tr>\n",
       "  </tbody>\n",
       "</table>\n",
       "</div>"
      ],
      "text/plain": [
       "   education   logwage\n",
       "0  16.750000  2.845000\n",
       "1  15.000000  2.446667\n",
       "2  10.000000  1.560000\n",
       "3  12.666667  2.099167\n",
       "4  15.000000  2.490000"
      ]
     },
     "execution_count": 25,
     "metadata": {},
     "output_type": "execute_result"
    }
   ],
   "source": [
    "wages_data = pd.read_csv(url)\n",
    "wages_data.head()"
   ]
  },
  {
   "cell_type": "markdown",
   "metadata": {},
   "source": [
    "In order to access the variables in `wages` we `attach` it so that the variables\n",
    "are in the toplevel namespace."
   ]
  },
  {
   "cell_type": "code",
   "execution_count": 26,
   "metadata": {
    "collapsed": false
   },
   "outputs": [
    {
     "data": {
      "text/plain": [
       "2.240279398911975"
      ]
     },
     "execution_count": 26,
     "metadata": {},
     "output_type": "execute_result"
    }
   ],
   "source": [
    "np.mean(wages_data.logwage)"
   ]
  },
  {
   "cell_type": "markdown",
   "metadata": {},
   "source": [
    "Let's fit the linear regression model."
   ]
  },
  {
   "cell_type": "code",
   "execution_count": 27,
   "metadata": {
    "collapsed": false
   },
   "outputs": [
    {
     "data": {
      "text/html": [
       "<table class=\"simpletable\">\n",
       "<caption>OLS Regression Results</caption>\n",
       "<tr>\n",
       "  <th>Dep. Variable:</th>         <td>logwage</td>     <th>  R-squared:         </th> <td>   0.135</td>\n",
       "</tr>\n",
       "<tr>\n",
       "  <th>Model:</th>                   <td>OLS</td>       <th>  Adj. R-squared:    </th> <td>   0.135</td>\n",
       "</tr>\n",
       "<tr>\n",
       "  <th>Method:</th>             <td>Least Squares</td>  <th>  F-statistic:       </th> <td>   340.0</td>\n",
       "</tr>\n",
       "<tr>\n",
       "  <th>Date:</th>             <td>Thu, 13 Jun 2019</td> <th>  Prob (F-statistic):</th> <td>1.15e-70</td>\n",
       "</tr>\n",
       "<tr>\n",
       "  <th>Time:</th>                 <td>15:32:50</td>     <th>  Log-Likelihood:    </th> <td> -1114.3</td>\n",
       "</tr>\n",
       "<tr>\n",
       "  <th>No. Observations:</th>      <td>  2178</td>      <th>  AIC:               </th> <td>   2233.</td>\n",
       "</tr>\n",
       "<tr>\n",
       "  <th>Df Residuals:</th>          <td>  2176</td>      <th>  BIC:               </th> <td>   2244.</td>\n",
       "</tr>\n",
       "<tr>\n",
       "  <th>Df Model:</th>              <td>     1</td>      <th>                     </th>     <td> </td>   \n",
       "</tr>\n",
       "<tr>\n",
       "  <th>Covariance Type:</th>      <td>nonrobust</td>    <th>                     </th>     <td> </td>   \n",
       "</tr>\n",
       "</table>\n",
       "<table class=\"simpletable\">\n",
       "<tr>\n",
       "      <td></td>         <th>coef</th>     <th>std err</th>      <th>t</th>      <th>P>|t|</th>  <th>[0.025</th>    <th>0.975]</th>  \n",
       "</tr>\n",
       "<tr>\n",
       "  <th>Intercept</th> <td>    1.2392</td> <td>    0.055</td> <td>   22.541</td> <td> 0.000</td> <td>    1.131</td> <td>    1.347</td>\n",
       "</tr>\n",
       "<tr>\n",
       "  <th>education</th> <td>    0.0786</td> <td>    0.004</td> <td>   18.440</td> <td> 0.000</td> <td>    0.070</td> <td>    0.087</td>\n",
       "</tr>\n",
       "</table>\n",
       "<table class=\"simpletable\">\n",
       "<tr>\n",
       "  <th>Omnibus:</th>       <td>46.662</td> <th>  Durbin-Watson:     </th> <td>   1.769</td>\n",
       "</tr>\n",
       "<tr>\n",
       "  <th>Prob(Omnibus):</th> <td> 0.000</td> <th>  Jarque-Bera (JB):  </th> <td>  59.725</td>\n",
       "</tr>\n",
       "<tr>\n",
       "  <th>Skew:</th>          <td>-0.269</td> <th>  Prob(JB):          </th> <td>1.07e-13</td>\n",
       "</tr>\n",
       "<tr>\n",
       "  <th>Kurtosis:</th>      <td> 3.606</td> <th>  Cond. No.          </th> <td>    82.4</td>\n",
       "</tr>\n",
       "</table><br/><br/>Warnings:<br/>[1] Standard Errors assume that the covariance matrix of the errors is correctly specified."
      ],
      "text/plain": [
       "<class 'statsmodels.iolib.summary.Summary'>\n",
       "\"\"\"\n",
       "                            OLS Regression Results                            \n",
       "==============================================================================\n",
       "Dep. Variable:                logwage   R-squared:                       0.135\n",
       "Model:                            OLS   Adj. R-squared:                  0.135\n",
       "Method:                 Least Squares   F-statistic:                     340.0\n",
       "Date:                Thu, 13 Jun 2019   Prob (F-statistic):           1.15e-70\n",
       "Time:                        15:32:50   Log-Likelihood:                -1114.3\n",
       "No. Observations:                2178   AIC:                             2233.\n",
       "Df Residuals:                    2176   BIC:                             2244.\n",
       "Df Model:                           1                                         \n",
       "Covariance Type:            nonrobust                                         \n",
       "==============================================================================\n",
       "                 coef    std err          t      P>|t|      [0.025      0.975]\n",
       "------------------------------------------------------------------------------\n",
       "Intercept      1.2392      0.055     22.541      0.000       1.131       1.347\n",
       "education      0.0786      0.004     18.440      0.000       0.070       0.087\n",
       "==============================================================================\n",
       "Omnibus:                       46.662   Durbin-Watson:                   1.769\n",
       "Prob(Omnibus):                  0.000   Jarque-Bera (JB):               59.725\n",
       "Skew:                          -0.269   Prob(JB):                     1.07e-13\n",
       "Kurtosis:                       3.606   Cond. No.                         82.4\n",
       "==============================================================================\n",
       "\n",
       "Warnings:\n",
       "[1] Standard Errors assume that the covariance matrix of the errors is correctly specified.\n",
       "\"\"\""
      ]
     },
     "execution_count": 27,
     "metadata": {},
     "output_type": "execute_result"
    }
   ],
   "source": [
    "formula = 'logwage ~ education'\n",
    "wages_res = ols(formula, data=wages_data).fit()\n",
    "wages_res.summary()"
   ]
  },
  {
   "cell_type": "markdown",
   "metadata": {},
   "source": [
    "As in the mother-daughter data, we might want to plot the data and add the regression line.\n",
    "\n",
    "Earlier, we used `ggplot2`, below we use base `R` instead. Typically `ggplot2` will\n",
    "be more attractive, though its result are sometimes a little difficult to tweak (in my limited experience)."
   ]
  },
  {
   "cell_type": "code",
   "execution_count": 28,
   "metadata": {
    "collapsed": false
   },
   "outputs": [
    {
     "data": {
      "image/png": "[encoded data removed]",
      "text/plain": [
       "<matplotlib.figure.Figure at 0x7eff5cf6c1d0>"
      ]
     },
     "metadata": {},
     "output_type": "display_data"
    }
   ],
   "source": [
    "fig = abline_plot(model_results=wages_res, color='red')\n",
    "ax = fig.axes[0]\n",
    "ax.scatter(wages_data.education, wages_data.logwage)\n",
    "plt.xlabel(\"education\")\n",
    "plt.ylabel(\"logwage\")\n",
    "plt.title(\"education vs. logwage\")\n",
    "plt.show()"
   ]
  },
  {
   "cell_type": "markdown",
   "metadata": {},
   "source": [
    "### Least squares estimators\n",
    "\n",
    "There are explicit formulae for the least squares estimators, i.e. the minimizers of the error sum of squares.\n",
    "\n",
    "For the slope, $\\hat{\\beta}_1$, it can be shown that \n",
    "$$\n",
    "   \\widehat{\\beta}_1 = \\frac{\\sum_{i=1}^n(X_i - \\overline{X})(Y_i - \\overline{Y}\n",
    ")}{\\sum_{i=1}^n (X_i-\\overline{X})^2} = \\frac{\\widehat{Cov}(X,Y)}{\\widehat{Var}(\n",
    "X)}.$$\n",
    "\n",
    "Knowing the slope estimate, the intercept estimate can be found easily:\n",
    "$$ \\widehat{\\beta}_0 = \\overline{Y} - \\widehat{\\beta}_1 \\cdot \\overline{\n",
    "X}.$$\n",
    "\n",
    "\n",
    "\n",
    "#### Wages example"
   ]
  },
  {
   "cell_type": "code",
   "execution_count": 29,
   "metadata": {
    "collapsed": false
   },
   "outputs": [],
   "source": [
    "# don't forget ddof=1\n",
    "cov_xy = np.cov(wages_data[\"education\"], wages_data[\"logwage\"], ddof=1)[0][1]"
   ]
  },
  {
   "cell_type": "code",
   "execution_count": 30,
   "metadata": {
    "collapsed": false
   },
   "outputs": [],
   "source": [
    "# don't forget ddof=1\n",
    "var_x = np.var(wages_data.education, ddof=1)"
   ]
  },
  {
   "cell_type": "code",
   "execution_count": 31,
   "metadata": {
    "collapsed": false
   },
   "outputs": [],
   "source": [
    "beta_1_hat =  cov_xy / var_x"
   ]
  },
  {
   "cell_type": "code",
   "execution_count": 32,
   "metadata": {
    "collapsed": false
   },
   "outputs": [],
   "source": [
    "# y_bar - beta_1_hat * x_bar\n",
    "beta_0_hat = np.mean(wages_data.logwage) \\\n",
    "            - beta_1_hat * np.mean(wages_data.education)"
   ]
  },
  {
   "cell_type": "code",
   "execution_count": 33,
   "metadata": {
    "collapsed": false
   },
   "outputs": [
    {
     "name": "stdout",
     "output_type": "stream",
     "text": [
      "intercept from y_bar - beta_1_hat * x_bar:  1.239194326803033\n",
      "slope from cov_xy/var_x                  :  0.0785995102448243\n",
      "\n",
      "\n",
      "intercept from OLS regression            :  1.2391943268030263\n",
      "slope from OLS regression                :  0.07859951024482434\n"
     ]
    }
   ],
   "source": [
    "print(\"intercept from y_bar - beta_1_hat * x_bar: \", beta_0_hat)\n",
    "print(\"slope from cov_xy/var_x                  : \", beta_1_hat)\n",
    "print(\"\\n\")\n",
    "print(\"intercept from OLS regression            : \", wages_res.params[0])\n",
    "print(\"slope from OLS regression                : \", wages_res.params[1])"
   ]
  },
  {
   "cell_type": "markdown",
   "metadata": {},
   "source": [
    "### Estimate of $\\sigma^2$\n",
    "\n",
    "There is one final quantity needed to estimate all of our parameters in our (statistical) model for the scatterplot. This is $\\sigma^2$,\n",
    "the variance of the random variation within each slice (the regression model assumes this variance is constant within each slice...).\n",
    "\n",
    "The estimate most commonly used is\n",
    "$$\n",
    "\\hat{\\sigma}^2 = \\frac{1}{n-2} \\sum_{i=1}^n (Y_i - \\hat{\\beta}_0 - \\hat{\\beta}_1 X_i)^2 = \\frac{SSE}{n-2} = MSE\n",
    "$$\n",
    "\n",
    "Above, note the practice of replacing the quantity $SSE(\\hat{\\beta}_0,\\hat{\\beta}_1)$, i.e. the minimum of this function, with just $SSE$.\n",
    "\n",
    "The term *MSE* above refers to mean squared error: a sum of squares divided by what we call its *degrees of freedom*. The degrees of freedom\n",
    "of *SSE*, the *error sum of squares* is therefore $n-2$. Remember this $n-2$ corresponded to $\\perp$ in the picture above...\n",
    "\n",
    "Using some statistical calculations that we will not dwell on, if our simple linear regression model is correct, then we can see that\n",
    "$$\n",
    "\\frac{\\hat{\\sigma}^2}{\\sigma^2} \\sim \\frac{\\chi^2_{n-2}}{n-2}\n",
    "$$\n",
    "where the right hand side denotes a *chi-squared* distribution with $n-2$ degrees of freedom.\n",
    "\n",
    "(Note: our estimate of $\\sigma^2$ *is not* the maximum likelihood estimate.)\n",
    "\n",
    "### Wages example"
   ]
  },
  {
   "cell_type": "code",
   "execution_count": 34,
   "metadata": {
    "collapsed": false
   },
   "outputs": [
    {
     "data": {
      "text/plain": [
       "0.4037827822998898"
      ]
     },
     "execution_count": 34,
     "metadata": {},
     "output_type": "execute_result"
    }
   ],
   "source": [
    "SSE = np.sum(wages_res.resid**2)\n",
    "df_resid = wages_res.df_resid\n",
    "sigma_hat = np.sqrt(SSE/df_resid)\n",
    "sigma_hat"
   ]
  },
  {
   "cell_type": "code",
   "execution_count": 35,
   "metadata": {
    "collapsed": false
   },
   "outputs": [
    {
     "data": {
      "text/plain": [
       "0.4037827822998898"
      ]
     },
     "execution_count": 35,
     "metadata": {},
     "output_type": "execute_result"
    }
   ],
   "source": [
    "SSE2 = np.sum((wages_data.logwage - wages_res.predict())**2)\n",
    "df_resid = wages_res.df_resid\n",
    "sigma_hat2 = np.sqrt(SSE2/df_resid)\n",
    "sigma_hat2"
   ]
  },
  {
   "cell_type": "markdown",
   "metadata": {},
   "source": [
    "The summary from *R* also contains this estimate of $\\sigma$:"
   ]
  },
  {
   "cell_type": "code",
   "execution_count": 36,
   "metadata": {
    "collapsed": false
   },
   "outputs": [
    {
     "data": {
      "text/plain": [
       "0.4037827822998898"
      ]
     },
     "execution_count": 36,
     "metadata": {},
     "output_type": "execute_result"
    }
   ],
   "source": [
    "np.sqrt(wages_res.mse_resid)"
   ]
  },
  {
   "cell_type": "code",
   "execution_count": 37,
   "metadata": {
    "collapsed": false
   },
   "outputs": [
    {
     "data": {
      "text/html": [
       "<table class=\"simpletable\">\n",
       "<caption>OLS Regression Results</caption>\n",
       "<tr>\n",
       "  <th>Dep. Variable:</th>         <td>logwage</td>     <th>  R-squared:         </th> <td>   0.135</td>\n",
       "</tr>\n",
       "<tr>\n",
       "  <th>Model:</th>                   <td>OLS</td>       <th>  Adj. R-squared:    </th> <td>   0.135</td>\n",
       "</tr>\n",
       "<tr>\n",
       "  <th>Method:</th>             <td>Least Squares</td>  <th>  F-statistic:       </th> <td>   340.0</td>\n",
       "</tr>\n",
       "<tr>\n",
       "  <th>Date:</th>             <td>Thu, 13 Jun 2019</td> <th>  Prob (F-statistic):</th> <td>1.15e-70</td>\n",
       "</tr>\n",
       "<tr>\n",
       "  <th>Time:</th>                 <td>15:32:51</td>     <th>  Log-Likelihood:    </th> <td> -1114.3</td>\n",
       "</tr>\n",
       "<tr>\n",
       "  <th>No. Observations:</th>      <td>  2178</td>      <th>  AIC:               </th> <td>   2233.</td>\n",
       "</tr>\n",
       "<tr>\n",
       "  <th>Df Residuals:</th>          <td>  2176</td>      <th>  BIC:               </th> <td>   2244.</td>\n",
       "</tr>\n",
       "<tr>\n",
       "  <th>Df Model:</th>              <td>     1</td>      <th>                     </th>     <td> </td>   \n",
       "</tr>\n",
       "<tr>\n",
       "  <th>Covariance Type:</th>      <td>nonrobust</td>    <th>                     </th>     <td> </td>   \n",
       "</tr>\n",
       "</table>\n",
       "<table class=\"simpletable\">\n",
       "<tr>\n",
       "      <td></td>         <th>coef</th>     <th>std err</th>      <th>t</th>      <th>P>|t|</th>  <th>[0.025</th>    <th>0.975]</th>  \n",
       "</tr>\n",
       "<tr>\n",
       "  <th>Intercept</th> <td>    1.2392</td> <td>    0.055</td> <td>   22.541</td> <td> 0.000</td> <td>    1.131</td> <td>    1.347</td>\n",
       "</tr>\n",
       "<tr>\n",
       "  <th>education</th> <td>    0.0786</td> <td>    0.004</td> <td>   18.440</td> <td> 0.000</td> <td>    0.070</td> <td>    0.087</td>\n",
       "</tr>\n",
       "</table>\n",
       "<table class=\"simpletable\">\n",
       "<tr>\n",
       "  <th>Omnibus:</th>       <td>46.662</td> <th>  Durbin-Watson:     </th> <td>   1.769</td>\n",
       "</tr>\n",
       "<tr>\n",
       "  <th>Prob(Omnibus):</th> <td> 0.000</td> <th>  Jarque-Bera (JB):  </th> <td>  59.725</td>\n",
       "</tr>\n",
       "<tr>\n",
       "  <th>Skew:</th>          <td>-0.269</td> <th>  Prob(JB):          </th> <td>1.07e-13</td>\n",
       "</tr>\n",
       "<tr>\n",
       "  <th>Kurtosis:</th>      <td> 3.606</td> <th>  Cond. No.          </th> <td>    82.4</td>\n",
       "</tr>\n",
       "</table><br/><br/>Warnings:<br/>[1] Standard Errors assume that the covariance matrix of the errors is correctly specified."
      ],
      "text/plain": [
       "<class 'statsmodels.iolib.summary.Summary'>\n",
       "\"\"\"\n",
       "                            OLS Regression Results                            \n",
       "==============================================================================\n",
       "Dep. Variable:                logwage   R-squared:                       0.135\n",
       "Model:                            OLS   Adj. R-squared:                  0.135\n",
       "Method:                 Least Squares   F-statistic:                     340.0\n",
       "Date:                Thu, 13 Jun 2019   Prob (F-statistic):           1.15e-70\n",
       "Time:                        15:32:51   Log-Likelihood:                -1114.3\n",
       "No. Observations:                2178   AIC:                             2233.\n",
       "Df Residuals:                    2176   BIC:                             2244.\n",
       "Df Model:                           1                                         \n",
       "Covariance Type:            nonrobust                                         \n",
       "==============================================================================\n",
       "                 coef    std err          t      P>|t|      [0.025      0.975]\n",
       "------------------------------------------------------------------------------\n",
       "Intercept      1.2392      0.055     22.541      0.000       1.131       1.347\n",
       "education      0.0786      0.004     18.440      0.000       0.070       0.087\n",
       "==============================================================================\n",
       "Omnibus:                       46.662   Durbin-Watson:                   1.769\n",
       "Prob(Omnibus):                  0.000   Jarque-Bera (JB):               59.725\n",
       "Skew:                          -0.269   Prob(JB):                     1.07e-13\n",
       "Kurtosis:                       3.606   Cond. No.                         82.4\n",
       "==============================================================================\n",
       "\n",
       "Warnings:\n",
       "[1] Standard Errors assume that the covariance matrix of the errors is correctly specified.\n",
       "\"\"\""
      ]
     },
     "execution_count": 37,
     "metadata": {},
     "output_type": "execute_result"
    }
   ],
   "source": [
    "# nope\n",
    "wages_res.summary()"
   ]
  },
  {
   "cell_type": "markdown",
   "metadata": {},
   "source": [
    "# Inference for the simple linear regression model\n",
    "\n",
    "### What do we mean by inference?\n",
    "\n",
    "* Generally, by inference, we mean \"learning something about\n",
    "   the relationship between the sample $(X_1, \\dots, X_n)$ and $(Y_1, \\dots, Y_n)$.\"\n",
    "\n",
    "* In the simple linear regression model, this often means learning about $\\beta_0, \\beta_1$.\n",
    "Particular forms of inference are **confidence intervals** or **hypothesis tests**. More on these later.\n",
    "\n",
    "* Most of the questions of *inference* in this course\n",
    "   can be answered in terms of $t$-statistics or $F$-statistics.\n",
    "\n",
    "* First we will talk about $t$-statistics, later $F$-statistics.\n",
    "\n",
    "### Examples of (statistical) hypotheses\n",
    "\n",
    "* [One sample problem:](http://en.wikipedia.org/wiki/Student%27s_t-test#One-sample_t-test) given an independent sample $\\pmb{X}=(X_1, \\dots, X_n)$ where $X_i\\sim N(\\mu,\\sigma^2)$, the *null hypothesis $H_0:\\mu=\\mu_0$*  says that in fact the population mean is some specified value $\\mu_0$.\n",
    "\n",
    "* [Two sample problem:](http://en.wikipedia.org/wiki/Student%27s_t-test#Independent_two-sample_t-test) given two independent samples $\\pmb{Z}=(Z_1, \\dots, Z_n)$, $\\pmb{W}=(W_1, \\dots, W_m)$  where $Z_i\\sim N(\\mu_1,\\sigma^2)$ and $W_i \\sim N(\\mu_2, \\sigma^2)$, the *null hypothesis $H_0:\\mu_1=\\mu_2$* says that in fact the population means from which the two samples are drawn are identical.\n",
    "\n",
    "### Testing a hypothesis\n",
    "\n",
    "We test a null hypothesis, $H_0$ based on some test statistic $T$ whose distribution is fully known when $H_0$ is true.\n",
    "\n",
    "For example, in the one-sample problem, if $\\bar{X}$ is the sample mean of our sample $(X_1, \\dots, X_n)$ and\n",
    "$$\n",
    "S^2 = \\frac{1}{n-1} \\sum_{i=1}^n (X_i-\\bar{X})^2\n",
    "$$\n",
    "is the sample variance. Then\n",
    "$$\n",
    "T = \\frac{\\bar{X}-\\mu_0}{S/\\sqrt{n}}\n",
    "$$\n",
    "has what is called a [Student's t](http://en.wikipedia.org/wiki/Student's_t-distribution) distribution with $n-1$ degrees of freedom *when $H_0:\\mu=\\mu_0$ is true.* \n",
    "\n",
    "**When the null\n",
    "hypothesis is not true, it does not have this distribution!**\n",
    "\n",
    "### General form of a (Student's) $T$ statistic\n",
    "\n",
    "* A $t$ statistic with $k$ degrees of freedom, has a form that becomes easy to recognize after seeing it several times. \n",
    "\n",
    "* It has two main parts: a numerator and a denominator. The numerator $Z \\sim N(0,1)$ while\n",
    "$D \\sim \\sqrt{\\chi^2_k/k}$ that is assumed *independent* of $Z$.\n",
    "\n",
    "* The $t$-statistic has the form\n",
    "$$\n",
    "T = \\frac{Z}{D}.\n",
    "$$\n",
    "\n",
    "### General form of a (Student's) $T$ statistic\n",
    "\n",
    "* Another form of the $t$-statistic is\n",
    "$$\n",
    "T = \\frac{\\text{estimate of parameter} - \\text{true parameter}}{\\text{accuracy of the estimate}}.\n",
    "$$\n",
    "\n",
    "* In more formal terms, we write this as\n",
    "$$\n",
    "T = \\frac{\\hat{\\theta} - \\theta}{SE(\\hat{\\theta})}.\n",
    "$$\n",
    "Note that the denominator is the accuracy of the *estimate* and not the \"accuracy\" of the true parameter (which is usually assumed fixed, though not for Bayesians).\n",
    "\n",
    "- The term $SE$ or *standard error* will, in this course, usually refer to an estimate of the accuracy of estimator. Therefore, it is the square root of an estimate of the variance of an estimator.\n",
    "\n",
    "### General form of a (Student's) $T$ statistic\n",
    "\n",
    "\n",
    "* In our simple linear regression model, a natural (**unobservable**) $t$-statistic is\n",
    "$$\n",
    "\\frac{\\hat{\\beta}_1 - \\beta_1}{SE(\\hat{\\beta}_1)}.\n",
    "$$\n",
    "We've seen how to compute $\\hat{\\beta}_1$, we never get to see the true $\\beta_1$, so the only quantity we have anything left to say about is the standard error $SE(\\hat{\\beta}_1)$. \n",
    "\n",
    "* How many degrees of freedom would this $T$ have?\n",
    "\n",
    "### Comparison of Student's $t$ to normal distribution\n",
    "\n",
    "As the degrees of freedom increases, the population histogram, or density, of the $T_k$ distribution looks more and more\n",
    "like the standard normal distribution usually denoted by $N(0,1)$."
   ]
  },
  {
   "cell_type": "code",
   "execution_count": 44,
   "metadata": {
    "collapsed": false
   },
   "outputs": [
    {
     "data": {
      "image/png": "[encoded data removed]",
      "text/plain": [
       "<matplotlib.figure.Figure at 0x7eff5afceeb8>"
      ]
     },
     "metadata": {},
     "output_type": "display_data"
    }
   ],
   "source": [
    "fig, ax = plt.subplots(1, 1)\n",
    "xval = np.linspace(start=-4, stop=4, num=101)\n",
    "ax.plot(xval, stats.norm.pdf(xval), 'k-', lw=1, alpha=0.6, label='Z')\n",
    "ax.axvline(stats.norm.ppf(0.975), linestyle='--', color='red', alpha=0.6)\n",
    "ax.axvline(stats.norm.ppf(0.025), linestyle='--', color='red', alpha=0.6)\n",
    "plt.ylabel(\"Density\")\n",
    "plt.legend()\n",
    "plt.show()"
   ]
  },
  {
   "cell_type": "markdown",
   "metadata": {},
   "source": [
    "This change in the density has an effect on the *rejection rule* for hypothesis tests based on the $T_k$ distribution.\n",
    "For instance, for the standard normal, the 5% rejection rule is to reject if the so-called $Z$-score is larger than about 2 in absolute value.\n"
   ]
  },
  {
   "cell_type": "markdown",
   "metadata": {},
   "source": [
    "For the $T_{10}$ distribution, however, this rule must be modified.\n",
    "\n"
   ]
  },
  {
   "cell_type": "code",
   "execution_count": 45,
   "metadata": {
    "collapsed": false
   },
   "outputs": [
    {
     "data": {
      "image/png": "[encoded data removed]",
      "text/plain": [
       "<matplotlib.figure.Figure at 0x7eff5b0ebf60>"
      ]
     },
     "metadata": {},
     "output_type": "display_data"
    }
   ],
   "source": [
    "fig, ax = plt.subplots(1, 1)\n",
    "xval = np.linspace(start=-4, stop=4, num=101)\n",
    "# Z\n",
    "ax.plot(xval, stats.norm.pdf(xval), 'k-', lw=1, alpha=0.6, label='Z')\n",
    "ax.axvline(stats.norm.ppf(0.975), linestyle='--', color='red', alpha=0.6)\n",
    "ax.axvline(stats.norm.ppf(0.025), linestyle='--', color='red', alpha=0.6)\n",
    "# t_10\n",
    "ax.plot(xval, stats.t.pdf(xval, df=10), 'b-', lw=1, alpha=0.6, label='t_10')\n",
    "ax.axvline(stats.t.ppf(0.975, df=10), linestyle='--', color='blue', alpha=0.6)\n",
    "ax.axvline(stats.t.ppf(0.025, df=10), linestyle='--', color='blue', alpha=0.6)\n",
    "\n",
    "plt.ylabel(\"Density\")\n",
    "plt.legend()\n",
    "plt.show()"
   ]
  },
  {
   "cell_type": "markdown",
   "metadata": {},
   "source": [
    "### One sample problem revisited\n",
    "\n",
    "Above, we used the one sample problem as an example of a $t$-statistic. Let's be a little more specific.\n",
    "\n",
    "* Given an independent sample $\\pmb{X}=(X_1, \\dots, X_n)$ where $X_i\\sim N(\\mu,\\sigma^2)$ we can test $H_0:\\mu=0$ using a $T$-statistic.\n",
    "\n",
    "* We can prove that the random variables\n",
    "   $$\\overline{X} \\sim N(\\mu, \\sigma^2/n), \\qquad \\frac{S^2_X}{\\sigma^2} \\sim \\frac{\\chi^2_{n-1}}{n-1}$$\n",
    "   are independent.\n",
    "\n",
    "* Therefore, whatever the true $\\mu$ is\n",
    "   $$\n",
    "   \\frac{\\overline{X} - \\mu}{S_X / \\sqrt{n}} = \\frac{ (\\overline{X}-\\mu) / (\\sigma/\\sqrt{n})}{S_X / \\sigma} \\sim t_{n-1}.$$\n",
    "  \n",
    "* Our null hypothesis specifies a particular value for $\\mu$, i.e. 0. Therefore, under $H_0:\\mu=0$ (i.e. assuming that $H_0$ is true), $$\\overline{X}/(S_X/\\sqrt{n}) \\sim t_{n-1}.$$\n",
    "\n",
    "\n",
    "### Confidence interval\n",
    "\n",
    "The following are examples of confidence intervals we saw in our review.\n",
    "\n",
    "* One sample problem: instead of deciding whether $\\mu=0$, we might want \n",
    "to come up with an (random) interval $[L,U]$ based on the sample $\\pmb{X}$ such \n",
    "that the probability\n",
    "   the true (nonrandom) $\\mu$ is contained in $[L,U]$ equal to $1-\\alpha$, i.e. \n",
    "95%.\n",
    "\n",
    "*  Two sample problem: find a (random) interval $[L,U]$ based on the sampl\n",
    "es $\\pmb{Z}$ and $\\pmb{W}$ such that\n",
    "   the probability the true (nonrandom) $\\mu_1-\\mu_2$ is contained in $[L,U]$ is\n",
    " equal to $1-\\alpha$, i.e. 95%.\n",
    "\n",
    "### Confidence interval for one sample problem\n",
    "\n",
    "* In the one sample problem, we might be interested in a confidence interval for the unknown $\\mu$.\n",
    "\n",
    "* Given an independent sample $(X_1, \\dots, X_n)$ where \n",
    "   $X_i\\sim N(\\mu,\\sigma^2)$ we can test construct \n",
    "   a $(1-\\alpha)*100\\%$ using the\n",
    "   numerator and denominator of the $t$-statistic.\n",
    " \n",
    "\n",
    "### Confidence interval for one sample problem\n",
    "\n",
    "*   Let $q=t_{n-1,(1-\\alpha/2)}$\n",
    "\n",
    "   $$\n",
    "   \\begin{aligned}\n",
    "   1 - \\alpha &= P_{\\mu}\\left(-q \\leq \\frac{\\mu - \\overline{X}}\n",
    "   {S_X / \\sqrt{n}} \\leq q \\right) \\\\\n",
    "   &= P_{\\mu}\\left(-q \\cdot {S_X / \\sqrt{n}} \\leq {\\mu - \\overline{X}} \n",
    "   \\leq q  \\cdot {S_X / \\sqrt{n}} \\right) \\\\\n",
    "   &= P_{\\mu}\\left(\\overline{X} - q  \\cdot {S_X / \\sqrt{n}} \n",
    "   \\leq {\\mu} \\leq \\overline{X} + q  \\cdot {S_X / \\sqrt{n}} \\right) \\\\\n",
    "   \\end{aligned}\n",
    "   $$\n",
    "   \n",
    "* Therefore, the interval $\\overline{X} \\pm q \\cdot {S_X / \\sqrt{n}}$ is a $(1-\\alpha)*100\\%$ confidence interval for $\\mu$.\n",
    "\n",
    "### Inference for $\\beta_0$ or $\\beta_1$\n",
    "\n",
    "* Recall our model $$\n",
    "   Y_i = \\beta_0 + \\beta_1 X_i + \\varepsilon_i,$$\n",
    "   errors $\\varepsilon_i$ are independent $N(0, \\sigma^2)$.\n",
    "   \n",
    "* In our heights example, we might want to now if there\n",
    "   really is a linear association between ${\\tt Daughter}=Y$\n",
    "   and ${\\tt Mother}=X$. This can be answered with a *hypothesis test* of the null hypothesis $H_0:\\beta_1=0$.\n",
    "   This assumes the model above is correct, but that $\\beta_1=0$.\n",
    "   \n",
    "* Alternatively, we might want to have a range of values that we can be fairly certain $\\beta_1$ lies within.\n",
    "This is a *confidence interval* for $\\beta_1$.\n",
    "\n",
    "### Geometric picture of model\n",
    "\n",
    "The hypothesis test has a geometric interpretation which we will revisit later for other models.\n",
    "It is a comparison of two models. The first model is our original model.\n",
    "\n",
    "<img src=\"http://stats191.stanford.edu/figs/axes_simple_full.svg\" width=\"600\">\n",
    "\n",
    "### Setup for inference\n",
    "\n",
    "* Let $L$ be the subspace of $\\mathbb{R}^n$ spanned $\\pmb{1}=(1, \\dots, 1)$ and ${X}=(X_1, \\dots, X\\\n",
    "_n)$.\n",
    "\n",
    "* Then,\n",
    "   $${Y} = P_L{Y} + ({Y} - P_L{Y}) = \\widehat{{Y}} + (Y - \\widehat{{Y}}) = \\widehat{{Y}} + e$$\n",
    "\n",
    "* In our model $\\mu=\\beta_0 \\pmb{1} + \\beta_1 {X} \\in L$ so that\n",
    "   $$\n",
    "   \\widehat{{Y}} = \\mu + P_L{\\varepsilon}, \\qquad {e} = P_{L^{\\perp}}{{Y}} = P_{L^{\\perp}}{\\varepsilon}$$\n",
    " \n",
    "* Our assumption that $\\varepsilon_i$'s are independent $N(0,\\sigma^2)$ tells us that: ${e}$ and $\\widehat{{Y}}$ are independent; $\\widehat{\\sigma}^2 = \\|{e}\\|^2 / (n-2) \\sim \\sigma^2 \\cdot \\chi^2_{n-2} / (n-2)$.\n",
    "\n",
    "\n",
    "\n",
    "### Setup for inference\n",
    "\n",
    "* In turn, this implies\n",
    "$$\n",
    "   \\widehat{\\beta}_1 \\sim N\\left(\\beta_1, \\frac{\\sigma^2}{\\sum_{i=1}^n(X_i-\\overline{X})^2}\\right).$$\n",
    "\n",
    "* Therefore, $$\\frac{\\widehat{\\beta}_1 - \\beta_1}{\\sigma \\sqrt{\\frac{1}{\\sum_{i=1}^n(X_i-\\overline{X})^2}}} \\sim N(\\\n",
    "0,1).$$\n",
    "\n",
    "* The other quantity we need is the *standard error* or SE of $\\hat{\\beta}_1$. This is\n",
    "obtained from estimating the variance of $\\widehat{\\beta}_1$, which, in this case means simply\n",
    "plugging in our estimate of $\\sigma$, yielding\n",
    "$$\n",
    "   SE(\\widehat{\\beta}_1) = \\widehat{\\sigma} \\sqrt{\\frac{1}{\\sum_{i=1}^n(X_i-\\overline{X})^2}} \\qquad \n",
    "   \\text{independent of $\\widehat{\\beta}_1$}$$\n",
    "\n",
    "\n",
    "### Testing $H_0:\\beta_1=\\beta_1^0$\n",
    "\n",
    "* Suppose we want to test that $\\beta_1$ is some pre-specified\n",
    "   value, $\\beta_1^0$ (this is often 0: i.e. is there a linear association)\n",
    "\n",
    "* Under $H_0:\\beta_1=\\beta_1^0$\n",
    "   $$\\frac{\\widehat{\\beta}_1 - \\beta^0_1}{\\widehat{\\sigma} \\sqrt{\\frac{1}{\\sum_{i=1}^n(X_i-\\overline{X})^2}}}\n",
    "   = \\frac{\\widehat{\\beta}_1 - \\beta^0_1}{ \\frac{\\widehat{\\sigma}}{\\sigma}\\cdot \\sigma \\sqrt{\\frac{1}{\n",
    "\\sum_{i=1}^n(X_i-\\overline{X})^2}}} \\sim t_{n-2}.$$\n",
    "\n",
    "\n",
    "* Reject $H_0:\\beta_1=\\beta_1^0$ if $|T| > t_{n-2, 1-\\alpha/2}$.\n",
    "   \n",
    "\n",
    "#### Wage example\n",
    "\n",
    "Let's perform this test for the wage data."
   ]
  },
  {
   "cell_type": "code",
   "execution_count": 54,
   "metadata": {
    "collapsed": false
   },
   "outputs": [
    {
     "name": "stdout",
     "output_type": "stream",
     "text": [
      "beta_1_hat:  0.0785995102448243\n",
      "sigma_hat :  0.4037827822998898\n"
     ]
    }
   ],
   "source": [
    "print(\"beta_1_hat: \", beta_1_hat)\n",
    "print(\"sigma_hat : \", sigma_hat)"
   ]
  },
  {
   "cell_type": "code",
   "execution_count": 77,
   "metadata": {
    "collapsed": true
   },
   "outputs": [],
   "source": [
    "std_err_beta_1_hat = \\\n",
    "sigma_hat * np.sqrt(1 / np.sum((wages_data['education'] - np.mean(wages_data['education']))**2))"
   ]
  },
  {
   "cell_type": "code",
   "execution_count": 79,
   "metadata": {
    "collapsed": true
   },
   "outputs": [],
   "source": [
    "t_stat = (beta_1_hat - 0) / std_err_beta_1_hat"
   ]
  },
  {
   "cell_type": "code",
   "execution_count": 81,
   "metadata": {
    "collapsed": false
   },
   "outputs": [
    {
     "name": "stdout",
     "output_type": "stream",
     "text": [
      "beta_1_hat (coeff):  0.0785995102448243\n",
      "std_err_beta_1_hat:  0.0042624708207758795\n",
      "t_stat            :  18.43989403087976\n"
     ]
    }
   ],
   "source": [
    "print(\"beta_1_hat (coeff): \", beta_1_hat)\n",
    "print(\"std_err_beta_1_hat: \", std_err_beta_1_hat)\n",
    "print(\"t_stat            : \", t_stat)"
   ]
  },
  {
   "cell_type": "markdown",
   "metadata": {},
   "source": [
    "Let's look at the output of the `lm` function again."
   ]
  },
  {
   "cell_type": "code",
   "execution_count": 59,
   "metadata": {
    "collapsed": false
   },
   "outputs": [
    {
     "data": {
      "text/html": [
       "<table class=\"simpletable\">\n",
       "<caption>OLS Regression Results</caption>\n",
       "<tr>\n",
       "  <th>Dep. Variable:</th>         <td>logwage</td>     <th>  R-squared:         </th> <td>   0.135</td>\n",
       "</tr>\n",
       "<tr>\n",
       "  <th>Model:</th>                   <td>OLS</td>       <th>  Adj. R-squared:    </th> <td>   0.135</td>\n",
       "</tr>\n",
       "<tr>\n",
       "  <th>Method:</th>             <td>Least Squares</td>  <th>  F-statistic:       </th> <td>   340.0</td>\n",
       "</tr>\n",
       "<tr>\n",
       "  <th>Date:</th>             <td>Thu, 13 Jun 2019</td> <th>  Prob (F-statistic):</th> <td>1.15e-70</td>\n",
       "</tr>\n",
       "<tr>\n",
       "  <th>Time:</th>                 <td>15:45:36</td>     <th>  Log-Likelihood:    </th> <td> -1114.3</td>\n",
       "</tr>\n",
       "<tr>\n",
       "  <th>No. Observations:</th>      <td>  2178</td>      <th>  AIC:               </th> <td>   2233.</td>\n",
       "</tr>\n",
       "<tr>\n",
       "  <th>Df Residuals:</th>          <td>  2176</td>      <th>  BIC:               </th> <td>   2244.</td>\n",
       "</tr>\n",
       "<tr>\n",
       "  <th>Df Model:</th>              <td>     1</td>      <th>                     </th>     <td> </td>   \n",
       "</tr>\n",
       "<tr>\n",
       "  <th>Covariance Type:</th>      <td>nonrobust</td>    <th>                     </th>     <td> </td>   \n",
       "</tr>\n",
       "</table>\n",
       "<table class=\"simpletable\">\n",
       "<tr>\n",
       "      <td></td>         <th>coef</th>     <th>std err</th>      <th>t</th>      <th>P>|t|</th>  <th>[0.025</th>    <th>0.975]</th>  \n",
       "</tr>\n",
       "<tr>\n",
       "  <th>Intercept</th> <td>    1.2392</td> <td>    0.055</td> <td>   22.541</td> <td> 0.000</td> <td>    1.131</td> <td>    1.347</td>\n",
       "</tr>\n",
       "<tr>\n",
       "  <th>education</th> <td>    0.0786</td> <td>    0.004</td> <td>   18.440</td> <td> 0.000</td> <td>    0.070</td> <td>    0.087</td>\n",
       "</tr>\n",
       "</table>\n",
       "<table class=\"simpletable\">\n",
       "<tr>\n",
       "  <th>Omnibus:</th>       <td>46.662</td> <th>  Durbin-Watson:     </th> <td>   1.769</td>\n",
       "</tr>\n",
       "<tr>\n",
       "  <th>Prob(Omnibus):</th> <td> 0.000</td> <th>  Jarque-Bera (JB):  </th> <td>  59.725</td>\n",
       "</tr>\n",
       "<tr>\n",
       "  <th>Skew:</th>          <td>-0.269</td> <th>  Prob(JB):          </th> <td>1.07e-13</td>\n",
       "</tr>\n",
       "<tr>\n",
       "  <th>Kurtosis:</th>      <td> 3.606</td> <th>  Cond. No.          </th> <td>    82.4</td>\n",
       "</tr>\n",
       "</table><br/><br/>Warnings:<br/>[1] Standard Errors assume that the covariance matrix of the errors is correctly specified."
      ],
      "text/plain": [
       "<class 'statsmodels.iolib.summary.Summary'>\n",
       "\"\"\"\n",
       "                            OLS Regression Results                            \n",
       "==============================================================================\n",
       "Dep. Variable:                logwage   R-squared:                       0.135\n",
       "Model:                            OLS   Adj. R-squared:                  0.135\n",
       "Method:                 Least Squares   F-statistic:                     340.0\n",
       "Date:                Thu, 13 Jun 2019   Prob (F-statistic):           1.15e-70\n",
       "Time:                        15:45:36   Log-Likelihood:                -1114.3\n",
       "No. Observations:                2178   AIC:                             2233.\n",
       "Df Residuals:                    2176   BIC:                             2244.\n",
       "Df Model:                           1                                         \n",
       "Covariance Type:            nonrobust                                         \n",
       "==============================================================================\n",
       "                 coef    std err          t      P>|t|      [0.025      0.975]\n",
       "------------------------------------------------------------------------------\n",
       "Intercept      1.2392      0.055     22.541      0.000       1.131       1.347\n",
       "education      0.0786      0.004     18.440      0.000       0.070       0.087\n",
       "==============================================================================\n",
       "Omnibus:                       46.662   Durbin-Watson:                   1.769\n",
       "Prob(Omnibus):                  0.000   Jarque-Bera (JB):               59.725\n",
       "Skew:                          -0.269   Prob(JB):                     1.07e-13\n",
       "Kurtosis:                       3.606   Cond. No.                         82.4\n",
       "==============================================================================\n",
       "\n",
       "Warnings:\n",
       "[1] Standard Errors assume that the covariance matrix of the errors is correctly specified.\n",
       "\"\"\""
      ]
     },
     "execution_count": 59,
     "metadata": {},
     "output_type": "execute_result"
    }
   ],
   "source": [
    "wages_res.summary()"
   ]
  },
  {
   "cell_type": "markdown",
   "metadata": {},
   "source": [
    "We see that *R* performs this test in the second row of the `Coefficients` table. It is clear that\n",
    "wages are correlated with education.\n",
    "\n",
    "### Why reject for large |T|?\n",
    "\n",
    "* Observing a large $|T|$ is unlikely if $\\beta_1 = \\beta_1^0$: reasonable to conclude that $H_0$ \n",
    "is false.\n",
    "\n",
    "* Common to report $p$-value:\n",
    "$$\\mathbb{P}(|T_{n-2}| > |T|_{obs}) = 2 \\mathbb{P} (T_{n-2} > |T_{obs}|)$$\n"
   ]
  },
  {
   "cell_type": "code",
   "execution_count": 82,
   "metadata": {
    "collapsed": false
   },
   "outputs": [
    {
     "data": {
      "text/plain": [
       "0.0"
      ]
     },
     "execution_count": 82,
     "metadata": {},
     "output_type": "execute_result"
    }
   ],
   "source": [
    "2 * (1 - stats.t.cdf(t_stat , df=wages_res.df_resid) )"
   ]
  },
  {
   "cell_type": "markdown",
   "metadata": {},
   "source": [
    "### Confidence interval based on Student's $t$ distribution\n",
    "\n",
    "*   Suppose we have a parameter estimate $\\widehat{\\theta} \\sim N(\\theta, {\\sigma}_{\\theta}^2)$, and standard error $SE(\\widehat{\\theta})$ such that\n",
    "   $$\n",
    "   \\frac{\\widehat{\\theta}-\\theta}{SE(\\widehat{\\theta})} \\sim t_{\\nu}.$$\n",
    "\n",
    "* We can find a $(1-\\alpha) \\cdot 100 \\%$ confidence interval by:\n",
    "   $$\n",
    "   \\widehat{\\theta} \\pm SE(\\widehat{\\theta}) \\cdot t_{\\nu, 1-\\alpha/2}.$$\n",
    "   \n",
    "* To prove this, expand the absolute value as we did for the one-sample CI\n",
    "   $$\n",
    "   1 - \\alpha = \\mathbb{P}_{\\theta}\\left(\\left|\\frac{\\widehat{\\theta} - \\theta}{SE(\\widehat{\\theta})} \\right| < t_{\\nu, 1-\\alpha/2}\\right).$$\n",
    "\n",
    "### Confidence interval for regression parameters\n",
    "\n",
    "* Applying the above to the parameter $\\beta_1$ yields a confidence interval of the form\n",
    "$$\n",
    "   \\hat{\\beta}_1 \\pm SE(\\hat{\\beta}_1) \\cdot t_{n-2, 1-\\alpha/2}.$$\n",
    "   \n",
    "* We will need to compute $SE(\\hat{\\beta}_1)$. This can be computed using this formula\n",
    "   $$\n",
    "   SE(a_0\\hat{\\beta}_0 + a_1\\hat{\\beta}_1) = \\hat{\\sigma} \\sqrt{\\frac{a_0^2}{n} + \\frac{(a_0\\overline{X} - a_1)^2}{\\sum_{i=1}^n \\left(X_i-\\overline{X}\\right)^2}}$$\n",
    "with $(a_0,a_1) = (0, 1)$.\n",
    "\n",
    "\n",
    "\n",
    "\n",
    "We also need to find the quantity $t_{n-2,1-\\alpha/2}$. This is defined by\n",
    "$$\n",
    "\\mathbb{P}(T_{n-2} \\geq t_{n-2,1-\\alpha/2}) = \\alpha/2.\n",
    "$$\n",
    "In *R*, this is computed by the function `qt`.\n"
   ]
  },
  {
   "cell_type": "code",
   "execution_count": 83,
   "metadata": {
    "collapsed": true
   },
   "outputs": [],
   "source": [
    "alpha = 0.05\n",
    "n = wages_data.shape[0]"
   ]
  },
  {
   "cell_type": "code",
   "execution_count": 84,
   "metadata": {
    "collapsed": false
   },
   "outputs": [
    {
     "data": {
      "text/plain": [
       "1.9610547790595287"
      ]
     },
     "execution_count": 84,
     "metadata": {},
     "output_type": "execute_result"
    }
   ],
   "source": [
    "stats.t.ppf(1 - 0.5 * alpha, n-2)"
   ]
  },
  {
   "cell_type": "markdown",
   "metadata": {},
   "source": [
    "Not surprisingly, this is close to that of the normal distribution, which is a Student's $t$ with $\\infty$ for degrees of freedom.\n"
   ]
  },
  {
   "cell_type": "code",
   "execution_count": 85,
   "metadata": {
    "collapsed": false
   },
   "outputs": [
    {
     "data": {
      "text/plain": [
       "1.959963984540054"
      ]
     },
     "execution_count": 85,
     "metadata": {},
     "output_type": "execute_result"
    }
   ],
   "source": [
    "stats.norm.ppf(1 - 0.5 * alpha)"
   ]
  },
  {
   "cell_type": "markdown",
   "metadata": {},
   "source": [
    "We will not need to use these explicit formulae all the time, as *R* has some built in functions\n",
    "to compute confidence intervals.\n"
   ]
  },
  {
   "cell_type": "code",
   "execution_count": 88,
   "metadata": {
    "collapsed": false
   },
   "outputs": [
    {
     "name": "stdout",
     "output_type": "stream",
     "text": [
      "ci_upper at alpha=0.05: 0.08695844901850863\n",
      "ci_lower at alpha=0.05: 0.07024057147113996\n"
     ]
    }
   ],
   "source": [
    "critical_value = stats.t.ppf(1 - 0.5 * alpha, wages_res.df_resid)\n",
    "margin_of_error = critical_value * std_err_beta_1_hat\n",
    "ci_upper = beta_1_hat + margin_of_error\n",
    "ci_lower = beta_1_hat - margin_of_error\n",
    "print(\"ci_upper at alpha={}: {}\".format(alpha, ci_upper))\n",
    "print(\"ci_lower at alpha={}: {}\".format(alpha, ci_lower))"
   ]
  },
  {
   "cell_type": "code",
   "execution_count": 68,
   "metadata": {
    "collapsed": false
   },
   "outputs": [
    {
     "data": {
      "text/html": [
       "<div>\n",
       "<style scoped>\n",
       "    .dataframe tbody tr th:only-of-type {\n",
       "        vertical-align: middle;\n",
       "    }\n",
       "\n",
       "    .dataframe tbody tr th {\n",
       "        vertical-align: top;\n",
       "    }\n",
       "\n",
       "    .dataframe thead th {\n",
       "        text-align: right;\n",
       "    }\n",
       "</style>\n",
       "<table border=\"1\" class=\"dataframe\">\n",
       "  <thead>\n",
       "    <tr style=\"text-align: right;\">\n",
       "      <th></th>\n",
       "      <th>0</th>\n",
       "      <th>1</th>\n",
       "    </tr>\n",
       "  </thead>\n",
       "  <tbody>\n",
       "    <tr>\n",
       "      <th>Intercept</th>\n",
       "      <td>1.131387</td>\n",
       "      <td>1.347002</td>\n",
       "    </tr>\n",
       "    <tr>\n",
       "      <th>education</th>\n",
       "      <td>0.070241</td>\n",
       "      <td>0.086958</td>\n",
       "    </tr>\n",
       "  </tbody>\n",
       "</table>\n",
       "</div>"
      ],
      "text/plain": [
       "                  0         1\n",
       "Intercept  1.131387  1.347002\n",
       "education  0.070241  0.086958"
      ]
     },
     "execution_count": 68,
     "metadata": {},
     "output_type": "execute_result"
    }
   ],
   "source": [
    "\"\"\"\n",
    "* conf_int\n",
    "    - the confidence interval of the fitted parameters\n",
    "    - The confidence interval is based on Student’s t-distribution.\n",
    "\n",
    "* conf_int_el\n",
    "    - the confidence interval for the parameter given by \n",
    "      param_num using Empirical Likelihood\n",
    "\"\"\"\n",
    "\n",
    "# alpha=0.05 confidence interval is also reported in wages_res.summary()\n",
    "wages_res.conf_int(alpha=0.05)\n",
    "\n",
    "# Source: https://www.statsmodels.org/devel/generated/statsmodels.regression.linear_model.OLSResults.html"
   ]
  },
  {
   "cell_type": "markdown",
   "metadata": {},
   "source": [
    "### Predicting the mean\n",
    "\n",
    "Once we have estimated a slope $(\\hat{\\beta}_1)$ and an intercept $(\\hat{\\beta}_0)$, we can predict the height\n",
    "of the daughter born to a mother of any particular height by the plugging-in the height of the new mother, $M_{new}$ into\n",
    "our regression equation:\n",
    "$$\n",
    "E[{D}_{new}] = {\\beta}_0  +{\\beta}_1 M_{new}.\n",
    "$$\n",
    "This equation says that our best guess at the height of the new daughter born to a mother of height $M_{new}$ is $\\hat{D}_{new}$. \n",
    "Does this say that the height will be *exactly* this value? No, there is some random variation in each slice, and we would expect the same random variation for this new daughter's height as well.\n",
    "\n",
    " We might also want a confidence interval for the average height of daughters born to a mother of height $M_{new}=66$ inches:\n",
    "$$\n",
    "\\hat{\\beta}_0 + 66 \\cdot \\hat{\\beta}_1 \\pm SE(\\hat{\\beta}_0 + 66 \\cdot \\hat{\\beta}_1) \\cdot t_{n-2, 1-\\alpha/2}.\n",
    "$$\n",
    "\n",
    "Recall that the parameter of interest is the average within the slice. Let's look at our picture again:\n"
   ]
  },
  {
   "cell_type": "code",
   "execution_count": 106,
   "metadata": {
    "collapsed": false
   },
   "outputs": [
    {
     "data": {
      "text/plain": [
       "mother      59.7\n",
       "daughter    55.1\n",
       "Name: 0, dtype: float64"
      ]
     },
     "execution_count": 106,
     "metadata": {},
     "output_type": "execute_result"
    }
   ],
   "source": [
    "# take one row from raw_data\n",
    "height_data.loc[0,:]"
   ]
  },
  {
   "cell_type": "code",
   "execution_count": 107,
   "metadata": {
    "collapsed": false
   },
   "outputs": [
    {
     "data": {
      "text/html": [
       "<div>\n",
       "<style scoped>\n",
       "    .dataframe tbody tr th:only-of-type {\n",
       "        vertical-align: middle;\n",
       "    }\n",
       "\n",
       "    .dataframe tbody tr th {\n",
       "        vertical-align: top;\n",
       "    }\n",
       "\n",
       "    .dataframe thead th {\n",
       "        text-align: right;\n",
       "    }\n",
       "</style>\n",
       "<table border=\"1\" class=\"dataframe\">\n",
       "  <thead>\n",
       "    <tr style=\"text-align: right;\">\n",
       "      <th></th>\n",
       "      <th>mother</th>\n",
       "      <th>daughter</th>\n",
       "    </tr>\n",
       "  </thead>\n",
       "  <tbody>\n",
       "    <tr>\n",
       "      <th>0</th>\n",
       "      <td>59.7</td>\n",
       "      <td>55.1</td>\n",
       "    </tr>\n",
       "    <tr>\n",
       "      <th>1</th>\n",
       "      <td>59.7</td>\n",
       "      <td>55.1</td>\n",
       "    </tr>\n",
       "  </tbody>\n",
       "</table>\n",
       "</div>"
      ],
      "text/plain": [
       "   mother  daughter\n",
       "0    59.7      55.1\n",
       "1    59.7      55.1"
      ]
     },
     "execution_count": 107,
     "metadata": {},
     "output_type": "execute_result"
    }
   ],
   "source": [
    "# before change\n",
    "new_height_data = pd.concat([height_data.loc[[0],:]]*2).reset_index(drop=True)\n",
    "new_height_data"
   ]
  },
  {
   "cell_type": "code",
   "execution_count": 108,
   "metadata": {
    "collapsed": true
   },
   "outputs": [],
   "source": [
    "new_height_data.loc[0,'mother']=66\n",
    "new_height_data.loc[1,'mother']=60"
   ]
  },
  {
   "cell_type": "code",
   "execution_count": 109,
   "metadata": {
    "collapsed": false
   },
   "outputs": [
    {
     "data": {
      "text/html": [
       "<div>\n",
       "<style scoped>\n",
       "    .dataframe tbody tr th:only-of-type {\n",
       "        vertical-align: middle;\n",
       "    }\n",
       "\n",
       "    .dataframe tbody tr th {\n",
       "        vertical-align: top;\n",
       "    }\n",
       "\n",
       "    .dataframe thead th {\n",
       "        text-align: right;\n",
       "    }\n",
       "</style>\n",
       "<table border=\"1\" class=\"dataframe\">\n",
       "  <thead>\n",
       "    <tr style=\"text-align: right;\">\n",
       "      <th></th>\n",
       "      <th>mother</th>\n",
       "      <th>daughter</th>\n",
       "    </tr>\n",
       "  </thead>\n",
       "  <tbody>\n",
       "    <tr>\n",
       "      <th>0</th>\n",
       "      <td>66.0</td>\n",
       "      <td>55.1</td>\n",
       "    </tr>\n",
       "    <tr>\n",
       "      <th>1</th>\n",
       "      <td>60.0</td>\n",
       "      <td>55.1</td>\n",
       "    </tr>\n",
       "  </tbody>\n",
       "</table>\n",
       "</div>"
      ],
      "text/plain": [
       "   mother  daughter\n",
       "0    66.0      55.1\n",
       "1    60.0      55.1"
      ]
     },
     "execution_count": 109,
     "metadata": {},
     "output_type": "execute_result"
    }
   ],
   "source": [
    "# after change\n",
    "new_height_data"
   ]
  },
  {
   "cell_type": "code",
   "execution_count": 110,
   "metadata": {
    "collapsed": false
   },
   "outputs": [
    {
     "data": {
      "text/plain": [
       "0    65.672740\n",
       "1    62.422257\n",
       "dtype: float64"
      ]
     },
     "execution_count": 110,
     "metadata": {},
     "output_type": "execute_result"
    }
   ],
   "source": [
    "height_res.predict(exog=new_height_data)"
   ]
  },
  {
   "cell_type": "code",
   "execution_count": 111,
   "metadata": {
    "collapsed": false
   },
   "outputs": [
    {
     "data": {
      "text/html": [
       "<div>\n",
       "<style scoped>\n",
       "    .dataframe tbody tr th:only-of-type {\n",
       "        vertical-align: middle;\n",
       "    }\n",
       "\n",
       "    .dataframe tbody tr th {\n",
       "        vertical-align: top;\n",
       "    }\n",
       "\n",
       "    .dataframe thead th {\n",
       "        text-align: right;\n",
       "    }\n",
       "</style>\n",
       "<table border=\"1\" class=\"dataframe\">\n",
       "  <thead>\n",
       "    <tr style=\"text-align: right;\">\n",
       "      <th></th>\n",
       "      <th>mean</th>\n",
       "      <th>mean_se</th>\n",
       "      <th>mean_ci_lower</th>\n",
       "      <th>mean_ci_upper</th>\n",
       "      <th>obs_ci_lower</th>\n",
       "      <th>obs_ci_upper</th>\n",
       "    </tr>\n",
       "  </thead>\n",
       "  <tbody>\n",
       "    <tr>\n",
       "      <th>0</th>\n",
       "      <td>65.672740</td>\n",
       "      <td>0.110524</td>\n",
       "      <td>65.490821</td>\n",
       "      <td>65.854658</td>\n",
       "      <td>61.938039</td>\n",
       "      <td>69.407440</td>\n",
       "    </tr>\n",
       "    <tr>\n",
       "      <th>1</th>\n",
       "      <td>62.422257</td>\n",
       "      <td>0.088261</td>\n",
       "      <td>62.276982</td>\n",
       "      <td>62.567533</td>\n",
       "      <td>58.689162</td>\n",
       "      <td>66.155353</td>\n",
       "    </tr>\n",
       "  </tbody>\n",
       "</table>\n",
       "</div>"
      ],
      "text/plain": [
       "        mean   mean_se  mean_ci_lower  mean_ci_upper  obs_ci_lower  \\\n",
       "0  65.672740  0.110524      65.490821      65.854658     61.938039   \n",
       "1  62.422257  0.088261      62.276982      62.567533     58.689162   \n",
       "\n",
       "   obs_ci_upper  \n",
       "0     69.407440  \n",
       "1     66.155353  "
      ]
     },
     "execution_count": 111,
     "metadata": {},
     "output_type": "execute_result"
    }
   ],
   "source": [
    "# mean_ci_lower and mean_ci_upper\n",
    "# alpha=0.1\n",
    "height_res.get_prediction(exog=new_height_data).summary_frame(alpha=0.1)"
   ]
  },
  {
   "cell_type": "markdown",
   "metadata": {},
   "source": [
    "## Computing $SE(\\hat{\\beta}_0 + 66 \\hat{\\beta}_1)$\n",
    "\n",
    "- We use the previous formula\n",
    "  $$\n",
    "   SE(a_0\\hat{\\beta}_0 + a_1\\hat{\\beta}_1) = \\hat{\\sigma} \\sqrt{\\frac{a_0^2}{n} + \\frac{(a_0\\overline{X} - a_1)^2}{\\sum_{i=1}^n \\left(X_i-\\overline{X}\\right)^2}}$$\n",
    "   with $(a_0, a_1) = (1, 66)$.\n",
    "   \n",
    "- In particular,\n",
    "$$\n",
    " SE(\\hat{\\beta}_0 + 66 \\hat{\\beta}_1) = \\hat{\\sigma} \\sqrt{\\frac{1}{n} + \\frac{(\\overline{X} - 66)^2}{\\sum_{i=1}^n \\left(X_i-\\overline{X}\\right)^2}}\n",
    " $$\n",
    "  \n",
    "- As $n$ grows, $SE(\\hat{\\beta}_0 + 66 \\hat{\\beta}_1)$ should shrink to 0. Why?\n",
    "\n",
    "### Forecasting intervals\n",
    "\n",
    "There is yet another type of interval we might consider: can we find an interval that covers the height of a \n",
    "particular daughter knowing only that her mother's height as 66 inches?\n",
    "\n",
    "This interval has to cover the variability of the new random variation with our slice at 66 inches. So, it must be at least\n",
    "as wide as $\\sigma$, and we estimate its width to be at least as wide as $\\hat{\\sigma}$. "
   ]
  },
  {
   "cell_type": "code",
   "execution_count": 116,
   "metadata": {
    "collapsed": false
   },
   "outputs": [],
   "source": [
    "new_height_data2 = new_height_data.loc[0,:]"
   ]
  },
  {
   "cell_type": "code",
   "execution_count": 117,
   "metadata": {
    "collapsed": false
   },
   "outputs": [
    {
     "data": {
      "text/html": [
       "<div>\n",
       "<style scoped>\n",
       "    .dataframe tbody tr th:only-of-type {\n",
       "        vertical-align: middle;\n",
       "    }\n",
       "\n",
       "    .dataframe tbody tr th {\n",
       "        vertical-align: top;\n",
       "    }\n",
       "\n",
       "    .dataframe thead th {\n",
       "        text-align: right;\n",
       "    }\n",
       "</style>\n",
       "<table border=\"1\" class=\"dataframe\">\n",
       "  <thead>\n",
       "    <tr style=\"text-align: right;\">\n",
       "      <th></th>\n",
       "      <th>mean</th>\n",
       "      <th>mean_se</th>\n",
       "      <th>mean_ci_lower</th>\n",
       "      <th>mean_ci_upper</th>\n",
       "      <th>obs_ci_lower</th>\n",
       "      <th>obs_ci_upper</th>\n",
       "    </tr>\n",
       "  </thead>\n",
       "  <tbody>\n",
       "    <tr>\n",
       "      <th>0</th>\n",
       "      <td>65.67274</td>\n",
       "      <td>0.110524</td>\n",
       "      <td>65.490821</td>\n",
       "      <td>65.854658</td>\n",
       "      <td>61.938039</td>\n",
       "      <td>69.40744</td>\n",
       "    </tr>\n",
       "  </tbody>\n",
       "</table>\n",
       "</div>"
      ],
      "text/plain": [
       "       mean   mean_se  mean_ci_lower  mean_ci_upper  obs_ci_lower  \\\n",
       "0  65.67274  0.110524      65.490821      65.854658     61.938039   \n",
       "\n",
       "   obs_ci_upper  \n",
       "0      69.40744  "
      ]
     },
     "execution_count": 117,
     "metadata": {},
     "output_type": "execute_result"
    }
   ],
   "source": [
    "# obs_ci_lower and obs_ci_upper\n",
    "# alpha = 0.1\n",
    "obs_ci = height_res.get_prediction(exog=new_height_data2).summary_frame(alpha=0.1)\n",
    "obs_ci"
   ]
  },
  {
   "cell_type": "code",
   "execution_count": 118,
   "metadata": {
    "collapsed": false
   },
   "outputs": [
    {
     "data": {
      "text/plain": [
       "0    7.469401\n",
       "dtype: float64"
      ]
     },
     "execution_count": 118,
     "metadata": {},
     "output_type": "execute_result"
    }
   ],
   "source": [
    "obs_ci.obs_ci_upper - obs_ci.obs_ci_lower"
   ]
  },
  {
   "cell_type": "markdown",
   "metadata": {},
   "source": [
    "With so much \n",
    "data in our heights example, this 90% interval will have width roughly `2 * qnorm(0.95) * sigma.hat.height`."
   ]
  },
  {
   "cell_type": "code",
   "execution_count": 120,
   "metadata": {
    "collapsed": false
   },
   "outputs": [
    {
     "data": {
      "text/plain": [
       "2.266311337038217"
      ]
     },
     "execution_count": 120,
     "metadata": {},
     "output_type": "execute_result"
    }
   ],
   "source": [
    "sigma_hat_height = np.sqrt(np.sum(height_res.resid**2)/height_res.df_resid)\n",
    "sigma_hat_height"
   ]
  },
  {
   "cell_type": "code",
   "execution_count": 122,
   "metadata": {
    "collapsed": false
   },
   "outputs": [
    {
     "data": {
      "text/plain": [
       "7.455500845057102"
      ]
     },
     "execution_count": 122,
     "metadata": {},
     "output_type": "execute_result"
    }
   ],
   "source": [
    "2 * stats.norm.ppf(0.95) * sigma_hat_height"
   ]
  },
  {
   "cell_type": "markdown",
   "metadata": {},
   "source": [
    "The actual width will depend on how accurately we have estimated $(\\beta_0, \\beta_1)$ as well as $\\hat{\\sigma}$. Here is the\n",
    "full formula. Again it is based on the $t$ distribution, the only thing we need to change is what we use for the SE.\n",
    "\n",
    "$$\n",
    "SE(\\widehat{\\beta}_0 + \\widehat{\\beta}_1 66 + \\varepsilon_{\\text{new}}) = \\widehat{\\sigma} \\sqrt{1 + \\frac{1}{n} + \\frac{(\\overline{X} - 66)^2}{\\sum_{i=1}^n \\left(X_i-\\overline{X}\\right)^2}}.\n",
    "$$\n",
    "\n",
    "The final interval is\n",
    "$$ \\hat{\\beta}_0 +  \\hat{\\beta}_1 66 \\pm t_{n-2, 1-\\alpha/2} \\cdot SE(\\hat{\\beta}_0 + \\hat{\\beta}_1 66 + \\varepsilon_{\\text{new}}).\n",
    "   $$"
   ]
  }
 ],
 "metadata": {
  "kernelspec": {
   "display_name": "Python 3",
   "language": "python",
   "name": "python3"
  },
  "language_info": {
   "codemirror_mode": {
    "name": "ipython",
    "version": 3
   },
   "file_extension": ".py",
   "mimetype": "text/x-python",
   "name": "python",
   "nbconvert_exporter": "python",
   "pygments_lexer": "ipython3",
   "version": "3.6.0"
  }
 },
 "nbformat": 4,
 "nbformat_minor": 2
}
